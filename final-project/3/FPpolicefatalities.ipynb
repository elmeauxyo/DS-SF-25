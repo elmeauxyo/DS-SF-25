{
 "cells": [
  {
   "cell_type": "code",
   "execution_count": 1,
   "metadata": {
    "collapsed": false
   },
   "outputs": [],
   "source": [
    "import os\n",
    "\n",
    "import numpy as np\n",
    "import pandas as pd\n",
    "pd.set_option('display.max_rows', 10)\n",
    "pd.set_option('display.notebook_repr_html', True)\n",
    "pd.set_option('display.max_columns', 10)\n",
    "\n",
    "import statsmodels.formula.api as smf\n",
    "\n",
    "from sklearn import linear_model\n",
    "# logistic regression is part of sklearn - linear model\n",
    "\n",
    "import matplotlib.pyplot as plt\n",
    "%matplotlib inline\n",
    "plt.style.use('ggplot')"
   ]
  },
  {
   "cell_type": "code",
   "execution_count": 2,
   "metadata": {
    "collapsed": false
   },
   "outputs": [],
   "source": [
    "df = pd.read_csv(os.path.join('C:\\Users\\morgane1\\Desktop\\policefatalities.csv'))"
   ]
  },
  {
   "cell_type": "code",
   "execution_count": 3,
   "metadata": {
    "collapsed": false
   },
   "outputs": [
    {
     "data": {
      "text/html": [
       "<div>\n",
       "<table border=\"1\" class=\"dataframe\">\n",
       "  <thead>\n",
       "    <tr style=\"text-align: right;\">\n",
       "      <th></th>\n",
       "      <th>Name</th>\n",
       "      <th>Cause of Death</th>\n",
       "      <th>Date of Death</th>\n",
       "      <th>State</th>\n",
       "      <th>City</th>\n",
       "      <th>...</th>\n",
       "      <th>Month of Death</th>\n",
       "      <th>Year of Death</th>\n",
       "      <th>Was the deceased armed?</th>\n",
       "      <th>Did the deceased have priors?</th>\n",
       "      <th>Was the officer involved fired or suspended?</th>\n",
       "    </tr>\n",
       "  </thead>\n",
       "  <tbody>\n",
       "    <tr>\n",
       "      <th>0</th>\n",
       "      <td>Hue Dang</td>\n",
       "      <td>Car Accident</td>\n",
       "      <td>11/3/2015</td>\n",
       "      <td>New Jersey</td>\n",
       "      <td>Hackensack, New Jersey</td>\n",
       "      <td>...</td>\n",
       "      <td>March</td>\n",
       "      <td>2015</td>\n",
       "      <td>No</td>\n",
       "      <td>Unclear</td>\n",
       "      <td>Unclear</td>\n",
       "    </tr>\n",
       "    <tr>\n",
       "      <th>1</th>\n",
       "      <td>Bien Cam Tran</td>\n",
       "      <td>Car Accident</td>\n",
       "      <td>3/9/2014</td>\n",
       "      <td>California</td>\n",
       "      <td>Oakland, California</td>\n",
       "      <td>...</td>\n",
       "      <td>14-Sep</td>\n",
       "      <td>2014</td>\n",
       "      <td>Unclear</td>\n",
       "      <td>Unclear</td>\n",
       "      <td>Unclear</td>\n",
       "    </tr>\n",
       "    <tr>\n",
       "      <th>2</th>\n",
       "      <td>Jacqueline Reynolds</td>\n",
       "      <td>Car Accident</td>\n",
       "      <td>8/5/2013</td>\n",
       "      <td>Illinois</td>\n",
       "      <td>Chicago, Illinois</td>\n",
       "      <td>...</td>\n",
       "      <td>13-May</td>\n",
       "      <td>2013</td>\n",
       "      <td>No</td>\n",
       "      <td>No</td>\n",
       "      <td>No</td>\n",
       "    </tr>\n",
       "    <tr>\n",
       "      <th>3</th>\n",
       "      <td>Bernard Moore</td>\n",
       "      <td>Car Accident</td>\n",
       "      <td>6/3/2015</td>\n",
       "      <td>Georgia</td>\n",
       "      <td>Atlanta, Georgia</td>\n",
       "      <td>...</td>\n",
       "      <td>March</td>\n",
       "      <td>2015</td>\n",
       "      <td>No</td>\n",
       "      <td>Unclear</td>\n",
       "      <td>Unclear</td>\n",
       "    </tr>\n",
       "    <tr>\n",
       "      <th>4</th>\n",
       "      <td>Jacqueline Nichols</td>\n",
       "      <td>Car Accident</td>\n",
       "      <td>4/7/2014</td>\n",
       "      <td>Michigan</td>\n",
       "      <td>Flint, Michigan</td>\n",
       "      <td>...</td>\n",
       "      <td>14-Jul</td>\n",
       "      <td>2014</td>\n",
       "      <td>Unclear</td>\n",
       "      <td>Unclear</td>\n",
       "      <td>Unclear</td>\n",
       "    </tr>\n",
       "    <tr>\n",
       "      <th>...</th>\n",
       "      <td>...</td>\n",
       "      <td>...</td>\n",
       "      <td>...</td>\n",
       "      <td>...</td>\n",
       "      <td>...</td>\n",
       "      <td>...</td>\n",
       "      <td>...</td>\n",
       "      <td>...</td>\n",
       "      <td>...</td>\n",
       "      <td>...</td>\n",
       "      <td>...</td>\n",
       "    </tr>\n",
       "    <tr>\n",
       "      <th>2350</th>\n",
       "      <td>Timothy Shad Griffis</td>\n",
       "      <td>Taser Gun</td>\n",
       "      <td>25/08/2014</td>\n",
       "      <td>Florida</td>\n",
       "      <td>Lake City, Florida</td>\n",
       "      <td>...</td>\n",
       "      <td>14-Aug</td>\n",
       "      <td>2014</td>\n",
       "      <td>No</td>\n",
       "      <td>Yes</td>\n",
       "      <td>Yes</td>\n",
       "    </tr>\n",
       "    <tr>\n",
       "      <th>2351</th>\n",
       "      <td>Billy Collins</td>\n",
       "      <td>Taser Gun</td>\n",
       "      <td>29/5/15</td>\n",
       "      <td>Kentucky</td>\n",
       "      <td>Louisa, Kentucky</td>\n",
       "      <td>...</td>\n",
       "      <td>May</td>\n",
       "      <td>2015</td>\n",
       "      <td>No</td>\n",
       "      <td>Unclear</td>\n",
       "      <td>Unclear</td>\n",
       "    </tr>\n",
       "    <tr>\n",
       "      <th>2352</th>\n",
       "      <td>Michael Tyrone Gallagher</td>\n",
       "      <td>Taser Gun</td>\n",
       "      <td>11/5/2015</td>\n",
       "      <td>North Carolina</td>\n",
       "      <td>Enfield, North Carolina</td>\n",
       "      <td>...</td>\n",
       "      <td>May</td>\n",
       "      <td>2015</td>\n",
       "      <td>No</td>\n",
       "      <td>Unclear</td>\n",
       "      <td>Unclear</td>\n",
       "    </tr>\n",
       "    <tr>\n",
       "      <th>2353</th>\n",
       "      <td>Randall Torrence</td>\n",
       "      <td>Taser Gun</td>\n",
       "      <td>27/5/15</td>\n",
       "      <td>Kansas</td>\n",
       "      <td>Kansas City, Kansas</td>\n",
       "      <td>...</td>\n",
       "      <td>May</td>\n",
       "      <td>2015</td>\n",
       "      <td>No</td>\n",
       "      <td>Unclear</td>\n",
       "      <td>Unclear</td>\n",
       "    </tr>\n",
       "    <tr>\n",
       "      <th>2354</th>\n",
       "      <td>Tony Chance Ross</td>\n",
       "      <td>Taser Gun</td>\n",
       "      <td>6/3/2015</td>\n",
       "      <td>Texas</td>\n",
       "      <td>Sulphur Springs, Texas</td>\n",
       "      <td>...</td>\n",
       "      <td>March</td>\n",
       "      <td>2015</td>\n",
       "      <td>No</td>\n",
       "      <td>Unclear</td>\n",
       "      <td>Unclear</td>\n",
       "    </tr>\n",
       "  </tbody>\n",
       "</table>\n",
       "<p>2355 rows × 15 columns</p>\n",
       "</div>"
      ],
      "text/plain": [
       "                          Name Cause of Death Date of Death           State  \\\n",
       "0                     Hue Dang   Car Accident     11/3/2015      New Jersey   \n",
       "1                Bien Cam Tran   Car Accident      3/9/2014      California   \n",
       "2          Jacqueline Reynolds   Car Accident      8/5/2013        Illinois   \n",
       "3                Bernard Moore   Car Accident      6/3/2015         Georgia   \n",
       "4           Jacqueline Nichols   Car Accident      4/7/2014        Michigan   \n",
       "...                        ...            ...           ...             ...   \n",
       "2350      Timothy Shad Griffis      Taser Gun    25/08/2014         Florida   \n",
       "2351             Billy Collins      Taser Gun       29/5/15        Kentucky   \n",
       "2352  Michael Tyrone Gallagher      Taser Gun     11/5/2015  North Carolina   \n",
       "2353          Randall Torrence      Taser Gun       27/5/15          Kansas   \n",
       "2354          Tony Chance Ross      Taser Gun      6/3/2015           Texas   \n",
       "\n",
       "                         City                     ...                       \\\n",
       "0      Hackensack, New Jersey                     ...                        \n",
       "1         Oakland, California                     ...                        \n",
       "2           Chicago, Illinois                     ...                        \n",
       "3            Atlanta, Georgia                     ...                        \n",
       "4             Flint, Michigan                     ...                        \n",
       "...                       ...                     ...                        \n",
       "2350       Lake City, Florida                     ...                        \n",
       "2351         Louisa, Kentucky                     ...                        \n",
       "2352  Enfield, North Carolina                     ...                        \n",
       "2353      Kansas City, Kansas                     ...                        \n",
       "2354   Sulphur Springs, Texas                     ...                        \n",
       "\n",
       "     Month of Death  Year of Death Was the deceased armed?  \\\n",
       "0             March           2015                      No   \n",
       "1            14-Sep           2014                 Unclear   \n",
       "2            13-May           2013                      No   \n",
       "3             March           2015                      No   \n",
       "4            14-Jul           2014                 Unclear   \n",
       "...             ...            ...                     ...   \n",
       "2350         14-Aug           2014                      No   \n",
       "2351            May           2015                      No   \n",
       "2352            May           2015                      No   \n",
       "2353            May           2015                      No   \n",
       "2354          March           2015                      No   \n",
       "\n",
       "     Did the deceased have priors?  \\\n",
       "0                          Unclear   \n",
       "1                          Unclear   \n",
       "2                               No   \n",
       "3                          Unclear   \n",
       "4                          Unclear   \n",
       "...                            ...   \n",
       "2350                           Yes   \n",
       "2351                       Unclear   \n",
       "2352                       Unclear   \n",
       "2353                       Unclear   \n",
       "2354                       Unclear   \n",
       "\n",
       "     Was the officer involved fired or suspended?  \n",
       "0                                         Unclear  \n",
       "1                                         Unclear  \n",
       "2                                              No  \n",
       "3                                         Unclear  \n",
       "4                                         Unclear  \n",
       "...                                           ...  \n",
       "2350                                          Yes  \n",
       "2351                                      Unclear  \n",
       "2352                                      Unclear  \n",
       "2353                                      Unclear  \n",
       "2354                                      Unclear  \n",
       "\n",
       "[2355 rows x 15 columns]"
      ]
     },
     "execution_count": 3,
     "metadata": {},
     "output_type": "execute_result"
    }
   ],
   "source": [
    "df"
   ]
  },
  {
   "cell_type": "code",
   "execution_count": 4,
   "metadata": {
    "collapsed": false
   },
   "outputs": [
    {
     "data": {
      "text/plain": [
       "(2355, 15)"
      ]
     },
     "execution_count": 4,
     "metadata": {},
     "output_type": "execute_result"
    }
   ],
   "source": [
    "df.shape"
   ]
  },
  {
   "cell_type": "code",
   "execution_count": 5,
   "metadata": {
    "collapsed": false
   },
   "outputs": [
    {
     "data": {
      "text/plain": [
       "['Name',\n",
       " 'Cause of Death',\n",
       " 'Date of Death',\n",
       " 'State',\n",
       " 'City',\n",
       " 'Gender',\n",
       " 'Age',\n",
       " 'Race',\n",
       " 'Photo',\n",
       " 'News Story',\n",
       " 'Month of Death',\n",
       " 'Year of Death',\n",
       " 'Was the deceased armed?',\n",
       " 'Did the deceased have priors?',\n",
       " 'Was the officer involved fired or suspended?']"
      ]
     },
     "execution_count": 5,
     "metadata": {},
     "output_type": "execute_result"
    }
   ],
   "source": [
    "list(df.columns.values)"
   ]
  },
  {
   "cell_type": "code",
   "execution_count": 6,
   "metadata": {
    "collapsed": true
   },
   "outputs": [],
   "source": [
    "df = df.rename(columns = {'Cause of Death':'cause_death', 'Date of Death': 'date_death', 'Month of Death': 'month_death', 'Year of Death':'year_death','Was the deceased armed?':'armed', 'Did the deceased have priors?':'priors','Was the officer involved fired or suspended?':'fired'})"
   ]
  },
  {
   "cell_type": "code",
   "execution_count": 7,
   "metadata": {
    "collapsed": false
   },
   "outputs": [
    {
     "data": {
      "text/plain": [
       "['Name',\n",
       " 'cause_death',\n",
       " 'date_death',\n",
       " 'State',\n",
       " 'City',\n",
       " 'Gender',\n",
       " 'Age',\n",
       " 'Race',\n",
       " 'Photo',\n",
       " 'News Story',\n",
       " 'month_death',\n",
       " 'year_death',\n",
       " 'armed',\n",
       " 'priors',\n",
       " 'fired']"
      ]
     },
     "execution_count": 7,
     "metadata": {},
     "output_type": "execute_result"
    }
   ],
   "source": [
    "list(df.columns.values)"
   ]
  },
  {
   "cell_type": "code",
   "execution_count": 8,
   "metadata": {
    "collapsed": false
   },
   "outputs": [
    {
     "data": {
      "text/html": [
       "<div>\n",
       "<table border=\"1\" class=\"dataframe\">\n",
       "  <thead>\n",
       "    <tr style=\"text-align: right;\">\n",
       "      <th></th>\n",
       "      <th>cause_death</th>\n",
       "      <th>State</th>\n",
       "      <th>Gender</th>\n",
       "      <th>Age</th>\n",
       "      <th>Race</th>\n",
       "      <th>armed</th>\n",
       "      <th>priors</th>\n",
       "      <th>fired</th>\n",
       "    </tr>\n",
       "  </thead>\n",
       "  <tbody>\n",
       "    <tr>\n",
       "      <th>0</th>\n",
       "      <td>Car Accident</td>\n",
       "      <td>New Jersey</td>\n",
       "      <td>Female</td>\n",
       "      <td>64.0</td>\n",
       "      <td>Asian</td>\n",
       "      <td>No</td>\n",
       "      <td>Unclear</td>\n",
       "      <td>Unclear</td>\n",
       "    </tr>\n",
       "    <tr>\n",
       "      <th>1</th>\n",
       "      <td>Car Accident</td>\n",
       "      <td>California</td>\n",
       "      <td>Male</td>\n",
       "      <td>58.0</td>\n",
       "      <td>Asian</td>\n",
       "      <td>Unclear</td>\n",
       "      <td>Unclear</td>\n",
       "      <td>Unclear</td>\n",
       "    </tr>\n",
       "    <tr>\n",
       "      <th>2</th>\n",
       "      <td>Car Accident</td>\n",
       "      <td>Illinois</td>\n",
       "      <td>Female</td>\n",
       "      <td>54.0</td>\n",
       "      <td>Black</td>\n",
       "      <td>No</td>\n",
       "      <td>No</td>\n",
       "      <td>No</td>\n",
       "    </tr>\n",
       "    <tr>\n",
       "      <th>3</th>\n",
       "      <td>Car Accident</td>\n",
       "      <td>Georgia</td>\n",
       "      <td>Male</td>\n",
       "      <td>62.0</td>\n",
       "      <td>Black</td>\n",
       "      <td>No</td>\n",
       "      <td>Unclear</td>\n",
       "      <td>Unclear</td>\n",
       "    </tr>\n",
       "    <tr>\n",
       "      <th>4</th>\n",
       "      <td>Car Accident</td>\n",
       "      <td>Michigan</td>\n",
       "      <td>Female</td>\n",
       "      <td>64.0</td>\n",
       "      <td>Black</td>\n",
       "      <td>Unclear</td>\n",
       "      <td>Unclear</td>\n",
       "      <td>Unclear</td>\n",
       "    </tr>\n",
       "  </tbody>\n",
       "</table>\n",
       "</div>"
      ],
      "text/plain": [
       "    cause_death       State  Gender   Age   Race    armed   priors    fired\n",
       "0  Car Accident  New Jersey  Female  64.0  Asian       No  Unclear  Unclear\n",
       "1  Car Accident  California    Male  58.0  Asian  Unclear  Unclear  Unclear\n",
       "2  Car Accident    Illinois  Female  54.0  Black       No       No       No\n",
       "3  Car Accident     Georgia    Male  62.0  Black       No  Unclear  Unclear\n",
       "4  Car Accident    Michigan  Female  64.0  Black  Unclear  Unclear  Unclear"
      ]
     },
     "execution_count": 8,
     "metadata": {},
     "output_type": "execute_result"
    }
   ],
   "source": [
    "df.drop(['Name', 'date_death','City','News Story','Photo','month_death','year_death'], axis=1, inplace=True)\n",
    "df.head()"
   ]
  },
  {
   "cell_type": "code",
   "execution_count": 9,
   "metadata": {
    "collapsed": false
   },
   "outputs": [
    {
     "data": {
      "text/plain": [
       "26.0     86\n",
       "34.0     81\n",
       "27.0     79\n",
       "28.0     76\n",
       "29.0     75\n",
       "         ..\n",
       "97.0      1\n",
       "95.0      1\n",
       "93.0      1\n",
       "77.0      1\n",
       "107.0     1\n",
       "Name: Age, dtype: int64"
      ]
     },
     "execution_count": 9,
     "metadata": {},
     "output_type": "execute_result"
    }
   ],
   "source": [
    "#bucket the ages by groups. - ranges \n",
    "df.Age.value_counts()"
   ]
  },
  {
   "cell_type": "code",
   "execution_count": 10,
   "metadata": {
    "collapsed": false
   },
   "outputs": [
    {
     "name": "stdout",
     "output_type": "stream",
     "text": [
      "36.9122422115\n",
      "34.0\n",
      "107.0\n",
      "5.0\n"
     ]
    }
   ],
   "source": [
    "print df.Age.mean()\n",
    "print df.Age.median()\n",
    "print df.Age.max()\n",
    "print df.Age.min()"
   ]
  },
  {
   "cell_type": "code",
   "execution_count": 11,
   "metadata": {
    "collapsed": false
   },
   "outputs": [
    {
     "name": "stdout",
     "output_type": "stream",
     "text": [
      "    cause_death     State Gender    Age   Race armed   priors    fired\n",
      "338    Shooting  Arkansas   Male  107.0  Black   Yes  Unclear  Unclear\n"
     ]
    }
   ],
   "source": [
    "print df[(df.Age == 107)]"
   ]
  },
  {
   "cell_type": "code",
   "execution_count": 12,
   "metadata": {
    "collapsed": false
   },
   "outputs": [
    {
     "data": {
      "text/plain": [
       "California        398\n",
       "Texas             237\n",
       "Florida           187\n",
       "Arizona           104\n",
       "Illinois           68\n",
       "                 ... \n",
       "New Hampshire       4\n",
       "Virgin Islands      2\n",
       "Rhode Island        2\n",
       "Vermont             2\n",
       "North Dakota        1\n",
       "Name: State, dtype: int64"
      ]
     },
     "execution_count": 12,
     "metadata": {},
     "output_type": "execute_result"
    }
   ],
   "source": [
    "df.State.value_counts()\n",
    "#could just look at california and texas (or look at top 5)\n",
    "#could also look at red / blue states "
   ]
  },
  {
   "cell_type": "code",
   "execution_count": 13,
   "metadata": {
    "collapsed": false
   },
   "outputs": [
    {
     "data": {
      "text/plain": [
       "Yes         1482\n",
       "Unclear      550\n",
       "No           275\n",
       "Disputed      48\n",
       "Name: armed, dtype: int64"
      ]
     },
     "execution_count": 13,
     "metadata": {},
     "output_type": "execute_result"
    }
   ],
   "source": [
    "df.armed.value_counts()"
   ]
  },
  {
   "cell_type": "code",
   "execution_count": 14,
   "metadata": {
    "collapsed": false
   },
   "outputs": [
    {
     "data": {
      "text/plain": [
       "Unclear    1803\n",
       "Yes         435\n",
       "No          117\n",
       "Name: priors, dtype: int64"
      ]
     },
     "execution_count": 14,
     "metadata": {},
     "output_type": "execute_result"
    }
   ],
   "source": [
    "df.priors.value_counts()"
   ]
  },
  {
   "cell_type": "code",
   "execution_count": 15,
   "metadata": {
    "collapsed": false
   },
   "outputs": [
    {
     "data": {
      "text/plain": [
       "Shooting                  2076\n",
       "Taser Gun                   97\n",
       "Car Accident                69\n",
       "Physical Confrontation      63\n",
       "Other                       50\n",
       "Name: cause_death, dtype: int64"
      ]
     },
     "execution_count": 15,
     "metadata": {},
     "output_type": "execute_result"
    }
   ],
   "source": [
    "df.cause_death.value_counts()\n",
    "#consider all as fatalities and - can be dropped. Don't drop but don't remove. "
   ]
  },
  {
   "cell_type": "code",
   "execution_count": 16,
   "metadata": {
    "collapsed": false
   },
   "outputs": [
    {
     "data": {
      "text/plain": [
       "Male       2210\n",
       "Female      142\n",
       "Unknown       3\n",
       "Name: Gender, dtype: int64"
      ]
     },
     "execution_count": 16,
     "metadata": {},
     "output_type": "execute_result"
    }
   ],
   "source": [
    "df.Gender.value_counts()\n"
   ]
  },
  {
   "cell_type": "code",
   "execution_count": 17,
   "metadata": {
    "collapsed": false
   },
   "outputs": [
    {
     "data": {
      "text/plain": [
       "White               766\n",
       "Unknown             713\n",
       "Black               511\n",
       "Latino              319\n",
       "Asian                27\n",
       "Native American      16\n",
       "Pacific Islander      3\n",
       "Name: Race, dtype: int64"
      ]
     },
     "execution_count": 17,
     "metadata": {},
     "output_type": "execute_result"
    }
   ],
   "source": [
    "df.Race.value_counts()"
   ]
  },
  {
   "cell_type": "code",
   "execution_count": 18,
   "metadata": {
    "collapsed": false
   },
   "outputs": [
    {
     "data": {
      "text/plain": [
       "array(['Unclear', 'No', 'Yes'], dtype=object)"
      ]
     },
     "execution_count": 18,
     "metadata": {},
     "output_type": "execute_result"
    }
   ],
   "source": [
    "df.fired.unique()"
   ]
  },
  {
   "cell_type": "code",
   "execution_count": 19,
   "metadata": {
    "collapsed": false
   },
   "outputs": [
    {
     "data": {
      "text/plain": [
       "Unclear    1571\n",
       "Yes         665\n",
       "No          119\n",
       "Name: fired, dtype: int64"
      ]
     },
     "execution_count": 19,
     "metadata": {},
     "output_type": "execute_result"
    }
   ],
   "source": [
    "df.fired.value_counts()"
   ]
  },
  {
   "cell_type": "code",
   "execution_count": 20,
   "metadata": {
    "collapsed": false
   },
   "outputs": [
    {
     "data": {
      "text/plain": [
       "array(['Unclear', 'No', 'Yes'], dtype=object)"
      ]
     },
     "execution_count": 20,
     "metadata": {},
     "output_type": "execute_result"
    }
   ],
   "source": [
    "df = df.dropna(subset = ['fired'])\n",
    "df.fired.unique()"
   ]
  },
  {
   "cell_type": "code",
   "execution_count": 21,
   "metadata": {
    "collapsed": true
   },
   "outputs": [],
   "source": [
    "bins = [0, 25, 35, 45, 55, 65, 107]\n",
    "group_names = ['<25','25-34','35-44','45-54','55-65','>65']\n"
   ]
  },
  {
   "cell_type": "code",
   "execution_count": 22,
   "metadata": {
    "collapsed": false
   },
   "outputs": [
    {
     "data": {
      "text/plain": [
       "0       55-65\n",
       "1       55-65\n",
       "2       45-54\n",
       "3       55-65\n",
       "4       55-65\n",
       "        ...  \n",
       "2350    35-44\n",
       "2351    55-65\n",
       "2352    45-54\n",
       "2353    25-34\n",
       "2354    25-34\n",
       "Name: Age, dtype: category\n",
       "Categories (6, object): [<25 < 25-34 < 35-44 < 45-54 < 55-65 < >65]"
      ]
     },
     "execution_count": 22,
     "metadata": {},
     "output_type": "execute_result"
    }
   ],
   "source": [
    "age_range = pd.cut(df['Age'], bins, labels = group_names)\n",
    "df['age_range'] = pd.cut(df['Age'], bins, labels = group_names)\n",
    "age_range"
   ]
  },
  {
   "cell_type": "code",
   "execution_count": 23,
   "metadata": {
    "collapsed": false
   },
   "outputs": [],
   "source": [
    "blue_state_list = ['Washington','Oregon','California','Nevada','Colorado','New Mexico','Minnesota','Iowa','Wisconsin','Illinois','Wisconsin','Michigan','Pennsylvania','New York','Virginia','New Jersey','Delaware','Washington DC','Maryland','Maine','New Hampshire','Rhode Island', 'Connecticut','Massachusetts','Vermont']\n",
    "def blue_or_red(state):\n",
    "    if state in blue_state_list: \n",
    "        return \"blue\"\n",
    "    else: \n",
    "        return \"red\"\n",
    "    \n",
    "df['red_blue'] = df.State.apply(blue_or_red)"
   ]
  },
  {
   "cell_type": "markdown",
   "metadata": {},
   "source": [
    "Grouped the states by Red and Blue (Republican / Democrat) based on http://www.politico.com/magazine/story/2014/05/climate-change-map-red-state-blue-state-hot-state-cold-state-107028, these are 2014 categories because the majority of the data in my set is from 2014."
   ]
  },
  {
   "cell_type": "code",
   "execution_count": 24,
   "metadata": {
    "collapsed": false
   },
   "outputs": [
    {
     "data": {
      "text/html": [
       "<div>\n",
       "<table border=\"1\" class=\"dataframe\">\n",
       "  <thead>\n",
       "    <tr style=\"text-align: right;\">\n",
       "      <th></th>\n",
       "      <th>cause_death</th>\n",
       "      <th>State</th>\n",
       "      <th>Gender</th>\n",
       "      <th>Age</th>\n",
       "      <th>Race</th>\n",
       "      <th>armed</th>\n",
       "      <th>priors</th>\n",
       "      <th>fired</th>\n",
       "      <th>age_range</th>\n",
       "      <th>red_blue</th>\n",
       "    </tr>\n",
       "  </thead>\n",
       "  <tbody>\n",
       "    <tr>\n",
       "      <th>0</th>\n",
       "      <td>Car Accident</td>\n",
       "      <td>New Jersey</td>\n",
       "      <td>Female</td>\n",
       "      <td>64.0</td>\n",
       "      <td>Asian</td>\n",
       "      <td>No</td>\n",
       "      <td>Unclear</td>\n",
       "      <td>Unclear</td>\n",
       "      <td>55-65</td>\n",
       "      <td>blue</td>\n",
       "    </tr>\n",
       "    <tr>\n",
       "      <th>1</th>\n",
       "      <td>Car Accident</td>\n",
       "      <td>California</td>\n",
       "      <td>Male</td>\n",
       "      <td>58.0</td>\n",
       "      <td>Asian</td>\n",
       "      <td>Unclear</td>\n",
       "      <td>Unclear</td>\n",
       "      <td>Unclear</td>\n",
       "      <td>55-65</td>\n",
       "      <td>blue</td>\n",
       "    </tr>\n",
       "    <tr>\n",
       "      <th>2</th>\n",
       "      <td>Car Accident</td>\n",
       "      <td>Illinois</td>\n",
       "      <td>Female</td>\n",
       "      <td>54.0</td>\n",
       "      <td>Black</td>\n",
       "      <td>No</td>\n",
       "      <td>No</td>\n",
       "      <td>No</td>\n",
       "      <td>45-54</td>\n",
       "      <td>blue</td>\n",
       "    </tr>\n",
       "    <tr>\n",
       "      <th>3</th>\n",
       "      <td>Car Accident</td>\n",
       "      <td>Georgia</td>\n",
       "      <td>Male</td>\n",
       "      <td>62.0</td>\n",
       "      <td>Black</td>\n",
       "      <td>No</td>\n",
       "      <td>Unclear</td>\n",
       "      <td>Unclear</td>\n",
       "      <td>55-65</td>\n",
       "      <td>red</td>\n",
       "    </tr>\n",
       "    <tr>\n",
       "      <th>4</th>\n",
       "      <td>Car Accident</td>\n",
       "      <td>Michigan</td>\n",
       "      <td>Female</td>\n",
       "      <td>64.0</td>\n",
       "      <td>Black</td>\n",
       "      <td>Unclear</td>\n",
       "      <td>Unclear</td>\n",
       "      <td>Unclear</td>\n",
       "      <td>55-65</td>\n",
       "      <td>blue</td>\n",
       "    </tr>\n",
       "    <tr>\n",
       "      <th>...</th>\n",
       "      <td>...</td>\n",
       "      <td>...</td>\n",
       "      <td>...</td>\n",
       "      <td>...</td>\n",
       "      <td>...</td>\n",
       "      <td>...</td>\n",
       "      <td>...</td>\n",
       "      <td>...</td>\n",
       "      <td>...</td>\n",
       "      <td>...</td>\n",
       "    </tr>\n",
       "    <tr>\n",
       "      <th>2350</th>\n",
       "      <td>Taser Gun</td>\n",
       "      <td>Florida</td>\n",
       "      <td>Male</td>\n",
       "      <td>41.0</td>\n",
       "      <td>White</td>\n",
       "      <td>No</td>\n",
       "      <td>Yes</td>\n",
       "      <td>Yes</td>\n",
       "      <td>35-44</td>\n",
       "      <td>red</td>\n",
       "    </tr>\n",
       "    <tr>\n",
       "      <th>2351</th>\n",
       "      <td>Taser Gun</td>\n",
       "      <td>Kentucky</td>\n",
       "      <td>Male</td>\n",
       "      <td>56.0</td>\n",
       "      <td>White</td>\n",
       "      <td>No</td>\n",
       "      <td>Unclear</td>\n",
       "      <td>Unclear</td>\n",
       "      <td>55-65</td>\n",
       "      <td>red</td>\n",
       "    </tr>\n",
       "    <tr>\n",
       "      <th>2352</th>\n",
       "      <td>Taser Gun</td>\n",
       "      <td>North Carolina</td>\n",
       "      <td>Male</td>\n",
       "      <td>55.0</td>\n",
       "      <td>White</td>\n",
       "      <td>No</td>\n",
       "      <td>Unclear</td>\n",
       "      <td>Unclear</td>\n",
       "      <td>45-54</td>\n",
       "      <td>red</td>\n",
       "    </tr>\n",
       "    <tr>\n",
       "      <th>2353</th>\n",
       "      <td>Taser Gun</td>\n",
       "      <td>Kansas</td>\n",
       "      <td>Male</td>\n",
       "      <td>34.0</td>\n",
       "      <td>White</td>\n",
       "      <td>No</td>\n",
       "      <td>Unclear</td>\n",
       "      <td>Unclear</td>\n",
       "      <td>25-34</td>\n",
       "      <td>red</td>\n",
       "    </tr>\n",
       "    <tr>\n",
       "      <th>2354</th>\n",
       "      <td>Taser Gun</td>\n",
       "      <td>Texas</td>\n",
       "      <td>Male</td>\n",
       "      <td>34.0</td>\n",
       "      <td>White</td>\n",
       "      <td>No</td>\n",
       "      <td>Unclear</td>\n",
       "      <td>Unclear</td>\n",
       "      <td>25-34</td>\n",
       "      <td>red</td>\n",
       "    </tr>\n",
       "  </tbody>\n",
       "</table>\n",
       "<p>2355 rows × 10 columns</p>\n",
       "</div>"
      ],
      "text/plain": [
       "       cause_death           State  Gender   Age   Race    armed   priors  \\\n",
       "0     Car Accident      New Jersey  Female  64.0  Asian       No  Unclear   \n",
       "1     Car Accident      California    Male  58.0  Asian  Unclear  Unclear   \n",
       "2     Car Accident        Illinois  Female  54.0  Black       No       No   \n",
       "3     Car Accident         Georgia    Male  62.0  Black       No  Unclear   \n",
       "4     Car Accident        Michigan  Female  64.0  Black  Unclear  Unclear   \n",
       "...            ...             ...     ...   ...    ...      ...      ...   \n",
       "2350     Taser Gun         Florida    Male  41.0  White       No      Yes   \n",
       "2351     Taser Gun        Kentucky    Male  56.0  White       No  Unclear   \n",
       "2352     Taser Gun  North Carolina    Male  55.0  White       No  Unclear   \n",
       "2353     Taser Gun          Kansas    Male  34.0  White       No  Unclear   \n",
       "2354     Taser Gun           Texas    Male  34.0  White       No  Unclear   \n",
       "\n",
       "        fired age_range red_blue  \n",
       "0     Unclear     55-65     blue  \n",
       "1     Unclear     55-65     blue  \n",
       "2          No     45-54     blue  \n",
       "3     Unclear     55-65      red  \n",
       "4     Unclear     55-65     blue  \n",
       "...       ...       ...      ...  \n",
       "2350      Yes     35-44      red  \n",
       "2351  Unclear     55-65      red  \n",
       "2352  Unclear     45-54      red  \n",
       "2353  Unclear     25-34      red  \n",
       "2354  Unclear     25-34      red  \n",
       "\n",
       "[2355 rows x 10 columns]"
      ]
     },
     "execution_count": 24,
     "metadata": {},
     "output_type": "execute_result"
    }
   ],
   "source": [
    "df"
   ]
  },
  {
   "cell_type": "code",
   "execution_count": 25,
   "metadata": {
    "collapsed": true
   },
   "outputs": [],
   "source": [
    "df_income = pd.read_csv(os.path.join('C:\\Users\\morgane1\\Desktop\\householdincome.csv'))"
   ]
  },
  {
   "cell_type": "code",
   "execution_count": 26,
   "metadata": {
    "collapsed": false
   },
   "outputs": [
    {
     "data": {
      "text/html": [
       "<div>\n",
       "<table border=\"1\" class=\"dataframe\">\n",
       "  <thead>\n",
       "    <tr style=\"text-align: right;\">\n",
       "      <th></th>\n",
       "      <th>State</th>\n",
       "      <th>2014 Q4</th>\n",
       "      <th>2015 Q1</th>\n",
       "      <th>2015 Q2</th>\n",
       "      <th>2015 Q3</th>\n",
       "      <th>2015 Q4</th>\n",
       "      <th>2016 Q1</th>\n",
       "      <th>Average</th>\n",
       "    </tr>\n",
       "  </thead>\n",
       "  <tbody>\n",
       "    <tr>\n",
       "      <th>0</th>\n",
       "      <td>Alabama</td>\n",
       "      <td>185,184</td>\n",
       "      <td>187,169</td>\n",
       "      <td>188,291</td>\n",
       "      <td>190,124</td>\n",
       "      <td>191,432</td>\n",
       "      <td>193,367</td>\n",
       "      <td>189261.2</td>\n",
       "    </tr>\n",
       "    <tr>\n",
       "      <th>1</th>\n",
       "      <td>Alaska</td>\n",
       "      <td>40,416</td>\n",
       "      <td>41,247</td>\n",
       "      <td>41,454</td>\n",
       "      <td>41,269</td>\n",
       "      <td>41,341</td>\n",
       "      <td>41,598</td>\n",
       "      <td>41220.8</td>\n",
       "    </tr>\n",
       "    <tr>\n",
       "      <th>2</th>\n",
       "      <td>Arizona</td>\n",
       "      <td>259,230</td>\n",
       "      <td>262,205</td>\n",
       "      <td>265,861</td>\n",
       "      <td>268,172</td>\n",
       "      <td>271,656</td>\n",
       "      <td>274,734</td>\n",
       "      <td>266976.3</td>\n",
       "    </tr>\n",
       "    <tr>\n",
       "      <th>3</th>\n",
       "      <td>Arkansas</td>\n",
       "      <td>114,175</td>\n",
       "      <td>114,387</td>\n",
       "      <td>116,028</td>\n",
       "      <td>117,369</td>\n",
       "      <td>118,284</td>\n",
       "      <td>119,754</td>\n",
       "      <td>116666.2</td>\n",
       "    </tr>\n",
       "    <tr>\n",
       "      <th>4</th>\n",
       "      <td>California</td>\n",
       "      <td>1,974,525</td>\n",
       "      <td>2,011,012</td>\n",
       "      <td>2,056,153</td>\n",
       "      <td>2,077,759</td>\n",
       "      <td>2,099,673</td>\n",
       "      <td>2,119,407</td>\n",
       "      <td>2056421.5</td>\n",
       "    </tr>\n",
       "    <tr>\n",
       "      <th>...</th>\n",
       "      <td>...</td>\n",
       "      <td>...</td>\n",
       "      <td>...</td>\n",
       "      <td>...</td>\n",
       "      <td>...</td>\n",
       "      <td>...</td>\n",
       "      <td>...</td>\n",
       "      <td>...</td>\n",
       "    </tr>\n",
       "    <tr>\n",
       "      <th>46</th>\n",
       "      <td>Virginia</td>\n",
       "      <td>424,916</td>\n",
       "      <td>428,614</td>\n",
       "      <td>435,402</td>\n",
       "      <td>440,294</td>\n",
       "      <td>443,693</td>\n",
       "      <td>448,565</td>\n",
       "      <td>436914.0</td>\n",
       "    </tr>\n",
       "    <tr>\n",
       "      <th>47</th>\n",
       "      <td>Washington</td>\n",
       "      <td>358,280</td>\n",
       "      <td>358,961</td>\n",
       "      <td>366,344</td>\n",
       "      <td>369,789</td>\n",
       "      <td>373,291</td>\n",
       "      <td>378,921</td>\n",
       "      <td>367597.7</td>\n",
       "    </tr>\n",
       "    <tr>\n",
       "      <th>48</th>\n",
       "      <td>West Virginia</td>\n",
       "      <td>67,683</td>\n",
       "      <td>67,676</td>\n",
       "      <td>68,320</td>\n",
       "      <td>68,605</td>\n",
       "      <td>68,549</td>\n",
       "      <td>68,874</td>\n",
       "      <td>68284.5</td>\n",
       "    </tr>\n",
       "    <tr>\n",
       "      <th>49</th>\n",
       "      <td>Wisconsin</td>\n",
       "      <td>258,944</td>\n",
       "      <td>259,098</td>\n",
       "      <td>262,009</td>\n",
       "      <td>265,406</td>\n",
       "      <td>268,063</td>\n",
       "      <td>270,608</td>\n",
       "      <td>264021.3</td>\n",
       "    </tr>\n",
       "    <tr>\n",
       "      <th>50</th>\n",
       "      <td>Wyoming</td>\n",
       "      <td>32,478</td>\n",
       "      <td>32,401</td>\n",
       "      <td>32,345</td>\n",
       "      <td>32,500</td>\n",
       "      <td>32,100</td>\n",
       "      <td>32,003</td>\n",
       "      <td>32304.5</td>\n",
       "    </tr>\n",
       "  </tbody>\n",
       "</table>\n",
       "<p>51 rows × 8 columns</p>\n",
       "</div>"
      ],
      "text/plain": [
       "            State    2014 Q4    2015 Q1    2015 Q2    2015 Q3    2015 Q4  \\\n",
       "0         Alabama    185,184    187,169    188,291    190,124    191,432   \n",
       "1          Alaska     40,416     41,247     41,454     41,269     41,341   \n",
       "2         Arizona    259,230    262,205    265,861    268,172    271,656   \n",
       "3        Arkansas    114,175    114,387    116,028    117,369    118,284   \n",
       "4      California  1,974,525  2,011,012  2,056,153  2,077,759  2,099,673   \n",
       "..            ...        ...        ...        ...        ...        ...   \n",
       "46       Virginia    424,916    428,614    435,402    440,294    443,693   \n",
       "47     Washington    358,280    358,961    366,344    369,789    373,291   \n",
       "48  West Virginia     67,683     67,676     68,320     68,605     68,549   \n",
       "49      Wisconsin    258,944    259,098    262,009    265,406    268,063   \n",
       "50        Wyoming     32,478     32,401     32,345     32,500     32,100   \n",
       "\n",
       "      2016 Q1   Average   \n",
       "0     193,367   189261.2  \n",
       "1      41,598    41220.8  \n",
       "2     274,734   266976.3  \n",
       "3     119,754   116666.2  \n",
       "4   2,119,407  2056421.5  \n",
       "..        ...        ...  \n",
       "46    448,565   436914.0  \n",
       "47    378,921   367597.7  \n",
       "48     68,874    68284.5  \n",
       "49    270,608   264021.3  \n",
       "50     32,003    32304.5  \n",
       "\n",
       "[51 rows x 8 columns]"
      ]
     },
     "execution_count": 26,
     "metadata": {},
     "output_type": "execute_result"
    }
   ],
   "source": [
    "df_income"
   ]
  },
  {
   "cell_type": "markdown",
   "metadata": {},
   "source": [
    "Source of income analysis is the U.S. Bureau of Economic Analysis: http://www.bea.gov/newsreleases/regional/spi/sqpi_newsrelease.htm"
   ]
  },
  {
   "cell_type": "code",
   "execution_count": 27,
   "metadata": {
    "collapsed": false
   },
   "outputs": [
    {
     "data": {
      "text/plain": [
       "300689.362745098"
      ]
     },
     "execution_count": 27,
     "metadata": {},
     "output_type": "execute_result"
    }
   ],
   "source": [
    "df_income['Average '].mean()"
   ]
  },
  {
   "cell_type": "code",
   "execution_count": 28,
   "metadata": {
    "collapsed": false
   },
   "outputs": [
    {
     "data": {
      "text/plain": [
       "186600.5"
      ]
     },
     "execution_count": 28,
     "metadata": {},
     "output_type": "execute_result"
    }
   ],
   "source": [
    "df_income['Average '].median()"
   ]
  },
  {
   "cell_type": "code",
   "execution_count": 29,
   "metadata": {
    "collapsed": false
   },
   "outputs": [],
   "source": [
    "df_income = df_income.dropna(subset = ['Average '])\n"
   ]
  },
  {
   "cell_type": "code",
   "execution_count": 30,
   "metadata": {
    "collapsed": false
   },
   "outputs": [
    {
     "data": {
      "text/plain": [
       "0.25     70918.85\n",
       "0.50    186600.50\n",
       "0.75    388273.45\n",
       "Name: Average , dtype: float64"
      ]
     },
     "execution_count": 30,
     "metadata": {},
     "output_type": "execute_result"
    }
   ],
   "source": [
    "df_income['Average '].quantile([.25, .5, .75])"
   ]
  },
  {
   "cell_type": "code",
   "execution_count": 31,
   "metadata": {
    "collapsed": false
   },
   "outputs": [
    {
     "data": {
      "text/plain": [
       "2056421.5"
      ]
     },
     "execution_count": 31,
     "metadata": {},
     "output_type": "execute_result"
    }
   ],
   "source": [
    "df_income['Average '].max()"
   ]
  },
  {
   "cell_type": "code",
   "execution_count": 32,
   "metadata": {
    "collapsed": true
   },
   "outputs": [],
   "source": [
    "bins = [0, 75000, 200000, 400000, 3000000]\n",
    "group_names = ['<75000','75000-200000','200000-400000','>400000']"
   ]
  },
  {
   "cell_type": "code",
   "execution_count": 33,
   "metadata": {
    "collapsed": false
   },
   "outputs": [
    {
     "data": {
      "text/plain": [
       "0      75000-200000\n",
       "1            <75000\n",
       "2     200000-400000\n",
       "3      75000-200000\n",
       "4           >400000\n",
       "          ...      \n",
       "46          >400000\n",
       "47    200000-400000\n",
       "48           <75000\n",
       "49    200000-400000\n",
       "50           <75000\n",
       "Name: Average , dtype: category\n",
       "Categories (4, object): [<75000 < 75000-200000 < 200000-400000 < >400000]"
      ]
     },
     "execution_count": 33,
     "metadata": {},
     "output_type": "execute_result"
    }
   ],
   "source": [
    "income_range = pd.cut(df_income['Average '], bins, labels = group_names)\n",
    "df_income['income_range'] = pd.cut(df_income['Average '], bins, labels = group_names)\n",
    "income_range"
   ]
  },
  {
   "cell_type": "code",
   "execution_count": 34,
   "metadata": {
    "collapsed": false
   },
   "outputs": [
    {
     "data": {
      "text/html": [
       "<div>\n",
       "<table border=\"1\" class=\"dataframe\">\n",
       "  <thead>\n",
       "    <tr style=\"text-align: right;\">\n",
       "      <th></th>\n",
       "      <th>State</th>\n",
       "      <th>income_range</th>\n",
       "    </tr>\n",
       "  </thead>\n",
       "  <tbody>\n",
       "    <tr>\n",
       "      <th>0</th>\n",
       "      <td>Alabama</td>\n",
       "      <td>75000-200000</td>\n",
       "    </tr>\n",
       "    <tr>\n",
       "      <th>1</th>\n",
       "      <td>Alaska</td>\n",
       "      <td>&lt;75000</td>\n",
       "    </tr>\n",
       "    <tr>\n",
       "      <th>2</th>\n",
       "      <td>Arizona</td>\n",
       "      <td>200000-400000</td>\n",
       "    </tr>\n",
       "    <tr>\n",
       "      <th>3</th>\n",
       "      <td>Arkansas</td>\n",
       "      <td>75000-200000</td>\n",
       "    </tr>\n",
       "    <tr>\n",
       "      <th>4</th>\n",
       "      <td>California</td>\n",
       "      <td>&gt;400000</td>\n",
       "    </tr>\n",
       "    <tr>\n",
       "      <th>...</th>\n",
       "      <td>...</td>\n",
       "      <td>...</td>\n",
       "    </tr>\n",
       "    <tr>\n",
       "      <th>46</th>\n",
       "      <td>Virginia</td>\n",
       "      <td>&gt;400000</td>\n",
       "    </tr>\n",
       "    <tr>\n",
       "      <th>47</th>\n",
       "      <td>Washington</td>\n",
       "      <td>200000-400000</td>\n",
       "    </tr>\n",
       "    <tr>\n",
       "      <th>48</th>\n",
       "      <td>West Virginia</td>\n",
       "      <td>&lt;75000</td>\n",
       "    </tr>\n",
       "    <tr>\n",
       "      <th>49</th>\n",
       "      <td>Wisconsin</td>\n",
       "      <td>200000-400000</td>\n",
       "    </tr>\n",
       "    <tr>\n",
       "      <th>50</th>\n",
       "      <td>Wyoming</td>\n",
       "      <td>&lt;75000</td>\n",
       "    </tr>\n",
       "  </tbody>\n",
       "</table>\n",
       "<p>51 rows × 2 columns</p>\n",
       "</div>"
      ],
      "text/plain": [
       "            State   income_range\n",
       "0         Alabama   75000-200000\n",
       "1          Alaska         <75000\n",
       "2         Arizona  200000-400000\n",
       "3        Arkansas   75000-200000\n",
       "4      California        >400000\n",
       "..            ...            ...\n",
       "46       Virginia        >400000\n",
       "47     Washington  200000-400000\n",
       "48  West Virginia         <75000\n",
       "49      Wisconsin  200000-400000\n",
       "50        Wyoming         <75000\n",
       "\n",
       "[51 rows x 2 columns]"
      ]
     },
     "execution_count": 34,
     "metadata": {},
     "output_type": "execute_result"
    }
   ],
   "source": [
    "state_income = pd.concat([df_income['State'], df_income['income_range']], axis = 1)\n",
    "state_income\n",
    "\n"
   ]
  },
  {
   "cell_type": "code",
   "execution_count": 35,
   "metadata": {
    "collapsed": false
   },
   "outputs": [
    {
     "data": {
      "text/html": [
       "<div>\n",
       "<table border=\"1\" class=\"dataframe\">\n",
       "  <thead>\n",
       "    <tr style=\"text-align: right;\">\n",
       "      <th></th>\n",
       "      <th>cause_death</th>\n",
       "      <th>State</th>\n",
       "      <th>Gender</th>\n",
       "      <th>Age</th>\n",
       "      <th>Race</th>\n",
       "      <th>...</th>\n",
       "      <th>priors</th>\n",
       "      <th>fired</th>\n",
       "      <th>age_range</th>\n",
       "      <th>red_blue</th>\n",
       "      <th>income_range</th>\n",
       "    </tr>\n",
       "  </thead>\n",
       "  <tbody>\n",
       "    <tr>\n",
       "      <th>0</th>\n",
       "      <td>Car Accident</td>\n",
       "      <td>New Jersey</td>\n",
       "      <td>Female</td>\n",
       "      <td>64.0</td>\n",
       "      <td>Asian</td>\n",
       "      <td>...</td>\n",
       "      <td>Unclear</td>\n",
       "      <td>Unclear</td>\n",
       "      <td>55-65</td>\n",
       "      <td>blue</td>\n",
       "      <td>&gt;400000</td>\n",
       "    </tr>\n",
       "    <tr>\n",
       "      <th>1</th>\n",
       "      <td>Car Accident</td>\n",
       "      <td>New Jersey</td>\n",
       "      <td>Female</td>\n",
       "      <td>34.0</td>\n",
       "      <td>Black</td>\n",
       "      <td>...</td>\n",
       "      <td>Unclear</td>\n",
       "      <td>Unclear</td>\n",
       "      <td>25-34</td>\n",
       "      <td>blue</td>\n",
       "      <td>&gt;400000</td>\n",
       "    </tr>\n",
       "    <tr>\n",
       "      <th>2</th>\n",
       "      <td>Car Accident</td>\n",
       "      <td>New Jersey</td>\n",
       "      <td>Male</td>\n",
       "      <td>41.0</td>\n",
       "      <td>Black</td>\n",
       "      <td>...</td>\n",
       "      <td>Unclear</td>\n",
       "      <td>Unclear</td>\n",
       "      <td>35-44</td>\n",
       "      <td>blue</td>\n",
       "      <td>&gt;400000</td>\n",
       "    </tr>\n",
       "    <tr>\n",
       "      <th>3</th>\n",
       "      <td>Car Accident</td>\n",
       "      <td>New Jersey</td>\n",
       "      <td>Male</td>\n",
       "      <td>10.0</td>\n",
       "      <td>White</td>\n",
       "      <td>...</td>\n",
       "      <td>Unclear</td>\n",
       "      <td>Unclear</td>\n",
       "      <td>&lt;25</td>\n",
       "      <td>blue</td>\n",
       "      <td>&gt;400000</td>\n",
       "    </tr>\n",
       "    <tr>\n",
       "      <th>4</th>\n",
       "      <td>Other</td>\n",
       "      <td>New Jersey</td>\n",
       "      <td>Male</td>\n",
       "      <td>27.0</td>\n",
       "      <td>Black</td>\n",
       "      <td>...</td>\n",
       "      <td>Yes</td>\n",
       "      <td>No</td>\n",
       "      <td>25-34</td>\n",
       "      <td>blue</td>\n",
       "      <td>&gt;400000</td>\n",
       "    </tr>\n",
       "    <tr>\n",
       "      <th>...</th>\n",
       "      <td>...</td>\n",
       "      <td>...</td>\n",
       "      <td>...</td>\n",
       "      <td>...</td>\n",
       "      <td>...</td>\n",
       "      <td>...</td>\n",
       "      <td>...</td>\n",
       "      <td>...</td>\n",
       "      <td>...</td>\n",
       "      <td>...</td>\n",
       "      <td>...</td>\n",
       "    </tr>\n",
       "    <tr>\n",
       "      <th>2340</th>\n",
       "      <td>Shooting</td>\n",
       "      <td>West Virginia</td>\n",
       "      <td>Male</td>\n",
       "      <td>18.0</td>\n",
       "      <td>White</td>\n",
       "      <td>...</td>\n",
       "      <td>Unclear</td>\n",
       "      <td>Unclear</td>\n",
       "      <td>&lt;25</td>\n",
       "      <td>red</td>\n",
       "      <td>&lt;75000</td>\n",
       "    </tr>\n",
       "    <tr>\n",
       "      <th>2341</th>\n",
       "      <td>Shooting</td>\n",
       "      <td>West Virginia</td>\n",
       "      <td>Male</td>\n",
       "      <td>46.0</td>\n",
       "      <td>White</td>\n",
       "      <td>...</td>\n",
       "      <td>Yes</td>\n",
       "      <td>Unclear</td>\n",
       "      <td>45-54</td>\n",
       "      <td>red</td>\n",
       "      <td>&lt;75000</td>\n",
       "    </tr>\n",
       "    <tr>\n",
       "      <th>2342</th>\n",
       "      <td>Shooting</td>\n",
       "      <td>Vermont</td>\n",
       "      <td>Male</td>\n",
       "      <td>35.0</td>\n",
       "      <td>Unknown</td>\n",
       "      <td>...</td>\n",
       "      <td>Unclear</td>\n",
       "      <td>Unclear</td>\n",
       "      <td>25-34</td>\n",
       "      <td>blue</td>\n",
       "      <td>&lt;75000</td>\n",
       "    </tr>\n",
       "    <tr>\n",
       "      <th>2343</th>\n",
       "      <td>Shooting</td>\n",
       "      <td>Vermont</td>\n",
       "      <td>Male</td>\n",
       "      <td>49.0</td>\n",
       "      <td>White</td>\n",
       "      <td>...</td>\n",
       "      <td>Unclear</td>\n",
       "      <td>Yes</td>\n",
       "      <td>45-54</td>\n",
       "      <td>blue</td>\n",
       "      <td>&lt;75000</td>\n",
       "    </tr>\n",
       "    <tr>\n",
       "      <th>2344</th>\n",
       "      <td>Shooting</td>\n",
       "      <td>North Dakota</td>\n",
       "      <td>Male</td>\n",
       "      <td>31.0</td>\n",
       "      <td>White</td>\n",
       "      <td>...</td>\n",
       "      <td>Unclear</td>\n",
       "      <td>Unclear</td>\n",
       "      <td>25-34</td>\n",
       "      <td>red</td>\n",
       "      <td>&lt;75000</td>\n",
       "    </tr>\n",
       "  </tbody>\n",
       "</table>\n",
       "<p>2345 rows × 11 columns</p>\n",
       "</div>"
      ],
      "text/plain": [
       "       cause_death          State  Gender   Age     Race     ...       \\\n",
       "0     Car Accident     New Jersey  Female  64.0    Asian     ...        \n",
       "1     Car Accident     New Jersey  Female  34.0    Black     ...        \n",
       "2     Car Accident     New Jersey    Male  41.0    Black     ...        \n",
       "3     Car Accident     New Jersey    Male  10.0    White     ...        \n",
       "4            Other     New Jersey    Male  27.0    Black     ...        \n",
       "...            ...            ...     ...   ...      ...     ...        \n",
       "2340      Shooting  West Virginia    Male  18.0    White     ...        \n",
       "2341      Shooting  West Virginia    Male  46.0    White     ...        \n",
       "2342      Shooting        Vermont    Male  35.0  Unknown     ...        \n",
       "2343      Shooting        Vermont    Male  49.0    White     ...        \n",
       "2344      Shooting   North Dakota    Male  31.0    White     ...        \n",
       "\n",
       "       priors    fired age_range red_blue income_range  \n",
       "0     Unclear  Unclear     55-65     blue      >400000  \n",
       "1     Unclear  Unclear     25-34     blue      >400000  \n",
       "2     Unclear  Unclear     35-44     blue      >400000  \n",
       "3     Unclear  Unclear       <25     blue      >400000  \n",
       "4         Yes       No     25-34     blue      >400000  \n",
       "...       ...      ...       ...      ...          ...  \n",
       "2340  Unclear  Unclear       <25      red       <75000  \n",
       "2341      Yes  Unclear     45-54      red       <75000  \n",
       "2342  Unclear  Unclear     25-34     blue       <75000  \n",
       "2343  Unclear      Yes     45-54     blue       <75000  \n",
       "2344  Unclear  Unclear     25-34      red       <75000  \n",
       "\n",
       "[2345 rows x 11 columns]"
      ]
     },
     "execution_count": 35,
     "metadata": {},
     "output_type": "execute_result"
    }
   ],
   "source": [
    "df = pd.merge(df, state_income, on = 'State')\n",
    "df"
   ]
  },
  {
   "cell_type": "code",
   "execution_count": 36,
   "metadata": {
    "collapsed": true
   },
   "outputs": [],
   "source": [
    "df_pop = pd.read_csv(os.path.join('C:\\Users\\morgane1\\Desktop\\pop_density.csv'))"
   ]
  },
  {
   "cell_type": "code",
   "execution_count": 37,
   "metadata": {
    "collapsed": false
   },
   "outputs": [
    {
     "data": {
      "text/html": [
       "<div>\n",
       "<table border=\"1\" class=\"dataframe\">\n",
       "  <thead>\n",
       "    <tr style=\"text-align: right;\">\n",
       "      <th></th>\n",
       "      <th>State</th>\n",
       "      <th>den_mi_sq</th>\n",
       "      <th>den_km_sq</th>\n",
       "      <th>2015\n",
       "population</th>\n",
       "    </tr>\n",
       "  </thead>\n",
       "  <tbody>\n",
       "    <tr>\n",
       "      <th>0</th>\n",
       "      <td>Alabama</td>\n",
       "      <td>96</td>\n",
       "      <td>37.0</td>\n",
       "      <td>4,858,979</td>\n",
       "    </tr>\n",
       "    <tr>\n",
       "      <th>1</th>\n",
       "      <td>Alaska</td>\n",
       "      <td>1</td>\n",
       "      <td>0.5</td>\n",
       "      <td>738,432</td>\n",
       "    </tr>\n",
       "    <tr>\n",
       "      <th>2</th>\n",
       "      <td>Arizona</td>\n",
       "      <td>60</td>\n",
       "      <td>23.2</td>\n",
       "      <td>6,828,065</td>\n",
       "    </tr>\n",
       "    <tr>\n",
       "      <th>3</th>\n",
       "      <td>Arkansas</td>\n",
       "      <td>57</td>\n",
       "      <td>22.1</td>\n",
       "      <td>2,978,204</td>\n",
       "    </tr>\n",
       "    <tr>\n",
       "      <th>4</th>\n",
       "      <td>California</td>\n",
       "      <td>251</td>\n",
       "      <td>97.0</td>\n",
       "      <td>39,144,818</td>\n",
       "    </tr>\n",
       "    <tr>\n",
       "      <th>...</th>\n",
       "      <td>...</td>\n",
       "      <td>...</td>\n",
       "      <td>...</td>\n",
       "      <td>...</td>\n",
       "    </tr>\n",
       "    <tr>\n",
       "      <th>46</th>\n",
       "      <td>Virginia</td>\n",
       "      <td>212</td>\n",
       "      <td>82.0</td>\n",
       "      <td>8,382,993</td>\n",
       "    </tr>\n",
       "    <tr>\n",
       "      <th>47</th>\n",
       "      <td>Washington</td>\n",
       "      <td>108</td>\n",
       "      <td>41.7</td>\n",
       "      <td>7,170,351</td>\n",
       "    </tr>\n",
       "    <tr>\n",
       "      <th>48</th>\n",
       "      <td>West Virginia</td>\n",
       "      <td>77</td>\n",
       "      <td>29.6</td>\n",
       "      <td>1,844,128</td>\n",
       "    </tr>\n",
       "    <tr>\n",
       "      <th>49</th>\n",
       "      <td>Wisconsin</td>\n",
       "      <td>107</td>\n",
       "      <td>41.2</td>\n",
       "      <td>5,771,337</td>\n",
       "    </tr>\n",
       "    <tr>\n",
       "      <th>50</th>\n",
       "      <td>Wyoming</td>\n",
       "      <td>6</td>\n",
       "      <td>2.3</td>\n",
       "      <td>586,107</td>\n",
       "    </tr>\n",
       "  </tbody>\n",
       "</table>\n",
       "<p>51 rows × 4 columns</p>\n",
       "</div>"
      ],
      "text/plain": [
       "            State  den_mi_sq  den_km_sq 2015\\npopulation\n",
       "0         Alabama         96       37.0        4,858,979\n",
       "1          Alaska          1        0.5          738,432\n",
       "2         Arizona         60       23.2        6,828,065\n",
       "3        Arkansas         57       22.1        2,978,204\n",
       "4      California        251       97.0       39,144,818\n",
       "..            ...        ...        ...              ...\n",
       "46       Virginia        212       82.0        8,382,993\n",
       "47     Washington        108       41.7        7,170,351\n",
       "48  West Virginia         77       29.6        1,844,128\n",
       "49      Wisconsin        107       41.2        5,771,337\n",
       "50        Wyoming          6        2.3          586,107\n",
       "\n",
       "[51 rows x 4 columns]"
      ]
     },
     "execution_count": 37,
     "metadata": {},
     "output_type": "execute_result"
    }
   ],
   "source": [
    "df_pop"
   ]
  },
  {
   "cell_type": "code",
   "execution_count": 38,
   "metadata": {
    "collapsed": false
   },
   "outputs": [
    {
     "data": {
      "text/plain": [
       "State               Wyoming\n",
       "den_mi_sq              9800\n",
       "den_km_sq             467.2\n",
       "2015\\npopulation    945,934\n",
       "dtype: object"
      ]
     },
     "execution_count": 38,
     "metadata": {},
     "output_type": "execute_result"
    }
   ],
   "source": [
    "df_pop.max()"
   ]
  },
  {
   "cell_type": "code",
   "execution_count": 39,
   "metadata": {
    "collapsed": false
   },
   "outputs": [
    {
     "data": {
      "text/plain": [
       "0      96\n",
       "1       1\n",
       "2      60\n",
       "3      57\n",
       "4     251\n",
       "     ... \n",
       "46    212\n",
       "47    108\n",
       "48     77\n",
       "49    107\n",
       "50      6\n",
       "Name: den_mi_sq, dtype: int64"
      ]
     },
     "execution_count": 39,
     "metadata": {},
     "output_type": "execute_result"
    }
   ],
   "source": [
    "df_pop['den_mi_sq']"
   ]
  },
  {
   "cell_type": "code",
   "execution_count": 40,
   "metadata": {
    "collapsed": false
   },
   "outputs": [
    {
     "data": {
      "text/plain": [
       "0.25     48.0\n",
       "0.50    107.0\n",
       "0.75    227.5\n",
       "Name: den_mi_sq, dtype: float64"
      ]
     },
     "execution_count": 40,
     "metadata": {},
     "output_type": "execute_result"
    }
   ],
   "source": [
    "df_pop['den_mi_sq'].quantile([.25,.50,.75])"
   ]
  },
  {
   "cell_type": "code",
   "execution_count": 41,
   "metadata": {
    "collapsed": false
   },
   "outputs": [
    {
     "data": {
      "text/plain": [
       "9800"
      ]
     },
     "execution_count": 41,
     "metadata": {},
     "output_type": "execute_result"
    }
   ],
   "source": [
    "df_pop['den_mi_sq'].max()"
   ]
  },
  {
   "cell_type": "code",
   "execution_count": 42,
   "metadata": {
    "collapsed": true
   },
   "outputs": [],
   "source": [
    "bins = [0, 50, 110, 250,10000]\n",
    "group_names = ['<50','50-110','110-250','>250']"
   ]
  },
  {
   "cell_type": "code",
   "execution_count": 43,
   "metadata": {
    "collapsed": false
   },
   "outputs": [
    {
     "data": {
      "text/plain": [
       "0      50-110\n",
       "1         <50\n",
       "2      50-110\n",
       "3      50-110\n",
       "4        >250\n",
       "       ...   \n",
       "46    110-250\n",
       "47     50-110\n",
       "48     50-110\n",
       "49     50-110\n",
       "50        <50\n",
       "Name: den_mi_sq, dtype: category\n",
       "Categories (4, object): [<50 < 50-110 < 110-250 < >250]"
      ]
     },
     "execution_count": 43,
     "metadata": {},
     "output_type": "execute_result"
    }
   ],
   "source": [
    "df_den = pd.cut(df_pop['den_mi_sq'], bins, labels = group_names)\n",
    "df_pop['df_den'] = pd.cut(df_pop['den_mi_sq'], bins, labels = group_names)\n",
    "df_den"
   ]
  },
  {
   "cell_type": "code",
   "execution_count": 44,
   "metadata": {
    "collapsed": false
   },
   "outputs": [
    {
     "data": {
      "text/html": [
       "<div>\n",
       "<table border=\"1\" class=\"dataframe\">\n",
       "  <thead>\n",
       "    <tr style=\"text-align: right;\">\n",
       "      <th></th>\n",
       "      <th>State</th>\n",
       "      <th>df_den</th>\n",
       "    </tr>\n",
       "  </thead>\n",
       "  <tbody>\n",
       "    <tr>\n",
       "      <th>0</th>\n",
       "      <td>Alabama</td>\n",
       "      <td>50-110</td>\n",
       "    </tr>\n",
       "    <tr>\n",
       "      <th>1</th>\n",
       "      <td>Alaska</td>\n",
       "      <td>&lt;50</td>\n",
       "    </tr>\n",
       "    <tr>\n",
       "      <th>2</th>\n",
       "      <td>Arizona</td>\n",
       "      <td>50-110</td>\n",
       "    </tr>\n",
       "    <tr>\n",
       "      <th>3</th>\n",
       "      <td>Arkansas</td>\n",
       "      <td>50-110</td>\n",
       "    </tr>\n",
       "    <tr>\n",
       "      <th>4</th>\n",
       "      <td>California</td>\n",
       "      <td>&gt;250</td>\n",
       "    </tr>\n",
       "    <tr>\n",
       "      <th>...</th>\n",
       "      <td>...</td>\n",
       "      <td>...</td>\n",
       "    </tr>\n",
       "    <tr>\n",
       "      <th>46</th>\n",
       "      <td>Virginia</td>\n",
       "      <td>110-250</td>\n",
       "    </tr>\n",
       "    <tr>\n",
       "      <th>47</th>\n",
       "      <td>Washington</td>\n",
       "      <td>50-110</td>\n",
       "    </tr>\n",
       "    <tr>\n",
       "      <th>48</th>\n",
       "      <td>West Virginia</td>\n",
       "      <td>50-110</td>\n",
       "    </tr>\n",
       "    <tr>\n",
       "      <th>49</th>\n",
       "      <td>Wisconsin</td>\n",
       "      <td>50-110</td>\n",
       "    </tr>\n",
       "    <tr>\n",
       "      <th>50</th>\n",
       "      <td>Wyoming</td>\n",
       "      <td>&lt;50</td>\n",
       "    </tr>\n",
       "  </tbody>\n",
       "</table>\n",
       "<p>51 rows × 2 columns</p>\n",
       "</div>"
      ],
      "text/plain": [
       "            State   df_den\n",
       "0         Alabama   50-110\n",
       "1          Alaska      <50\n",
       "2         Arizona   50-110\n",
       "3        Arkansas   50-110\n",
       "4      California     >250\n",
       "..            ...      ...\n",
       "46       Virginia  110-250\n",
       "47     Washington   50-110\n",
       "48  West Virginia   50-110\n",
       "49      Wisconsin   50-110\n",
       "50        Wyoming      <50\n",
       "\n",
       "[51 rows x 2 columns]"
      ]
     },
     "execution_count": 44,
     "metadata": {},
     "output_type": "execute_result"
    }
   ],
   "source": [
    "pop_den = pd.concat([df_pop['State'], df_pop['df_den']], axis = 1)\n",
    "pop_den"
   ]
  },
  {
   "cell_type": "code",
   "execution_count": 45,
   "metadata": {
    "collapsed": false
   },
   "outputs": [
    {
     "data": {
      "text/html": [
       "<div>\n",
       "<table border=\"1\" class=\"dataframe\">\n",
       "  <thead>\n",
       "    <tr style=\"text-align: right;\">\n",
       "      <th></th>\n",
       "      <th>cause_death</th>\n",
       "      <th>State</th>\n",
       "      <th>Gender</th>\n",
       "      <th>Age</th>\n",
       "      <th>Race</th>\n",
       "      <th>...</th>\n",
       "      <th>fired</th>\n",
       "      <th>age_range</th>\n",
       "      <th>red_blue</th>\n",
       "      <th>income_range</th>\n",
       "      <th>df_den</th>\n",
       "    </tr>\n",
       "  </thead>\n",
       "  <tbody>\n",
       "    <tr>\n",
       "      <th>0</th>\n",
       "      <td>Car Accident</td>\n",
       "      <td>New Jersey</td>\n",
       "      <td>Female</td>\n",
       "      <td>64.0</td>\n",
       "      <td>Asian</td>\n",
       "      <td>...</td>\n",
       "      <td>Unclear</td>\n",
       "      <td>55-65</td>\n",
       "      <td>blue</td>\n",
       "      <td>&gt;400000</td>\n",
       "      <td>&gt;250</td>\n",
       "    </tr>\n",
       "    <tr>\n",
       "      <th>1</th>\n",
       "      <td>Car Accident</td>\n",
       "      <td>New Jersey</td>\n",
       "      <td>Female</td>\n",
       "      <td>34.0</td>\n",
       "      <td>Black</td>\n",
       "      <td>...</td>\n",
       "      <td>Unclear</td>\n",
       "      <td>25-34</td>\n",
       "      <td>blue</td>\n",
       "      <td>&gt;400000</td>\n",
       "      <td>&gt;250</td>\n",
       "    </tr>\n",
       "    <tr>\n",
       "      <th>2</th>\n",
       "      <td>Car Accident</td>\n",
       "      <td>New Jersey</td>\n",
       "      <td>Male</td>\n",
       "      <td>41.0</td>\n",
       "      <td>Black</td>\n",
       "      <td>...</td>\n",
       "      <td>Unclear</td>\n",
       "      <td>35-44</td>\n",
       "      <td>blue</td>\n",
       "      <td>&gt;400000</td>\n",
       "      <td>&gt;250</td>\n",
       "    </tr>\n",
       "    <tr>\n",
       "      <th>3</th>\n",
       "      <td>Car Accident</td>\n",
       "      <td>New Jersey</td>\n",
       "      <td>Male</td>\n",
       "      <td>10.0</td>\n",
       "      <td>White</td>\n",
       "      <td>...</td>\n",
       "      <td>Unclear</td>\n",
       "      <td>&lt;25</td>\n",
       "      <td>blue</td>\n",
       "      <td>&gt;400000</td>\n",
       "      <td>&gt;250</td>\n",
       "    </tr>\n",
       "    <tr>\n",
       "      <th>4</th>\n",
       "      <td>Other</td>\n",
       "      <td>New Jersey</td>\n",
       "      <td>Male</td>\n",
       "      <td>27.0</td>\n",
       "      <td>Black</td>\n",
       "      <td>...</td>\n",
       "      <td>No</td>\n",
       "      <td>25-34</td>\n",
       "      <td>blue</td>\n",
       "      <td>&gt;400000</td>\n",
       "      <td>&gt;250</td>\n",
       "    </tr>\n",
       "    <tr>\n",
       "      <th>...</th>\n",
       "      <td>...</td>\n",
       "      <td>...</td>\n",
       "      <td>...</td>\n",
       "      <td>...</td>\n",
       "      <td>...</td>\n",
       "      <td>...</td>\n",
       "      <td>...</td>\n",
       "      <td>...</td>\n",
       "      <td>...</td>\n",
       "      <td>...</td>\n",
       "      <td>...</td>\n",
       "    </tr>\n",
       "    <tr>\n",
       "      <th>2340</th>\n",
       "      <td>Shooting</td>\n",
       "      <td>West Virginia</td>\n",
       "      <td>Male</td>\n",
       "      <td>18.0</td>\n",
       "      <td>White</td>\n",
       "      <td>...</td>\n",
       "      <td>Unclear</td>\n",
       "      <td>&lt;25</td>\n",
       "      <td>red</td>\n",
       "      <td>&lt;75000</td>\n",
       "      <td>50-110</td>\n",
       "    </tr>\n",
       "    <tr>\n",
       "      <th>2341</th>\n",
       "      <td>Shooting</td>\n",
       "      <td>West Virginia</td>\n",
       "      <td>Male</td>\n",
       "      <td>46.0</td>\n",
       "      <td>White</td>\n",
       "      <td>...</td>\n",
       "      <td>Unclear</td>\n",
       "      <td>45-54</td>\n",
       "      <td>red</td>\n",
       "      <td>&lt;75000</td>\n",
       "      <td>50-110</td>\n",
       "    </tr>\n",
       "    <tr>\n",
       "      <th>2342</th>\n",
       "      <td>Shooting</td>\n",
       "      <td>Vermont</td>\n",
       "      <td>Male</td>\n",
       "      <td>35.0</td>\n",
       "      <td>Unknown</td>\n",
       "      <td>...</td>\n",
       "      <td>Unclear</td>\n",
       "      <td>25-34</td>\n",
       "      <td>blue</td>\n",
       "      <td>&lt;75000</td>\n",
       "      <td>50-110</td>\n",
       "    </tr>\n",
       "    <tr>\n",
       "      <th>2343</th>\n",
       "      <td>Shooting</td>\n",
       "      <td>Vermont</td>\n",
       "      <td>Male</td>\n",
       "      <td>49.0</td>\n",
       "      <td>White</td>\n",
       "      <td>...</td>\n",
       "      <td>Yes</td>\n",
       "      <td>45-54</td>\n",
       "      <td>blue</td>\n",
       "      <td>&lt;75000</td>\n",
       "      <td>50-110</td>\n",
       "    </tr>\n",
       "    <tr>\n",
       "      <th>2344</th>\n",
       "      <td>Shooting</td>\n",
       "      <td>North Dakota</td>\n",
       "      <td>Male</td>\n",
       "      <td>31.0</td>\n",
       "      <td>White</td>\n",
       "      <td>...</td>\n",
       "      <td>Unclear</td>\n",
       "      <td>25-34</td>\n",
       "      <td>red</td>\n",
       "      <td>&lt;75000</td>\n",
       "      <td>&lt;50</td>\n",
       "    </tr>\n",
       "  </tbody>\n",
       "</table>\n",
       "<p>2345 rows × 12 columns</p>\n",
       "</div>"
      ],
      "text/plain": [
       "       cause_death          State  Gender   Age     Race   ...      fired  \\\n",
       "0     Car Accident     New Jersey  Female  64.0    Asian   ...    Unclear   \n",
       "1     Car Accident     New Jersey  Female  34.0    Black   ...    Unclear   \n",
       "2     Car Accident     New Jersey    Male  41.0    Black   ...    Unclear   \n",
       "3     Car Accident     New Jersey    Male  10.0    White   ...    Unclear   \n",
       "4            Other     New Jersey    Male  27.0    Black   ...         No   \n",
       "...            ...            ...     ...   ...      ...   ...        ...   \n",
       "2340      Shooting  West Virginia    Male  18.0    White   ...    Unclear   \n",
       "2341      Shooting  West Virginia    Male  46.0    White   ...    Unclear   \n",
       "2342      Shooting        Vermont    Male  35.0  Unknown   ...    Unclear   \n",
       "2343      Shooting        Vermont    Male  49.0    White   ...        Yes   \n",
       "2344      Shooting   North Dakota    Male  31.0    White   ...    Unclear   \n",
       "\n",
       "     age_range red_blue income_range  df_den  \n",
       "0        55-65     blue      >400000    >250  \n",
       "1        25-34     blue      >400000    >250  \n",
       "2        35-44     blue      >400000    >250  \n",
       "3          <25     blue      >400000    >250  \n",
       "4        25-34     blue      >400000    >250  \n",
       "...        ...      ...          ...     ...  \n",
       "2340       <25      red       <75000  50-110  \n",
       "2341     45-54      red       <75000  50-110  \n",
       "2342     25-34     blue       <75000  50-110  \n",
       "2343     45-54     blue       <75000  50-110  \n",
       "2344     25-34      red       <75000     <50  \n",
       "\n",
       "[2345 rows x 12 columns]"
      ]
     },
     "execution_count": 45,
     "metadata": {},
     "output_type": "execute_result"
    }
   ],
   "source": [
    "df = pd.merge(df, pop_den, on = 'State')\n",
    "df"
   ]
  },
  {
   "cell_type": "code",
   "execution_count": 46,
   "metadata": {
    "collapsed": false
   },
   "outputs": [
    {
     "data": {
      "text/html": [
       "<div>\n",
       "<table border=\"1\" class=\"dataframe\">\n",
       "  <thead>\n",
       "    <tr style=\"text-align: right;\">\n",
       "      <th></th>\n",
       "      <th>den_110-250</th>\n",
       "      <th>den_50-110</th>\n",
       "      <th>den_&lt;50</th>\n",
       "      <th>den_&gt;250</th>\n",
       "    </tr>\n",
       "  </thead>\n",
       "  <tbody>\n",
       "    <tr>\n",
       "      <th>0</th>\n",
       "      <td>0.0</td>\n",
       "      <td>0.0</td>\n",
       "      <td>0.0</td>\n",
       "      <td>1.0</td>\n",
       "    </tr>\n",
       "    <tr>\n",
       "      <th>1</th>\n",
       "      <td>0.0</td>\n",
       "      <td>0.0</td>\n",
       "      <td>0.0</td>\n",
       "      <td>1.0</td>\n",
       "    </tr>\n",
       "    <tr>\n",
       "      <th>2</th>\n",
       "      <td>0.0</td>\n",
       "      <td>0.0</td>\n",
       "      <td>0.0</td>\n",
       "      <td>1.0</td>\n",
       "    </tr>\n",
       "    <tr>\n",
       "      <th>3</th>\n",
       "      <td>0.0</td>\n",
       "      <td>0.0</td>\n",
       "      <td>0.0</td>\n",
       "      <td>1.0</td>\n",
       "    </tr>\n",
       "    <tr>\n",
       "      <th>4</th>\n",
       "      <td>0.0</td>\n",
       "      <td>0.0</td>\n",
       "      <td>0.0</td>\n",
       "      <td>1.0</td>\n",
       "    </tr>\n",
       "    <tr>\n",
       "      <th>...</th>\n",
       "      <td>...</td>\n",
       "      <td>...</td>\n",
       "      <td>...</td>\n",
       "      <td>...</td>\n",
       "    </tr>\n",
       "    <tr>\n",
       "      <th>2340</th>\n",
       "      <td>0.0</td>\n",
       "      <td>1.0</td>\n",
       "      <td>0.0</td>\n",
       "      <td>0.0</td>\n",
       "    </tr>\n",
       "    <tr>\n",
       "      <th>2341</th>\n",
       "      <td>0.0</td>\n",
       "      <td>1.0</td>\n",
       "      <td>0.0</td>\n",
       "      <td>0.0</td>\n",
       "    </tr>\n",
       "    <tr>\n",
       "      <th>2342</th>\n",
       "      <td>0.0</td>\n",
       "      <td>1.0</td>\n",
       "      <td>0.0</td>\n",
       "      <td>0.0</td>\n",
       "    </tr>\n",
       "    <tr>\n",
       "      <th>2343</th>\n",
       "      <td>0.0</td>\n",
       "      <td>1.0</td>\n",
       "      <td>0.0</td>\n",
       "      <td>0.0</td>\n",
       "    </tr>\n",
       "    <tr>\n",
       "      <th>2344</th>\n",
       "      <td>0.0</td>\n",
       "      <td>0.0</td>\n",
       "      <td>1.0</td>\n",
       "      <td>0.0</td>\n",
       "    </tr>\n",
       "  </tbody>\n",
       "</table>\n",
       "<p>2345 rows × 4 columns</p>\n",
       "</div>"
      ],
      "text/plain": [
       "      den_110-250  den_50-110  den_<50  den_>250\n",
       "0             0.0         0.0      0.0       1.0\n",
       "1             0.0         0.0      0.0       1.0\n",
       "2             0.0         0.0      0.0       1.0\n",
       "3             0.0         0.0      0.0       1.0\n",
       "4             0.0         0.0      0.0       1.0\n",
       "...           ...         ...      ...       ...\n",
       "2340          0.0         1.0      0.0       0.0\n",
       "2341          0.0         1.0      0.0       0.0\n",
       "2342          0.0         1.0      0.0       0.0\n",
       "2343          0.0         1.0      0.0       0.0\n",
       "2344          0.0         0.0      1.0       0.0\n",
       "\n",
       "[2345 rows x 4 columns]"
      ]
     },
     "execution_count": 46,
     "metadata": {},
     "output_type": "execute_result"
    }
   ],
   "source": [
    "df_den = pd.get_dummies(df['df_den'], prefix = 'den')\n",
    "df_den"
   ]
  },
  {
   "cell_type": "code",
   "execution_count": 47,
   "metadata": {
    "collapsed": false
   },
   "outputs": [
    {
     "data": {
      "text/html": [
       "<div>\n",
       "<table border=\"1\" class=\"dataframe\">\n",
       "  <thead>\n",
       "    <tr style=\"text-align: right;\">\n",
       "      <th></th>\n",
       "      <th>blue</th>\n",
       "      <th>red</th>\n",
       "    </tr>\n",
       "  </thead>\n",
       "  <tbody>\n",
       "    <tr>\n",
       "      <th>0</th>\n",
       "      <td>1.0</td>\n",
       "      <td>0.0</td>\n",
       "    </tr>\n",
       "    <tr>\n",
       "      <th>1</th>\n",
       "      <td>1.0</td>\n",
       "      <td>0.0</td>\n",
       "    </tr>\n",
       "    <tr>\n",
       "      <th>2</th>\n",
       "      <td>1.0</td>\n",
       "      <td>0.0</td>\n",
       "    </tr>\n",
       "    <tr>\n",
       "      <th>3</th>\n",
       "      <td>1.0</td>\n",
       "      <td>0.0</td>\n",
       "    </tr>\n",
       "    <tr>\n",
       "      <th>4</th>\n",
       "      <td>1.0</td>\n",
       "      <td>0.0</td>\n",
       "    </tr>\n",
       "    <tr>\n",
       "      <th>...</th>\n",
       "      <td>...</td>\n",
       "      <td>...</td>\n",
       "    </tr>\n",
       "    <tr>\n",
       "      <th>2340</th>\n",
       "      <td>0.0</td>\n",
       "      <td>1.0</td>\n",
       "    </tr>\n",
       "    <tr>\n",
       "      <th>2341</th>\n",
       "      <td>0.0</td>\n",
       "      <td>1.0</td>\n",
       "    </tr>\n",
       "    <tr>\n",
       "      <th>2342</th>\n",
       "      <td>1.0</td>\n",
       "      <td>0.0</td>\n",
       "    </tr>\n",
       "    <tr>\n",
       "      <th>2343</th>\n",
       "      <td>1.0</td>\n",
       "      <td>0.0</td>\n",
       "    </tr>\n",
       "    <tr>\n",
       "      <th>2344</th>\n",
       "      <td>0.0</td>\n",
       "      <td>1.0</td>\n",
       "    </tr>\n",
       "  </tbody>\n",
       "</table>\n",
       "<p>2345 rows × 2 columns</p>\n",
       "</div>"
      ],
      "text/plain": [
       "      blue  red\n",
       "0      1.0  0.0\n",
       "1      1.0  0.0\n",
       "2      1.0  0.0\n",
       "3      1.0  0.0\n",
       "4      1.0  0.0\n",
       "...    ...  ...\n",
       "2340   0.0  1.0\n",
       "2341   0.0  1.0\n",
       "2342   1.0  0.0\n",
       "2343   1.0  0.0\n",
       "2344   0.0  1.0\n",
       "\n",
       "[2345 rows x 2 columns]"
      ]
     },
     "execution_count": 47,
     "metadata": {},
     "output_type": "execute_result"
    }
   ],
   "source": [
    "df_red_blue = pd.get_dummies(df['red_blue'])\n",
    "df_red_blue"
   ]
  },
  {
   "cell_type": "code",
   "execution_count": 48,
   "metadata": {
    "collapsed": false
   },
   "outputs": [
    {
     "data": {
      "text/html": [
       "<div>\n",
       "<table border=\"1\" class=\"dataframe\">\n",
       "  <thead>\n",
       "    <tr style=\"text-align: right;\">\n",
       "      <th></th>\n",
       "      <th>priors_No</th>\n",
       "      <th>priors_Unclear</th>\n",
       "      <th>priors_Yes</th>\n",
       "    </tr>\n",
       "  </thead>\n",
       "  <tbody>\n",
       "    <tr>\n",
       "      <th>0</th>\n",
       "      <td>0.0</td>\n",
       "      <td>1.0</td>\n",
       "      <td>0.0</td>\n",
       "    </tr>\n",
       "    <tr>\n",
       "      <th>1</th>\n",
       "      <td>0.0</td>\n",
       "      <td>1.0</td>\n",
       "      <td>0.0</td>\n",
       "    </tr>\n",
       "    <tr>\n",
       "      <th>2</th>\n",
       "      <td>0.0</td>\n",
       "      <td>1.0</td>\n",
       "      <td>0.0</td>\n",
       "    </tr>\n",
       "    <tr>\n",
       "      <th>3</th>\n",
       "      <td>0.0</td>\n",
       "      <td>1.0</td>\n",
       "      <td>0.0</td>\n",
       "    </tr>\n",
       "    <tr>\n",
       "      <th>4</th>\n",
       "      <td>0.0</td>\n",
       "      <td>0.0</td>\n",
       "      <td>1.0</td>\n",
       "    </tr>\n",
       "    <tr>\n",
       "      <th>...</th>\n",
       "      <td>...</td>\n",
       "      <td>...</td>\n",
       "      <td>...</td>\n",
       "    </tr>\n",
       "    <tr>\n",
       "      <th>2340</th>\n",
       "      <td>0.0</td>\n",
       "      <td>1.0</td>\n",
       "      <td>0.0</td>\n",
       "    </tr>\n",
       "    <tr>\n",
       "      <th>2341</th>\n",
       "      <td>0.0</td>\n",
       "      <td>0.0</td>\n",
       "      <td>1.0</td>\n",
       "    </tr>\n",
       "    <tr>\n",
       "      <th>2342</th>\n",
       "      <td>0.0</td>\n",
       "      <td>1.0</td>\n",
       "      <td>0.0</td>\n",
       "    </tr>\n",
       "    <tr>\n",
       "      <th>2343</th>\n",
       "      <td>0.0</td>\n",
       "      <td>1.0</td>\n",
       "      <td>0.0</td>\n",
       "    </tr>\n",
       "    <tr>\n",
       "      <th>2344</th>\n",
       "      <td>0.0</td>\n",
       "      <td>1.0</td>\n",
       "      <td>0.0</td>\n",
       "    </tr>\n",
       "  </tbody>\n",
       "</table>\n",
       "<p>2345 rows × 3 columns</p>\n",
       "</div>"
      ],
      "text/plain": [
       "      priors_No  priors_Unclear  priors_Yes\n",
       "0           0.0             1.0         0.0\n",
       "1           0.0             1.0         0.0\n",
       "2           0.0             1.0         0.0\n",
       "3           0.0             1.0         0.0\n",
       "4           0.0             0.0         1.0\n",
       "...         ...             ...         ...\n",
       "2340        0.0             1.0         0.0\n",
       "2341        0.0             0.0         1.0\n",
       "2342        0.0             1.0         0.0\n",
       "2343        0.0             1.0         0.0\n",
       "2344        0.0             1.0         0.0\n",
       "\n",
       "[2345 rows x 3 columns]"
      ]
     },
     "execution_count": 48,
     "metadata": {},
     "output_type": "execute_result"
    }
   ],
   "source": [
    "df_priors = pd.get_dummies(df['priors'], prefix = 'priors')\n",
    "df_priors"
   ]
  },
  {
   "cell_type": "code",
   "execution_count": 49,
   "metadata": {
    "collapsed": false
   },
   "outputs": [
    {
     "data": {
      "text/html": [
       "<div>\n",
       "<table border=\"1\" class=\"dataframe\">\n",
       "  <thead>\n",
       "    <tr style=\"text-align: right;\">\n",
       "      <th></th>\n",
       "      <th>armed_Disputed</th>\n",
       "      <th>armed_No</th>\n",
       "      <th>armed_Unclear</th>\n",
       "      <th>armed_Yes</th>\n",
       "    </tr>\n",
       "  </thead>\n",
       "  <tbody>\n",
       "    <tr>\n",
       "      <th>0</th>\n",
       "      <td>0.0</td>\n",
       "      <td>1.0</td>\n",
       "      <td>0.0</td>\n",
       "      <td>0.0</td>\n",
       "    </tr>\n",
       "    <tr>\n",
       "      <th>1</th>\n",
       "      <td>0.0</td>\n",
       "      <td>1.0</td>\n",
       "      <td>0.0</td>\n",
       "      <td>0.0</td>\n",
       "    </tr>\n",
       "    <tr>\n",
       "      <th>2</th>\n",
       "      <td>0.0</td>\n",
       "      <td>1.0</td>\n",
       "      <td>0.0</td>\n",
       "      <td>0.0</td>\n",
       "    </tr>\n",
       "    <tr>\n",
       "      <th>3</th>\n",
       "      <td>0.0</td>\n",
       "      <td>0.0</td>\n",
       "      <td>1.0</td>\n",
       "      <td>0.0</td>\n",
       "    </tr>\n",
       "    <tr>\n",
       "      <th>4</th>\n",
       "      <td>0.0</td>\n",
       "      <td>1.0</td>\n",
       "      <td>0.0</td>\n",
       "      <td>0.0</td>\n",
       "    </tr>\n",
       "    <tr>\n",
       "      <th>...</th>\n",
       "      <td>...</td>\n",
       "      <td>...</td>\n",
       "      <td>...</td>\n",
       "      <td>...</td>\n",
       "    </tr>\n",
       "    <tr>\n",
       "      <th>2340</th>\n",
       "      <td>0.0</td>\n",
       "      <td>0.0</td>\n",
       "      <td>0.0</td>\n",
       "      <td>1.0</td>\n",
       "    </tr>\n",
       "    <tr>\n",
       "      <th>2341</th>\n",
       "      <td>0.0</td>\n",
       "      <td>0.0</td>\n",
       "      <td>0.0</td>\n",
       "      <td>1.0</td>\n",
       "    </tr>\n",
       "    <tr>\n",
       "      <th>2342</th>\n",
       "      <td>0.0</td>\n",
       "      <td>0.0</td>\n",
       "      <td>1.0</td>\n",
       "      <td>0.0</td>\n",
       "    </tr>\n",
       "    <tr>\n",
       "      <th>2343</th>\n",
       "      <td>0.0</td>\n",
       "      <td>0.0</td>\n",
       "      <td>0.0</td>\n",
       "      <td>1.0</td>\n",
       "    </tr>\n",
       "    <tr>\n",
       "      <th>2344</th>\n",
       "      <td>0.0</td>\n",
       "      <td>0.0</td>\n",
       "      <td>1.0</td>\n",
       "      <td>0.0</td>\n",
       "    </tr>\n",
       "  </tbody>\n",
       "</table>\n",
       "<p>2345 rows × 4 columns</p>\n",
       "</div>"
      ],
      "text/plain": [
       "      armed_Disputed  armed_No  armed_Unclear  armed_Yes\n",
       "0                0.0       1.0            0.0        0.0\n",
       "1                0.0       1.0            0.0        0.0\n",
       "2                0.0       1.0            0.0        0.0\n",
       "3                0.0       0.0            1.0        0.0\n",
       "4                0.0       1.0            0.0        0.0\n",
       "...              ...       ...            ...        ...\n",
       "2340             0.0       0.0            0.0        1.0\n",
       "2341             0.0       0.0            0.0        1.0\n",
       "2342             0.0       0.0            1.0        0.0\n",
       "2343             0.0       0.0            0.0        1.0\n",
       "2344             0.0       0.0            1.0        0.0\n",
       "\n",
       "[2345 rows x 4 columns]"
      ]
     },
     "execution_count": 49,
     "metadata": {},
     "output_type": "execute_result"
    }
   ],
   "source": [
    "df_armed = pd.get_dummies(df['armed'], prefix = 'armed')\n",
    "df_armed"
   ]
  },
  {
   "cell_type": "code",
   "execution_count": 50,
   "metadata": {
    "collapsed": false
   },
   "outputs": [
    {
     "data": {
      "text/html": [
       "<div>\n",
       "<table border=\"1\" class=\"dataframe\">\n",
       "  <thead>\n",
       "    <tr style=\"text-align: right;\">\n",
       "      <th></th>\n",
       "      <th>Asian</th>\n",
       "      <th>Black</th>\n",
       "      <th>Latino</th>\n",
       "      <th>Native American</th>\n",
       "      <th>Pacific Islander</th>\n",
       "      <th>Unknown</th>\n",
       "      <th>White</th>\n",
       "    </tr>\n",
       "  </thead>\n",
       "  <tbody>\n",
       "    <tr>\n",
       "      <th>0</th>\n",
       "      <td>1.0</td>\n",
       "      <td>0.0</td>\n",
       "      <td>0.0</td>\n",
       "      <td>0.0</td>\n",
       "      <td>0.0</td>\n",
       "      <td>0.0</td>\n",
       "      <td>0.0</td>\n",
       "    </tr>\n",
       "    <tr>\n",
       "      <th>1</th>\n",
       "      <td>0.0</td>\n",
       "      <td>1.0</td>\n",
       "      <td>0.0</td>\n",
       "      <td>0.0</td>\n",
       "      <td>0.0</td>\n",
       "      <td>0.0</td>\n",
       "      <td>0.0</td>\n",
       "    </tr>\n",
       "    <tr>\n",
       "      <th>2</th>\n",
       "      <td>0.0</td>\n",
       "      <td>1.0</td>\n",
       "      <td>0.0</td>\n",
       "      <td>0.0</td>\n",
       "      <td>0.0</td>\n",
       "      <td>0.0</td>\n",
       "      <td>0.0</td>\n",
       "    </tr>\n",
       "    <tr>\n",
       "      <th>3</th>\n",
       "      <td>0.0</td>\n",
       "      <td>0.0</td>\n",
       "      <td>0.0</td>\n",
       "      <td>0.0</td>\n",
       "      <td>0.0</td>\n",
       "      <td>0.0</td>\n",
       "      <td>1.0</td>\n",
       "    </tr>\n",
       "    <tr>\n",
       "      <th>4</th>\n",
       "      <td>0.0</td>\n",
       "      <td>1.0</td>\n",
       "      <td>0.0</td>\n",
       "      <td>0.0</td>\n",
       "      <td>0.0</td>\n",
       "      <td>0.0</td>\n",
       "      <td>0.0</td>\n",
       "    </tr>\n",
       "    <tr>\n",
       "      <th>...</th>\n",
       "      <td>...</td>\n",
       "      <td>...</td>\n",
       "      <td>...</td>\n",
       "      <td>...</td>\n",
       "      <td>...</td>\n",
       "      <td>...</td>\n",
       "      <td>...</td>\n",
       "    </tr>\n",
       "    <tr>\n",
       "      <th>2340</th>\n",
       "      <td>0.0</td>\n",
       "      <td>0.0</td>\n",
       "      <td>0.0</td>\n",
       "      <td>0.0</td>\n",
       "      <td>0.0</td>\n",
       "      <td>0.0</td>\n",
       "      <td>1.0</td>\n",
       "    </tr>\n",
       "    <tr>\n",
       "      <th>2341</th>\n",
       "      <td>0.0</td>\n",
       "      <td>0.0</td>\n",
       "      <td>0.0</td>\n",
       "      <td>0.0</td>\n",
       "      <td>0.0</td>\n",
       "      <td>0.0</td>\n",
       "      <td>1.0</td>\n",
       "    </tr>\n",
       "    <tr>\n",
       "      <th>2342</th>\n",
       "      <td>0.0</td>\n",
       "      <td>0.0</td>\n",
       "      <td>0.0</td>\n",
       "      <td>0.0</td>\n",
       "      <td>0.0</td>\n",
       "      <td>1.0</td>\n",
       "      <td>0.0</td>\n",
       "    </tr>\n",
       "    <tr>\n",
       "      <th>2343</th>\n",
       "      <td>0.0</td>\n",
       "      <td>0.0</td>\n",
       "      <td>0.0</td>\n",
       "      <td>0.0</td>\n",
       "      <td>0.0</td>\n",
       "      <td>0.0</td>\n",
       "      <td>1.0</td>\n",
       "    </tr>\n",
       "    <tr>\n",
       "      <th>2344</th>\n",
       "      <td>0.0</td>\n",
       "      <td>0.0</td>\n",
       "      <td>0.0</td>\n",
       "      <td>0.0</td>\n",
       "      <td>0.0</td>\n",
       "      <td>0.0</td>\n",
       "      <td>1.0</td>\n",
       "    </tr>\n",
       "  </tbody>\n",
       "</table>\n",
       "<p>2345 rows × 7 columns</p>\n",
       "</div>"
      ],
      "text/plain": [
       "      Asian  Black  Latino  Native American  Pacific Islander  Unknown  White\n",
       "0       1.0    0.0     0.0              0.0               0.0      0.0    0.0\n",
       "1       0.0    1.0     0.0              0.0               0.0      0.0    0.0\n",
       "2       0.0    1.0     0.0              0.0               0.0      0.0    0.0\n",
       "3       0.0    0.0     0.0              0.0               0.0      0.0    1.0\n",
       "4       0.0    1.0     0.0              0.0               0.0      0.0    0.0\n",
       "...     ...    ...     ...              ...               ...      ...    ...\n",
       "2340    0.0    0.0     0.0              0.0               0.0      0.0    1.0\n",
       "2341    0.0    0.0     0.0              0.0               0.0      0.0    1.0\n",
       "2342    0.0    0.0     0.0              0.0               0.0      1.0    0.0\n",
       "2343    0.0    0.0     0.0              0.0               0.0      0.0    1.0\n",
       "2344    0.0    0.0     0.0              0.0               0.0      0.0    1.0\n",
       "\n",
       "[2345 rows x 7 columns]"
      ]
     },
     "execution_count": 50,
     "metadata": {},
     "output_type": "execute_result"
    }
   ],
   "source": [
    "df_race = pd.get_dummies(df['Race'])\n",
    "df_race"
   ]
  },
  {
   "cell_type": "code",
   "execution_count": 51,
   "metadata": {
    "collapsed": false
   },
   "outputs": [
    {
     "data": {
      "text/html": [
       "<div>\n",
       "<table border=\"1\" class=\"dataframe\">\n",
       "  <thead>\n",
       "    <tr style=\"text-align: right;\">\n",
       "      <th></th>\n",
       "      <th>25-34</th>\n",
       "      <th>35-44</th>\n",
       "      <th>45-54</th>\n",
       "      <th>55-65</th>\n",
       "      <th>&lt;25</th>\n",
       "      <th>&gt;65</th>\n",
       "    </tr>\n",
       "  </thead>\n",
       "  <tbody>\n",
       "    <tr>\n",
       "      <th>0</th>\n",
       "      <td>0.0</td>\n",
       "      <td>0.0</td>\n",
       "      <td>0.0</td>\n",
       "      <td>1.0</td>\n",
       "      <td>0.0</td>\n",
       "      <td>0.0</td>\n",
       "    </tr>\n",
       "    <tr>\n",
       "      <th>1</th>\n",
       "      <td>1.0</td>\n",
       "      <td>0.0</td>\n",
       "      <td>0.0</td>\n",
       "      <td>0.0</td>\n",
       "      <td>0.0</td>\n",
       "      <td>0.0</td>\n",
       "    </tr>\n",
       "    <tr>\n",
       "      <th>2</th>\n",
       "      <td>0.0</td>\n",
       "      <td>1.0</td>\n",
       "      <td>0.0</td>\n",
       "      <td>0.0</td>\n",
       "      <td>0.0</td>\n",
       "      <td>0.0</td>\n",
       "    </tr>\n",
       "    <tr>\n",
       "      <th>3</th>\n",
       "      <td>0.0</td>\n",
       "      <td>0.0</td>\n",
       "      <td>0.0</td>\n",
       "      <td>0.0</td>\n",
       "      <td>1.0</td>\n",
       "      <td>0.0</td>\n",
       "    </tr>\n",
       "    <tr>\n",
       "      <th>4</th>\n",
       "      <td>1.0</td>\n",
       "      <td>0.0</td>\n",
       "      <td>0.0</td>\n",
       "      <td>0.0</td>\n",
       "      <td>0.0</td>\n",
       "      <td>0.0</td>\n",
       "    </tr>\n",
       "    <tr>\n",
       "      <th>...</th>\n",
       "      <td>...</td>\n",
       "      <td>...</td>\n",
       "      <td>...</td>\n",
       "      <td>...</td>\n",
       "      <td>...</td>\n",
       "      <td>...</td>\n",
       "    </tr>\n",
       "    <tr>\n",
       "      <th>2340</th>\n",
       "      <td>0.0</td>\n",
       "      <td>0.0</td>\n",
       "      <td>0.0</td>\n",
       "      <td>0.0</td>\n",
       "      <td>1.0</td>\n",
       "      <td>0.0</td>\n",
       "    </tr>\n",
       "    <tr>\n",
       "      <th>2341</th>\n",
       "      <td>0.0</td>\n",
       "      <td>0.0</td>\n",
       "      <td>1.0</td>\n",
       "      <td>0.0</td>\n",
       "      <td>0.0</td>\n",
       "      <td>0.0</td>\n",
       "    </tr>\n",
       "    <tr>\n",
       "      <th>2342</th>\n",
       "      <td>1.0</td>\n",
       "      <td>0.0</td>\n",
       "      <td>0.0</td>\n",
       "      <td>0.0</td>\n",
       "      <td>0.0</td>\n",
       "      <td>0.0</td>\n",
       "    </tr>\n",
       "    <tr>\n",
       "      <th>2343</th>\n",
       "      <td>0.0</td>\n",
       "      <td>0.0</td>\n",
       "      <td>1.0</td>\n",
       "      <td>0.0</td>\n",
       "      <td>0.0</td>\n",
       "      <td>0.0</td>\n",
       "    </tr>\n",
       "    <tr>\n",
       "      <th>2344</th>\n",
       "      <td>1.0</td>\n",
       "      <td>0.0</td>\n",
       "      <td>0.0</td>\n",
       "      <td>0.0</td>\n",
       "      <td>0.0</td>\n",
       "      <td>0.0</td>\n",
       "    </tr>\n",
       "  </tbody>\n",
       "</table>\n",
       "<p>2345 rows × 6 columns</p>\n",
       "</div>"
      ],
      "text/plain": [
       "      25-34  35-44  45-54  55-65  <25  >65\n",
       "0       0.0    0.0    0.0    1.0  0.0  0.0\n",
       "1       1.0    0.0    0.0    0.0  0.0  0.0\n",
       "2       0.0    1.0    0.0    0.0  0.0  0.0\n",
       "3       0.0    0.0    0.0    0.0  1.0  0.0\n",
       "4       1.0    0.0    0.0    0.0  0.0  0.0\n",
       "...     ...    ...    ...    ...  ...  ...\n",
       "2340    0.0    0.0    0.0    0.0  1.0  0.0\n",
       "2341    0.0    0.0    1.0    0.0  0.0  0.0\n",
       "2342    1.0    0.0    0.0    0.0  0.0  0.0\n",
       "2343    0.0    0.0    1.0    0.0  0.0  0.0\n",
       "2344    1.0    0.0    0.0    0.0  0.0  0.0\n",
       "\n",
       "[2345 rows x 6 columns]"
      ]
     },
     "execution_count": 51,
     "metadata": {},
     "output_type": "execute_result"
    }
   ],
   "source": [
    "df_age_range = pd.get_dummies(df['age_range'])\n",
    "df_age_range"
   ]
  },
  {
   "cell_type": "code",
   "execution_count": 52,
   "metadata": {
    "collapsed": false
   },
   "outputs": [
    {
     "data": {
      "text/html": [
       "<div>\n",
       "<table border=\"1\" class=\"dataframe\">\n",
       "  <thead>\n",
       "    <tr style=\"text-align: right;\">\n",
       "      <th></th>\n",
       "      <th>200000-400000</th>\n",
       "      <th>75000-200000</th>\n",
       "      <th>&lt;75000</th>\n",
       "      <th>&gt;400000</th>\n",
       "    </tr>\n",
       "  </thead>\n",
       "  <tbody>\n",
       "    <tr>\n",
       "      <th>0</th>\n",
       "      <td>0.0</td>\n",
       "      <td>0.0</td>\n",
       "      <td>0.0</td>\n",
       "      <td>1.0</td>\n",
       "    </tr>\n",
       "    <tr>\n",
       "      <th>1</th>\n",
       "      <td>0.0</td>\n",
       "      <td>0.0</td>\n",
       "      <td>0.0</td>\n",
       "      <td>1.0</td>\n",
       "    </tr>\n",
       "    <tr>\n",
       "      <th>2</th>\n",
       "      <td>0.0</td>\n",
       "      <td>0.0</td>\n",
       "      <td>0.0</td>\n",
       "      <td>1.0</td>\n",
       "    </tr>\n",
       "    <tr>\n",
       "      <th>3</th>\n",
       "      <td>0.0</td>\n",
       "      <td>0.0</td>\n",
       "      <td>0.0</td>\n",
       "      <td>1.0</td>\n",
       "    </tr>\n",
       "    <tr>\n",
       "      <th>4</th>\n",
       "      <td>0.0</td>\n",
       "      <td>0.0</td>\n",
       "      <td>0.0</td>\n",
       "      <td>1.0</td>\n",
       "    </tr>\n",
       "    <tr>\n",
       "      <th>...</th>\n",
       "      <td>...</td>\n",
       "      <td>...</td>\n",
       "      <td>...</td>\n",
       "      <td>...</td>\n",
       "    </tr>\n",
       "    <tr>\n",
       "      <th>2340</th>\n",
       "      <td>0.0</td>\n",
       "      <td>0.0</td>\n",
       "      <td>1.0</td>\n",
       "      <td>0.0</td>\n",
       "    </tr>\n",
       "    <tr>\n",
       "      <th>2341</th>\n",
       "      <td>0.0</td>\n",
       "      <td>0.0</td>\n",
       "      <td>1.0</td>\n",
       "      <td>0.0</td>\n",
       "    </tr>\n",
       "    <tr>\n",
       "      <th>2342</th>\n",
       "      <td>0.0</td>\n",
       "      <td>0.0</td>\n",
       "      <td>1.0</td>\n",
       "      <td>0.0</td>\n",
       "    </tr>\n",
       "    <tr>\n",
       "      <th>2343</th>\n",
       "      <td>0.0</td>\n",
       "      <td>0.0</td>\n",
       "      <td>1.0</td>\n",
       "      <td>0.0</td>\n",
       "    </tr>\n",
       "    <tr>\n",
       "      <th>2344</th>\n",
       "      <td>0.0</td>\n",
       "      <td>0.0</td>\n",
       "      <td>1.0</td>\n",
       "      <td>0.0</td>\n",
       "    </tr>\n",
       "  </tbody>\n",
       "</table>\n",
       "<p>2345 rows × 4 columns</p>\n",
       "</div>"
      ],
      "text/plain": [
       "      200000-400000  75000-200000  <75000  >400000\n",
       "0               0.0           0.0     0.0      1.0\n",
       "1               0.0           0.0     0.0      1.0\n",
       "2               0.0           0.0     0.0      1.0\n",
       "3               0.0           0.0     0.0      1.0\n",
       "4               0.0           0.0     0.0      1.0\n",
       "...             ...           ...     ...      ...\n",
       "2340            0.0           0.0     1.0      0.0\n",
       "2341            0.0           0.0     1.0      0.0\n",
       "2342            0.0           0.0     1.0      0.0\n",
       "2343            0.0           0.0     1.0      0.0\n",
       "2344            0.0           0.0     1.0      0.0\n",
       "\n",
       "[2345 rows x 4 columns]"
      ]
     },
     "execution_count": 52,
     "metadata": {},
     "output_type": "execute_result"
    }
   ],
   "source": [
    "df_income_range = pd.get_dummies(df['income_range'])\n",
    "df_income_range"
   ]
  },
  {
   "cell_type": "code",
   "execution_count": 53,
   "metadata": {
    "collapsed": false
   },
   "outputs": [
    {
     "data": {
      "text/html": [
       "<div>\n",
       "<table border=\"1\" class=\"dataframe\">\n",
       "  <thead>\n",
       "    <tr style=\"text-align: right;\">\n",
       "      <th></th>\n",
       "      <th>fired_No</th>\n",
       "      <th>fired_Unclear</th>\n",
       "      <th>fired_Yes</th>\n",
       "    </tr>\n",
       "  </thead>\n",
       "  <tbody>\n",
       "    <tr>\n",
       "      <th>0</th>\n",
       "      <td>0.0</td>\n",
       "      <td>1.0</td>\n",
       "      <td>0.0</td>\n",
       "    </tr>\n",
       "    <tr>\n",
       "      <th>1</th>\n",
       "      <td>0.0</td>\n",
       "      <td>1.0</td>\n",
       "      <td>0.0</td>\n",
       "    </tr>\n",
       "    <tr>\n",
       "      <th>2</th>\n",
       "      <td>0.0</td>\n",
       "      <td>1.0</td>\n",
       "      <td>0.0</td>\n",
       "    </tr>\n",
       "    <tr>\n",
       "      <th>3</th>\n",
       "      <td>0.0</td>\n",
       "      <td>1.0</td>\n",
       "      <td>0.0</td>\n",
       "    </tr>\n",
       "    <tr>\n",
       "      <th>4</th>\n",
       "      <td>1.0</td>\n",
       "      <td>0.0</td>\n",
       "      <td>0.0</td>\n",
       "    </tr>\n",
       "    <tr>\n",
       "      <th>...</th>\n",
       "      <td>...</td>\n",
       "      <td>...</td>\n",
       "      <td>...</td>\n",
       "    </tr>\n",
       "    <tr>\n",
       "      <th>2340</th>\n",
       "      <td>0.0</td>\n",
       "      <td>1.0</td>\n",
       "      <td>0.0</td>\n",
       "    </tr>\n",
       "    <tr>\n",
       "      <th>2341</th>\n",
       "      <td>0.0</td>\n",
       "      <td>1.0</td>\n",
       "      <td>0.0</td>\n",
       "    </tr>\n",
       "    <tr>\n",
       "      <th>2342</th>\n",
       "      <td>0.0</td>\n",
       "      <td>1.0</td>\n",
       "      <td>0.0</td>\n",
       "    </tr>\n",
       "    <tr>\n",
       "      <th>2343</th>\n",
       "      <td>0.0</td>\n",
       "      <td>0.0</td>\n",
       "      <td>1.0</td>\n",
       "    </tr>\n",
       "    <tr>\n",
       "      <th>2344</th>\n",
       "      <td>0.0</td>\n",
       "      <td>1.0</td>\n",
       "      <td>0.0</td>\n",
       "    </tr>\n",
       "  </tbody>\n",
       "</table>\n",
       "<p>2345 rows × 3 columns</p>\n",
       "</div>"
      ],
      "text/plain": [
       "      fired_No  fired_Unclear  fired_Yes\n",
       "0          0.0            1.0        0.0\n",
       "1          0.0            1.0        0.0\n",
       "2          0.0            1.0        0.0\n",
       "3          0.0            1.0        0.0\n",
       "4          1.0            0.0        0.0\n",
       "...        ...            ...        ...\n",
       "2340       0.0            1.0        0.0\n",
       "2341       0.0            1.0        0.0\n",
       "2342       0.0            1.0        0.0\n",
       "2343       0.0            0.0        1.0\n",
       "2344       0.0            1.0        0.0\n",
       "\n",
       "[2345 rows x 3 columns]"
      ]
     },
     "execution_count": 53,
     "metadata": {},
     "output_type": "execute_result"
    }
   ],
   "source": [
    "df_fired = pd.get_dummies(df['fired'], prefix = 'fired')\n",
    "df_fired"
   ]
  },
  {
   "cell_type": "code",
   "execution_count": 54,
   "metadata": {
    "collapsed": false
   },
   "outputs": [
    {
     "data": {
      "text/html": [
       "<div>\n",
       "<table border=\"1\" class=\"dataframe\">\n",
       "  <thead>\n",
       "    <tr style=\"text-align: right;\">\n",
       "      <th></th>\n",
       "      <th>cause_death</th>\n",
       "      <th>State</th>\n",
       "      <th>Gender</th>\n",
       "      <th>Age</th>\n",
       "      <th>Race</th>\n",
       "      <th>...</th>\n",
       "      <th>&lt;75000</th>\n",
       "      <th>&gt;400000</th>\n",
       "      <th>fired_No</th>\n",
       "      <th>fired_Unclear</th>\n",
       "      <th>fired_Yes</th>\n",
       "    </tr>\n",
       "  </thead>\n",
       "  <tbody>\n",
       "    <tr>\n",
       "      <th>0</th>\n",
       "      <td>Car Accident</td>\n",
       "      <td>New Jersey</td>\n",
       "      <td>Female</td>\n",
       "      <td>64.0</td>\n",
       "      <td>Asian</td>\n",
       "      <td>...</td>\n",
       "      <td>0.0</td>\n",
       "      <td>1.0</td>\n",
       "      <td>0.0</td>\n",
       "      <td>1.0</td>\n",
       "      <td>0.0</td>\n",
       "    </tr>\n",
       "    <tr>\n",
       "      <th>1</th>\n",
       "      <td>Car Accident</td>\n",
       "      <td>New Jersey</td>\n",
       "      <td>Female</td>\n",
       "      <td>34.0</td>\n",
       "      <td>Black</td>\n",
       "      <td>...</td>\n",
       "      <td>0.0</td>\n",
       "      <td>1.0</td>\n",
       "      <td>0.0</td>\n",
       "      <td>1.0</td>\n",
       "      <td>0.0</td>\n",
       "    </tr>\n",
       "    <tr>\n",
       "      <th>2</th>\n",
       "      <td>Car Accident</td>\n",
       "      <td>New Jersey</td>\n",
       "      <td>Male</td>\n",
       "      <td>41.0</td>\n",
       "      <td>Black</td>\n",
       "      <td>...</td>\n",
       "      <td>0.0</td>\n",
       "      <td>1.0</td>\n",
       "      <td>0.0</td>\n",
       "      <td>1.0</td>\n",
       "      <td>0.0</td>\n",
       "    </tr>\n",
       "    <tr>\n",
       "      <th>3</th>\n",
       "      <td>Car Accident</td>\n",
       "      <td>New Jersey</td>\n",
       "      <td>Male</td>\n",
       "      <td>10.0</td>\n",
       "      <td>White</td>\n",
       "      <td>...</td>\n",
       "      <td>0.0</td>\n",
       "      <td>1.0</td>\n",
       "      <td>0.0</td>\n",
       "      <td>1.0</td>\n",
       "      <td>0.0</td>\n",
       "    </tr>\n",
       "    <tr>\n",
       "      <th>4</th>\n",
       "      <td>Other</td>\n",
       "      <td>New Jersey</td>\n",
       "      <td>Male</td>\n",
       "      <td>27.0</td>\n",
       "      <td>Black</td>\n",
       "      <td>...</td>\n",
       "      <td>0.0</td>\n",
       "      <td>1.0</td>\n",
       "      <td>1.0</td>\n",
       "      <td>0.0</td>\n",
       "      <td>0.0</td>\n",
       "    </tr>\n",
       "    <tr>\n",
       "      <th>...</th>\n",
       "      <td>...</td>\n",
       "      <td>...</td>\n",
       "      <td>...</td>\n",
       "      <td>...</td>\n",
       "      <td>...</td>\n",
       "      <td>...</td>\n",
       "      <td>...</td>\n",
       "      <td>...</td>\n",
       "      <td>...</td>\n",
       "      <td>...</td>\n",
       "      <td>...</td>\n",
       "    </tr>\n",
       "    <tr>\n",
       "      <th>2340</th>\n",
       "      <td>Shooting</td>\n",
       "      <td>West Virginia</td>\n",
       "      <td>Male</td>\n",
       "      <td>18.0</td>\n",
       "      <td>White</td>\n",
       "      <td>...</td>\n",
       "      <td>1.0</td>\n",
       "      <td>0.0</td>\n",
       "      <td>0.0</td>\n",
       "      <td>1.0</td>\n",
       "      <td>0.0</td>\n",
       "    </tr>\n",
       "    <tr>\n",
       "      <th>2341</th>\n",
       "      <td>Shooting</td>\n",
       "      <td>West Virginia</td>\n",
       "      <td>Male</td>\n",
       "      <td>46.0</td>\n",
       "      <td>White</td>\n",
       "      <td>...</td>\n",
       "      <td>1.0</td>\n",
       "      <td>0.0</td>\n",
       "      <td>0.0</td>\n",
       "      <td>1.0</td>\n",
       "      <td>0.0</td>\n",
       "    </tr>\n",
       "    <tr>\n",
       "      <th>2342</th>\n",
       "      <td>Shooting</td>\n",
       "      <td>Vermont</td>\n",
       "      <td>Male</td>\n",
       "      <td>35.0</td>\n",
       "      <td>Unknown</td>\n",
       "      <td>...</td>\n",
       "      <td>1.0</td>\n",
       "      <td>0.0</td>\n",
       "      <td>0.0</td>\n",
       "      <td>1.0</td>\n",
       "      <td>0.0</td>\n",
       "    </tr>\n",
       "    <tr>\n",
       "      <th>2343</th>\n",
       "      <td>Shooting</td>\n",
       "      <td>Vermont</td>\n",
       "      <td>Male</td>\n",
       "      <td>49.0</td>\n",
       "      <td>White</td>\n",
       "      <td>...</td>\n",
       "      <td>1.0</td>\n",
       "      <td>0.0</td>\n",
       "      <td>0.0</td>\n",
       "      <td>0.0</td>\n",
       "      <td>1.0</td>\n",
       "    </tr>\n",
       "    <tr>\n",
       "      <th>2344</th>\n",
       "      <td>Shooting</td>\n",
       "      <td>North Dakota</td>\n",
       "      <td>Male</td>\n",
       "      <td>31.0</td>\n",
       "      <td>White</td>\n",
       "      <td>...</td>\n",
       "      <td>1.0</td>\n",
       "      <td>0.0</td>\n",
       "      <td>0.0</td>\n",
       "      <td>1.0</td>\n",
       "      <td>0.0</td>\n",
       "    </tr>\n",
       "  </tbody>\n",
       "</table>\n",
       "<p>2345 rows × 45 columns</p>\n",
       "</div>"
      ],
      "text/plain": [
       "       cause_death          State  Gender   Age     Race    ...    <75000  \\\n",
       "0     Car Accident     New Jersey  Female  64.0    Asian    ...       0.0   \n",
       "1     Car Accident     New Jersey  Female  34.0    Black    ...       0.0   \n",
       "2     Car Accident     New Jersey    Male  41.0    Black    ...       0.0   \n",
       "3     Car Accident     New Jersey    Male  10.0    White    ...       0.0   \n",
       "4            Other     New Jersey    Male  27.0    Black    ...       0.0   \n",
       "...            ...            ...     ...   ...      ...    ...       ...   \n",
       "2340      Shooting  West Virginia    Male  18.0    White    ...       1.0   \n",
       "2341      Shooting  West Virginia    Male  46.0    White    ...       1.0   \n",
       "2342      Shooting        Vermont    Male  35.0  Unknown    ...       1.0   \n",
       "2343      Shooting        Vermont    Male  49.0    White    ...       1.0   \n",
       "2344      Shooting   North Dakota    Male  31.0    White    ...       1.0   \n",
       "\n",
       "     >400000 fired_No fired_Unclear fired_Yes  \n",
       "0        1.0      0.0           1.0       0.0  \n",
       "1        1.0      0.0           1.0       0.0  \n",
       "2        1.0      0.0           1.0       0.0  \n",
       "3        1.0      0.0           1.0       0.0  \n",
       "4        1.0      1.0           0.0       0.0  \n",
       "...      ...      ...           ...       ...  \n",
       "2340     0.0      0.0           1.0       0.0  \n",
       "2341     0.0      0.0           1.0       0.0  \n",
       "2342     0.0      0.0           1.0       0.0  \n",
       "2343     0.0      0.0           0.0       1.0  \n",
       "2344     0.0      0.0           1.0       0.0  \n",
       "\n",
       "[2345 rows x 45 columns]"
      ]
     },
     "execution_count": 54,
     "metadata": {},
     "output_type": "execute_result"
    }
   ],
   "source": [
    "df_new = pd.concat([df, df_age_range, df_race, df_priors, df_armed, df_red_blue, df_den, df_income_range, df_fired], axis = 1)\n",
    "df_new"
   ]
  },
  {
   "cell_type": "code",
   "execution_count": 55,
   "metadata": {
    "collapsed": false
   },
   "outputs": [
    {
     "data": {
      "text/plain": [
       "<matplotlib.axes._subplots.AxesSubplot at 0xaa58e90>"
      ]
     },
     "execution_count": 55,
     "metadata": {},
     "output_type": "execute_result"
    },
    {
     "data": {
      "image/png": "[encoded data removed]",
      "text/plain": [
       "<matplotlib.figure.Figure at 0xaa43450>"
      ]
     },
     "metadata": {},
     "output_type": "display_data"
    }
   ],
   "source": [
    "df_age_range.plot(kind = 'hist')"
   ]
  },
  {
   "cell_type": "code",
   "execution_count": 56,
   "metadata": {
    "collapsed": false
   },
   "outputs": [
    {
     "data": {
      "text/plain": [
       "<matplotlib.axes._subplots.AxesSubplot at 0xad53c50>"
      ]
     },
     "execution_count": 56,
     "metadata": {},
     "output_type": "execute_result"
    },
    {
     "data": {
      "image/png": "[encoded data removed]",
      "text/plain": [
       "<matplotlib.figure.Figure at 0xaa585b0>"
      ]
     },
     "metadata": {},
     "output_type": "display_data"
    }
   ],
   "source": [
    "df_race.plot(kind = 'hist')"
   ]
  },
  {
   "cell_type": "code",
   "execution_count": 57,
   "metadata": {
    "collapsed": false
   },
   "outputs": [
    {
     "data": {
      "text/plain": [
       "<matplotlib.axes._subplots.AxesSubplot at 0xaa586b0>"
      ]
     },
     "execution_count": 57,
     "metadata": {},
     "output_type": "execute_result"
    },
    {
     "data": {
      "image/png": "[encoded data removed]",
      "text/plain": [
       "<matplotlib.figure.Figure at 0xce8e6d0>"
      ]
     },
     "metadata": {},
     "output_type": "display_data"
    }
   ],
   "source": [
    "df_priors.plot(kind = 'hist')"
   ]
  },
  {
   "cell_type": "code",
   "execution_count": 58,
   "metadata": {
    "collapsed": false
   },
   "outputs": [
    {
     "data": {
      "text/plain": [
       "<matplotlib.axes._subplots.AxesSubplot at 0xade93d0>"
      ]
     },
     "execution_count": 58,
     "metadata": {},
     "output_type": "execute_result"
    },
    {
     "data": {
      "image/png": "[encoded data removed]",
      "text/plain": [
       "<matplotlib.figure.Figure at 0xd0bc0d0>"
      ]
     },
     "metadata": {},
     "output_type": "display_data"
    }
   ],
   "source": [
    "df_armed.plot(kind = 'hist')"
   ]
  },
  {
   "cell_type": "code",
   "execution_count": 59,
   "metadata": {
    "collapsed": false
   },
   "outputs": [
    {
     "data": {
      "text/plain": [
       "<matplotlib.axes._subplots.AxesSubplot at 0xada9e10>"
      ]
     },
     "execution_count": 59,
     "metadata": {},
     "output_type": "execute_result"
    },
    {
     "data": {
      "image/png": "[encoded data removed]",
      "text/plain": [
       "<matplotlib.figure.Figure at 0xd44c110>"
      ]
     },
     "metadata": {},
     "output_type": "display_data"
    }
   ],
   "source": [
    "df_red_blue.plot(kind = 'hist')"
   ]
  },
  {
   "cell_type": "code",
   "execution_count": 60,
   "metadata": {
    "collapsed": false
   },
   "outputs": [
    {
     "data": {
      "text/plain": [
       "<matplotlib.axes._subplots.AxesSubplot at 0xd434ef0>"
      ]
     },
     "execution_count": 60,
     "metadata": {},
     "output_type": "execute_result"
    },
    {
     "data": {
      "image/png": "[encoded data removed]",
      "text/plain": [
       "<matplotlib.figure.Figure at 0xd64e990>"
      ]
     },
     "metadata": {},
     "output_type": "display_data"
    }
   ],
   "source": [
    "df_den.plot(kind = 'hist')"
   ]
  },
  {
   "cell_type": "code",
   "execution_count": 61,
   "metadata": {
    "collapsed": false
   },
   "outputs": [
    {
     "data": {
      "text/plain": [
       "<matplotlib.axes._subplots.AxesSubplot at 0xd434e90>"
      ]
     },
     "execution_count": 61,
     "metadata": {},
     "output_type": "execute_result"
    },
    {
     "data": {
      "image/png": "[encoded data removed]",
      "text/plain": [
       "<matplotlib.figure.Figure at 0xd83d170>"
      ]
     },
     "metadata": {},
     "output_type": "display_data"
    }
   ],
   "source": [
    "df_income_range.plot(kind = 'hist')"
   ]
  },
  {
   "cell_type": "code",
   "execution_count": 63,
   "metadata": {
    "collapsed": false
   },
   "outputs": [
    {
     "data": {
      "text/plain": [
       "<matplotlib.axes._subplots.AxesSubplot at 0xda0de70>"
      ]
     },
     "execution_count": 63,
     "metadata": {},
     "output_type": "execute_result"
    },
    {
     "data": {
      "image/png": "[encoded data removed]",
      "text/plain": [
       "<matplotlib.figure.Figure at 0xda36bd0>"
      ]
     },
     "metadata": {},
     "output_type": "display_data"
    }
   ],
   "source": [
    "df_fired.plot(kind = 'hist')"
   ]
  },
  {
   "cell_type": "code",
   "execution_count": 64,
   "metadata": {
    "collapsed": false
   },
   "outputs": [
    {
     "data": {
      "text/html": [
       "<div>\n",
       "<table border=\"1\" class=\"dataframe\">\n",
       "  <thead>\n",
       "    <tr style=\"text-align: right;\">\n",
       "      <th></th>\n",
       "      <th>Black</th>\n",
       "      <th>0.0</th>\n",
       "      <th>1.0</th>\n",
       "      <th>All</th>\n",
       "    </tr>\n",
       "    <tr>\n",
       "      <th>fired_Yes</th>\n",
       "      <th>fired_Unclear</th>\n",
       "      <th></th>\n",
       "      <th></th>\n",
       "      <th></th>\n",
       "    </tr>\n",
       "  </thead>\n",
       "  <tbody>\n",
       "    <tr>\n",
       "      <th rowspan=\"2\" valign=\"top\">0.0</th>\n",
       "      <th>0.0</th>\n",
       "      <td>90</td>\n",
       "      <td>29</td>\n",
       "      <td>119</td>\n",
       "    </tr>\n",
       "    <tr>\n",
       "      <th>1.0</th>\n",
       "      <td>1229</td>\n",
       "      <td>333</td>\n",
       "      <td>1562</td>\n",
       "    </tr>\n",
       "    <tr>\n",
       "      <th>1.0</th>\n",
       "      <th>0.0</th>\n",
       "      <td>518</td>\n",
       "      <td>146</td>\n",
       "      <td>664</td>\n",
       "    </tr>\n",
       "    <tr>\n",
       "      <th>All</th>\n",
       "      <th></th>\n",
       "      <td>1837</td>\n",
       "      <td>508</td>\n",
       "      <td>2345</td>\n",
       "    </tr>\n",
       "  </tbody>\n",
       "</table>\n",
       "</div>"
      ],
      "text/plain": [
       "Black                     0.0  1.0   All\n",
       "fired_Yes fired_Unclear                 \n",
       "0.0       0.0              90   29   119\n",
       "          1.0            1229  333  1562\n",
       "1.0       0.0             518  146   664\n",
       "All                      1837  508  2345"
      ]
     },
     "execution_count": 64,
     "metadata": {},
     "output_type": "execute_result"
    }
   ],
   "source": [
    "pd.crosstab([df_new.fired_Yes, df_new.fired_Unclear], df_new.Black, margins = True)\n"
   ]
  },
  {
   "cell_type": "code",
   "execution_count": 65,
   "metadata": {
    "collapsed": false
   },
   "outputs": [
    {
     "data": {
      "text/html": [
       "<div>\n",
       "<table border=\"1\" class=\"dataframe\">\n",
       "  <thead>\n",
       "    <tr style=\"text-align: right;\">\n",
       "      <th></th>\n",
       "      <th>White</th>\n",
       "      <th>0.0</th>\n",
       "      <th>1.0</th>\n",
       "      <th>All</th>\n",
       "    </tr>\n",
       "    <tr>\n",
       "      <th>fired_Yes</th>\n",
       "      <th>fired_Unclear</th>\n",
       "      <th></th>\n",
       "      <th></th>\n",
       "      <th></th>\n",
       "    </tr>\n",
       "  </thead>\n",
       "  <tbody>\n",
       "    <tr>\n",
       "      <th rowspan=\"2\" valign=\"top\">0.0</th>\n",
       "      <th>0.0</th>\n",
       "      <td>81</td>\n",
       "      <td>38</td>\n",
       "      <td>119</td>\n",
       "    </tr>\n",
       "    <tr>\n",
       "      <th>1.0</th>\n",
       "      <td>1078</td>\n",
       "      <td>484</td>\n",
       "      <td>1562</td>\n",
       "    </tr>\n",
       "    <tr>\n",
       "      <th>1.0</th>\n",
       "      <th>0.0</th>\n",
       "      <td>420</td>\n",
       "      <td>244</td>\n",
       "      <td>664</td>\n",
       "    </tr>\n",
       "    <tr>\n",
       "      <th>All</th>\n",
       "      <th></th>\n",
       "      <td>1579</td>\n",
       "      <td>766</td>\n",
       "      <td>2345</td>\n",
       "    </tr>\n",
       "  </tbody>\n",
       "</table>\n",
       "</div>"
      ],
      "text/plain": [
       "White                     0.0  1.0   All\n",
       "fired_Yes fired_Unclear                 \n",
       "0.0       0.0              81   38   119\n",
       "          1.0            1078  484  1562\n",
       "1.0       0.0             420  244   664\n",
       "All                      1579  766  2345"
      ]
     },
     "execution_count": 65,
     "metadata": {},
     "output_type": "execute_result"
    }
   ],
   "source": [
    "pd.crosstab([df_new.fired_Yes, df_new.fired_Unclear], df_new.White, margins = True)"
   ]
  },
  {
   "cell_type": "code",
   "execution_count": 66,
   "metadata": {
    "collapsed": false
   },
   "outputs": [
    {
     "data": {
      "text/html": [
       "<div>\n",
       "<table border=\"1\" class=\"dataframe\">\n",
       "  <thead>\n",
       "    <tr style=\"text-align: right;\">\n",
       "      <th></th>\n",
       "      <th>red</th>\n",
       "      <th>0.0</th>\n",
       "      <th>1.0</th>\n",
       "      <th>All</th>\n",
       "    </tr>\n",
       "    <tr>\n",
       "      <th>fired_Yes</th>\n",
       "      <th>fired_Unclear</th>\n",
       "      <th></th>\n",
       "      <th></th>\n",
       "      <th></th>\n",
       "    </tr>\n",
       "  </thead>\n",
       "  <tbody>\n",
       "    <tr>\n",
       "      <th rowspan=\"2\" valign=\"top\">0.0</th>\n",
       "      <th>0.0</th>\n",
       "      <td>65</td>\n",
       "      <td>54</td>\n",
       "      <td>119</td>\n",
       "    </tr>\n",
       "    <tr>\n",
       "      <th>1.0</th>\n",
       "      <td>760</td>\n",
       "      <td>802</td>\n",
       "      <td>1562</td>\n",
       "    </tr>\n",
       "    <tr>\n",
       "      <th>1.0</th>\n",
       "      <th>0.0</th>\n",
       "      <td>265</td>\n",
       "      <td>399</td>\n",
       "      <td>664</td>\n",
       "    </tr>\n",
       "    <tr>\n",
       "      <th>All</th>\n",
       "      <th></th>\n",
       "      <td>1090</td>\n",
       "      <td>1255</td>\n",
       "      <td>2345</td>\n",
       "    </tr>\n",
       "  </tbody>\n",
       "</table>\n",
       "</div>"
      ],
      "text/plain": [
       "red                       0.0   1.0   All\n",
       "fired_Yes fired_Unclear                  \n",
       "0.0       0.0              65    54   119\n",
       "          1.0             760   802  1562\n",
       "1.0       0.0             265   399   664\n",
       "All                      1090  1255  2345"
      ]
     },
     "execution_count": 66,
     "metadata": {},
     "output_type": "execute_result"
    }
   ],
   "source": [
    "pd.crosstab([df_new.fired_Yes, df_new.fired_Unclear], df_new.red, margins = True)"
   ]
  },
  {
   "cell_type": "markdown",
   "metadata": {},
   "source": [
    "df_new = pd.concat([df, df_age_range, df_race, df_priors, df_armed, df_red_blue, df_den, df_income_range, df_fired], axis = 1)"
   ]
  },
  {
   "cell_type": "code",
   "execution_count": 67,
   "metadata": {
    "collapsed": false,
    "scrolled": true
   },
   "outputs": [
    {
     "data": {
      "text/html": [
       "<div>\n",
       "<table border=\"1\" class=\"dataframe\">\n",
       "  <thead>\n",
       "    <tr style=\"text-align: right;\">\n",
       "      <th></th>\n",
       "      <th>fired_No</th>\n",
       "      <th>fired_Unclear</th>\n",
       "      <th>fired_Yes</th>\n",
       "    </tr>\n",
       "  </thead>\n",
       "  <tbody>\n",
       "    <tr>\n",
       "      <th>25-34</th>\n",
       "      <td>0.006929</td>\n",
       "      <td>-0.008449</td>\n",
       "      <td>0.005468</td>\n",
       "    </tr>\n",
       "    <tr>\n",
       "      <th>35-44</th>\n",
       "      <td>0.012711</td>\n",
       "      <td>0.005782</td>\n",
       "      <td>-0.012245</td>\n",
       "    </tr>\n",
       "    <tr>\n",
       "      <th>45-54</th>\n",
       "      <td>-0.040490</td>\n",
       "      <td>-0.037931</td>\n",
       "      <td>0.059430</td>\n",
       "    </tr>\n",
       "    <tr>\n",
       "      <th>55-65</th>\n",
       "      <td>-0.012435</td>\n",
       "      <td>-0.008335</td>\n",
       "      <td>0.014783</td>\n",
       "    </tr>\n",
       "    <tr>\n",
       "      <th>&lt;25</th>\n",
       "      <td>-0.002487</td>\n",
       "      <td>0.013113</td>\n",
       "      <td>-0.012515</td>\n",
       "    </tr>\n",
       "    <tr>\n",
       "      <th>&gt;65</th>\n",
       "      <td>0.031472</td>\n",
       "      <td>0.003547</td>\n",
       "      <td>-0.019045</td>\n",
       "    </tr>\n",
       "    <tr>\n",
       "      <th>fired_No</th>\n",
       "      <td>1.000000</td>\n",
       "      <td>-0.326566</td>\n",
       "      <td>-0.145315</td>\n",
       "    </tr>\n",
       "    <tr>\n",
       "      <th>fired_Unclear</th>\n",
       "      <td>-0.326566</td>\n",
       "      <td>1.000000</td>\n",
       "      <td>-0.887687</td>\n",
       "    </tr>\n",
       "    <tr>\n",
       "      <th>fired_Yes</th>\n",
       "      <td>-0.145315</td>\n",
       "      <td>-0.887687</td>\n",
       "      <td>1.000000</td>\n",
       "    </tr>\n",
       "  </tbody>\n",
       "</table>\n",
       "</div>"
      ],
      "text/plain": [
       "               fired_No  fired_Unclear  fired_Yes\n",
       "25-34          0.006929      -0.008449   0.005468\n",
       "35-44          0.012711       0.005782  -0.012245\n",
       "45-54         -0.040490      -0.037931   0.059430\n",
       "55-65         -0.012435      -0.008335   0.014783\n",
       "<25           -0.002487       0.013113  -0.012515\n",
       ">65            0.031472       0.003547  -0.019045\n",
       "fired_No       1.000000      -0.326566  -0.145315\n",
       "fired_Unclear -0.326566       1.000000  -0.887687\n",
       "fired_Yes     -0.145315      -0.887687   1.000000"
      ]
     },
     "execution_count": 67,
     "metadata": {},
     "output_type": "execute_result"
    }
   ],
   "source": [
    "df1 = pd.concat([df_age_range, df_fired], axis = 1).corr()[['fired_No', 'fired_Unclear', 'fired_Yes']]\n",
    "df1"
   ]
  },
  {
   "cell_type": "code",
   "execution_count": 70,
   "metadata": {
    "collapsed": false
   },
   "outputs": [
    {
     "name": "stdout",
     "output_type": "stream",
     "text": [
      "Optimization terminated successfully.\n",
      "         Current function value: 0.630663\n",
      "         Iterations 5\n",
      "                           Logit Regression Results                           \n",
      "==============================================================================\n",
      "Dep. Variable:              fired_Yes   No. Observations:                 2345\n",
      "Model:                          Logit   Df Residuals:                     2340\n",
      "Method:                           MLE   Df Model:                            4\n",
      "Date:                Thu, 08 Sep 2016   Pseudo R-squ.:                -0.05832\n",
      "Time:                        12:14:24   Log-Likelihood:                -1478.9\n",
      "converged:                       True   LL-Null:                       -1397.4\n",
      "                                        LLR p-value:                     1.000\n",
      "==============================================================================\n",
      "                 coef    std err          z      P>|z|      [95.0% Conf. Int.]\n",
      "------------------------------------------------------------------------------\n",
      "35-44         -0.9817      0.101     -9.765      0.000        -1.179    -0.785\n",
      "45-54         -0.6280      0.114     -5.532      0.000        -0.851    -0.406\n",
      "55-65         -0.8061      0.177     -4.546      0.000        -1.154    -0.459\n",
      "<25           -0.9827      0.100     -9.811      0.000        -1.179    -0.786\n",
      ">65           -1.1664      0.263     -4.440      0.000        -1.681    -0.652\n",
      "==============================================================================\n"
     ]
    }
   ],
   "source": [
    "logit = smf.Logit(df_fired['fired_Yes'], df_age_range[df_age_range.columns[1:]])\n",
    "\n",
    "result = logit.fit()\n",
    "print result.summary()"
   ]
  },
  {
   "cell_type": "code",
   "execution_count": 84,
   "metadata": {
    "collapsed": false
   },
   "outputs": [
    {
     "data": {
      "text/html": [
       "<div>\n",
       "<table border=\"1\" class=\"dataframe\">\n",
       "  <thead>\n",
       "    <tr style=\"text-align: right;\">\n",
       "      <th></th>\n",
       "      <th>fired_No</th>\n",
       "      <th>fired_Unclear</th>\n",
       "      <th>fired_Yes</th>\n",
       "    </tr>\n",
       "  </thead>\n",
       "  <tbody>\n",
       "    <tr>\n",
       "      <th>Asian</th>\n",
       "      <td>0.011471</td>\n",
       "      <td>0.000130</td>\n",
       "      <td>-0.005724</td>\n",
       "    </tr>\n",
       "    <tr>\n",
       "      <th>Black</th>\n",
       "      <td>0.015191</td>\n",
       "      <td>-0.011804</td>\n",
       "      <td>0.004956</td>\n",
       "    </tr>\n",
       "    <tr>\n",
       "      <th>Latino</th>\n",
       "      <td>0.010269</td>\n",
       "      <td>0.040921</td>\n",
       "      <td>-0.047838</td>\n",
       "    </tr>\n",
       "    <tr>\n",
       "      <th>Native American</th>\n",
       "      <td>-0.019164</td>\n",
       "      <td>0.014746</td>\n",
       "      <td>-0.006100</td>\n",
       "    </tr>\n",
       "    <tr>\n",
       "      <th>Pacific Islander</th>\n",
       "      <td>-0.008275</td>\n",
       "      <td>0.000043</td>\n",
       "      <td>0.003986</td>\n",
       "    </tr>\n",
       "    <tr>\n",
       "      <th>Unknown</th>\n",
       "      <td>-0.016209</td>\n",
       "      <td>0.029045</td>\n",
       "      <td>-0.022507</td>\n",
       "    </tr>\n",
       "    <tr>\n",
       "      <th>White</th>\n",
       "      <td>-0.003611</td>\n",
       "      <td>-0.050575</td>\n",
       "      <td>0.054699</td>\n",
       "    </tr>\n",
       "    <tr>\n",
       "      <th>fired_No</th>\n",
       "      <td>1.000000</td>\n",
       "      <td>-0.326566</td>\n",
       "      <td>-0.145315</td>\n",
       "    </tr>\n",
       "    <tr>\n",
       "      <th>fired_Unclear</th>\n",
       "      <td>-0.326566</td>\n",
       "      <td>1.000000</td>\n",
       "      <td>-0.887687</td>\n",
       "    </tr>\n",
       "    <tr>\n",
       "      <th>fired_Yes</th>\n",
       "      <td>-0.145315</td>\n",
       "      <td>-0.887687</td>\n",
       "      <td>1.000000</td>\n",
       "    </tr>\n",
       "  </tbody>\n",
       "</table>\n",
       "</div>"
      ],
      "text/plain": [
       "                  fired_No  fired_Unclear  fired_Yes\n",
       "Asian             0.011471       0.000130  -0.005724\n",
       "Black             0.015191      -0.011804   0.004956\n",
       "Latino            0.010269       0.040921  -0.047838\n",
       "Native American  -0.019164       0.014746  -0.006100\n",
       "Pacific Islander -0.008275       0.000043   0.003986\n",
       "Unknown          -0.016209       0.029045  -0.022507\n",
       "White            -0.003611      -0.050575   0.054699\n",
       "fired_No          1.000000      -0.326566  -0.145315\n",
       "fired_Unclear    -0.326566       1.000000  -0.887687\n",
       "fired_Yes        -0.145315      -0.887687   1.000000"
      ]
     },
     "execution_count": 84,
     "metadata": {},
     "output_type": "execute_result"
    }
   ],
   "source": [
    "df2 = pd.concat([df_race, df_fired], axis = 1).corr()[['fired_No', 'fired_Unclear', 'fired_Yes']]\n",
    "df2"
   ]
  },
  {
   "cell_type": "code",
   "execution_count": 71,
   "metadata": {
    "collapsed": false
   },
   "outputs": [
    {
     "name": "stdout",
     "output_type": "stream",
     "text": [
      "Optimization terminated successfully.\n",
      "         Current function value: 0.595053\n",
      "         Iterations 5\n",
      "                           Logit Regression Results                           \n",
      "==============================================================================\n",
      "Dep. Variable:              fired_Yes   No. Observations:                 2345\n",
      "Model:                          Logit   Df Residuals:                     2339\n",
      "Method:                           MLE   Df Model:                            5\n",
      "Date:                Thu, 08 Sep 2016   Pseudo R-squ.:                0.001436\n",
      "Time:                        12:15:56   Log-Likelihood:                -1395.4\n",
      "converged:                       True   LL-Null:                       -1397.4\n",
      "                                        LLR p-value:                    0.5473\n",
      "====================================================================================\n",
      "                       coef    std err          z      P>|z|      [95.0% Conf. Int.]\n",
      "------------------------------------------------------------------------------------\n",
      "Black               -0.9080      0.098     -9.262      0.000        -1.100    -0.716\n",
      "Latino              -1.2149      0.133     -9.115      0.000        -1.476    -0.954\n",
      "Native American     -1.0986      0.577     -1.903      0.057        -2.230     0.033\n",
      "Pacific Islander    -0.6931      1.225     -0.566      0.571        -3.094     1.707\n",
      "Unknown             -1.0063      0.085    -11.839      0.000        -1.173    -0.840\n",
      "White               -0.7605      0.078     -9.807      0.000        -0.912    -0.609\n",
      "====================================================================================\n"
     ]
    }
   ],
   "source": [
    "logit = smf.Logit(df_fired['fired_Yes'], df_race[df_race.columns[1:]])\n",
    "\n",
    "result = logit.fit()\n",
    "print result.summary()"
   ]
  },
  {
   "cell_type": "code",
   "execution_count": 85,
   "metadata": {
    "collapsed": false
   },
   "outputs": [
    {
     "data": {
      "text/html": [
       "<div>\n",
       "<table border=\"1\" class=\"dataframe\">\n",
       "  <thead>\n",
       "    <tr style=\"text-align: right;\">\n",
       "      <th></th>\n",
       "      <th>fired_No</th>\n",
       "      <th>fired_Unclear</th>\n",
       "      <th>fired_Yes</th>\n",
       "    </tr>\n",
       "  </thead>\n",
       "  <tbody>\n",
       "    <tr>\n",
       "      <th>priors_No</th>\n",
       "      <td>0.278786</td>\n",
       "      <td>-0.151235</td>\n",
       "      <td>0.022497</td>\n",
       "    </tr>\n",
       "    <tr>\n",
       "      <th>priors_Unclear</th>\n",
       "      <td>-0.188419</td>\n",
       "      <td>0.180017</td>\n",
       "      <td>-0.096648</td>\n",
       "    </tr>\n",
       "    <tr>\n",
       "      <th>priors_Yes</th>\n",
       "      <td>0.049911</td>\n",
       "      <td>-0.111962</td>\n",
       "      <td>0.092885</td>\n",
       "    </tr>\n",
       "    <tr>\n",
       "      <th>fired_No</th>\n",
       "      <td>1.000000</td>\n",
       "      <td>-0.326566</td>\n",
       "      <td>-0.145315</td>\n",
       "    </tr>\n",
       "    <tr>\n",
       "      <th>fired_Unclear</th>\n",
       "      <td>-0.326566</td>\n",
       "      <td>1.000000</td>\n",
       "      <td>-0.887687</td>\n",
       "    </tr>\n",
       "    <tr>\n",
       "      <th>fired_Yes</th>\n",
       "      <td>-0.145315</td>\n",
       "      <td>-0.887687</td>\n",
       "      <td>1.000000</td>\n",
       "    </tr>\n",
       "  </tbody>\n",
       "</table>\n",
       "</div>"
      ],
      "text/plain": [
       "                fired_No  fired_Unclear  fired_Yes\n",
       "priors_No       0.278786      -0.151235   0.022497\n",
       "priors_Unclear -0.188419       0.180017  -0.096648\n",
       "priors_Yes      0.049911      -0.111962   0.092885\n",
       "fired_No        1.000000      -0.326566  -0.145315\n",
       "fired_Unclear  -0.326566       1.000000  -0.887687\n",
       "fired_Yes      -0.145315      -0.887687   1.000000"
      ]
     },
     "execution_count": 85,
     "metadata": {},
     "output_type": "execute_result"
    }
   ],
   "source": [
    "df3 = pd.concat([df_priors, df_fired], axis = 1).corr()[['fired_No', 'fired_Unclear', 'fired_Yes']]\n",
    "df3"
   ]
  },
  {
   "cell_type": "code",
   "execution_count": 73,
   "metadata": {
    "collapsed": false
   },
   "outputs": [
    {
     "name": "stdout",
     "output_type": "stream",
     "text": [
      "Optimization terminated successfully.\n",
      "         Current function value: 0.594230\n",
      "         Iterations 5\n",
      "                           Logit Regression Results                           \n",
      "==============================================================================\n",
      "Dep. Variable:              fired_Yes   No. Observations:                 2345\n",
      "Model:                          Logit   Df Residuals:                     2343\n",
      "Method:                           MLE   Df Model:                            1\n",
      "Date:                Thu, 08 Sep 2016   Pseudo R-squ.:                0.002818\n",
      "Time:                        12:16:48   Log-Likelihood:                -1393.5\n",
      "converged:                       True   LL-Null:                       -1397.4\n",
      "                                        LLR p-value:                  0.005013\n",
      "==================================================================================\n",
      "                     coef    std err          z      P>|z|      [95.0% Conf. Int.]\n",
      "----------------------------------------------------------------------------------\n",
      "priors_Unclear    -1.0509      0.054    -19.507      0.000        -1.156    -0.945\n",
      "priors_Yes        -0.5281      0.099     -5.314      0.000        -0.723    -0.333\n",
      "==================================================================================\n"
     ]
    }
   ],
   "source": [
    "logit = smf.Logit(df_fired['fired_Yes'], df_priors[df_priors.columns[1:]])\n",
    "\n",
    "result = logit.fit()\n",
    "print result.summary()"
   ]
  },
  {
   "cell_type": "code",
   "execution_count": 86,
   "metadata": {
    "collapsed": false
   },
   "outputs": [
    {
     "data": {
      "text/html": [
       "<div>\n",
       "<table border=\"1\" class=\"dataframe\">\n",
       "  <thead>\n",
       "    <tr style=\"text-align: right;\">\n",
       "      <th></th>\n",
       "      <th>fired_No</th>\n",
       "      <th>fired_Unclear</th>\n",
       "      <th>fired_Yes</th>\n",
       "    </tr>\n",
       "  </thead>\n",
       "  <tbody>\n",
       "    <tr>\n",
       "      <th>armed_Disputed</th>\n",
       "      <td>0.008525</td>\n",
       "      <td>0.010926</td>\n",
       "      <td>-0.015590</td>\n",
       "    </tr>\n",
       "    <tr>\n",
       "      <th>armed_No</th>\n",
       "      <td>0.145203</td>\n",
       "      <td>-0.039843</td>\n",
       "      <td>-0.029030</td>\n",
       "    </tr>\n",
       "    <tr>\n",
       "      <th>armed_Unclear</th>\n",
       "      <td>-0.063787</td>\n",
       "      <td>0.146495</td>\n",
       "      <td>-0.122273</td>\n",
       "    </tr>\n",
       "    <tr>\n",
       "      <th>armed_Yes</th>\n",
       "      <td>-0.043214</td>\n",
       "      <td>-0.105077</td>\n",
       "      <td>0.131044</td>\n",
       "    </tr>\n",
       "    <tr>\n",
       "      <th>fired_No</th>\n",
       "      <td>1.000000</td>\n",
       "      <td>-0.326566</td>\n",
       "      <td>-0.145315</td>\n",
       "    </tr>\n",
       "    <tr>\n",
       "      <th>fired_Unclear</th>\n",
       "      <td>-0.326566</td>\n",
       "      <td>1.000000</td>\n",
       "      <td>-0.887687</td>\n",
       "    </tr>\n",
       "    <tr>\n",
       "      <th>fired_Yes</th>\n",
       "      <td>-0.145315</td>\n",
       "      <td>-0.887687</td>\n",
       "      <td>1.000000</td>\n",
       "    </tr>\n",
       "  </tbody>\n",
       "</table>\n",
       "</div>"
      ],
      "text/plain": [
       "                fired_No  fired_Unclear  fired_Yes\n",
       "armed_Disputed  0.008525       0.010926  -0.015590\n",
       "armed_No        0.145203      -0.039843  -0.029030\n",
       "armed_Unclear  -0.063787       0.146495  -0.122273\n",
       "armed_Yes      -0.043214      -0.105077   0.131044\n",
       "fired_No        1.000000      -0.326566  -0.145315\n",
       "fired_Unclear  -0.326566       1.000000  -0.887687\n",
       "fired_Yes      -0.145315      -0.887687   1.000000"
      ]
     },
     "execution_count": 86,
     "metadata": {},
     "output_type": "execute_result"
    }
   ],
   "source": [
    "df4 = pd.concat([df_armed, df_fired], axis = 1).corr()[['fired_No', 'fired_Unclear', 'fired_Yes']]\n",
    "df4"
   ]
  },
  {
   "cell_type": "code",
   "execution_count": 76,
   "metadata": {
    "collapsed": false
   },
   "outputs": [
    {
     "name": "stdout",
     "output_type": "stream",
     "text": [
      "Optimization terminated successfully.\n",
      "         Current function value: 0.589051\n",
      "         Iterations 5\n",
      "                           Logit Regression Results                           \n",
      "==============================================================================\n",
      "Dep. Variable:              fired_Yes   No. Observations:                 2345\n",
      "Model:                          Logit   Df Residuals:                     2342\n",
      "Method:                           MLE   Df Model:                            2\n",
      "Date:                Thu, 08 Sep 2016   Pseudo R-squ.:                 0.01151\n",
      "Time:                        12:18:07   Log-Likelihood:                -1381.3\n",
      "converged:                       True   LL-Null:                       -1397.4\n",
      "                                        LLR p-value:                 1.036e-07\n",
      "=================================================================================\n",
      "                    coef    std err          z      P>|z|      [95.0% Conf. Int.]\n",
      "---------------------------------------------------------------------------------\n",
      "armed_No         -1.1132      0.140     -7.964      0.000        -1.387    -0.839\n",
      "armed_Unclear    -1.4919      0.110    -13.547      0.000        -1.708    -1.276\n",
      "armed_Yes        -0.7146      0.055    -12.882      0.000        -0.823    -0.606\n",
      "=================================================================================\n"
     ]
    }
   ],
   "source": [
    "logit = smf.Logit(df_fired['fired_Yes'], df_armed[df_armed.columns[1:]])\n",
    "\n",
    "result = logit.fit()\n",
    "print result.summary()"
   ]
  },
  {
   "cell_type": "code",
   "execution_count": 87,
   "metadata": {
    "collapsed": false
   },
   "outputs": [
    {
     "data": {
      "text/html": [
       "<div>\n",
       "<table border=\"1\" class=\"dataframe\">\n",
       "  <thead>\n",
       "    <tr style=\"text-align: right;\">\n",
       "      <th></th>\n",
       "      <th>fired_No</th>\n",
       "      <th>fired_Unclear</th>\n",
       "      <th>fired_Yes</th>\n",
       "    </tr>\n",
       "  </thead>\n",
       "  <tbody>\n",
       "    <tr>\n",
       "      <th>blue</th>\n",
       "      <td>0.037735</td>\n",
       "      <td>0.061555</td>\n",
       "      <td>-0.082817</td>\n",
       "    </tr>\n",
       "    <tr>\n",
       "      <th>red</th>\n",
       "      <td>-0.037735</td>\n",
       "      <td>-0.061555</td>\n",
       "      <td>0.082817</td>\n",
       "    </tr>\n",
       "    <tr>\n",
       "      <th>fired_No</th>\n",
       "      <td>1.000000</td>\n",
       "      <td>-0.326566</td>\n",
       "      <td>-0.145315</td>\n",
       "    </tr>\n",
       "    <tr>\n",
       "      <th>fired_Unclear</th>\n",
       "      <td>-0.326566</td>\n",
       "      <td>1.000000</td>\n",
       "      <td>-0.887687</td>\n",
       "    </tr>\n",
       "    <tr>\n",
       "      <th>fired_Yes</th>\n",
       "      <td>-0.145315</td>\n",
       "      <td>-0.887687</td>\n",
       "      <td>1.000000</td>\n",
       "    </tr>\n",
       "  </tbody>\n",
       "</table>\n",
       "</div>"
      ],
      "text/plain": [
       "               fired_No  fired_Unclear  fired_Yes\n",
       "blue           0.037735       0.061555  -0.082817\n",
       "red           -0.037735      -0.061555   0.082817\n",
       "fired_No       1.000000      -0.326566  -0.145315\n",
       "fired_Unclear -0.326566       1.000000  -0.887687\n",
       "fired_Yes     -0.145315      -0.887687   1.000000"
      ]
     },
     "execution_count": 87,
     "metadata": {},
     "output_type": "execute_result"
    }
   ],
   "source": [
    "df5 = pd.concat([df_red_blue, df_fired], axis = 1).corr()[['fired_No', 'fired_Unclear', 'fired_Yes']]\n",
    "df5"
   ]
  },
  {
   "cell_type": "code",
   "execution_count": 80,
   "metadata": {
    "collapsed": false
   },
   "outputs": [
    {
     "name": "stdout",
     "output_type": "stream",
     "text": [
      "Optimization terminated successfully.\n",
      "         Current function value: 0.656836\n",
      "         Iterations 4\n",
      "                           Logit Regression Results                           \n",
      "==============================================================================\n",
      "Dep. Variable:              fired_Yes   No. Observations:                 2345\n",
      "Model:                          Logit   Df Residuals:                     2344\n",
      "Method:                           MLE   Df Model:                            0\n",
      "Date:                Thu, 08 Sep 2016   Pseudo R-squ.:                 -0.1022\n",
      "Time:                        12:19:03   Log-Likelihood:                -1540.3\n",
      "converged:                       True   LL-Null:                       -1397.4\n",
      "                                        LLR p-value:                       nan\n",
      "==============================================================================\n",
      "                 coef    std err          z      P>|z|      [95.0% Conf. Int.]\n",
      "------------------------------------------------------------------------------\n",
      "red           -0.7633      0.061    -12.592      0.000        -0.882    -0.645\n",
      "==============================================================================\n"
     ]
    }
   ],
   "source": [
    "logit = smf.Logit(df_fired['fired_Yes'], df_red_blue[df_red_blue.columns[1:]])\n",
    "\n",
    "result = logit.fit()\n",
    "print result.summary()"
   ]
  },
  {
   "cell_type": "code",
   "execution_count": 88,
   "metadata": {
    "collapsed": false
   },
   "outputs": [
    {
     "data": {
      "text/html": [
       "<div>\n",
       "<table border=\"1\" class=\"dataframe\">\n",
       "  <thead>\n",
       "    <tr style=\"text-align: right;\">\n",
       "      <th></th>\n",
       "      <th>fired_No</th>\n",
       "      <th>fired_Unclear</th>\n",
       "      <th>fired_Yes</th>\n",
       "    </tr>\n",
       "  </thead>\n",
       "  <tbody>\n",
       "    <tr>\n",
       "      <th>den_110-250</th>\n",
       "      <td>-0.000879</td>\n",
       "      <td>-0.014130</td>\n",
       "      <td>0.015219</td>\n",
       "    </tr>\n",
       "    <tr>\n",
       "      <th>den_50-110</th>\n",
       "      <td>-0.008384</td>\n",
       "      <td>0.002772</td>\n",
       "      <td>0.001182</td>\n",
       "    </tr>\n",
       "    <tr>\n",
       "      <th>den_&lt;50</th>\n",
       "      <td>-0.020195</td>\n",
       "      <td>-0.054741</td>\n",
       "      <td>0.067140</td>\n",
       "    </tr>\n",
       "    <tr>\n",
       "      <th>den_&gt;250</th>\n",
       "      <td>0.020874</td>\n",
       "      <td>0.041223</td>\n",
       "      <td>-0.053320</td>\n",
       "    </tr>\n",
       "    <tr>\n",
       "      <th>fired_No</th>\n",
       "      <td>1.000000</td>\n",
       "      <td>-0.326566</td>\n",
       "      <td>-0.145315</td>\n",
       "    </tr>\n",
       "    <tr>\n",
       "      <th>fired_Unclear</th>\n",
       "      <td>-0.326566</td>\n",
       "      <td>1.000000</td>\n",
       "      <td>-0.887687</td>\n",
       "    </tr>\n",
       "    <tr>\n",
       "      <th>fired_Yes</th>\n",
       "      <td>-0.145315</td>\n",
       "      <td>-0.887687</td>\n",
       "      <td>1.000000</td>\n",
       "    </tr>\n",
       "  </tbody>\n",
       "</table>\n",
       "</div>"
      ],
      "text/plain": [
       "               fired_No  fired_Unclear  fired_Yes\n",
       "den_110-250   -0.000879      -0.014130   0.015219\n",
       "den_50-110    -0.008384       0.002772   0.001182\n",
       "den_<50       -0.020195      -0.054741   0.067140\n",
       "den_>250       0.020874       0.041223  -0.053320\n",
       "fired_No       1.000000      -0.326566  -0.145315\n",
       "fired_Unclear -0.326566       1.000000  -0.887687\n",
       "fired_Yes     -0.145315      -0.887687   1.000000"
      ]
     },
     "execution_count": 88,
     "metadata": {},
     "output_type": "execute_result"
    }
   ],
   "source": [
    "df6 = pd.concat([df_den, df_fired], axis = 1).corr()[['fired_No', 'fired_Unclear', 'fired_Yes']]\n",
    "df6"
   ]
  },
  {
   "cell_type": "code",
   "execution_count": 82,
   "metadata": {
    "collapsed": false
   },
   "outputs": [
    {
     "name": "stdout",
     "output_type": "stream",
     "text": [
      "Optimization terminated successfully.\n",
      "         Current function value: 0.608722\n",
      "         Iterations 5\n",
      "                           Logit Regression Results                           \n",
      "==============================================================================\n",
      "Dep. Variable:              fired_Yes   No. Observations:                 2345\n",
      "Model:                          Logit   Df Residuals:                     2342\n",
      "Method:                           MLE   Df Model:                            2\n",
      "Date:                Thu, 08 Sep 2016   Pseudo R-squ.:                -0.02150\n",
      "Time:                        12:19:43   Log-Likelihood:                -1427.5\n",
      "converged:                       True   LL-Null:                       -1397.4\n",
      "                                        LLR p-value:                     1.000\n",
      "==============================================================================\n",
      "                 coef    std err          z      P>|z|      [95.0% Conf. Int.]\n",
      "------------------------------------------------------------------------------\n",
      "den_50-110    -0.9252      0.079    -11.718      0.000        -1.080    -0.770\n",
      "den_<50       -0.4986      0.140     -3.561      0.000        -0.773    -0.224\n",
      "den_>250      -1.0839      0.077    -14.147      0.000        -1.234    -0.934\n",
      "==============================================================================\n"
     ]
    }
   ],
   "source": [
    "logit = smf.Logit(df_fired['fired_Yes'], df_den[df_den.columns[1:]])\n",
    "\n",
    "result = logit.fit()\n",
    "print result.summary()"
   ]
  },
  {
   "cell_type": "code",
   "execution_count": 89,
   "metadata": {
    "collapsed": false
   },
   "outputs": [
    {
     "data": {
      "text/html": [
       "<div>\n",
       "<table border=\"1\" class=\"dataframe\">\n",
       "  <thead>\n",
       "    <tr style=\"text-align: right;\">\n",
       "      <th></th>\n",
       "      <th>fired_No</th>\n",
       "      <th>fired_Unclear</th>\n",
       "      <th>fired_Yes</th>\n",
       "    </tr>\n",
       "  </thead>\n",
       "  <tbody>\n",
       "    <tr>\n",
       "      <th>200000-400000</th>\n",
       "      <td>0.006246</td>\n",
       "      <td>0.013089</td>\n",
       "      <td>-0.016744</td>\n",
       "    </tr>\n",
       "    <tr>\n",
       "      <th>75000-200000</th>\n",
       "      <td>-0.004633</td>\n",
       "      <td>-0.074685</td>\n",
       "      <td>0.080436</td>\n",
       "    </tr>\n",
       "    <tr>\n",
       "      <th>&lt;75000</th>\n",
       "      <td>-0.005736</td>\n",
       "      <td>-0.013880</td>\n",
       "      <td>0.017323</td>\n",
       "    </tr>\n",
       "    <tr>\n",
       "      <th>&gt;400000</th>\n",
       "      <td>0.000597</td>\n",
       "      <td>0.051922</td>\n",
       "      <td>-0.054642</td>\n",
       "    </tr>\n",
       "    <tr>\n",
       "      <th>fired_No</th>\n",
       "      <td>1.000000</td>\n",
       "      <td>-0.326566</td>\n",
       "      <td>-0.145315</td>\n",
       "    </tr>\n",
       "    <tr>\n",
       "      <th>fired_Unclear</th>\n",
       "      <td>-0.326566</td>\n",
       "      <td>1.000000</td>\n",
       "      <td>-0.887687</td>\n",
       "    </tr>\n",
       "    <tr>\n",
       "      <th>fired_Yes</th>\n",
       "      <td>-0.145315</td>\n",
       "      <td>-0.887687</td>\n",
       "      <td>1.000000</td>\n",
       "    </tr>\n",
       "  </tbody>\n",
       "</table>\n",
       "</div>"
      ],
      "text/plain": [
       "               fired_No  fired_Unclear  fired_Yes\n",
       "200000-400000  0.006246       0.013089  -0.016744\n",
       "75000-200000  -0.004633      -0.074685   0.080436\n",
       "<75000        -0.005736      -0.013880   0.017323\n",
       ">400000        0.000597       0.051922  -0.054642\n",
       "fired_No       1.000000      -0.326566  -0.145315\n",
       "fired_Unclear -0.326566       1.000000  -0.887687\n",
       "fired_Yes     -0.145315      -0.887687   1.000000"
      ]
     },
     "execution_count": 89,
     "metadata": {},
     "output_type": "execute_result"
    }
   ],
   "source": [
    "df7 = pd.concat([df_income_range, df_fired], axis = 1).corr()[['fired_No', 'fired_Unclear', 'fired_Yes']]\n",
    "df7"
   ]
  },
  {
   "cell_type": "code",
   "execution_count": 83,
   "metadata": {
    "collapsed": false
   },
   "outputs": [
    {
     "name": "stdout",
     "output_type": "stream",
     "text": [
      "Optimization terminated successfully.\n",
      "         Current function value: 0.616441\n",
      "         Iterations 5\n",
      "                           Logit Regression Results                           \n",
      "==============================================================================\n",
      "Dep. Variable:              fired_Yes   No. Observations:                 2345\n",
      "Model:                          Logit   Df Residuals:                     2342\n",
      "Method:                           MLE   Df Model:                            2\n",
      "Date:                Thu, 08 Sep 2016   Pseudo R-squ.:                -0.03445\n",
      "Time:                        12:20:18   Log-Likelihood:                -1445.6\n",
      "converged:                       True   LL-Null:                       -1397.4\n",
      "                                        LLR p-value:                     1.000\n",
      "================================================================================\n",
      "                   coef    std err          z      P>|z|      [95.0% Conf. Int.]\n",
      "--------------------------------------------------------------------------------\n",
      "75000-200000    -0.5682      0.103     -5.542      0.000        -0.769    -0.367\n",
      "<75000          -0.7436      0.226     -3.297      0.001        -1.186    -0.301\n",
      ">400000         -1.0367      0.062    -16.665      0.000        -1.159    -0.915\n",
      "================================================================================\n"
     ]
    }
   ],
   "source": [
    "logit = smf.Logit(df_fired['fired_Yes'], df_income_range[df_income_range.columns[1:]])\n",
    "\n",
    "result = logit.fit()\n",
    "print result.summary()"
   ]
  },
  {
   "cell_type": "code",
   "execution_count": null,
   "metadata": {
    "collapsed": true
   },
   "outputs": [],
   "source": []
  }
 ],
 "metadata": {
  "anaconda-cloud": {},
  "kernelspec": {
   "display_name": "Python [Root]",
   "language": "python",
   "name": "Python [Root]"
  },
  "language_info": {
   "codemirror_mode": {
    "name": "ipython",
    "version": 2
   },
   "file_extension": ".py",
   "mimetype": "text/x-python",
   "name": "python",
   "nbconvert_exporter": "python",
   "pygments_lexer": "ipython2",
   "version": "2.7.12"
  }
 },
 "nbformat": 4,
 "nbformat_minor": 0
}
