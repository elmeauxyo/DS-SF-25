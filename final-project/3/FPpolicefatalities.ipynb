{
 "cells": [
  {
   "cell_type": "code",
   "execution_count": 1,
   "metadata": {
    "collapsed": false
   },
   "outputs": [],
   "source": [
    "import os\n",
    "\n",
    "import numpy as np\n",
    "import pandas as pd\n",
    "pd.set_option('display.max_rows', 10)\n",
    "pd.set_option('display.notebook_repr_html', True)\n",
    "pd.set_option('display.max_columns', 10)\n",
    "\n",
    "from sklearn import linear_model\n",
    "# logistic regression is part of sklearn - linear model\n",
    "\n",
    "import matplotlib.pyplot as plt\n",
    "%matplotlib inline\n",
    "plt.style.use('ggplot')"
   ]
  },
  {
   "cell_type": "code",
   "execution_count": 2,
   "metadata": {
    "collapsed": false
   },
   "outputs": [],
   "source": [
    "df = pd.read_csv(os.path.join('C:\\Users\\morgane1\\Desktop\\policefatalities.csv'))"
   ]
  },
  {
   "cell_type": "code",
   "execution_count": 3,
   "metadata": {
    "collapsed": false
   },
   "outputs": [
    {
     "data": {
      "text/html": [
       "<div>\n",
       "<table border=\"1\" class=\"dataframe\">\n",
       "  <thead>\n",
       "    <tr style=\"text-align: right;\">\n",
       "      <th></th>\n",
       "      <th>Name</th>\n",
       "      <th>Cause of Death</th>\n",
       "      <th>Date of Death</th>\n",
       "      <th>State</th>\n",
       "      <th>City</th>\n",
       "      <th>...</th>\n",
       "      <th>Month of Death</th>\n",
       "      <th>Year of Death</th>\n",
       "      <th>Was the deceased armed?</th>\n",
       "      <th>Did the deceased have priors?</th>\n",
       "      <th>Was the officer involved fired or suspended?</th>\n",
       "    </tr>\n",
       "  </thead>\n",
       "  <tbody>\n",
       "    <tr>\n",
       "      <th>0</th>\n",
       "      <td>Hue Dang</td>\n",
       "      <td>Car Accident</td>\n",
       "      <td>11/3/2015</td>\n",
       "      <td>New Jersey</td>\n",
       "      <td>Hackensack, New Jersey</td>\n",
       "      <td>...</td>\n",
       "      <td>March</td>\n",
       "      <td>2015</td>\n",
       "      <td>No</td>\n",
       "      <td>Unclear</td>\n",
       "      <td>Unclear</td>\n",
       "    </tr>\n",
       "    <tr>\n",
       "      <th>1</th>\n",
       "      <td>Bien Cam Tran</td>\n",
       "      <td>Car Accident</td>\n",
       "      <td>3/9/2014</td>\n",
       "      <td>California</td>\n",
       "      <td>Oakland, California</td>\n",
       "      <td>...</td>\n",
       "      <td>14-Sep</td>\n",
       "      <td>2014</td>\n",
       "      <td>Unclear</td>\n",
       "      <td>Unclear</td>\n",
       "      <td>Unclear</td>\n",
       "    </tr>\n",
       "    <tr>\n",
       "      <th>2</th>\n",
       "      <td>Jacqueline Reynolds</td>\n",
       "      <td>Car Accident</td>\n",
       "      <td>8/5/2013</td>\n",
       "      <td>Illinois</td>\n",
       "      <td>Chicago, Illinois</td>\n",
       "      <td>...</td>\n",
       "      <td>13-May</td>\n",
       "      <td>2013</td>\n",
       "      <td>No</td>\n",
       "      <td>No</td>\n",
       "      <td>No</td>\n",
       "    </tr>\n",
       "    <tr>\n",
       "      <th>3</th>\n",
       "      <td>Bernard Moore</td>\n",
       "      <td>Car Accident</td>\n",
       "      <td>6/3/2015</td>\n",
       "      <td>Georgia</td>\n",
       "      <td>Atlanta, Georgia</td>\n",
       "      <td>...</td>\n",
       "      <td>March</td>\n",
       "      <td>2015</td>\n",
       "      <td>No</td>\n",
       "      <td>Unclear</td>\n",
       "      <td>Unclear</td>\n",
       "    </tr>\n",
       "    <tr>\n",
       "      <th>4</th>\n",
       "      <td>Jacqueline Nichols</td>\n",
       "      <td>Car Accident</td>\n",
       "      <td>4/7/2014</td>\n",
       "      <td>Michigan</td>\n",
       "      <td>Flint, Michigan</td>\n",
       "      <td>...</td>\n",
       "      <td>14-Jul</td>\n",
       "      <td>2014</td>\n",
       "      <td>Unclear</td>\n",
       "      <td>Unclear</td>\n",
       "      <td>Unclear</td>\n",
       "    </tr>\n",
       "    <tr>\n",
       "      <th>...</th>\n",
       "      <td>...</td>\n",
       "      <td>...</td>\n",
       "      <td>...</td>\n",
       "      <td>...</td>\n",
       "      <td>...</td>\n",
       "      <td>...</td>\n",
       "      <td>...</td>\n",
       "      <td>...</td>\n",
       "      <td>...</td>\n",
       "      <td>...</td>\n",
       "      <td>...</td>\n",
       "    </tr>\n",
       "    <tr>\n",
       "      <th>2350</th>\n",
       "      <td>Timothy Shad Griffis</td>\n",
       "      <td>Taser Gun</td>\n",
       "      <td>25/08/2014</td>\n",
       "      <td>Florida</td>\n",
       "      <td>Lake City, Florida</td>\n",
       "      <td>...</td>\n",
       "      <td>14-Aug</td>\n",
       "      <td>2014</td>\n",
       "      <td>No</td>\n",
       "      <td>Yes</td>\n",
       "      <td>Yes</td>\n",
       "    </tr>\n",
       "    <tr>\n",
       "      <th>2351</th>\n",
       "      <td>Billy Collins</td>\n",
       "      <td>Taser Gun</td>\n",
       "      <td>29/5/15</td>\n",
       "      <td>Kentucky</td>\n",
       "      <td>Louisa, Kentucky</td>\n",
       "      <td>...</td>\n",
       "      <td>May</td>\n",
       "      <td>2015</td>\n",
       "      <td>No</td>\n",
       "      <td>Unclear</td>\n",
       "      <td>Unclear</td>\n",
       "    </tr>\n",
       "    <tr>\n",
       "      <th>2352</th>\n",
       "      <td>Michael Tyrone Gallagher</td>\n",
       "      <td>Taser Gun</td>\n",
       "      <td>11/5/2015</td>\n",
       "      <td>North Carolina</td>\n",
       "      <td>Enfield, North Carolina</td>\n",
       "      <td>...</td>\n",
       "      <td>May</td>\n",
       "      <td>2015</td>\n",
       "      <td>No</td>\n",
       "      <td>Unclear</td>\n",
       "      <td>Unclear</td>\n",
       "    </tr>\n",
       "    <tr>\n",
       "      <th>2353</th>\n",
       "      <td>Randall Torrence</td>\n",
       "      <td>Taser Gun</td>\n",
       "      <td>27/5/15</td>\n",
       "      <td>Kansas</td>\n",
       "      <td>Kansas City, Kansas</td>\n",
       "      <td>...</td>\n",
       "      <td>May</td>\n",
       "      <td>2015</td>\n",
       "      <td>No</td>\n",
       "      <td>Unclear</td>\n",
       "      <td>Unclear</td>\n",
       "    </tr>\n",
       "    <tr>\n",
       "      <th>2354</th>\n",
       "      <td>Tony Chance Ross</td>\n",
       "      <td>Taser Gun</td>\n",
       "      <td>6/3/2015</td>\n",
       "      <td>Texas</td>\n",
       "      <td>Sulphur Springs, Texas</td>\n",
       "      <td>...</td>\n",
       "      <td>March</td>\n",
       "      <td>2015</td>\n",
       "      <td>No</td>\n",
       "      <td>Unclear</td>\n",
       "      <td>Unclear</td>\n",
       "    </tr>\n",
       "  </tbody>\n",
       "</table>\n",
       "<p>2355 rows × 15 columns</p>\n",
       "</div>"
      ],
      "text/plain": [
       "                          Name Cause of Death Date of Death           State  \\\n",
       "0                     Hue Dang   Car Accident     11/3/2015      New Jersey   \n",
       "1                Bien Cam Tran   Car Accident      3/9/2014      California   \n",
       "2          Jacqueline Reynolds   Car Accident      8/5/2013        Illinois   \n",
       "3                Bernard Moore   Car Accident      6/3/2015         Georgia   \n",
       "4           Jacqueline Nichols   Car Accident      4/7/2014        Michigan   \n",
       "...                        ...            ...           ...             ...   \n",
       "2350      Timothy Shad Griffis      Taser Gun    25/08/2014         Florida   \n",
       "2351             Billy Collins      Taser Gun       29/5/15        Kentucky   \n",
       "2352  Michael Tyrone Gallagher      Taser Gun     11/5/2015  North Carolina   \n",
       "2353          Randall Torrence      Taser Gun       27/5/15          Kansas   \n",
       "2354          Tony Chance Ross      Taser Gun      6/3/2015           Texas   \n",
       "\n",
       "                         City                     ...                       \\\n",
       "0      Hackensack, New Jersey                     ...                        \n",
       "1         Oakland, California                     ...                        \n",
       "2           Chicago, Illinois                     ...                        \n",
       "3            Atlanta, Georgia                     ...                        \n",
       "4             Flint, Michigan                     ...                        \n",
       "...                       ...                     ...                        \n",
       "2350       Lake City, Florida                     ...                        \n",
       "2351         Louisa, Kentucky                     ...                        \n",
       "2352  Enfield, North Carolina                     ...                        \n",
       "2353      Kansas City, Kansas                     ...                        \n",
       "2354   Sulphur Springs, Texas                     ...                        \n",
       "\n",
       "     Month of Death  Year of Death Was the deceased armed?  \\\n",
       "0             March           2015                      No   \n",
       "1            14-Sep           2014                 Unclear   \n",
       "2            13-May           2013                      No   \n",
       "3             March           2015                      No   \n",
       "4            14-Jul           2014                 Unclear   \n",
       "...             ...            ...                     ...   \n",
       "2350         14-Aug           2014                      No   \n",
       "2351            May           2015                      No   \n",
       "2352            May           2015                      No   \n",
       "2353            May           2015                      No   \n",
       "2354          March           2015                      No   \n",
       "\n",
       "     Did the deceased have priors?  \\\n",
       "0                          Unclear   \n",
       "1                          Unclear   \n",
       "2                               No   \n",
       "3                          Unclear   \n",
       "4                          Unclear   \n",
       "...                            ...   \n",
       "2350                           Yes   \n",
       "2351                       Unclear   \n",
       "2352                       Unclear   \n",
       "2353                       Unclear   \n",
       "2354                       Unclear   \n",
       "\n",
       "     Was the officer involved fired or suspended?  \n",
       "0                                         Unclear  \n",
       "1                                         Unclear  \n",
       "2                                              No  \n",
       "3                                         Unclear  \n",
       "4                                         Unclear  \n",
       "...                                           ...  \n",
       "2350                                          Yes  \n",
       "2351                                      Unclear  \n",
       "2352                                      Unclear  \n",
       "2353                                      Unclear  \n",
       "2354                                      Unclear  \n",
       "\n",
       "[2355 rows x 15 columns]"
      ]
     },
     "execution_count": 3,
     "metadata": {},
     "output_type": "execute_result"
    }
   ],
   "source": [
    "df"
   ]
  },
  {
   "cell_type": "code",
   "execution_count": 4,
   "metadata": {
    "collapsed": false
   },
   "outputs": [
    {
     "data": {
      "text/plain": [
       "(2355, 15)"
      ]
     },
     "execution_count": 4,
     "metadata": {},
     "output_type": "execute_result"
    }
   ],
   "source": [
    "df.shape"
   ]
  },
  {
   "cell_type": "code",
   "execution_count": 5,
   "metadata": {
    "collapsed": false
   },
   "outputs": [
    {
     "data": {
      "text/plain": [
       "['Name',\n",
       " 'Cause of Death',\n",
       " 'Date of Death',\n",
       " 'State',\n",
       " 'City',\n",
       " 'Gender',\n",
       " 'Age',\n",
       " 'Race',\n",
       " 'Photo',\n",
       " 'News Story',\n",
       " 'Month of Death',\n",
       " 'Year of Death',\n",
       " 'Was the deceased armed?',\n",
       " 'Did the deceased have priors?',\n",
       " 'Was the officer involved fired or suspended?']"
      ]
     },
     "execution_count": 5,
     "metadata": {},
     "output_type": "execute_result"
    }
   ],
   "source": [
    "list(df.columns.values)"
   ]
  },
  {
   "cell_type": "code",
   "execution_count": 6,
   "metadata": {
    "collapsed": true
   },
   "outputs": [],
   "source": [
    "df = df.rename(columns = {'Cause of Death':'cause_death', 'Date of Death': 'date_death', 'Month of Death': 'month_death', 'Year of Death':'year_death','Was the deceased armed?':'armed', 'Did the deceased have priors?':'priors','Was the officer involved fired or suspended?':'fired'})"
   ]
  },
  {
   "cell_type": "code",
   "execution_count": 7,
   "metadata": {
    "collapsed": false
   },
   "outputs": [
    {
     "data": {
      "text/plain": [
       "['Name',\n",
       " 'cause_death',\n",
       " 'date_death',\n",
       " 'State',\n",
       " 'City',\n",
       " 'Gender',\n",
       " 'Age',\n",
       " 'Race',\n",
       " 'Photo',\n",
       " 'News Story',\n",
       " 'month_death',\n",
       " 'year_death',\n",
       " 'armed',\n",
       " 'priors',\n",
       " 'fired']"
      ]
     },
     "execution_count": 7,
     "metadata": {},
     "output_type": "execute_result"
    }
   ],
   "source": [
    "list(df.columns.values)"
   ]
  },
  {
   "cell_type": "code",
   "execution_count": 8,
   "metadata": {
    "collapsed": false
   },
   "outputs": [
    {
     "data": {
      "text/html": [
       "<div>\n",
       "<table border=\"1\" class=\"dataframe\">\n",
       "  <thead>\n",
       "    <tr style=\"text-align: right;\">\n",
       "      <th></th>\n",
       "      <th>cause_death</th>\n",
       "      <th>State</th>\n",
       "      <th>Gender</th>\n",
       "      <th>Age</th>\n",
       "      <th>Race</th>\n",
       "      <th>armed</th>\n",
       "      <th>priors</th>\n",
       "      <th>fired</th>\n",
       "    </tr>\n",
       "  </thead>\n",
       "  <tbody>\n",
       "    <tr>\n",
       "      <th>0</th>\n",
       "      <td>Car Accident</td>\n",
       "      <td>New Jersey</td>\n",
       "      <td>Female</td>\n",
       "      <td>64.0</td>\n",
       "      <td>Asian</td>\n",
       "      <td>No</td>\n",
       "      <td>Unclear</td>\n",
       "      <td>Unclear</td>\n",
       "    </tr>\n",
       "    <tr>\n",
       "      <th>1</th>\n",
       "      <td>Car Accident</td>\n",
       "      <td>California</td>\n",
       "      <td>Male</td>\n",
       "      <td>58.0</td>\n",
       "      <td>Asian</td>\n",
       "      <td>Unclear</td>\n",
       "      <td>Unclear</td>\n",
       "      <td>Unclear</td>\n",
       "    </tr>\n",
       "    <tr>\n",
       "      <th>2</th>\n",
       "      <td>Car Accident</td>\n",
       "      <td>Illinois</td>\n",
       "      <td>Female</td>\n",
       "      <td>54.0</td>\n",
       "      <td>Black</td>\n",
       "      <td>No</td>\n",
       "      <td>No</td>\n",
       "      <td>No</td>\n",
       "    </tr>\n",
       "    <tr>\n",
       "      <th>3</th>\n",
       "      <td>Car Accident</td>\n",
       "      <td>Georgia</td>\n",
       "      <td>Male</td>\n",
       "      <td>62.0</td>\n",
       "      <td>Black</td>\n",
       "      <td>No</td>\n",
       "      <td>Unclear</td>\n",
       "      <td>Unclear</td>\n",
       "    </tr>\n",
       "    <tr>\n",
       "      <th>4</th>\n",
       "      <td>Car Accident</td>\n",
       "      <td>Michigan</td>\n",
       "      <td>Female</td>\n",
       "      <td>64.0</td>\n",
       "      <td>Black</td>\n",
       "      <td>Unclear</td>\n",
       "      <td>Unclear</td>\n",
       "      <td>Unclear</td>\n",
       "    </tr>\n",
       "  </tbody>\n",
       "</table>\n",
       "</div>"
      ],
      "text/plain": [
       "    cause_death       State  Gender   Age   Race    armed   priors    fired\n",
       "0  Car Accident  New Jersey  Female  64.0  Asian       No  Unclear  Unclear\n",
       "1  Car Accident  California    Male  58.0  Asian  Unclear  Unclear  Unclear\n",
       "2  Car Accident    Illinois  Female  54.0  Black       No       No       No\n",
       "3  Car Accident     Georgia    Male  62.0  Black       No  Unclear  Unclear\n",
       "4  Car Accident    Michigan  Female  64.0  Black  Unclear  Unclear  Unclear"
      ]
     },
     "execution_count": 8,
     "metadata": {},
     "output_type": "execute_result"
    }
   ],
   "source": [
    "df.drop(['Name', 'date_death','City','News Story','Photo','month_death','year_death'], axis=1, inplace=True)\n",
    "df.head()"
   ]
  },
  {
   "cell_type": "code",
   "execution_count": 9,
   "metadata": {
    "collapsed": false
   },
   "outputs": [
    {
     "data": {
      "text/plain": [
       "26.0     86\n",
       "34.0     81\n",
       "27.0     79\n",
       "28.0     76\n",
       "29.0     75\n",
       "         ..\n",
       "97.0      1\n",
       "95.0      1\n",
       "93.0      1\n",
       "77.0      1\n",
       "107.0     1\n",
       "Name: Age, dtype: int64"
      ]
     },
     "execution_count": 9,
     "metadata": {},
     "output_type": "execute_result"
    }
   ],
   "source": [
    "#bucket the ages by groups. - ranges \n",
    "df.Age.value_counts()"
   ]
  },
  {
   "cell_type": "code",
   "execution_count": 10,
   "metadata": {
    "collapsed": false
   },
   "outputs": [
    {
     "name": "stdout",
     "output_type": "stream",
     "text": [
      "36.9122422115\n",
      "34.0\n",
      "107.0\n",
      "5.0\n"
     ]
    }
   ],
   "source": [
    "print df.Age.mean()\n",
    "print df.Age.median()\n",
    "print df.Age.max()\n",
    "print df.Age.min()"
   ]
  },
  {
   "cell_type": "code",
   "execution_count": 11,
   "metadata": {
    "collapsed": false
   },
   "outputs": [
    {
     "name": "stdout",
     "output_type": "stream",
     "text": [
      "    cause_death     State Gender    Age   Race armed   priors    fired\n",
      "338    Shooting  Arkansas   Male  107.0  Black   Yes  Unclear  Unclear\n"
     ]
    }
   ],
   "source": [
    "print df[(df.Age == 107)]"
   ]
  },
  {
   "cell_type": "code",
   "execution_count": 12,
   "metadata": {
    "collapsed": false
   },
   "outputs": [
    {
     "data": {
      "text/plain": [
       "California        398\n",
       "Texas             237\n",
       "Florida           187\n",
       "Arizona           104\n",
       "Illinois           68\n",
       "                 ... \n",
       "New Hampshire       4\n",
       "Virgin Islands      2\n",
       "Rhode Island        2\n",
       "Vermont             2\n",
       "North Dakota        1\n",
       "Name: State, dtype: int64"
      ]
     },
     "execution_count": 12,
     "metadata": {},
     "output_type": "execute_result"
    }
   ],
   "source": [
    "df.State.value_counts()\n",
    "#could just look at california and texas (or look at top 5)\n",
    "#could also look at red / blue states "
   ]
  },
  {
   "cell_type": "code",
   "execution_count": 13,
   "metadata": {
    "collapsed": false
   },
   "outputs": [
    {
     "data": {
      "text/plain": [
       "Yes         1482\n",
       "Unclear      550\n",
       "No           275\n",
       "Disputed      48\n",
       "Name: armed, dtype: int64"
      ]
     },
     "execution_count": 13,
     "metadata": {},
     "output_type": "execute_result"
    }
   ],
   "source": [
    "df.armed.value_counts()"
   ]
  },
  {
   "cell_type": "code",
   "execution_count": 14,
   "metadata": {
    "collapsed": false
   },
   "outputs": [
    {
     "data": {
      "text/plain": [
       "Unclear    1803\n",
       "Yes         435\n",
       "No          117\n",
       "Name: priors, dtype: int64"
      ]
     },
     "execution_count": 14,
     "metadata": {},
     "output_type": "execute_result"
    }
   ],
   "source": [
    "df.priors.value_counts()"
   ]
  },
  {
   "cell_type": "code",
   "execution_count": 15,
   "metadata": {
    "collapsed": false
   },
   "outputs": [
    {
     "data": {
      "text/plain": [
       "Shooting                  2076\n",
       "Taser Gun                   97\n",
       "Car Accident                69\n",
       "Physical Confrontation      63\n",
       "Other                       50\n",
       "Name: cause_death, dtype: int64"
      ]
     },
     "execution_count": 15,
     "metadata": {},
     "output_type": "execute_result"
    }
   ],
   "source": [
    "df.cause_death.value_counts()\n",
    "#consider all as fatalities and - can be dropped. Don't drop but don't remove. "
   ]
  },
  {
   "cell_type": "code",
   "execution_count": 16,
   "metadata": {
    "collapsed": true
   },
   "outputs": [],
   "source": [
    "# do I need to change car Accident to Car accident? same below for male?"
   ]
  },
  {
   "cell_type": "code",
   "execution_count": 17,
   "metadata": {
    "collapsed": false
   },
   "outputs": [
    {
     "data": {
      "text/plain": [
       "Male       2210\n",
       "Female      142\n",
       "Unknown       3\n",
       "Name: Gender, dtype: int64"
      ]
     },
     "execution_count": 17,
     "metadata": {},
     "output_type": "execute_result"
    }
   ],
   "source": [
    "df.Gender.value_counts()\n"
   ]
  },
  {
   "cell_type": "code",
   "execution_count": 18,
   "metadata": {
    "collapsed": false
   },
   "outputs": [
    {
     "data": {
      "text/plain": [
       "White               766\n",
       "Unknown             713\n",
       "Black               511\n",
       "Latino              319\n",
       "Asian                27\n",
       "Native American      16\n",
       "Pacific Islander      3\n",
       "Name: Race, dtype: int64"
      ]
     },
     "execution_count": 18,
     "metadata": {},
     "output_type": "execute_result"
    }
   ],
   "source": [
    "df.Race.value_counts()"
   ]
  },
  {
   "cell_type": "code",
   "execution_count": 19,
   "metadata": {
    "collapsed": false
   },
   "outputs": [
    {
     "data": {
      "text/plain": [
       "array(['Unclear', 'No', 'Yes'], dtype=object)"
      ]
     },
     "execution_count": 19,
     "metadata": {},
     "output_type": "execute_result"
    }
   ],
   "source": [
    "df.fired.unique()"
   ]
  },
  {
   "cell_type": "code",
   "execution_count": 20,
   "metadata": {
    "collapsed": false
   },
   "outputs": [
    {
     "data": {
      "text/plain": [
       "Unclear    1571\n",
       "Yes         665\n",
       "No          119\n",
       "Name: fired, dtype: int64"
      ]
     },
     "execution_count": 20,
     "metadata": {},
     "output_type": "execute_result"
    }
   ],
   "source": [
    "df.fired.value_counts()"
   ]
  },
  {
   "cell_type": "code",
   "execution_count": 21,
   "metadata": {
    "collapsed": false
   },
   "outputs": [
    {
     "data": {
      "text/plain": [
       "array(['Unclear', 'No', 'Yes'], dtype=object)"
      ]
     },
     "execution_count": 21,
     "metadata": {},
     "output_type": "execute_result"
    }
   ],
   "source": [
    "df = df.dropna(subset = ['fired'])\n",
    "df.fired.unique()"
   ]
  },
  {
   "cell_type": "code",
   "execution_count": 22,
   "metadata": {
    "collapsed": true
   },
   "outputs": [],
   "source": [
    "bins = [0, 25, 35, 45, 55, 65, 107]\n",
    "group_names = ['<25','25-34','35-44','45-54','55-65','>65']\n"
   ]
  },
  {
   "cell_type": "code",
   "execution_count": 23,
   "metadata": {
    "collapsed": false
   },
   "outputs": [
    {
     "data": {
      "text/plain": [
       "0       55-65\n",
       "1       55-65\n",
       "2       45-54\n",
       "3       55-65\n",
       "4       55-65\n",
       "        ...  \n",
       "2350    35-44\n",
       "2351    55-65\n",
       "2352    45-54\n",
       "2353    25-34\n",
       "2354    25-34\n",
       "Name: Age, dtype: category\n",
       "Categories (6, object): [<25 < 25-34 < 35-44 < 45-54 < 55-65 < >65]"
      ]
     },
     "execution_count": 23,
     "metadata": {},
     "output_type": "execute_result"
    }
   ],
   "source": [
    "age_range = pd.cut(df['Age'], bins, labels = group_names)\n",
    "df['age_range'] = pd.cut(df['Age'], bins, labels = group_names)\n",
    "age_range"
   ]
  },
  {
   "cell_type": "code",
   "execution_count": 24,
   "metadata": {
    "collapsed": false
   },
   "outputs": [],
   "source": [
    "blue_state_list = ['Washington','Oregon','California','Nevada','Colorado','New Mexico','Minnesota','Iowa','Wisconsin','Illinois','Wisconsin','Michigan','Pennsylvania','New York','Virginia','New Jersey','Delaware','Washington DC','Maryland','Maine','New Hampshire','Rhode Island', 'Connecticut','Massachusetts','Vermont']\n",
    "def blue_or_red(state):\n",
    "    if state in blue_state_list: \n",
    "        return \"blue\"\n",
    "    else: \n",
    "        return \"red\"\n",
    "    \n",
    "df['red/blue state'] = df.State.apply(blue_or_red)"
   ]
  },
  {
   "cell_type": "markdown",
   "metadata": {},
   "source": [
    "Grouped the states by Red and Blue (Republican / Democrat) based on http://www.politico.com/magazine/story/2014/05/climate-change-map-red-state-blue-state-hot-state-cold-state-107028, these are 2014 categories because the majority of the data in my set is from 2014."
   ]
  },
  {
   "cell_type": "code",
   "execution_count": 25,
   "metadata": {
    "collapsed": false
   },
   "outputs": [
    {
     "data": {
      "text/html": [
       "<div>\n",
       "<table border=\"1\" class=\"dataframe\">\n",
       "  <thead>\n",
       "    <tr style=\"text-align: right;\">\n",
       "      <th></th>\n",
       "      <th>cause_death</th>\n",
       "      <th>State</th>\n",
       "      <th>Gender</th>\n",
       "      <th>Age</th>\n",
       "      <th>Race</th>\n",
       "      <th>armed</th>\n",
       "      <th>priors</th>\n",
       "      <th>fired</th>\n",
       "      <th>age_range</th>\n",
       "      <th>red/blue state</th>\n",
       "    </tr>\n",
       "  </thead>\n",
       "  <tbody>\n",
       "    <tr>\n",
       "      <th>0</th>\n",
       "      <td>Car Accident</td>\n",
       "      <td>New Jersey</td>\n",
       "      <td>Female</td>\n",
       "      <td>64.0</td>\n",
       "      <td>Asian</td>\n",
       "      <td>No</td>\n",
       "      <td>Unclear</td>\n",
       "      <td>Unclear</td>\n",
       "      <td>55-65</td>\n",
       "      <td>blue</td>\n",
       "    </tr>\n",
       "    <tr>\n",
       "      <th>1</th>\n",
       "      <td>Car Accident</td>\n",
       "      <td>California</td>\n",
       "      <td>Male</td>\n",
       "      <td>58.0</td>\n",
       "      <td>Asian</td>\n",
       "      <td>Unclear</td>\n",
       "      <td>Unclear</td>\n",
       "      <td>Unclear</td>\n",
       "      <td>55-65</td>\n",
       "      <td>blue</td>\n",
       "    </tr>\n",
       "    <tr>\n",
       "      <th>2</th>\n",
       "      <td>Car Accident</td>\n",
       "      <td>Illinois</td>\n",
       "      <td>Female</td>\n",
       "      <td>54.0</td>\n",
       "      <td>Black</td>\n",
       "      <td>No</td>\n",
       "      <td>No</td>\n",
       "      <td>No</td>\n",
       "      <td>45-54</td>\n",
       "      <td>blue</td>\n",
       "    </tr>\n",
       "    <tr>\n",
       "      <th>3</th>\n",
       "      <td>Car Accident</td>\n",
       "      <td>Georgia</td>\n",
       "      <td>Male</td>\n",
       "      <td>62.0</td>\n",
       "      <td>Black</td>\n",
       "      <td>No</td>\n",
       "      <td>Unclear</td>\n",
       "      <td>Unclear</td>\n",
       "      <td>55-65</td>\n",
       "      <td>red</td>\n",
       "    </tr>\n",
       "    <tr>\n",
       "      <th>4</th>\n",
       "      <td>Car Accident</td>\n",
       "      <td>Michigan</td>\n",
       "      <td>Female</td>\n",
       "      <td>64.0</td>\n",
       "      <td>Black</td>\n",
       "      <td>Unclear</td>\n",
       "      <td>Unclear</td>\n",
       "      <td>Unclear</td>\n",
       "      <td>55-65</td>\n",
       "      <td>blue</td>\n",
       "    </tr>\n",
       "    <tr>\n",
       "      <th>...</th>\n",
       "      <td>...</td>\n",
       "      <td>...</td>\n",
       "      <td>...</td>\n",
       "      <td>...</td>\n",
       "      <td>...</td>\n",
       "      <td>...</td>\n",
       "      <td>...</td>\n",
       "      <td>...</td>\n",
       "      <td>...</td>\n",
       "      <td>...</td>\n",
       "    </tr>\n",
       "    <tr>\n",
       "      <th>2350</th>\n",
       "      <td>Taser Gun</td>\n",
       "      <td>Florida</td>\n",
       "      <td>Male</td>\n",
       "      <td>41.0</td>\n",
       "      <td>White</td>\n",
       "      <td>No</td>\n",
       "      <td>Yes</td>\n",
       "      <td>Yes</td>\n",
       "      <td>35-44</td>\n",
       "      <td>red</td>\n",
       "    </tr>\n",
       "    <tr>\n",
       "      <th>2351</th>\n",
       "      <td>Taser Gun</td>\n",
       "      <td>Kentucky</td>\n",
       "      <td>Male</td>\n",
       "      <td>56.0</td>\n",
       "      <td>White</td>\n",
       "      <td>No</td>\n",
       "      <td>Unclear</td>\n",
       "      <td>Unclear</td>\n",
       "      <td>55-65</td>\n",
       "      <td>red</td>\n",
       "    </tr>\n",
       "    <tr>\n",
       "      <th>2352</th>\n",
       "      <td>Taser Gun</td>\n",
       "      <td>North Carolina</td>\n",
       "      <td>Male</td>\n",
       "      <td>55.0</td>\n",
       "      <td>White</td>\n",
       "      <td>No</td>\n",
       "      <td>Unclear</td>\n",
       "      <td>Unclear</td>\n",
       "      <td>45-54</td>\n",
       "      <td>red</td>\n",
       "    </tr>\n",
       "    <tr>\n",
       "      <th>2353</th>\n",
       "      <td>Taser Gun</td>\n",
       "      <td>Kansas</td>\n",
       "      <td>Male</td>\n",
       "      <td>34.0</td>\n",
       "      <td>White</td>\n",
       "      <td>No</td>\n",
       "      <td>Unclear</td>\n",
       "      <td>Unclear</td>\n",
       "      <td>25-34</td>\n",
       "      <td>red</td>\n",
       "    </tr>\n",
       "    <tr>\n",
       "      <th>2354</th>\n",
       "      <td>Taser Gun</td>\n",
       "      <td>Texas</td>\n",
       "      <td>Male</td>\n",
       "      <td>34.0</td>\n",
       "      <td>White</td>\n",
       "      <td>No</td>\n",
       "      <td>Unclear</td>\n",
       "      <td>Unclear</td>\n",
       "      <td>25-34</td>\n",
       "      <td>red</td>\n",
       "    </tr>\n",
       "  </tbody>\n",
       "</table>\n",
       "<p>2355 rows × 10 columns</p>\n",
       "</div>"
      ],
      "text/plain": [
       "       cause_death           State  Gender   Age   Race    armed   priors  \\\n",
       "0     Car Accident      New Jersey  Female  64.0  Asian       No  Unclear   \n",
       "1     Car Accident      California    Male  58.0  Asian  Unclear  Unclear   \n",
       "2     Car Accident        Illinois  Female  54.0  Black       No       No   \n",
       "3     Car Accident         Georgia    Male  62.0  Black       No  Unclear   \n",
       "4     Car Accident        Michigan  Female  64.0  Black  Unclear  Unclear   \n",
       "...            ...             ...     ...   ...    ...      ...      ...   \n",
       "2350     Taser Gun         Florida    Male  41.0  White       No      Yes   \n",
       "2351     Taser Gun        Kentucky    Male  56.0  White       No  Unclear   \n",
       "2352     Taser Gun  North Carolina    Male  55.0  White       No  Unclear   \n",
       "2353     Taser Gun          Kansas    Male  34.0  White       No  Unclear   \n",
       "2354     Taser Gun           Texas    Male  34.0  White       No  Unclear   \n",
       "\n",
       "        fired age_range red/blue state  \n",
       "0     Unclear     55-65           blue  \n",
       "1     Unclear     55-65           blue  \n",
       "2          No     45-54           blue  \n",
       "3     Unclear     55-65            red  \n",
       "4     Unclear     55-65           blue  \n",
       "...       ...       ...            ...  \n",
       "2350      Yes     35-44            red  \n",
       "2351  Unclear     55-65            red  \n",
       "2352  Unclear     45-54            red  \n",
       "2353  Unclear     25-34            red  \n",
       "2354  Unclear     25-34            red  \n",
       "\n",
       "[2355 rows x 10 columns]"
      ]
     },
     "execution_count": 25,
     "metadata": {},
     "output_type": "execute_result"
    }
   ],
   "source": [
    "df"
   ]
  },
  {
   "cell_type": "code",
   "execution_count": 26,
   "metadata": {
    "collapsed": true
   },
   "outputs": [],
   "source": [
    "df_income = pd.read_csv(os.path.join('C:\\Users\\morgane1\\Desktop\\householdincome.csv'))"
   ]
  },
  {
   "cell_type": "code",
   "execution_count": 27,
   "metadata": {
    "collapsed": false
   },
   "outputs": [
    {
     "data": {
      "text/html": [
       "<div>\n",
       "<table border=\"1\" class=\"dataframe\">\n",
       "  <thead>\n",
       "    <tr style=\"text-align: right;\">\n",
       "      <th></th>\n",
       "      <th>Unnamed: 0</th>\n",
       "      <th>2014 Q4</th>\n",
       "      <th>2015 Q1</th>\n",
       "      <th>2015 Q2</th>\n",
       "      <th>2015 Q3</th>\n",
       "      <th>2015 Q4</th>\n",
       "      <th>2016 Q1</th>\n",
       "      <th>Average</th>\n",
       "    </tr>\n",
       "  </thead>\n",
       "  <tbody>\n",
       "    <tr>\n",
       "      <th>0</th>\n",
       "      <td>Connecticut .................................</td>\n",
       "      <td>236,828</td>\n",
       "      <td>237,080</td>\n",
       "      <td>240,603</td>\n",
       "      <td>241,352</td>\n",
       "      <td>244,751</td>\n",
       "      <td>246,600</td>\n",
       "      <td>241202.3</td>\n",
       "    </tr>\n",
       "    <tr>\n",
       "      <th>1</th>\n",
       "      <td>Maine .......................................</td>\n",
       "      <td>55,285</td>\n",
       "      <td>54,804</td>\n",
       "      <td>55,841</td>\n",
       "      <td>56,501</td>\n",
       "      <td>57,264</td>\n",
       "      <td>58,054</td>\n",
       "      <td>56291.5</td>\n",
       "    </tr>\n",
       "    <tr>\n",
       "      <th>2</th>\n",
       "      <td>Massachusetts ...............................</td>\n",
       "      <td>404,213</td>\n",
       "      <td>408,040</td>\n",
       "      <td>413,859</td>\n",
       "      <td>416,694</td>\n",
       "      <td>423,950</td>\n",
       "      <td>428,863</td>\n",
       "      <td>415936.5</td>\n",
       "    </tr>\n",
       "    <tr>\n",
       "      <th>3</th>\n",
       "      <td>New Hampshire ...............................</td>\n",
       "      <td>71,515</td>\n",
       "      <td>71,287</td>\n",
       "      <td>72,690</td>\n",
       "      <td>73,606</td>\n",
       "      <td>75,267</td>\n",
       "      <td>76,098</td>\n",
       "      <td>73410.5</td>\n",
       "    </tr>\n",
       "    <tr>\n",
       "      <th>4</th>\n",
       "      <td>Rhode Island ................................</td>\n",
       "      <td>51,952</td>\n",
       "      <td>52,036</td>\n",
       "      <td>52,869</td>\n",
       "      <td>53,209</td>\n",
       "      <td>53,851</td>\n",
       "      <td>54,431</td>\n",
       "      <td>53058.0</td>\n",
       "    </tr>\n",
       "    <tr>\n",
       "      <th>...</th>\n",
       "      <td>...</td>\n",
       "      <td>...</td>\n",
       "      <td>...</td>\n",
       "      <td>...</td>\n",
       "      <td>...</td>\n",
       "      <td>...</td>\n",
       "      <td>...</td>\n",
       "      <td>...</td>\n",
       "    </tr>\n",
       "    <tr>\n",
       "      <th>46</th>\n",
       "      <td>California ..................................</td>\n",
       "      <td>1,974,525</td>\n",
       "      <td>2,011,012</td>\n",
       "      <td>2,056,153</td>\n",
       "      <td>2,077,759</td>\n",
       "      <td>2,099,673</td>\n",
       "      <td>2,119,407</td>\n",
       "      <td>2056421.5</td>\n",
       "    </tr>\n",
       "    <tr>\n",
       "      <th>47</th>\n",
       "      <td>Hawaii ......................................</td>\n",
       "      <td>66,378</td>\n",
       "      <td>67,232</td>\n",
       "      <td>68,103</td>\n",
       "      <td>68,861</td>\n",
       "      <td>69,612</td>\n",
       "      <td>70,377</td>\n",
       "      <td>68427.2</td>\n",
       "    </tr>\n",
       "    <tr>\n",
       "      <th>48</th>\n",
       "      <td>Nevada ......................................</td>\n",
       "      <td>118,075</td>\n",
       "      <td>119,273</td>\n",
       "      <td>121,610</td>\n",
       "      <td>122,875</td>\n",
       "      <td>124,484</td>\n",
       "      <td>125,638</td>\n",
       "      <td>121992.5</td>\n",
       "    </tr>\n",
       "    <tr>\n",
       "      <th>49</th>\n",
       "      <td>Oregon ......................................</td>\n",
       "      <td>167,022</td>\n",
       "      <td>169,604</td>\n",
       "      <td>171,874</td>\n",
       "      <td>175,278</td>\n",
       "      <td>176,892</td>\n",
       "      <td>179,076</td>\n",
       "      <td>173291.0</td>\n",
       "    </tr>\n",
       "    <tr>\n",
       "      <th>50</th>\n",
       "      <td>Washington ..................................</td>\n",
       "      <td>358,280</td>\n",
       "      <td>358,961</td>\n",
       "      <td>366,344</td>\n",
       "      <td>369,789</td>\n",
       "      <td>373,291</td>\n",
       "      <td>378,921</td>\n",
       "      <td>367597.7</td>\n",
       "    </tr>\n",
       "  </tbody>\n",
       "</table>\n",
       "<p>51 rows × 8 columns</p>\n",
       "</div>"
      ],
      "text/plain": [
       "                                           Unnamed: 0    2014 Q4    2015 Q1  \\\n",
       "0       Connecticut .................................    236,828    237,080   \n",
       "1       Maine .......................................     55,285     54,804   \n",
       "2       Massachusetts ...............................    404,213    408,040   \n",
       "3       New Hampshire ...............................     71,515     71,287   \n",
       "4       Rhode Island ................................     51,952     52,036   \n",
       "..                                                ...        ...        ...   \n",
       "46      California ..................................  1,974,525  2,011,012   \n",
       "47      Hawaii ......................................     66,378     67,232   \n",
       "48      Nevada ......................................    118,075    119,273   \n",
       "49      Oregon ......................................    167,022    169,604   \n",
       "50      Washington ..................................    358,280    358,961   \n",
       "\n",
       "      2015 Q2    2015 Q3    2015 Q4    2016 Q1   Average   \n",
       "0     240,603    241,352    244,751    246,600   241202.3  \n",
       "1      55,841     56,501     57,264     58,054    56291.5  \n",
       "2     413,859    416,694    423,950    428,863   415936.5  \n",
       "3      72,690     73,606     75,267     76,098    73410.5  \n",
       "4      52,869     53,209     53,851     54,431    53058.0  \n",
       "..        ...        ...        ...        ...        ...  \n",
       "46  2,056,153  2,077,759  2,099,673  2,119,407  2056421.5  \n",
       "47     68,103     68,861     69,612     70,377    68427.2  \n",
       "48    121,610    122,875    124,484    125,638   121992.5  \n",
       "49    171,874    175,278    176,892    179,076   173291.0  \n",
       "50    366,344    369,789    373,291    378,921   367597.7  \n",
       "\n",
       "[51 rows x 8 columns]"
      ]
     },
     "execution_count": 27,
     "metadata": {},
     "output_type": "execute_result"
    }
   ],
   "source": [
    "df_income"
   ]
  },
  {
   "cell_type": "markdown",
   "metadata": {},
   "source": [
    "Source of income analysis is the U.S. Bureau of Economic Analysis: http://www.bea.gov/newsreleases/regional/spi/sqpi_newsrelease.htm"
   ]
  },
  {
   "cell_type": "code",
   "execution_count": 28,
   "metadata": {
    "collapsed": false
   },
   "outputs": [
    {
     "data": {
      "text/plain": [
       "300689.362745098"
      ]
     },
     "execution_count": 28,
     "metadata": {},
     "output_type": "execute_result"
    }
   ],
   "source": [
    "df_income['Average '].mean()"
   ]
  },
  {
   "cell_type": "code",
   "execution_count": 29,
   "metadata": {
    "collapsed": false
   },
   "outputs": [
    {
     "data": {
      "text/plain": [
       "186600.5"
      ]
     },
     "execution_count": 29,
     "metadata": {},
     "output_type": "execute_result"
    }
   ],
   "source": [
    "df_income['Average '].median()"
   ]
  },
  {
   "cell_type": "code",
   "execution_count": 30,
   "metadata": {
    "collapsed": false
   },
   "outputs": [],
   "source": [
    "df_income = df_income.dropna(subset = ['Average '])\n"
   ]
  },
  {
   "cell_type": "code",
   "execution_count": 31,
   "metadata": {
    "collapsed": false
   },
   "outputs": [
    {
     "data": {
      "text/plain": [
       "0.25     70918.85\n",
       "0.50    186600.50\n",
       "0.75    388273.45\n",
       "Name: Average , dtype: float64"
      ]
     },
     "execution_count": 31,
     "metadata": {},
     "output_type": "execute_result"
    }
   ],
   "source": [
    "df_income['Average '].quantile([.25, .5, .75])"
   ]
  },
  {
   "cell_type": "code",
   "execution_count": 32,
   "metadata": {
    "collapsed": false
   },
   "outputs": [
    {
     "data": {
      "text/plain": [
       "2056421.5"
      ]
     },
     "execution_count": 32,
     "metadata": {},
     "output_type": "execute_result"
    }
   ],
   "source": [
    "df_income['Average '].max()"
   ]
  },
  {
   "cell_type": "code",
   "execution_count": 33,
   "metadata": {
    "collapsed": true
   },
   "outputs": [],
   "source": [
    "bins = [0, 75000, 200000, 400000, 2056421]\n",
    "group_names = ['<75000','75000-200000','200000-400000','>400000']"
   ]
  },
  {
   "cell_type": "code",
   "execution_count": 34,
   "metadata": {
    "collapsed": false
   },
   "outputs": [
    {
     "data": {
      "text/plain": [
       "0     200000-400000\n",
       "1            <75000\n",
       "2           >400000\n",
       "3            <75000\n",
       "4            <75000\n",
       "          ...      \n",
       "46              NaN\n",
       "47           <75000\n",
       "48     75000-200000\n",
       "49     75000-200000\n",
       "50    200000-400000\n",
       "Name: Average , dtype: category\n",
       "Categories (4, object): [<75000 < 75000-200000 < 200000-400000 < >400000]"
      ]
     },
     "execution_count": 34,
     "metadata": {},
     "output_type": "execute_result"
    }
   ],
   "source": [
    "income_range = pd.cut(df_income['Average '], bins, labels = group_names)\n",
    "df['income_range'] = pd.cut(df_income['Average '], bins, labels = group_names)\n",
    "income_range"
   ]
  },
  {
   "cell_type": "code",
   "execution_count": 43,
   "metadata": {
    "collapsed": false
   },
   "outputs": [
    {
     "data": {
      "text/plain": [
       "<75000           14\n",
       "75000-200000     13\n",
       ">400000          12\n",
       "200000-400000    11\n",
       "Name: income_range, dtype: int64"
      ]
     },
     "execution_count": 43,
     "metadata": {},
     "output_type": "execute_result"
    }
   ],
   "source": [
    "df['income_range'].value_counts()"
   ]
  },
  {
   "cell_type": "code",
   "execution_count": null,
   "metadata": {
    "collapsed": true
   },
   "outputs": [],
   "source": [
    "#I want to add these incomes to the dataframe based on the state name...not sure how to do that right now. "
   ]
  },
  {
   "cell_type": "code",
   "execution_count": 37,
   "metadata": {
    "collapsed": false
   },
   "outputs": [
    {
     "data": {
      "text/html": [
       "<div>\n",
       "<table border=\"1\" class=\"dataframe\">\n",
       "  <thead>\n",
       "    <tr style=\"text-align: right;\">\n",
       "      <th></th>\n",
       "      <th>cause_death</th>\n",
       "      <th>State</th>\n",
       "      <th>Gender</th>\n",
       "      <th>Age</th>\n",
       "      <th>Race</th>\n",
       "      <th>...</th>\n",
       "      <th>priors</th>\n",
       "      <th>fired</th>\n",
       "      <th>age_range</th>\n",
       "      <th>red/blue state</th>\n",
       "      <th>income_range</th>\n",
       "    </tr>\n",
       "  </thead>\n",
       "  <tbody>\n",
       "    <tr>\n",
       "      <th>0</th>\n",
       "      <td>Car Accident</td>\n",
       "      <td>New Jersey</td>\n",
       "      <td>Female</td>\n",
       "      <td>64.0</td>\n",
       "      <td>Asian</td>\n",
       "      <td>...</td>\n",
       "      <td>Unclear</td>\n",
       "      <td>Unclear</td>\n",
       "      <td>55-65</td>\n",
       "      <td>blue</td>\n",
       "      <td>200000-400000</td>\n",
       "    </tr>\n",
       "    <tr>\n",
       "      <th>1</th>\n",
       "      <td>Car Accident</td>\n",
       "      <td>California</td>\n",
       "      <td>Male</td>\n",
       "      <td>58.0</td>\n",
       "      <td>Asian</td>\n",
       "      <td>...</td>\n",
       "      <td>Unclear</td>\n",
       "      <td>Unclear</td>\n",
       "      <td>55-65</td>\n",
       "      <td>blue</td>\n",
       "      <td>&lt;75000</td>\n",
       "    </tr>\n",
       "    <tr>\n",
       "      <th>2</th>\n",
       "      <td>Car Accident</td>\n",
       "      <td>Illinois</td>\n",
       "      <td>Female</td>\n",
       "      <td>54.0</td>\n",
       "      <td>Black</td>\n",
       "      <td>...</td>\n",
       "      <td>No</td>\n",
       "      <td>No</td>\n",
       "      <td>45-54</td>\n",
       "      <td>blue</td>\n",
       "      <td>NaN</td>\n",
       "    </tr>\n",
       "    <tr>\n",
       "      <th>3</th>\n",
       "      <td>Car Accident</td>\n",
       "      <td>Georgia</td>\n",
       "      <td>Male</td>\n",
       "      <td>62.0</td>\n",
       "      <td>Black</td>\n",
       "      <td>...</td>\n",
       "      <td>Unclear</td>\n",
       "      <td>Unclear</td>\n",
       "      <td>55-65</td>\n",
       "      <td>red</td>\n",
       "      <td>&lt;75000</td>\n",
       "    </tr>\n",
       "    <tr>\n",
       "      <th>4</th>\n",
       "      <td>Car Accident</td>\n",
       "      <td>Michigan</td>\n",
       "      <td>Female</td>\n",
       "      <td>64.0</td>\n",
       "      <td>Black</td>\n",
       "      <td>...</td>\n",
       "      <td>Unclear</td>\n",
       "      <td>Unclear</td>\n",
       "      <td>55-65</td>\n",
       "      <td>blue</td>\n",
       "      <td>&lt;75000</td>\n",
       "    </tr>\n",
       "    <tr>\n",
       "      <th>...</th>\n",
       "      <td>...</td>\n",
       "      <td>...</td>\n",
       "      <td>...</td>\n",
       "      <td>...</td>\n",
       "      <td>...</td>\n",
       "      <td>...</td>\n",
       "      <td>...</td>\n",
       "      <td>...</td>\n",
       "      <td>...</td>\n",
       "      <td>...</td>\n",
       "      <td>...</td>\n",
       "    </tr>\n",
       "    <tr>\n",
       "      <th>2350</th>\n",
       "      <td>Taser Gun</td>\n",
       "      <td>Florida</td>\n",
       "      <td>Male</td>\n",
       "      <td>41.0</td>\n",
       "      <td>White</td>\n",
       "      <td>...</td>\n",
       "      <td>Yes</td>\n",
       "      <td>Yes</td>\n",
       "      <td>35-44</td>\n",
       "      <td>red</td>\n",
       "      <td>NaN</td>\n",
       "    </tr>\n",
       "    <tr>\n",
       "      <th>2351</th>\n",
       "      <td>Taser Gun</td>\n",
       "      <td>Kentucky</td>\n",
       "      <td>Male</td>\n",
       "      <td>56.0</td>\n",
       "      <td>White</td>\n",
       "      <td>...</td>\n",
       "      <td>Unclear</td>\n",
       "      <td>Unclear</td>\n",
       "      <td>55-65</td>\n",
       "      <td>red</td>\n",
       "      <td>NaN</td>\n",
       "    </tr>\n",
       "    <tr>\n",
       "      <th>2352</th>\n",
       "      <td>Taser Gun</td>\n",
       "      <td>North Carolina</td>\n",
       "      <td>Male</td>\n",
       "      <td>55.0</td>\n",
       "      <td>White</td>\n",
       "      <td>...</td>\n",
       "      <td>Unclear</td>\n",
       "      <td>Unclear</td>\n",
       "      <td>45-54</td>\n",
       "      <td>red</td>\n",
       "      <td>NaN</td>\n",
       "    </tr>\n",
       "    <tr>\n",
       "      <th>2353</th>\n",
       "      <td>Taser Gun</td>\n",
       "      <td>Kansas</td>\n",
       "      <td>Male</td>\n",
       "      <td>34.0</td>\n",
       "      <td>White</td>\n",
       "      <td>...</td>\n",
       "      <td>Unclear</td>\n",
       "      <td>Unclear</td>\n",
       "      <td>25-34</td>\n",
       "      <td>red</td>\n",
       "      <td>NaN</td>\n",
       "    </tr>\n",
       "    <tr>\n",
       "      <th>2354</th>\n",
       "      <td>Taser Gun</td>\n",
       "      <td>Texas</td>\n",
       "      <td>Male</td>\n",
       "      <td>34.0</td>\n",
       "      <td>White</td>\n",
       "      <td>...</td>\n",
       "      <td>Unclear</td>\n",
       "      <td>Unclear</td>\n",
       "      <td>25-34</td>\n",
       "      <td>red</td>\n",
       "      <td>NaN</td>\n",
       "    </tr>\n",
       "  </tbody>\n",
       "</table>\n",
       "<p>2355 rows × 11 columns</p>\n",
       "</div>"
      ],
      "text/plain": [
       "       cause_death           State  Gender   Age   Race      ...        \\\n",
       "0     Car Accident      New Jersey  Female  64.0  Asian      ...         \n",
       "1     Car Accident      California    Male  58.0  Asian      ...         \n",
       "2     Car Accident        Illinois  Female  54.0  Black      ...         \n",
       "3     Car Accident         Georgia    Male  62.0  Black      ...         \n",
       "4     Car Accident        Michigan  Female  64.0  Black      ...         \n",
       "...            ...             ...     ...   ...    ...      ...         \n",
       "2350     Taser Gun         Florida    Male  41.0  White      ...         \n",
       "2351     Taser Gun        Kentucky    Male  56.0  White      ...         \n",
       "2352     Taser Gun  North Carolina    Male  55.0  White      ...         \n",
       "2353     Taser Gun          Kansas    Male  34.0  White      ...         \n",
       "2354     Taser Gun           Texas    Male  34.0  White      ...         \n",
       "\n",
       "       priors    fired age_range red/blue state   income_range  \n",
       "0     Unclear  Unclear     55-65           blue  200000-400000  \n",
       "1     Unclear  Unclear     55-65           blue         <75000  \n",
       "2          No       No     45-54           blue            NaN  \n",
       "3     Unclear  Unclear     55-65            red         <75000  \n",
       "4     Unclear  Unclear     55-65           blue         <75000  \n",
       "...       ...      ...       ...            ...            ...  \n",
       "2350      Yes      Yes     35-44            red            NaN  \n",
       "2351  Unclear  Unclear     55-65            red            NaN  \n",
       "2352  Unclear  Unclear     45-54            red            NaN  \n",
       "2353  Unclear  Unclear     25-34            red            NaN  \n",
       "2354  Unclear  Unclear     25-34            red            NaN  \n",
       "\n",
       "[2355 rows x 11 columns]"
      ]
     },
     "execution_count": 37,
     "metadata": {},
     "output_type": "execute_result"
    }
   ],
   "source": [
    "df"
   ]
  },
  {
   "cell_type": "code",
   "execution_count": 19,
   "metadata": {
    "collapsed": false
   },
   "outputs": [
    {
     "data": {
      "text/html": [
       "<div>\n",
       "<table border=\"1\" class=\"dataframe\">\n",
       "  <thead>\n",
       "    <tr style=\"text-align: right;\">\n",
       "      <th></th>\n",
       "      <th>No</th>\n",
       "      <th>Unclear</th>\n",
       "      <th>Yes</th>\n",
       "    </tr>\n",
       "  </thead>\n",
       "  <tbody>\n",
       "    <tr>\n",
       "      <th>0</th>\n",
       "      <td>0.0</td>\n",
       "      <td>1.0</td>\n",
       "      <td>0.0</td>\n",
       "    </tr>\n",
       "    <tr>\n",
       "      <th>1</th>\n",
       "      <td>0.0</td>\n",
       "      <td>0.0</td>\n",
       "      <td>1.0</td>\n",
       "    </tr>\n",
       "    <tr>\n",
       "      <th>2</th>\n",
       "      <td>0.0</td>\n",
       "      <td>1.0</td>\n",
       "      <td>0.0</td>\n",
       "    </tr>\n",
       "    <tr>\n",
       "      <th>3</th>\n",
       "      <td>0.0</td>\n",
       "      <td>1.0</td>\n",
       "      <td>0.0</td>\n",
       "    </tr>\n",
       "    <tr>\n",
       "      <th>4</th>\n",
       "      <td>0.0</td>\n",
       "      <td>1.0</td>\n",
       "      <td>0.0</td>\n",
       "    </tr>\n",
       "    <tr>\n",
       "      <th>...</th>\n",
       "      <td>...</td>\n",
       "      <td>...</td>\n",
       "      <td>...</td>\n",
       "    </tr>\n",
       "    <tr>\n",
       "      <th>2350</th>\n",
       "      <td>0.0</td>\n",
       "      <td>1.0</td>\n",
       "      <td>0.0</td>\n",
       "    </tr>\n",
       "    <tr>\n",
       "      <th>2351</th>\n",
       "      <td>0.0</td>\n",
       "      <td>1.0</td>\n",
       "      <td>0.0</td>\n",
       "    </tr>\n",
       "    <tr>\n",
       "      <th>2352</th>\n",
       "      <td>0.0</td>\n",
       "      <td>0.0</td>\n",
       "      <td>1.0</td>\n",
       "    </tr>\n",
       "    <tr>\n",
       "      <th>2353</th>\n",
       "      <td>0.0</td>\n",
       "      <td>1.0</td>\n",
       "      <td>0.0</td>\n",
       "    </tr>\n",
       "    <tr>\n",
       "      <th>2354</th>\n",
       "      <td>0.0</td>\n",
       "      <td>1.0</td>\n",
       "      <td>0.0</td>\n",
       "    </tr>\n",
       "  </tbody>\n",
       "</table>\n",
       "<p>2160 rows × 3 columns</p>\n",
       "</div>"
      ],
      "text/plain": [
       "       No  Unclear  Yes\n",
       "0     0.0      1.0  0.0\n",
       "1     0.0      0.0  1.0\n",
       "2     0.0      1.0  0.0\n",
       "3     0.0      1.0  0.0\n",
       "4     0.0      1.0  0.0\n",
       "...   ...      ...  ...\n",
       "2350  0.0      1.0  0.0\n",
       "2351  0.0      1.0  0.0\n",
       "2352  0.0      0.0  1.0\n",
       "2353  0.0      1.0  0.0\n",
       "2354  0.0      1.0  0.0\n",
       "\n",
       "[2160 rows x 3 columns]"
      ]
     },
     "execution_count": 19,
     "metadata": {},
     "output_type": "execute_result"
    }
   ],
   "source": [
    "y = df.fired\n",
    "ys = pd.get_dummies(y, prefix = None)\n",
    "ys"
   ]
  },
  {
   "cell_type": "code",
   "execution_count": null,
   "metadata": {
    "collapsed": true
   },
   "outputs": [],
   "source": []
  },
  {
   "cell_type": "code",
   "execution_count": 20,
   "metadata": {
    "collapsed": true
   },
   "outputs": [],
   "source": [
    "#should I see if the total number of deaths is correlated with time?"
   ]
  },
  {
   "cell_type": "code",
   "execution_count": 21,
   "metadata": {
    "collapsed": true
   },
   "outputs": [],
   "source": [
    "#drop unnecessary columns (\"Photo\", \"News Story\")"
   ]
  },
  {
   "cell_type": "code",
   "execution_count": null,
   "metadata": {
    "collapsed": true
   },
   "outputs": [],
   "source": [
    "#Split up the city and state column and delete the duplicate city column. "
   ]
  },
  {
   "cell_type": "code",
   "execution_count": null,
   "metadata": {
    "collapsed": true
   },
   "outputs": [],
   "source": [
    "#remove all the lines that aren't shootings - tasers."
   ]
  },
  {
   "cell_type": "code",
   "execution_count": null,
   "metadata": {
    "collapsed": true
   },
   "outputs": [],
   "source": [
    "#maybe disregard city entirely because that part of the data set isn't complete. "
   ]
  }
 ],
 "metadata": {
  "anaconda-cloud": {},
  "kernelspec": {
   "display_name": "Python [Root]",
   "language": "python",
   "name": "Python [Root]"
  },
  "language_info": {
   "codemirror_mode": {
    "name": "ipython",
    "version": 2
   },
   "file_extension": ".py",
   "mimetype": "text/x-python",
   "name": "python",
   "nbconvert_exporter": "python",
   "pygments_lexer": "ipython2",
   "version": "2.7.12"
  }
 },
 "nbformat": 4,
 "nbformat_minor": 0
}
