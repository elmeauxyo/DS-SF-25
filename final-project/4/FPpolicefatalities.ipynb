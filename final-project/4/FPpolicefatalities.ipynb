{
 "cells": [
  {
   "cell_type": "code",
   "execution_count": 111,
   "metadata": {
    "collapsed": false
   },
   "outputs": [],
   "source": [
    "import os\n",
    "\n",
    "import numpy as np\n",
    "import pandas as pd\n",
    "pd.set_option('display.max_rows', 10)\n",
    "pd.set_option('display.notebook_repr_html', True)\n",
    "pd.set_option('display.max_columns', 10)\n",
    "\n",
    "import statsmodels.formula.api as smf\n",
    "from sklearn import linear_model, tree, ensemble, metrics, externals, cross_validation\n",
    "# logistic regression is part of sklearn - linear model\n",
    "\n",
    "import matplotlib.pyplot as plt\n",
    "%matplotlib inline\n",
    "plt.style.use('ggplot')"
   ]
  },
  {
   "cell_type": "code",
   "execution_count": 112,
   "metadata": {
    "collapsed": false
   },
   "outputs": [],
   "source": [
    "df = pd.read_csv(os.path.join('C:\\Users\\morgane1\\Desktop\\policefatalities.csv'))"
   ]
  },
  {
   "cell_type": "code",
   "execution_count": 113,
   "metadata": {
    "collapsed": false
   },
   "outputs": [
    {
     "data": {
      "text/html": [
       "<div>\n",
       "<table border=\"1\" class=\"dataframe\">\n",
       "  <thead>\n",
       "    <tr style=\"text-align: right;\">\n",
       "      <th></th>\n",
       "      <th>Name</th>\n",
       "      <th>Cause of Death</th>\n",
       "      <th>Date of Death</th>\n",
       "      <th>State</th>\n",
       "      <th>City</th>\n",
       "      <th>...</th>\n",
       "      <th>Month of Death</th>\n",
       "      <th>Year of Death</th>\n",
       "      <th>Was the deceased armed?</th>\n",
       "      <th>Did the deceased have priors?</th>\n",
       "      <th>Was the officer involved fired or suspended?</th>\n",
       "    </tr>\n",
       "  </thead>\n",
       "  <tbody>\n",
       "    <tr>\n",
       "      <th>0</th>\n",
       "      <td>Hue Dang</td>\n",
       "      <td>Car Accident</td>\n",
       "      <td>11/3/2015</td>\n",
       "      <td>New Jersey</td>\n",
       "      <td>Hackensack, New Jersey</td>\n",
       "      <td>...</td>\n",
       "      <td>March</td>\n",
       "      <td>2015</td>\n",
       "      <td>No</td>\n",
       "      <td>Unclear</td>\n",
       "      <td>Unclear</td>\n",
       "    </tr>\n",
       "    <tr>\n",
       "      <th>1</th>\n",
       "      <td>Jacqueline Reynolds</td>\n",
       "      <td>Car Accident</td>\n",
       "      <td>8/5/2013</td>\n",
       "      <td>Illinois</td>\n",
       "      <td>Chicago, Illinois</td>\n",
       "      <td>...</td>\n",
       "      <td>13-May</td>\n",
       "      <td>2013</td>\n",
       "      <td>No</td>\n",
       "      <td>No</td>\n",
       "      <td>No</td>\n",
       "    </tr>\n",
       "    <tr>\n",
       "      <th>2</th>\n",
       "      <td>Bernard Moore</td>\n",
       "      <td>Car Accident</td>\n",
       "      <td>6/3/2015</td>\n",
       "      <td>Georgia</td>\n",
       "      <td>Atlanta, Georgia</td>\n",
       "      <td>...</td>\n",
       "      <td>March</td>\n",
       "      <td>2015</td>\n",
       "      <td>No</td>\n",
       "      <td>Unclear</td>\n",
       "      <td>Unclear</td>\n",
       "    </tr>\n",
       "    <tr>\n",
       "      <th>3</th>\n",
       "      <td>Michael Barnes</td>\n",
       "      <td>Car Accident</td>\n",
       "      <td>4/10/2013</td>\n",
       "      <td>Pennsylvania</td>\n",
       "      <td>Pittsburgh, Pennsylvania</td>\n",
       "      <td>...</td>\n",
       "      <td>13-Oct</td>\n",
       "      <td>2013</td>\n",
       "      <td>No</td>\n",
       "      <td>No</td>\n",
       "      <td>Yes</td>\n",
       "    </tr>\n",
       "    <tr>\n",
       "      <th>4</th>\n",
       "      <td>Briant Paula</td>\n",
       "      <td>Car Accident</td>\n",
       "      <td>23/08/2014</td>\n",
       "      <td>Massachusetts</td>\n",
       "      <td>Lawrence, Massachusetts</td>\n",
       "      <td>...</td>\n",
       "      <td>14-Aug</td>\n",
       "      <td>2014</td>\n",
       "      <td>No</td>\n",
       "      <td>Unclear</td>\n",
       "      <td>Yes</td>\n",
       "    </tr>\n",
       "    <tr>\n",
       "      <th>...</th>\n",
       "      <td>...</td>\n",
       "      <td>...</td>\n",
       "      <td>...</td>\n",
       "      <td>...</td>\n",
       "      <td>...</td>\n",
       "      <td>...</td>\n",
       "      <td>...</td>\n",
       "      <td>...</td>\n",
       "      <td>...</td>\n",
       "      <td>...</td>\n",
       "      <td>...</td>\n",
       "    </tr>\n",
       "    <tr>\n",
       "      <th>2350</th>\n",
       "      <td>Unknown (68)</td>\n",
       "      <td>Shooting</td>\n",
       "      <td>1/12/2014</td>\n",
       "      <td>Texas</td>\n",
       "      <td>Harris County, Texas</td>\n",
       "      <td>...</td>\n",
       "      <td>14-Dec</td>\n",
       "      <td>2014</td>\n",
       "      <td>Yes</td>\n",
       "      <td>Unclear</td>\n",
       "      <td>Unclear</td>\n",
       "    </tr>\n",
       "    <tr>\n",
       "      <th>2351</th>\n",
       "      <td>Unknown (69)</td>\n",
       "      <td>Shooting</td>\n",
       "      <td>3/12/2014</td>\n",
       "      <td>California</td>\n",
       "      <td>Los Angeles, California</td>\n",
       "      <td>...</td>\n",
       "      <td>14-Dec</td>\n",
       "      <td>2014</td>\n",
       "      <td>Yes</td>\n",
       "      <td>Unclear</td>\n",
       "      <td>Unclear</td>\n",
       "    </tr>\n",
       "    <tr>\n",
       "      <th>2352</th>\n",
       "      <td>Zheng Diao</td>\n",
       "      <td>Taser Gun</td>\n",
       "      <td>21/08/2013</td>\n",
       "      <td>Minnesota</td>\n",
       "      <td>St. Louis Park, Minnesota</td>\n",
       "      <td>...</td>\n",
       "      <td>13-Aug</td>\n",
       "      <td>2013</td>\n",
       "      <td>Yes</td>\n",
       "      <td>Unclear</td>\n",
       "      <td>Unclear</td>\n",
       "    </tr>\n",
       "    <tr>\n",
       "      <th>2353</th>\n",
       "      <td>John Wrana</td>\n",
       "      <td>Taser Gun</td>\n",
       "      <td>27/07/2013</td>\n",
       "      <td>Illinois</td>\n",
       "      <td>Park Forest, Illinois</td>\n",
       "      <td>...</td>\n",
       "      <td>13-Jul</td>\n",
       "      <td>2013</td>\n",
       "      <td>Yes</td>\n",
       "      <td>Unclear</td>\n",
       "      <td>Unclear</td>\n",
       "    </tr>\n",
       "    <tr>\n",
       "      <th>2354</th>\n",
       "      <td>Michael Lee Zubrod</td>\n",
       "      <td>Taser Gun</td>\n",
       "      <td>23/09/2013</td>\n",
       "      <td>Iowa</td>\n",
       "      <td>Na, Iowa</td>\n",
       "      <td>...</td>\n",
       "      <td>13-Sep</td>\n",
       "      <td>2013</td>\n",
       "      <td>Yes</td>\n",
       "      <td>Unclear</td>\n",
       "      <td>Unclear</td>\n",
       "    </tr>\n",
       "  </tbody>\n",
       "</table>\n",
       "<p>2355 rows × 15 columns</p>\n",
       "</div>"
      ],
      "text/plain": [
       "                     Name Cause of Death Date of Death          State  \\\n",
       "0                Hue Dang   Car Accident     11/3/2015     New Jersey   \n",
       "1     Jacqueline Reynolds   Car Accident      8/5/2013       Illinois   \n",
       "2           Bernard Moore   Car Accident      6/3/2015        Georgia   \n",
       "3          Michael Barnes   Car Accident     4/10/2013   Pennsylvania   \n",
       "4            Briant Paula   Car Accident    23/08/2014  Massachusetts   \n",
       "...                   ...            ...           ...            ...   \n",
       "2350         Unknown (68)       Shooting     1/12/2014          Texas   \n",
       "2351         Unknown (69)       Shooting     3/12/2014     California   \n",
       "2352           Zheng Diao      Taser Gun    21/08/2013      Minnesota   \n",
       "2353           John Wrana      Taser Gun    27/07/2013       Illinois   \n",
       "2354   Michael Lee Zubrod      Taser Gun    23/09/2013           Iowa   \n",
       "\n",
       "                           City                     ...                       \\\n",
       "0        Hackensack, New Jersey                     ...                        \n",
       "1             Chicago, Illinois                     ...                        \n",
       "2              Atlanta, Georgia                     ...                        \n",
       "3      Pittsburgh, Pennsylvania                     ...                        \n",
       "4       Lawrence, Massachusetts                     ...                        \n",
       "...                         ...                     ...                        \n",
       "2350       Harris County, Texas                     ...                        \n",
       "2351    Los Angeles, California                     ...                        \n",
       "2352  St. Louis Park, Minnesota                     ...                        \n",
       "2353      Park Forest, Illinois                     ...                        \n",
       "2354                   Na, Iowa                     ...                        \n",
       "\n",
       "     Month of Death  Year of Death Was the deceased armed?  \\\n",
       "0             March           2015                      No   \n",
       "1            13-May           2013                      No   \n",
       "2             March           2015                      No   \n",
       "3            13-Oct           2013                      No   \n",
       "4            14-Aug           2014                      No   \n",
       "...             ...            ...                     ...   \n",
       "2350         14-Dec           2014                     Yes   \n",
       "2351         14-Dec           2014                     Yes   \n",
       "2352         13-Aug           2013                     Yes   \n",
       "2353         13-Jul           2013                     Yes   \n",
       "2354         13-Sep           2013                     Yes   \n",
       "\n",
       "     Did the deceased have priors?  \\\n",
       "0                          Unclear   \n",
       "1                               No   \n",
       "2                          Unclear   \n",
       "3                               No   \n",
       "4                          Unclear   \n",
       "...                            ...   \n",
       "2350                       Unclear   \n",
       "2351                       Unclear   \n",
       "2352                       Unclear   \n",
       "2353                       Unclear   \n",
       "2354                       Unclear   \n",
       "\n",
       "     Was the officer involved fired or suspended?  \n",
       "0                                         Unclear  \n",
       "1                                              No  \n",
       "2                                         Unclear  \n",
       "3                                             Yes  \n",
       "4                                             Yes  \n",
       "...                                           ...  \n",
       "2350                                      Unclear  \n",
       "2351                                      Unclear  \n",
       "2352                                      Unclear  \n",
       "2353                                      Unclear  \n",
       "2354                                      Unclear  \n",
       "\n",
       "[2355 rows x 15 columns]"
      ]
     },
     "execution_count": 113,
     "metadata": {},
     "output_type": "execute_result"
    }
   ],
   "source": [
    "df"
   ]
  },
  {
   "cell_type": "code",
   "execution_count": 114,
   "metadata": {
    "collapsed": false
   },
   "outputs": [
    {
     "data": {
      "text/plain": [
       "(2355, 15)"
      ]
     },
     "execution_count": 114,
     "metadata": {},
     "output_type": "execute_result"
    }
   ],
   "source": [
    "df.shape"
   ]
  },
  {
   "cell_type": "code",
   "execution_count": 115,
   "metadata": {
    "collapsed": false
   },
   "outputs": [
    {
     "data": {
      "text/plain": [
       "['Name',\n",
       " 'Cause of Death',\n",
       " 'Date of Death',\n",
       " 'State',\n",
       " 'City',\n",
       " 'Gender',\n",
       " 'Age',\n",
       " 'Race',\n",
       " 'Photo',\n",
       " 'News Story',\n",
       " 'Month of Death',\n",
       " 'Year of Death',\n",
       " 'Was the deceased armed?',\n",
       " 'Did the deceased have priors?',\n",
       " 'Was the officer involved fired or suspended?']"
      ]
     },
     "execution_count": 115,
     "metadata": {},
     "output_type": "execute_result"
    }
   ],
   "source": [
    "list(df.columns.values)"
   ]
  },
  {
   "cell_type": "code",
   "execution_count": 116,
   "metadata": {
    "collapsed": true
   },
   "outputs": [],
   "source": [
    "df = df.rename(columns = {'Cause of Death':'cause_death', 'Date of Death': 'date_death', 'Month of Death': 'month_death', 'Year of Death':'year_death','Was the deceased armed?':'armed', 'Did the deceased have priors?':'priors','Was the officer involved fired or suspended?':'fired'})"
   ]
  },
  {
   "cell_type": "code",
   "execution_count": 117,
   "metadata": {
    "collapsed": false
   },
   "outputs": [
    {
     "data": {
      "text/plain": [
       "['Name',\n",
       " 'cause_death',\n",
       " 'date_death',\n",
       " 'State',\n",
       " 'City',\n",
       " 'Gender',\n",
       " 'Age',\n",
       " 'Race',\n",
       " 'Photo',\n",
       " 'News Story',\n",
       " 'month_death',\n",
       " 'year_death',\n",
       " 'armed',\n",
       " 'priors',\n",
       " 'fired']"
      ]
     },
     "execution_count": 117,
     "metadata": {},
     "output_type": "execute_result"
    }
   ],
   "source": [
    "list(df.columns.values)"
   ]
  },
  {
   "cell_type": "markdown",
   "metadata": {},
   "source": [
    ">### Dropping unnecessary columns. "
   ]
  },
  {
   "cell_type": "markdown",
   "metadata": {},
   "source": [
    "The columns that I am choosing to drop are:\n",
    "Name\n",
    "Date of Death - of the victim\n",
    "City\n",
    "News Story\n",
    "Photo\n",
    "Month of Death - of the victim\n",
    "Year of Death - of the victim\n",
    "\n",
    "I am dropping name because it's not analyzable\n",
    "I am dropping all the dates because I did an analysis of how many deaths there were per year in Tableau and will be using those visualizations for my presentation. \n",
    "I am dropping City primarily because I don't have time to analyze it, if I had more time I would definitely use this, I wanted to look at population density in this manner, and may do this at a later date.\n",
    "I am dropping Photo and News Story because while these are nice references, I am not sure they are analyzable for me at this time, though they could definitely be use to fill in some of the empty variables with sufficient time. "
   ]
  },
  {
   "cell_type": "code",
   "execution_count": 118,
   "metadata": {
    "collapsed": false
   },
   "outputs": [
    {
     "data": {
      "text/html": [
       "<div>\n",
       "<table border=\"1\" class=\"dataframe\">\n",
       "  <thead>\n",
       "    <tr style=\"text-align: right;\">\n",
       "      <th></th>\n",
       "      <th>cause_death</th>\n",
       "      <th>State</th>\n",
       "      <th>Gender</th>\n",
       "      <th>Age</th>\n",
       "      <th>Race</th>\n",
       "      <th>armed</th>\n",
       "      <th>priors</th>\n",
       "      <th>fired</th>\n",
       "    </tr>\n",
       "  </thead>\n",
       "  <tbody>\n",
       "    <tr>\n",
       "      <th>0</th>\n",
       "      <td>Car Accident</td>\n",
       "      <td>New Jersey</td>\n",
       "      <td>Female</td>\n",
       "      <td>64.0</td>\n",
       "      <td>Asian</td>\n",
       "      <td>No</td>\n",
       "      <td>Unclear</td>\n",
       "      <td>Unclear</td>\n",
       "    </tr>\n",
       "    <tr>\n",
       "      <th>1</th>\n",
       "      <td>Car Accident</td>\n",
       "      <td>Illinois</td>\n",
       "      <td>Female</td>\n",
       "      <td>54.0</td>\n",
       "      <td>Black</td>\n",
       "      <td>No</td>\n",
       "      <td>No</td>\n",
       "      <td>No</td>\n",
       "    </tr>\n",
       "    <tr>\n",
       "      <th>2</th>\n",
       "      <td>Car Accident</td>\n",
       "      <td>Georgia</td>\n",
       "      <td>Male</td>\n",
       "      <td>62.0</td>\n",
       "      <td>Black</td>\n",
       "      <td>No</td>\n",
       "      <td>Unclear</td>\n",
       "      <td>Unclear</td>\n",
       "    </tr>\n",
       "    <tr>\n",
       "      <th>3</th>\n",
       "      <td>Car Accident</td>\n",
       "      <td>Pennsylvania</td>\n",
       "      <td>Male</td>\n",
       "      <td>49.0</td>\n",
       "      <td>Black</td>\n",
       "      <td>No</td>\n",
       "      <td>No</td>\n",
       "      <td>Yes</td>\n",
       "    </tr>\n",
       "    <tr>\n",
       "      <th>4</th>\n",
       "      <td>Car Accident</td>\n",
       "      <td>Massachusetts</td>\n",
       "      <td>Male</td>\n",
       "      <td>26.0</td>\n",
       "      <td>Black</td>\n",
       "      <td>No</td>\n",
       "      <td>Unclear</td>\n",
       "      <td>Yes</td>\n",
       "    </tr>\n",
       "  </tbody>\n",
       "</table>\n",
       "</div>"
      ],
      "text/plain": [
       "    cause_death          State  Gender   Age   Race armed   priors    fired\n",
       "0  Car Accident     New Jersey  Female  64.0  Asian    No  Unclear  Unclear\n",
       "1  Car Accident       Illinois  Female  54.0  Black    No       No       No\n",
       "2  Car Accident        Georgia    Male  62.0  Black    No  Unclear  Unclear\n",
       "3  Car Accident   Pennsylvania    Male  49.0  Black    No       No      Yes\n",
       "4  Car Accident  Massachusetts    Male  26.0  Black    No  Unclear      Yes"
      ]
     },
     "execution_count": 118,
     "metadata": {},
     "output_type": "execute_result"
    }
   ],
   "source": [
    "df.drop(['Name', 'date_death','City','News Story','Photo','month_death','year_death'], axis=1, inplace=True)\n",
    "df.head()"
   ]
  },
  {
   "cell_type": "code",
   "execution_count": 119,
   "metadata": {
    "collapsed": false
   },
   "outputs": [
    {
     "data": {
      "text/plain": [
       "26.0     86\n",
       "34.0     81\n",
       "27.0     79\n",
       "28.0     76\n",
       "29.0     75\n",
       "         ..\n",
       "97.0      1\n",
       "95.0      1\n",
       "93.0      1\n",
       "77.0      1\n",
       "107.0     1\n",
       "Name: Age, dtype: int64"
      ]
     },
     "execution_count": 119,
     "metadata": {},
     "output_type": "execute_result"
    }
   ],
   "source": [
    "#bucket the ages by groups. - ranges \n",
    "df.Age.value_counts()"
   ]
  },
  {
   "cell_type": "code",
   "execution_count": 120,
   "metadata": {
    "collapsed": false
   },
   "outputs": [
    {
     "name": "stdout",
     "output_type": "stream",
     "text": [
      "36.9122422115\n",
      "34.0\n",
      "107.0\n",
      "5.0\n"
     ]
    }
   ],
   "source": [
    "print df.Age.mean()\n",
    "print df.Age.median()\n",
    "print df.Age.max()\n",
    "print df.Age.min()"
   ]
  },
  {
   "cell_type": "markdown",
   "metadata": {},
   "source": [
    "I wanted to look at this to determine if there were outliers. This is the only numeric data in the dataframe now and so it was the only column through which I could find them. 107 was an outlier, I used the photo attached and while the man was old I did not think he was 107 and unfortunately the article that was attached was no longer accessible. Because I could no longer confirm that he was in fact 107, I dropped this line item from my data. "
   ]
  },
  {
   "cell_type": "code",
   "execution_count": 121,
   "metadata": {
    "collapsed": false
   },
   "outputs": [
    {
     "name": "stdout",
     "output_type": "stream",
     "text": [
      "    cause_death     State Gender    Age   Race armed   priors    fired\n",
      "946    Shooting  Arkansas   Male  107.0  Black   Yes  Unclear  Unclear\n"
     ]
    }
   ],
   "source": [
    "print df[(df.Age == 107)]"
   ]
  },
  {
   "cell_type": "code",
   "execution_count": 122,
   "metadata": {
    "collapsed": true
   },
   "outputs": [],
   "source": [
    "# have to actually drop the age 107 line I think."
   ]
  },
  {
   "cell_type": "markdown",
   "metadata": {},
   "source": [
    ">### Distribution of police involved fatalities by state. "
   ]
  },
  {
   "cell_type": "code",
   "execution_count": 123,
   "metadata": {
    "collapsed": false
   },
   "outputs": [
    {
     "data": {
      "text/plain": [
       "California        398\n",
       "Texas             237\n",
       "Florida           187\n",
       "Arizona           104\n",
       "Oklahoma           68\n",
       "                 ... \n",
       "New Hampshire       4\n",
       "Vermont             2\n",
       "Rhode Island        2\n",
       "Virgin Islands      2\n",
       "North Dakota        1\n",
       "Name: State, dtype: int64"
      ]
     },
     "execution_count": 123,
     "metadata": {},
     "output_type": "execute_result"
    }
   ],
   "source": [
    "df.State.value_counts()\n",
    "#could just look at california and texas (or look at top 5)\n",
    "#could also look at red / blue states "
   ]
  },
  {
   "cell_type": "markdown",
   "metadata": {},
   "source": [
    "I considered cutting the data based on geographic location, however given I only had 2000 lines of data to begin with it was difficult to justify removing them and giving up lines of data when I was already limited. While I didn't do this here I also would have liked to perhaps categorize the states based on dueling characteristics of California or Texas along perhaps racial lines, relatonal (police-community) lines, or legal lines. However I did not have the time to do the research to make a good case for how I was going to do this. \n",
    "\n",
    "Rergardless it is interesting, albeit maybe not that surprising, that California and Texas were the locations with the most police involved fatalities over the course of the last ~3 years. \n",
    "\n",
    "It is also amazing and encouraging that, assuming this is an entirely comprehensive list, some states only had one police involved fatality in the last ~3 years. \n",
    "\n",
    "One might make an inference about the fact that California and Texas are both massive states with high immigrant populations that border Mexico. - This should be kept in mind when looking at the distribution of police involved fatalities by race. "
   ]
  },
  {
   "cell_type": "markdown",
   "metadata": {},
   "source": [
    ">### Distribution of victims of police involved fatalities where the victim was armed, not armed, or it was unclear whether or not they were armed."
   ]
  },
  {
   "cell_type": "code",
   "execution_count": 124,
   "metadata": {
    "collapsed": false
   },
   "outputs": [
    {
     "data": {
      "text/plain": [
       "Yes        1482\n",
       "Unclear     598\n",
       "No          275\n",
       "Name: armed, dtype: int64"
      ]
     },
     "execution_count": 124,
     "metadata": {},
     "output_type": "execute_result"
    }
   ],
   "source": [
    "df.armed.value_counts()"
   ]
  },
  {
   "cell_type": "markdown",
   "metadata": {},
   "source": [
    ">### Distribution of victims of police involved fatalities where the victim had priors, did not have priors, or it was unclear whether or not the victim had priors"
   ]
  },
  {
   "cell_type": "code",
   "execution_count": 125,
   "metadata": {
    "collapsed": false
   },
   "outputs": [
    {
     "data": {
      "text/plain": [
       "Unclear    1803\n",
       "Yes         435\n",
       "No          117\n",
       "Name: priors, dtype: int64"
      ]
     },
     "execution_count": 125,
     "metadata": {},
     "output_type": "execute_result"
    }
   ],
   "source": [
    "df.priors.value_counts()"
   ]
  },
  {
   "cell_type": "markdown",
   "metadata": {},
   "source": [
    ">### A look at the various causes of death of the victims of police involved fatalities. "
   ]
  },
  {
   "cell_type": "code",
   "execution_count": 126,
   "metadata": {
    "collapsed": false
   },
   "outputs": [
    {
     "data": {
      "text/plain": [
       "Shooting                  2076\n",
       "Taser Gun                   97\n",
       "Car Accident                69\n",
       "Physical Confrontation      63\n",
       "Other                       50\n",
       "Name: cause_death, dtype: int64"
      ]
     },
     "execution_count": 126,
     "metadata": {},
     "output_type": "execute_result"
    }
   ],
   "source": [
    "df.cause_death.value_counts()\n",
    "#consider all as fatalities and - can be dropped. Don't drop but don't remove. "
   ]
  },
  {
   "cell_type": "markdown",
   "metadata": {},
   "source": [
    "While this is valuable information, all of the victims will simply be considered as that, victims / fatalities. I am grouping them all into this category solely because I do not have enough data to consider the groups separately and glean any new information."
   ]
  },
  {
   "cell_type": "markdown",
   "metadata": {},
   "source": [
    ">### Distribution of the victims of police involved fatalities by Gender."
   ]
  },
  {
   "cell_type": "code",
   "execution_count": 127,
   "metadata": {
    "collapsed": false
   },
   "outputs": [
    {
     "data": {
      "text/plain": [
       "Male       2210\n",
       "Female      142\n",
       "Unknown       3\n",
       "Name: Gender, dtype: int64"
      ]
     },
     "execution_count": 127,
     "metadata": {},
     "output_type": "execute_result"
    }
   ],
   "source": [
    "df.Gender.value_counts()\n"
   ]
  },
  {
   "cell_type": "markdown",
   "metadata": {},
   "source": [
    "This uneven distribution is to be expected based on the general distribution of crimes committed by males versus females in America. Disproportianately more crimes are committed by males than females in the U.S. The percentage I hear or see most often in 70 percent, however the percentage here is far greater, about 94 percent. "
   ]
  },
  {
   "cell_type": "markdown",
   "metadata": {},
   "source": [
    ">### Distribution of victims of police involved fatalities by Race. "
   ]
  },
  {
   "cell_type": "markdown",
   "metadata": {},
   "source": [
    "It's entirely unfortunate that the race could not be determined or classified by race for so many of the instances of the police involved fatalities. However a good distribution can be seen here. \n",
    "\n",
    "Does this align with general distribution of races in the US?"
   ]
  },
  {
   "cell_type": "code",
   "execution_count": 128,
   "metadata": {
    "collapsed": false
   },
   "outputs": [
    {
     "data": {
      "text/plain": [
       "White               766\n",
       "Unknown             713\n",
       "Black               511\n",
       "Latino              319\n",
       "Asian                27\n",
       "Native American      16\n",
       "Pacific Islander      3\n",
       "Name: Race, dtype: int64"
      ]
     },
     "execution_count": 128,
     "metadata": {},
     "output_type": "execute_result"
    }
   ],
   "source": [
    "df.Race.value_counts()"
   ]
  },
  {
   "cell_type": "markdown",
   "metadata": {},
   "source": [
    ">### Distribution of police officers involved in fatal encounters by whether or not they were fired. "
   ]
  },
  {
   "cell_type": "code",
   "execution_count": 129,
   "metadata": {
    "collapsed": false
   },
   "outputs": [
    {
     "data": {
      "text/plain": [
       "array(['Unclear', 'No', 'Yes'], dtype=object)"
      ]
     },
     "execution_count": 129,
     "metadata": {},
     "output_type": "execute_result"
    }
   ],
   "source": [
    "df.fired.unique()"
   ]
  },
  {
   "cell_type": "code",
   "execution_count": 130,
   "metadata": {
    "collapsed": false
   },
   "outputs": [
    {
     "data": {
      "text/plain": [
       "Unclear    1571\n",
       "Yes         665\n",
       "No          119\n",
       "Name: fired, dtype: int64"
      ]
     },
     "execution_count": 130,
     "metadata": {},
     "output_type": "execute_result"
    }
   ],
   "source": [
    "df.fired.value_counts()"
   ]
  },
  {
   "cell_type": "code",
   "execution_count": 131,
   "metadata": {
    "collapsed": false
   },
   "outputs": [
    {
     "data": {
      "text/plain": [
       "array(['Unclear', 'No', 'Yes'], dtype=object)"
      ]
     },
     "execution_count": 131,
     "metadata": {},
     "output_type": "execute_result"
    }
   ],
   "source": [
    "df = df.dropna(subset = ['fired'])\n",
    "df.fired.unique()"
   ]
  },
  {
   "cell_type": "code",
   "execution_count": 132,
   "metadata": {
    "collapsed": true
   },
   "outputs": [],
   "source": [
    "bins = [0, 25, 35, 45, 55, 65, 107]\n",
    "group_names = ['<25','25-34','35-44','45-54','55-65','>65']\n"
   ]
  },
  {
   "cell_type": "markdown",
   "metadata": {},
   "source": [
    ">### Categorization of the age range of the victims of police involved fatalties. The bins were selected by decade aside from those under 25 and those greater than 65. "
   ]
  },
  {
   "cell_type": "markdown",
   "metadata": {},
   "source": [
    "In hindsight it would have been interesting to also break-out minors to see if that would have a significant impact on whether the police involved was fired or not. "
   ]
  },
  {
   "cell_type": "code",
   "execution_count": 133,
   "metadata": {
    "collapsed": false
   },
   "outputs": [
    {
     "data": {
      "text/plain": [
       "0       55-65\n",
       "1       45-54\n",
       "2       55-65\n",
       "3       45-54\n",
       "4       25-34\n",
       "        ...  \n",
       "2350      NaN\n",
       "2351      NaN\n",
       "2352      >65\n",
       "2353      >65\n",
       "2354    35-44\n",
       "Name: Age, dtype: category\n",
       "Categories (6, object): [<25 < 25-34 < 35-44 < 45-54 < 55-65 < >65]"
      ]
     },
     "execution_count": 133,
     "metadata": {},
     "output_type": "execute_result"
    }
   ],
   "source": [
    "age_range = pd.cut(df['Age'], bins, labels = group_names)\n",
    "df['age_range'] = pd.cut(df['Age'], bins, labels = group_names)\n",
    "age_range"
   ]
  },
  {
   "cell_type": "markdown",
   "metadata": {},
   "source": [
    ">### Categorization of states based on whether they were considered Republican or Democratic in 2014. "
   ]
  },
  {
   "cell_type": "markdown",
   "metadata": {},
   "source": [
    "2014 was selected as the year to base the categories on because the bulk of the date comes from 2014. Only the latter half of the 2013 was included in the data set and the early half of 2015 was included in the data set. \n",
    "\n",
    "Grouped the states by Red and Blue (Republican / Democrat) based on http://www.politico.com/magazine/story/2014/05/climate-change-map-red-state-blue-state-hot-state-cold-state-107028\n",
    "\n",
    "The assumption that drove the desire to look at these variables in this manner was that was perhaps there were legislative differences in the states based on whether they were republican or democratic 2014. I did not have time to do the research to verify this but at a later date I would like to."
   ]
  },
  {
   "cell_type": "code",
   "execution_count": 134,
   "metadata": {
    "collapsed": false
   },
   "outputs": [],
   "source": [
    "blue_state_list = ['Washington','Oregon','California','Nevada','Colorado','New Mexico','Minnesota','Iowa','Wisconsin','Illinois','Wisconsin','Michigan','Pennsylvania','New York','Virginia','New Jersey','Delaware','Washington DC','Maryland','Maine','New Hampshire','Rhode Island', 'Connecticut','Massachusetts','Vermont']\n",
    "def blue_or_red(state):\n",
    "    if state in blue_state_list: \n",
    "        return \"blue\"\n",
    "    else: \n",
    "        return \"red\"\n",
    "    \n",
    "df['red_blue'] = df.State.apply(blue_or_red)"
   ]
  },
  {
   "cell_type": "code",
   "execution_count": 135,
   "metadata": {
    "collapsed": false
   },
   "outputs": [
    {
     "data": {
      "text/html": [
       "<div>\n",
       "<table border=\"1\" class=\"dataframe\">\n",
       "  <thead>\n",
       "    <tr style=\"text-align: right;\">\n",
       "      <th></th>\n",
       "      <th>cause_death</th>\n",
       "      <th>State</th>\n",
       "      <th>Gender</th>\n",
       "      <th>Age</th>\n",
       "      <th>Race</th>\n",
       "      <th>armed</th>\n",
       "      <th>priors</th>\n",
       "      <th>fired</th>\n",
       "      <th>age_range</th>\n",
       "      <th>red_blue</th>\n",
       "    </tr>\n",
       "  </thead>\n",
       "  <tbody>\n",
       "    <tr>\n",
       "      <th>0</th>\n",
       "      <td>Car Accident</td>\n",
       "      <td>New Jersey</td>\n",
       "      <td>Female</td>\n",
       "      <td>64.0</td>\n",
       "      <td>Asian</td>\n",
       "      <td>No</td>\n",
       "      <td>Unclear</td>\n",
       "      <td>Unclear</td>\n",
       "      <td>55-65</td>\n",
       "      <td>blue</td>\n",
       "    </tr>\n",
       "    <tr>\n",
       "      <th>1</th>\n",
       "      <td>Car Accident</td>\n",
       "      <td>Illinois</td>\n",
       "      <td>Female</td>\n",
       "      <td>54.0</td>\n",
       "      <td>Black</td>\n",
       "      <td>No</td>\n",
       "      <td>No</td>\n",
       "      <td>No</td>\n",
       "      <td>45-54</td>\n",
       "      <td>blue</td>\n",
       "    </tr>\n",
       "    <tr>\n",
       "      <th>2</th>\n",
       "      <td>Car Accident</td>\n",
       "      <td>Georgia</td>\n",
       "      <td>Male</td>\n",
       "      <td>62.0</td>\n",
       "      <td>Black</td>\n",
       "      <td>No</td>\n",
       "      <td>Unclear</td>\n",
       "      <td>Unclear</td>\n",
       "      <td>55-65</td>\n",
       "      <td>red</td>\n",
       "    </tr>\n",
       "    <tr>\n",
       "      <th>3</th>\n",
       "      <td>Car Accident</td>\n",
       "      <td>Pennsylvania</td>\n",
       "      <td>Male</td>\n",
       "      <td>49.0</td>\n",
       "      <td>Black</td>\n",
       "      <td>No</td>\n",
       "      <td>No</td>\n",
       "      <td>Yes</td>\n",
       "      <td>45-54</td>\n",
       "      <td>blue</td>\n",
       "    </tr>\n",
       "    <tr>\n",
       "      <th>4</th>\n",
       "      <td>Car Accident</td>\n",
       "      <td>Massachusetts</td>\n",
       "      <td>Male</td>\n",
       "      <td>26.0</td>\n",
       "      <td>Black</td>\n",
       "      <td>No</td>\n",
       "      <td>Unclear</td>\n",
       "      <td>Yes</td>\n",
       "      <td>25-34</td>\n",
       "      <td>blue</td>\n",
       "    </tr>\n",
       "    <tr>\n",
       "      <th>...</th>\n",
       "      <td>...</td>\n",
       "      <td>...</td>\n",
       "      <td>...</td>\n",
       "      <td>...</td>\n",
       "      <td>...</td>\n",
       "      <td>...</td>\n",
       "      <td>...</td>\n",
       "      <td>...</td>\n",
       "      <td>...</td>\n",
       "      <td>...</td>\n",
       "    </tr>\n",
       "    <tr>\n",
       "      <th>2350</th>\n",
       "      <td>Shooting</td>\n",
       "      <td>Texas</td>\n",
       "      <td>Male</td>\n",
       "      <td>NaN</td>\n",
       "      <td>Unknown</td>\n",
       "      <td>Yes</td>\n",
       "      <td>Unclear</td>\n",
       "      <td>Unclear</td>\n",
       "      <td>NaN</td>\n",
       "      <td>red</td>\n",
       "    </tr>\n",
       "    <tr>\n",
       "      <th>2351</th>\n",
       "      <td>Shooting</td>\n",
       "      <td>California</td>\n",
       "      <td>Male</td>\n",
       "      <td>NaN</td>\n",
       "      <td>Unknown</td>\n",
       "      <td>Yes</td>\n",
       "      <td>Unclear</td>\n",
       "      <td>Unclear</td>\n",
       "      <td>NaN</td>\n",
       "      <td>blue</td>\n",
       "    </tr>\n",
       "    <tr>\n",
       "      <th>2352</th>\n",
       "      <td>Taser Gun</td>\n",
       "      <td>Minnesota</td>\n",
       "      <td>Male</td>\n",
       "      <td>76.0</td>\n",
       "      <td>Unknown</td>\n",
       "      <td>Yes</td>\n",
       "      <td>Unclear</td>\n",
       "      <td>Unclear</td>\n",
       "      <td>&gt;65</td>\n",
       "      <td>blue</td>\n",
       "    </tr>\n",
       "    <tr>\n",
       "      <th>2353</th>\n",
       "      <td>Taser Gun</td>\n",
       "      <td>Illinois</td>\n",
       "      <td>Male</td>\n",
       "      <td>95.0</td>\n",
       "      <td>White</td>\n",
       "      <td>Yes</td>\n",
       "      <td>Unclear</td>\n",
       "      <td>Unclear</td>\n",
       "      <td>&gt;65</td>\n",
       "      <td>blue</td>\n",
       "    </tr>\n",
       "    <tr>\n",
       "      <th>2354</th>\n",
       "      <td>Taser Gun</td>\n",
       "      <td>Iowa</td>\n",
       "      <td>Male</td>\n",
       "      <td>39.0</td>\n",
       "      <td>White</td>\n",
       "      <td>Yes</td>\n",
       "      <td>Unclear</td>\n",
       "      <td>Unclear</td>\n",
       "      <td>35-44</td>\n",
       "      <td>blue</td>\n",
       "    </tr>\n",
       "  </tbody>\n",
       "</table>\n",
       "<p>2355 rows × 10 columns</p>\n",
       "</div>"
      ],
      "text/plain": [
       "       cause_death          State  Gender   Age     Race armed   priors  \\\n",
       "0     Car Accident     New Jersey  Female  64.0    Asian    No  Unclear   \n",
       "1     Car Accident       Illinois  Female  54.0    Black    No       No   \n",
       "2     Car Accident        Georgia    Male  62.0    Black    No  Unclear   \n",
       "3     Car Accident   Pennsylvania    Male  49.0    Black    No       No   \n",
       "4     Car Accident  Massachusetts    Male  26.0    Black    No  Unclear   \n",
       "...            ...            ...     ...   ...      ...   ...      ...   \n",
       "2350      Shooting          Texas    Male   NaN  Unknown   Yes  Unclear   \n",
       "2351      Shooting     California    Male   NaN  Unknown   Yes  Unclear   \n",
       "2352     Taser Gun      Minnesota    Male  76.0  Unknown   Yes  Unclear   \n",
       "2353     Taser Gun       Illinois    Male  95.0    White   Yes  Unclear   \n",
       "2354     Taser Gun           Iowa    Male  39.0    White   Yes  Unclear   \n",
       "\n",
       "        fired age_range red_blue  \n",
       "0     Unclear     55-65     blue  \n",
       "1          No     45-54     blue  \n",
       "2     Unclear     55-65      red  \n",
       "3         Yes     45-54     blue  \n",
       "4         Yes     25-34     blue  \n",
       "...       ...       ...      ...  \n",
       "2350  Unclear       NaN      red  \n",
       "2351  Unclear       NaN     blue  \n",
       "2352  Unclear       >65     blue  \n",
       "2353  Unclear       >65     blue  \n",
       "2354  Unclear     35-44     blue  \n",
       "\n",
       "[2355 rows x 10 columns]"
      ]
     },
     "execution_count": 135,
     "metadata": {},
     "output_type": "execute_result"
    }
   ],
   "source": [
    "df"
   ]
  },
  {
   "cell_type": "markdown",
   "metadata": {},
   "source": [
    ">### Uploading dataframe of the most recent household incomes the 50 United States. "
   ]
  },
  {
   "cell_type": "markdown",
   "metadata": {},
   "source": [
    "This provides a pretty gross categorization for the states, the dates do not entirely line up and I am using the average to classify the states anyway. The dates of the police involved fatality data spans mid 2013 to mid 2015 and the income data spans Q4 of 2014 to Q1 of 2016. Unfortunately with the time that I had this was the cleaniest and easiest data for me to find and work with. All data was incorporated including 2016 simply because I figured the more data I had the better my average would be. \n",
    "\n",
    "In hindsight this might not have been the best choice simply because unemployment was at it's lowest since the recession in 2016 and obviously this would have a positive impact on the average income. Since unemployment is a feature that I assumed or anticipated would have an impact on the number of police involved fatalities it would have been best for this variable to be as accurate as possible but, alas, time."
   ]
  },
  {
   "cell_type": "code",
   "execution_count": 136,
   "metadata": {
    "collapsed": true
   },
   "outputs": [],
   "source": [
    "df_income = pd.read_csv(os.path.join('C:\\Users\\morgane1\\Desktop\\householdincome.csv'))"
   ]
  },
  {
   "cell_type": "code",
   "execution_count": 137,
   "metadata": {
    "collapsed": false
   },
   "outputs": [
    {
     "data": {
      "text/html": [
       "<div>\n",
       "<table border=\"1\" class=\"dataframe\">\n",
       "  <thead>\n",
       "    <tr style=\"text-align: right;\">\n",
       "      <th></th>\n",
       "      <th>State</th>\n",
       "      <th>2014 Q4</th>\n",
       "      <th>2015 Q1</th>\n",
       "      <th>2015 Q2</th>\n",
       "      <th>2015 Q3</th>\n",
       "      <th>2015 Q4</th>\n",
       "      <th>2016 Q1</th>\n",
       "      <th>Average</th>\n",
       "    </tr>\n",
       "  </thead>\n",
       "  <tbody>\n",
       "    <tr>\n",
       "      <th>0</th>\n",
       "      <td>Alabama</td>\n",
       "      <td>185,184</td>\n",
       "      <td>187,169</td>\n",
       "      <td>188,291</td>\n",
       "      <td>190,124</td>\n",
       "      <td>191,432</td>\n",
       "      <td>193,367</td>\n",
       "      <td>189261.2</td>\n",
       "    </tr>\n",
       "    <tr>\n",
       "      <th>1</th>\n",
       "      <td>Alaska</td>\n",
       "      <td>40,416</td>\n",
       "      <td>41,247</td>\n",
       "      <td>41,454</td>\n",
       "      <td>41,269</td>\n",
       "      <td>41,341</td>\n",
       "      <td>41,598</td>\n",
       "      <td>41220.8</td>\n",
       "    </tr>\n",
       "    <tr>\n",
       "      <th>2</th>\n",
       "      <td>Arizona</td>\n",
       "      <td>259,230</td>\n",
       "      <td>262,205</td>\n",
       "      <td>265,861</td>\n",
       "      <td>268,172</td>\n",
       "      <td>271,656</td>\n",
       "      <td>274,734</td>\n",
       "      <td>266976.3</td>\n",
       "    </tr>\n",
       "    <tr>\n",
       "      <th>3</th>\n",
       "      <td>Arkansas</td>\n",
       "      <td>114,175</td>\n",
       "      <td>114,387</td>\n",
       "      <td>116,028</td>\n",
       "      <td>117,369</td>\n",
       "      <td>118,284</td>\n",
       "      <td>119,754</td>\n",
       "      <td>116666.2</td>\n",
       "    </tr>\n",
       "    <tr>\n",
       "      <th>4</th>\n",
       "      <td>California</td>\n",
       "      <td>1,974,525</td>\n",
       "      <td>2,011,012</td>\n",
       "      <td>2,056,153</td>\n",
       "      <td>2,077,759</td>\n",
       "      <td>2,099,673</td>\n",
       "      <td>2,119,407</td>\n",
       "      <td>2056421.5</td>\n",
       "    </tr>\n",
       "    <tr>\n",
       "      <th>...</th>\n",
       "      <td>...</td>\n",
       "      <td>...</td>\n",
       "      <td>...</td>\n",
       "      <td>...</td>\n",
       "      <td>...</td>\n",
       "      <td>...</td>\n",
       "      <td>...</td>\n",
       "      <td>...</td>\n",
       "    </tr>\n",
       "    <tr>\n",
       "      <th>46</th>\n",
       "      <td>Virginia</td>\n",
       "      <td>424,916</td>\n",
       "      <td>428,614</td>\n",
       "      <td>435,402</td>\n",
       "      <td>440,294</td>\n",
       "      <td>443,693</td>\n",
       "      <td>448,565</td>\n",
       "      <td>436914.0</td>\n",
       "    </tr>\n",
       "    <tr>\n",
       "      <th>47</th>\n",
       "      <td>Washington</td>\n",
       "      <td>358,280</td>\n",
       "      <td>358,961</td>\n",
       "      <td>366,344</td>\n",
       "      <td>369,789</td>\n",
       "      <td>373,291</td>\n",
       "      <td>378,921</td>\n",
       "      <td>367597.7</td>\n",
       "    </tr>\n",
       "    <tr>\n",
       "      <th>48</th>\n",
       "      <td>West Virginia</td>\n",
       "      <td>67,683</td>\n",
       "      <td>67,676</td>\n",
       "      <td>68,320</td>\n",
       "      <td>68,605</td>\n",
       "      <td>68,549</td>\n",
       "      <td>68,874</td>\n",
       "      <td>68284.5</td>\n",
       "    </tr>\n",
       "    <tr>\n",
       "      <th>49</th>\n",
       "      <td>Wisconsin</td>\n",
       "      <td>258,944</td>\n",
       "      <td>259,098</td>\n",
       "      <td>262,009</td>\n",
       "      <td>265,406</td>\n",
       "      <td>268,063</td>\n",
       "      <td>270,608</td>\n",
       "      <td>264021.3</td>\n",
       "    </tr>\n",
       "    <tr>\n",
       "      <th>50</th>\n",
       "      <td>Wyoming</td>\n",
       "      <td>32,478</td>\n",
       "      <td>32,401</td>\n",
       "      <td>32,345</td>\n",
       "      <td>32,500</td>\n",
       "      <td>32,100</td>\n",
       "      <td>32,003</td>\n",
       "      <td>32304.5</td>\n",
       "    </tr>\n",
       "  </tbody>\n",
       "</table>\n",
       "<p>51 rows × 8 columns</p>\n",
       "</div>"
      ],
      "text/plain": [
       "            State    2014 Q4    2015 Q1    2015 Q2    2015 Q3    2015 Q4  \\\n",
       "0         Alabama    185,184    187,169    188,291    190,124    191,432   \n",
       "1          Alaska     40,416     41,247     41,454     41,269     41,341   \n",
       "2         Arizona    259,230    262,205    265,861    268,172    271,656   \n",
       "3        Arkansas    114,175    114,387    116,028    117,369    118,284   \n",
       "4      California  1,974,525  2,011,012  2,056,153  2,077,759  2,099,673   \n",
       "..            ...        ...        ...        ...        ...        ...   \n",
       "46       Virginia    424,916    428,614    435,402    440,294    443,693   \n",
       "47     Washington    358,280    358,961    366,344    369,789    373,291   \n",
       "48  West Virginia     67,683     67,676     68,320     68,605     68,549   \n",
       "49      Wisconsin    258,944    259,098    262,009    265,406    268,063   \n",
       "50        Wyoming     32,478     32,401     32,345     32,500     32,100   \n",
       "\n",
       "      2016 Q1   Average   \n",
       "0     193,367   189261.2  \n",
       "1      41,598    41220.8  \n",
       "2     274,734   266976.3  \n",
       "3     119,754   116666.2  \n",
       "4   2,119,407  2056421.5  \n",
       "..        ...        ...  \n",
       "46    448,565   436914.0  \n",
       "47    378,921   367597.7  \n",
       "48     68,874    68284.5  \n",
       "49    270,608   264021.3  \n",
       "50     32,003    32304.5  \n",
       "\n",
       "[51 rows x 8 columns]"
      ]
     },
     "execution_count": 137,
     "metadata": {},
     "output_type": "execute_result"
    }
   ],
   "source": [
    "df_income"
   ]
  },
  {
   "cell_type": "markdown",
   "metadata": {},
   "source": [
    "Source of income analysis is the U.S. Bureau of Economic Analysis: http://www.bea.gov/newsreleases/regional/spi/sqpi_newsrelease.htm"
   ]
  },
  {
   "cell_type": "code",
   "execution_count": 138,
   "metadata": {
    "collapsed": false
   },
   "outputs": [
    {
     "data": {
      "text/plain": [
       "300689.362745098"
      ]
     },
     "execution_count": 138,
     "metadata": {},
     "output_type": "execute_result"
    }
   ],
   "source": [
    "df_income['Average '].mean()"
   ]
  },
  {
   "cell_type": "code",
   "execution_count": 139,
   "metadata": {
    "collapsed": false
   },
   "outputs": [
    {
     "data": {
      "text/plain": [
       "186600.5"
      ]
     },
     "execution_count": 139,
     "metadata": {},
     "output_type": "execute_result"
    }
   ],
   "source": [
    "df_income['Average '].median()"
   ]
  },
  {
   "cell_type": "code",
   "execution_count": 140,
   "metadata": {
    "collapsed": false
   },
   "outputs": [],
   "source": [
    "df_income = df_income.dropna(subset = ['Average '])\n"
   ]
  },
  {
   "cell_type": "code",
   "execution_count": 141,
   "metadata": {
    "collapsed": false
   },
   "outputs": [
    {
     "data": {
      "text/plain": [
       "0.25     70918.85\n",
       "0.50    186600.50\n",
       "0.75    388273.45\n",
       "Name: Average , dtype: float64"
      ]
     },
     "execution_count": 141,
     "metadata": {},
     "output_type": "execute_result"
    }
   ],
   "source": [
    "df_income['Average '].quantile([.25, .5, .75])"
   ]
  },
  {
   "cell_type": "code",
   "execution_count": 142,
   "metadata": {
    "collapsed": false
   },
   "outputs": [
    {
     "data": {
      "text/plain": [
       "2056421.5"
      ]
     },
     "execution_count": 142,
     "metadata": {},
     "output_type": "execute_result"
    }
   ],
   "source": [
    "df_income['Average '].max()"
   ]
  },
  {
   "cell_type": "markdown",
   "metadata": {},
   "source": [
    ">### Grouping states by average income."
   ]
  },
  {
   "cell_type": "code",
   "execution_count": 143,
   "metadata": {
    "collapsed": true
   },
   "outputs": [],
   "source": [
    "bins = [0, 75000, 200000, 400000, 3000000]\n",
    "group_names = ['<75000','75000-200000','200000-400000','>400000']"
   ]
  },
  {
   "cell_type": "code",
   "execution_count": 144,
   "metadata": {
    "collapsed": false
   },
   "outputs": [
    {
     "data": {
      "text/plain": [
       "0      75000-200000\n",
       "1            <75000\n",
       "2     200000-400000\n",
       "3      75000-200000\n",
       "4           >400000\n",
       "          ...      \n",
       "46          >400000\n",
       "47    200000-400000\n",
       "48           <75000\n",
       "49    200000-400000\n",
       "50           <75000\n",
       "Name: Average , dtype: category\n",
       "Categories (4, object): [<75000 < 75000-200000 < 200000-400000 < >400000]"
      ]
     },
     "execution_count": 144,
     "metadata": {},
     "output_type": "execute_result"
    }
   ],
   "source": [
    "income_range = pd.cut(df_income['Average '], bins, labels = group_names)\n",
    "df_income['income_range'] = pd.cut(df_income['Average '], bins, labels = group_names)\n",
    "income_range"
   ]
  },
  {
   "cell_type": "code",
   "execution_count": 145,
   "metadata": {
    "collapsed": false
   },
   "outputs": [
    {
     "data": {
      "text/html": [
       "<div>\n",
       "<table border=\"1\" class=\"dataframe\">\n",
       "  <thead>\n",
       "    <tr style=\"text-align: right;\">\n",
       "      <th></th>\n",
       "      <th>State</th>\n",
       "      <th>income_range</th>\n",
       "    </tr>\n",
       "  </thead>\n",
       "  <tbody>\n",
       "    <tr>\n",
       "      <th>0</th>\n",
       "      <td>Alabama</td>\n",
       "      <td>75000-200000</td>\n",
       "    </tr>\n",
       "    <tr>\n",
       "      <th>1</th>\n",
       "      <td>Alaska</td>\n",
       "      <td>&lt;75000</td>\n",
       "    </tr>\n",
       "    <tr>\n",
       "      <th>2</th>\n",
       "      <td>Arizona</td>\n",
       "      <td>200000-400000</td>\n",
       "    </tr>\n",
       "    <tr>\n",
       "      <th>3</th>\n",
       "      <td>Arkansas</td>\n",
       "      <td>75000-200000</td>\n",
       "    </tr>\n",
       "    <tr>\n",
       "      <th>4</th>\n",
       "      <td>California</td>\n",
       "      <td>&gt;400000</td>\n",
       "    </tr>\n",
       "    <tr>\n",
       "      <th>...</th>\n",
       "      <td>...</td>\n",
       "      <td>...</td>\n",
       "    </tr>\n",
       "    <tr>\n",
       "      <th>46</th>\n",
       "      <td>Virginia</td>\n",
       "      <td>&gt;400000</td>\n",
       "    </tr>\n",
       "    <tr>\n",
       "      <th>47</th>\n",
       "      <td>Washington</td>\n",
       "      <td>200000-400000</td>\n",
       "    </tr>\n",
       "    <tr>\n",
       "      <th>48</th>\n",
       "      <td>West Virginia</td>\n",
       "      <td>&lt;75000</td>\n",
       "    </tr>\n",
       "    <tr>\n",
       "      <th>49</th>\n",
       "      <td>Wisconsin</td>\n",
       "      <td>200000-400000</td>\n",
       "    </tr>\n",
       "    <tr>\n",
       "      <th>50</th>\n",
       "      <td>Wyoming</td>\n",
       "      <td>&lt;75000</td>\n",
       "    </tr>\n",
       "  </tbody>\n",
       "</table>\n",
       "<p>51 rows × 2 columns</p>\n",
       "</div>"
      ],
      "text/plain": [
       "            State   income_range\n",
       "0         Alabama   75000-200000\n",
       "1          Alaska         <75000\n",
       "2         Arizona  200000-400000\n",
       "3        Arkansas   75000-200000\n",
       "4      California        >400000\n",
       "..            ...            ...\n",
       "46       Virginia        >400000\n",
       "47     Washington  200000-400000\n",
       "48  West Virginia         <75000\n",
       "49      Wisconsin  200000-400000\n",
       "50        Wyoming         <75000\n",
       "\n",
       "[51 rows x 2 columns]"
      ]
     },
     "execution_count": 145,
     "metadata": {},
     "output_type": "execute_result"
    }
   ],
   "source": [
    "state_income = pd.concat([df_income['State'], df_income['income_range']], axis = 1)\n",
    "state_income\n",
    "\n"
   ]
  },
  {
   "cell_type": "code",
   "execution_count": 146,
   "metadata": {
    "collapsed": false
   },
   "outputs": [
    {
     "data": {
      "text/html": [
       "<div>\n",
       "<table border=\"1\" class=\"dataframe\">\n",
       "  <thead>\n",
       "    <tr style=\"text-align: right;\">\n",
       "      <th></th>\n",
       "      <th>cause_death</th>\n",
       "      <th>State</th>\n",
       "      <th>Gender</th>\n",
       "      <th>Age</th>\n",
       "      <th>Race</th>\n",
       "      <th>...</th>\n",
       "      <th>priors</th>\n",
       "      <th>fired</th>\n",
       "      <th>age_range</th>\n",
       "      <th>red_blue</th>\n",
       "      <th>income_range</th>\n",
       "    </tr>\n",
       "  </thead>\n",
       "  <tbody>\n",
       "    <tr>\n",
       "      <th>0</th>\n",
       "      <td>Car Accident</td>\n",
       "      <td>New Jersey</td>\n",
       "      <td>Female</td>\n",
       "      <td>64.0</td>\n",
       "      <td>Asian</td>\n",
       "      <td>...</td>\n",
       "      <td>Unclear</td>\n",
       "      <td>Unclear</td>\n",
       "      <td>55-65</td>\n",
       "      <td>blue</td>\n",
       "      <td>&gt;400000</td>\n",
       "    </tr>\n",
       "    <tr>\n",
       "      <th>1</th>\n",
       "      <td>Car Accident</td>\n",
       "      <td>New Jersey</td>\n",
       "      <td>Female</td>\n",
       "      <td>34.0</td>\n",
       "      <td>Black</td>\n",
       "      <td>...</td>\n",
       "      <td>Unclear</td>\n",
       "      <td>Unclear</td>\n",
       "      <td>25-34</td>\n",
       "      <td>blue</td>\n",
       "      <td>&gt;400000</td>\n",
       "    </tr>\n",
       "    <tr>\n",
       "      <th>2</th>\n",
       "      <td>Car Accident</td>\n",
       "      <td>New Jersey</td>\n",
       "      <td>Male</td>\n",
       "      <td>41.0</td>\n",
       "      <td>Black</td>\n",
       "      <td>...</td>\n",
       "      <td>Unclear</td>\n",
       "      <td>Unclear</td>\n",
       "      <td>35-44</td>\n",
       "      <td>blue</td>\n",
       "      <td>&gt;400000</td>\n",
       "    </tr>\n",
       "    <tr>\n",
       "      <th>3</th>\n",
       "      <td>Other</td>\n",
       "      <td>New Jersey</td>\n",
       "      <td>Male</td>\n",
       "      <td>27.0</td>\n",
       "      <td>Black</td>\n",
       "      <td>...</td>\n",
       "      <td>Yes</td>\n",
       "      <td>No</td>\n",
       "      <td>25-34</td>\n",
       "      <td>blue</td>\n",
       "      <td>&gt;400000</td>\n",
       "    </tr>\n",
       "    <tr>\n",
       "      <th>4</th>\n",
       "      <td>Physical Confrontation</td>\n",
       "      <td>New Jersey</td>\n",
       "      <td>Male</td>\n",
       "      <td>32.0</td>\n",
       "      <td>Black</td>\n",
       "      <td>...</td>\n",
       "      <td>Unclear</td>\n",
       "      <td>Unclear</td>\n",
       "      <td>25-34</td>\n",
       "      <td>blue</td>\n",
       "      <td>&gt;400000</td>\n",
       "    </tr>\n",
       "    <tr>\n",
       "      <th>...</th>\n",
       "      <td>...</td>\n",
       "      <td>...</td>\n",
       "      <td>...</td>\n",
       "      <td>...</td>\n",
       "      <td>...</td>\n",
       "      <td>...</td>\n",
       "      <td>...</td>\n",
       "      <td>...</td>\n",
       "      <td>...</td>\n",
       "      <td>...</td>\n",
       "      <td>...</td>\n",
       "    </tr>\n",
       "    <tr>\n",
       "      <th>2340</th>\n",
       "      <td>Shooting</td>\n",
       "      <td>Wyoming</td>\n",
       "      <td>Male</td>\n",
       "      <td>43.0</td>\n",
       "      <td>Unknown</td>\n",
       "      <td>...</td>\n",
       "      <td>Yes</td>\n",
       "      <td>Yes</td>\n",
       "      <td>35-44</td>\n",
       "      <td>red</td>\n",
       "      <td>&lt;75000</td>\n",
       "    </tr>\n",
       "    <tr>\n",
       "      <th>2341</th>\n",
       "      <td>Shooting</td>\n",
       "      <td>Wyoming</td>\n",
       "      <td>Male</td>\n",
       "      <td>40.0</td>\n",
       "      <td>Unknown</td>\n",
       "      <td>...</td>\n",
       "      <td>Unclear</td>\n",
       "      <td>Yes</td>\n",
       "      <td>35-44</td>\n",
       "      <td>red</td>\n",
       "      <td>&lt;75000</td>\n",
       "    </tr>\n",
       "    <tr>\n",
       "      <th>2342</th>\n",
       "      <td>Shooting</td>\n",
       "      <td>Wyoming</td>\n",
       "      <td>Male</td>\n",
       "      <td>26.0</td>\n",
       "      <td>White</td>\n",
       "      <td>...</td>\n",
       "      <td>Unclear</td>\n",
       "      <td>Unclear</td>\n",
       "      <td>25-34</td>\n",
       "      <td>red</td>\n",
       "      <td>&lt;75000</td>\n",
       "    </tr>\n",
       "    <tr>\n",
       "      <th>2343</th>\n",
       "      <td>Shooting</td>\n",
       "      <td>Wyoming</td>\n",
       "      <td>Male</td>\n",
       "      <td>55.0</td>\n",
       "      <td>White</td>\n",
       "      <td>...</td>\n",
       "      <td>Unclear</td>\n",
       "      <td>Yes</td>\n",
       "      <td>45-54</td>\n",
       "      <td>red</td>\n",
       "      <td>&lt;75000</td>\n",
       "    </tr>\n",
       "    <tr>\n",
       "      <th>2344</th>\n",
       "      <td>Shooting</td>\n",
       "      <td>Wyoming</td>\n",
       "      <td>Female</td>\n",
       "      <td>39.0</td>\n",
       "      <td>White</td>\n",
       "      <td>...</td>\n",
       "      <td>Unclear</td>\n",
       "      <td>Unclear</td>\n",
       "      <td>35-44</td>\n",
       "      <td>red</td>\n",
       "      <td>&lt;75000</td>\n",
       "    </tr>\n",
       "  </tbody>\n",
       "</table>\n",
       "<p>2345 rows × 11 columns</p>\n",
       "</div>"
      ],
      "text/plain": [
       "                 cause_death       State  Gender   Age     Race     ...       \\\n",
       "0               Car Accident  New Jersey  Female  64.0    Asian     ...        \n",
       "1               Car Accident  New Jersey  Female  34.0    Black     ...        \n",
       "2               Car Accident  New Jersey    Male  41.0    Black     ...        \n",
       "3                      Other  New Jersey    Male  27.0    Black     ...        \n",
       "4     Physical Confrontation  New Jersey    Male  32.0    Black     ...        \n",
       "...                      ...         ...     ...   ...      ...     ...        \n",
       "2340                Shooting     Wyoming    Male  43.0  Unknown     ...        \n",
       "2341                Shooting     Wyoming    Male  40.0  Unknown     ...        \n",
       "2342                Shooting     Wyoming    Male  26.0    White     ...        \n",
       "2343                Shooting     Wyoming    Male  55.0    White     ...        \n",
       "2344                Shooting     Wyoming  Female  39.0    White     ...        \n",
       "\n",
       "       priors    fired age_range red_blue income_range  \n",
       "0     Unclear  Unclear     55-65     blue      >400000  \n",
       "1     Unclear  Unclear     25-34     blue      >400000  \n",
       "2     Unclear  Unclear     35-44     blue      >400000  \n",
       "3         Yes       No     25-34     blue      >400000  \n",
       "4     Unclear  Unclear     25-34     blue      >400000  \n",
       "...       ...      ...       ...      ...          ...  \n",
       "2340      Yes      Yes     35-44      red       <75000  \n",
       "2341  Unclear      Yes     35-44      red       <75000  \n",
       "2342  Unclear  Unclear     25-34      red       <75000  \n",
       "2343  Unclear      Yes     45-54      red       <75000  \n",
       "2344  Unclear  Unclear     35-44      red       <75000  \n",
       "\n",
       "[2345 rows x 11 columns]"
      ]
     },
     "execution_count": 146,
     "metadata": {},
     "output_type": "execute_result"
    }
   ],
   "source": [
    "df = pd.merge(df, state_income, on = 'State')\n",
    "df"
   ]
  },
  {
   "cell_type": "markdown",
   "metadata": {},
   "source": [
    ">### Uploading dataframe of the Population Density of all 50 United States"
   ]
  },
  {
   "cell_type": "code",
   "execution_count": 147,
   "metadata": {
    "collapsed": true
   },
   "outputs": [],
   "source": [
    "df_pop = pd.read_csv(os.path.join('C:\\Users\\morgane1\\Desktop\\pop_density.csv'))"
   ]
  },
  {
   "cell_type": "code",
   "execution_count": 148,
   "metadata": {
    "collapsed": false
   },
   "outputs": [
    {
     "data": {
      "text/html": [
       "<div>\n",
       "<table border=\"1\" class=\"dataframe\">\n",
       "  <thead>\n",
       "    <tr style=\"text-align: right;\">\n",
       "      <th></th>\n",
       "      <th>State</th>\n",
       "      <th>den_mi_sq</th>\n",
       "      <th>den_km_sq</th>\n",
       "      <th>2015\n",
       "population</th>\n",
       "    </tr>\n",
       "  </thead>\n",
       "  <tbody>\n",
       "    <tr>\n",
       "      <th>0</th>\n",
       "      <td>Alabama</td>\n",
       "      <td>96</td>\n",
       "      <td>37.0</td>\n",
       "      <td>4,858,979</td>\n",
       "    </tr>\n",
       "    <tr>\n",
       "      <th>1</th>\n",
       "      <td>Alaska</td>\n",
       "      <td>1</td>\n",
       "      <td>0.5</td>\n",
       "      <td>738,432</td>\n",
       "    </tr>\n",
       "    <tr>\n",
       "      <th>2</th>\n",
       "      <td>Arizona</td>\n",
       "      <td>60</td>\n",
       "      <td>23.2</td>\n",
       "      <td>6,828,065</td>\n",
       "    </tr>\n",
       "    <tr>\n",
       "      <th>3</th>\n",
       "      <td>Arkansas</td>\n",
       "      <td>57</td>\n",
       "      <td>22.1</td>\n",
       "      <td>2,978,204</td>\n",
       "    </tr>\n",
       "    <tr>\n",
       "      <th>4</th>\n",
       "      <td>California</td>\n",
       "      <td>251</td>\n",
       "      <td>97.0</td>\n",
       "      <td>39,144,818</td>\n",
       "    </tr>\n",
       "    <tr>\n",
       "      <th>...</th>\n",
       "      <td>...</td>\n",
       "      <td>...</td>\n",
       "      <td>...</td>\n",
       "      <td>...</td>\n",
       "    </tr>\n",
       "    <tr>\n",
       "      <th>46</th>\n",
       "      <td>Virginia</td>\n",
       "      <td>212</td>\n",
       "      <td>82.0</td>\n",
       "      <td>8,382,993</td>\n",
       "    </tr>\n",
       "    <tr>\n",
       "      <th>47</th>\n",
       "      <td>Washington</td>\n",
       "      <td>108</td>\n",
       "      <td>41.7</td>\n",
       "      <td>7,170,351</td>\n",
       "    </tr>\n",
       "    <tr>\n",
       "      <th>48</th>\n",
       "      <td>West Virginia</td>\n",
       "      <td>77</td>\n",
       "      <td>29.6</td>\n",
       "      <td>1,844,128</td>\n",
       "    </tr>\n",
       "    <tr>\n",
       "      <th>49</th>\n",
       "      <td>Wisconsin</td>\n",
       "      <td>107</td>\n",
       "      <td>41.2</td>\n",
       "      <td>5,771,337</td>\n",
       "    </tr>\n",
       "    <tr>\n",
       "      <th>50</th>\n",
       "      <td>Wyoming</td>\n",
       "      <td>6</td>\n",
       "      <td>2.3</td>\n",
       "      <td>586,107</td>\n",
       "    </tr>\n",
       "  </tbody>\n",
       "</table>\n",
       "<p>51 rows × 4 columns</p>\n",
       "</div>"
      ],
      "text/plain": [
       "            State  den_mi_sq  den_km_sq 2015\\npopulation\n",
       "0         Alabama         96       37.0        4,858,979\n",
       "1          Alaska          1        0.5          738,432\n",
       "2         Arizona         60       23.2        6,828,065\n",
       "3        Arkansas         57       22.1        2,978,204\n",
       "4      California        251       97.0       39,144,818\n",
       "..            ...        ...        ...              ...\n",
       "46       Virginia        212       82.0        8,382,993\n",
       "47     Washington        108       41.7        7,170,351\n",
       "48  West Virginia         77       29.6        1,844,128\n",
       "49      Wisconsin        107       41.2        5,771,337\n",
       "50        Wyoming          6        2.3          586,107\n",
       "\n",
       "[51 rows x 4 columns]"
      ]
     },
     "execution_count": 148,
     "metadata": {},
     "output_type": "execute_result"
    }
   ],
   "source": [
    "df_pop"
   ]
  },
  {
   "cell_type": "code",
   "execution_count": 149,
   "metadata": {
    "collapsed": false
   },
   "outputs": [
    {
     "data": {
      "text/plain": [
       "State               Wyoming\n",
       "den_mi_sq              9800\n",
       "den_km_sq             467.2\n",
       "2015\\npopulation    945,934\n",
       "dtype: object"
      ]
     },
     "execution_count": 149,
     "metadata": {},
     "output_type": "execute_result"
    }
   ],
   "source": [
    "df_pop.max()"
   ]
  },
  {
   "cell_type": "code",
   "execution_count": 150,
   "metadata": {
    "collapsed": false
   },
   "outputs": [
    {
     "data": {
      "text/plain": [
       "0      96\n",
       "1       1\n",
       "2      60\n",
       "3      57\n",
       "4     251\n",
       "     ... \n",
       "46    212\n",
       "47    108\n",
       "48     77\n",
       "49    107\n",
       "50      6\n",
       "Name: den_mi_sq, dtype: int64"
      ]
     },
     "execution_count": 150,
     "metadata": {},
     "output_type": "execute_result"
    }
   ],
   "source": [
    "df_pop['den_mi_sq']"
   ]
  },
  {
   "cell_type": "code",
   "execution_count": 151,
   "metadata": {
    "collapsed": false
   },
   "outputs": [
    {
     "data": {
      "text/plain": [
       "0.25     48.0\n",
       "0.50    107.0\n",
       "0.75    227.5\n",
       "Name: den_mi_sq, dtype: float64"
      ]
     },
     "execution_count": 151,
     "metadata": {},
     "output_type": "execute_result"
    }
   ],
   "source": [
    "df_pop['den_mi_sq'].quantile([.25,.50,.75])"
   ]
  },
  {
   "cell_type": "code",
   "execution_count": 152,
   "metadata": {
    "collapsed": false
   },
   "outputs": [
    {
     "data": {
      "text/plain": [
       "9800"
      ]
     },
     "execution_count": 152,
     "metadata": {},
     "output_type": "execute_result"
    }
   ],
   "source": [
    "df_pop['den_mi_sq'].max()"
   ]
  },
  {
   "cell_type": "markdown",
   "metadata": {},
   "source": [
    ">### Grouping states by population density quantiles. "
   ]
  },
  {
   "cell_type": "code",
   "execution_count": 153,
   "metadata": {
    "collapsed": true
   },
   "outputs": [],
   "source": [
    "bins = [0, 50, 110, 250,10000]\n",
    "group_names = ['<50','50-110','110-250','>250']"
   ]
  },
  {
   "cell_type": "code",
   "execution_count": 154,
   "metadata": {
    "collapsed": false
   },
   "outputs": [
    {
     "data": {
      "text/plain": [
       "0      50-110\n",
       "1         <50\n",
       "2      50-110\n",
       "3      50-110\n",
       "4        >250\n",
       "       ...   \n",
       "46    110-250\n",
       "47     50-110\n",
       "48     50-110\n",
       "49     50-110\n",
       "50        <50\n",
       "Name: den_mi_sq, dtype: category\n",
       "Categories (4, object): [<50 < 50-110 < 110-250 < >250]"
      ]
     },
     "execution_count": 154,
     "metadata": {},
     "output_type": "execute_result"
    }
   ],
   "source": [
    "df_den = pd.cut(df_pop['den_mi_sq'], bins, labels = group_names)\n",
    "df_pop['df_den'] = pd.cut(df_pop['den_mi_sq'], bins, labels = group_names)\n",
    "df_den"
   ]
  },
  {
   "cell_type": "code",
   "execution_count": 155,
   "metadata": {
    "collapsed": false
   },
   "outputs": [
    {
     "data": {
      "text/html": [
       "<div>\n",
       "<table border=\"1\" class=\"dataframe\">\n",
       "  <thead>\n",
       "    <tr style=\"text-align: right;\">\n",
       "      <th></th>\n",
       "      <th>State</th>\n",
       "      <th>df_den</th>\n",
       "    </tr>\n",
       "  </thead>\n",
       "  <tbody>\n",
       "    <tr>\n",
       "      <th>0</th>\n",
       "      <td>Alabama</td>\n",
       "      <td>50-110</td>\n",
       "    </tr>\n",
       "    <tr>\n",
       "      <th>1</th>\n",
       "      <td>Alaska</td>\n",
       "      <td>&lt;50</td>\n",
       "    </tr>\n",
       "    <tr>\n",
       "      <th>2</th>\n",
       "      <td>Arizona</td>\n",
       "      <td>50-110</td>\n",
       "    </tr>\n",
       "    <tr>\n",
       "      <th>3</th>\n",
       "      <td>Arkansas</td>\n",
       "      <td>50-110</td>\n",
       "    </tr>\n",
       "    <tr>\n",
       "      <th>4</th>\n",
       "      <td>California</td>\n",
       "      <td>&gt;250</td>\n",
       "    </tr>\n",
       "    <tr>\n",
       "      <th>...</th>\n",
       "      <td>...</td>\n",
       "      <td>...</td>\n",
       "    </tr>\n",
       "    <tr>\n",
       "      <th>46</th>\n",
       "      <td>Virginia</td>\n",
       "      <td>110-250</td>\n",
       "    </tr>\n",
       "    <tr>\n",
       "      <th>47</th>\n",
       "      <td>Washington</td>\n",
       "      <td>50-110</td>\n",
       "    </tr>\n",
       "    <tr>\n",
       "      <th>48</th>\n",
       "      <td>West Virginia</td>\n",
       "      <td>50-110</td>\n",
       "    </tr>\n",
       "    <tr>\n",
       "      <th>49</th>\n",
       "      <td>Wisconsin</td>\n",
       "      <td>50-110</td>\n",
       "    </tr>\n",
       "    <tr>\n",
       "      <th>50</th>\n",
       "      <td>Wyoming</td>\n",
       "      <td>&lt;50</td>\n",
       "    </tr>\n",
       "  </tbody>\n",
       "</table>\n",
       "<p>51 rows × 2 columns</p>\n",
       "</div>"
      ],
      "text/plain": [
       "            State   df_den\n",
       "0         Alabama   50-110\n",
       "1          Alaska      <50\n",
       "2         Arizona   50-110\n",
       "3        Arkansas   50-110\n",
       "4      California     >250\n",
       "..            ...      ...\n",
       "46       Virginia  110-250\n",
       "47     Washington   50-110\n",
       "48  West Virginia   50-110\n",
       "49      Wisconsin   50-110\n",
       "50        Wyoming      <50\n",
       "\n",
       "[51 rows x 2 columns]"
      ]
     },
     "execution_count": 155,
     "metadata": {},
     "output_type": "execute_result"
    }
   ],
   "source": [
    "pop_den = pd.concat([df_pop['State'], df_pop['df_den']], axis = 1)\n",
    "pop_den"
   ]
  },
  {
   "cell_type": "code",
   "execution_count": 156,
   "metadata": {
    "collapsed": false
   },
   "outputs": [
    {
     "data": {
      "text/html": [
       "<div>\n",
       "<table border=\"1\" class=\"dataframe\">\n",
       "  <thead>\n",
       "    <tr style=\"text-align: right;\">\n",
       "      <th></th>\n",
       "      <th>cause_death</th>\n",
       "      <th>State</th>\n",
       "      <th>Gender</th>\n",
       "      <th>Age</th>\n",
       "      <th>Race</th>\n",
       "      <th>...</th>\n",
       "      <th>fired</th>\n",
       "      <th>age_range</th>\n",
       "      <th>red_blue</th>\n",
       "      <th>income_range</th>\n",
       "      <th>df_den</th>\n",
       "    </tr>\n",
       "  </thead>\n",
       "  <tbody>\n",
       "    <tr>\n",
       "      <th>0</th>\n",
       "      <td>Car Accident</td>\n",
       "      <td>New Jersey</td>\n",
       "      <td>Female</td>\n",
       "      <td>64.0</td>\n",
       "      <td>Asian</td>\n",
       "      <td>...</td>\n",
       "      <td>Unclear</td>\n",
       "      <td>55-65</td>\n",
       "      <td>blue</td>\n",
       "      <td>&gt;400000</td>\n",
       "      <td>&gt;250</td>\n",
       "    </tr>\n",
       "    <tr>\n",
       "      <th>1</th>\n",
       "      <td>Car Accident</td>\n",
       "      <td>New Jersey</td>\n",
       "      <td>Female</td>\n",
       "      <td>34.0</td>\n",
       "      <td>Black</td>\n",
       "      <td>...</td>\n",
       "      <td>Unclear</td>\n",
       "      <td>25-34</td>\n",
       "      <td>blue</td>\n",
       "      <td>&gt;400000</td>\n",
       "      <td>&gt;250</td>\n",
       "    </tr>\n",
       "    <tr>\n",
       "      <th>2</th>\n",
       "      <td>Car Accident</td>\n",
       "      <td>New Jersey</td>\n",
       "      <td>Male</td>\n",
       "      <td>41.0</td>\n",
       "      <td>Black</td>\n",
       "      <td>...</td>\n",
       "      <td>Unclear</td>\n",
       "      <td>35-44</td>\n",
       "      <td>blue</td>\n",
       "      <td>&gt;400000</td>\n",
       "      <td>&gt;250</td>\n",
       "    </tr>\n",
       "    <tr>\n",
       "      <th>3</th>\n",
       "      <td>Other</td>\n",
       "      <td>New Jersey</td>\n",
       "      <td>Male</td>\n",
       "      <td>27.0</td>\n",
       "      <td>Black</td>\n",
       "      <td>...</td>\n",
       "      <td>No</td>\n",
       "      <td>25-34</td>\n",
       "      <td>blue</td>\n",
       "      <td>&gt;400000</td>\n",
       "      <td>&gt;250</td>\n",
       "    </tr>\n",
       "    <tr>\n",
       "      <th>4</th>\n",
       "      <td>Physical Confrontation</td>\n",
       "      <td>New Jersey</td>\n",
       "      <td>Male</td>\n",
       "      <td>32.0</td>\n",
       "      <td>Black</td>\n",
       "      <td>...</td>\n",
       "      <td>Unclear</td>\n",
       "      <td>25-34</td>\n",
       "      <td>blue</td>\n",
       "      <td>&gt;400000</td>\n",
       "      <td>&gt;250</td>\n",
       "    </tr>\n",
       "    <tr>\n",
       "      <th>...</th>\n",
       "      <td>...</td>\n",
       "      <td>...</td>\n",
       "      <td>...</td>\n",
       "      <td>...</td>\n",
       "      <td>...</td>\n",
       "      <td>...</td>\n",
       "      <td>...</td>\n",
       "      <td>...</td>\n",
       "      <td>...</td>\n",
       "      <td>...</td>\n",
       "      <td>...</td>\n",
       "    </tr>\n",
       "    <tr>\n",
       "      <th>2340</th>\n",
       "      <td>Shooting</td>\n",
       "      <td>Wyoming</td>\n",
       "      <td>Male</td>\n",
       "      <td>43.0</td>\n",
       "      <td>Unknown</td>\n",
       "      <td>...</td>\n",
       "      <td>Yes</td>\n",
       "      <td>35-44</td>\n",
       "      <td>red</td>\n",
       "      <td>&lt;75000</td>\n",
       "      <td>&lt;50</td>\n",
       "    </tr>\n",
       "    <tr>\n",
       "      <th>2341</th>\n",
       "      <td>Shooting</td>\n",
       "      <td>Wyoming</td>\n",
       "      <td>Male</td>\n",
       "      <td>40.0</td>\n",
       "      <td>Unknown</td>\n",
       "      <td>...</td>\n",
       "      <td>Yes</td>\n",
       "      <td>35-44</td>\n",
       "      <td>red</td>\n",
       "      <td>&lt;75000</td>\n",
       "      <td>&lt;50</td>\n",
       "    </tr>\n",
       "    <tr>\n",
       "      <th>2342</th>\n",
       "      <td>Shooting</td>\n",
       "      <td>Wyoming</td>\n",
       "      <td>Male</td>\n",
       "      <td>26.0</td>\n",
       "      <td>White</td>\n",
       "      <td>...</td>\n",
       "      <td>Unclear</td>\n",
       "      <td>25-34</td>\n",
       "      <td>red</td>\n",
       "      <td>&lt;75000</td>\n",
       "      <td>&lt;50</td>\n",
       "    </tr>\n",
       "    <tr>\n",
       "      <th>2343</th>\n",
       "      <td>Shooting</td>\n",
       "      <td>Wyoming</td>\n",
       "      <td>Male</td>\n",
       "      <td>55.0</td>\n",
       "      <td>White</td>\n",
       "      <td>...</td>\n",
       "      <td>Yes</td>\n",
       "      <td>45-54</td>\n",
       "      <td>red</td>\n",
       "      <td>&lt;75000</td>\n",
       "      <td>&lt;50</td>\n",
       "    </tr>\n",
       "    <tr>\n",
       "      <th>2344</th>\n",
       "      <td>Shooting</td>\n",
       "      <td>Wyoming</td>\n",
       "      <td>Female</td>\n",
       "      <td>39.0</td>\n",
       "      <td>White</td>\n",
       "      <td>...</td>\n",
       "      <td>Unclear</td>\n",
       "      <td>35-44</td>\n",
       "      <td>red</td>\n",
       "      <td>&lt;75000</td>\n",
       "      <td>&lt;50</td>\n",
       "    </tr>\n",
       "  </tbody>\n",
       "</table>\n",
       "<p>2345 rows × 12 columns</p>\n",
       "</div>"
      ],
      "text/plain": [
       "                 cause_death       State  Gender   Age     Race  ...    \\\n",
       "0               Car Accident  New Jersey  Female  64.0    Asian  ...     \n",
       "1               Car Accident  New Jersey  Female  34.0    Black  ...     \n",
       "2               Car Accident  New Jersey    Male  41.0    Black  ...     \n",
       "3                      Other  New Jersey    Male  27.0    Black  ...     \n",
       "4     Physical Confrontation  New Jersey    Male  32.0    Black  ...     \n",
       "...                      ...         ...     ...   ...      ...  ...     \n",
       "2340                Shooting     Wyoming    Male  43.0  Unknown  ...     \n",
       "2341                Shooting     Wyoming    Male  40.0  Unknown  ...     \n",
       "2342                Shooting     Wyoming    Male  26.0    White  ...     \n",
       "2343                Shooting     Wyoming    Male  55.0    White  ...     \n",
       "2344                Shooting     Wyoming  Female  39.0    White  ...     \n",
       "\n",
       "        fired age_range red_blue income_range df_den  \n",
       "0     Unclear     55-65     blue      >400000   >250  \n",
       "1     Unclear     25-34     blue      >400000   >250  \n",
       "2     Unclear     35-44     blue      >400000   >250  \n",
       "3          No     25-34     blue      >400000   >250  \n",
       "4     Unclear     25-34     blue      >400000   >250  \n",
       "...       ...       ...      ...          ...    ...  \n",
       "2340      Yes     35-44      red       <75000    <50  \n",
       "2341      Yes     35-44      red       <75000    <50  \n",
       "2342  Unclear     25-34      red       <75000    <50  \n",
       "2343      Yes     45-54      red       <75000    <50  \n",
       "2344  Unclear     35-44      red       <75000    <50  \n",
       "\n",
       "[2345 rows x 12 columns]"
      ]
     },
     "execution_count": 156,
     "metadata": {},
     "output_type": "execute_result"
    }
   ],
   "source": [
    "df = pd.merge(df, pop_den, on = 'State')\n",
    "df"
   ]
  },
  {
   "cell_type": "markdown",
   "metadata": {},
   "source": [
    ">### Get dummy variables for all relevant features."
   ]
  },
  {
   "cell_type": "code",
   "execution_count": 157,
   "metadata": {
    "collapsed": false
   },
   "outputs": [
    {
     "data": {
      "text/html": [
       "<div>\n",
       "<table border=\"1\" class=\"dataframe\">\n",
       "  <thead>\n",
       "    <tr style=\"text-align: right;\">\n",
       "      <th></th>\n",
       "      <th>den_110-250</th>\n",
       "      <th>den_50-110</th>\n",
       "      <th>den_&lt;50</th>\n",
       "      <th>den_&gt;250</th>\n",
       "    </tr>\n",
       "  </thead>\n",
       "  <tbody>\n",
       "    <tr>\n",
       "      <th>0</th>\n",
       "      <td>0.0</td>\n",
       "      <td>0.0</td>\n",
       "      <td>0.0</td>\n",
       "      <td>1.0</td>\n",
       "    </tr>\n",
       "    <tr>\n",
       "      <th>1</th>\n",
       "      <td>0.0</td>\n",
       "      <td>0.0</td>\n",
       "      <td>0.0</td>\n",
       "      <td>1.0</td>\n",
       "    </tr>\n",
       "    <tr>\n",
       "      <th>2</th>\n",
       "      <td>0.0</td>\n",
       "      <td>0.0</td>\n",
       "      <td>0.0</td>\n",
       "      <td>1.0</td>\n",
       "    </tr>\n",
       "    <tr>\n",
       "      <th>3</th>\n",
       "      <td>0.0</td>\n",
       "      <td>0.0</td>\n",
       "      <td>0.0</td>\n",
       "      <td>1.0</td>\n",
       "    </tr>\n",
       "    <tr>\n",
       "      <th>4</th>\n",
       "      <td>0.0</td>\n",
       "      <td>0.0</td>\n",
       "      <td>0.0</td>\n",
       "      <td>1.0</td>\n",
       "    </tr>\n",
       "    <tr>\n",
       "      <th>...</th>\n",
       "      <td>...</td>\n",
       "      <td>...</td>\n",
       "      <td>...</td>\n",
       "      <td>...</td>\n",
       "    </tr>\n",
       "    <tr>\n",
       "      <th>2340</th>\n",
       "      <td>0.0</td>\n",
       "      <td>0.0</td>\n",
       "      <td>1.0</td>\n",
       "      <td>0.0</td>\n",
       "    </tr>\n",
       "    <tr>\n",
       "      <th>2341</th>\n",
       "      <td>0.0</td>\n",
       "      <td>0.0</td>\n",
       "      <td>1.0</td>\n",
       "      <td>0.0</td>\n",
       "    </tr>\n",
       "    <tr>\n",
       "      <th>2342</th>\n",
       "      <td>0.0</td>\n",
       "      <td>0.0</td>\n",
       "      <td>1.0</td>\n",
       "      <td>0.0</td>\n",
       "    </tr>\n",
       "    <tr>\n",
       "      <th>2343</th>\n",
       "      <td>0.0</td>\n",
       "      <td>0.0</td>\n",
       "      <td>1.0</td>\n",
       "      <td>0.0</td>\n",
       "    </tr>\n",
       "    <tr>\n",
       "      <th>2344</th>\n",
       "      <td>0.0</td>\n",
       "      <td>0.0</td>\n",
       "      <td>1.0</td>\n",
       "      <td>0.0</td>\n",
       "    </tr>\n",
       "  </tbody>\n",
       "</table>\n",
       "<p>2345 rows × 4 columns</p>\n",
       "</div>"
      ],
      "text/plain": [
       "      den_110-250  den_50-110  den_<50  den_>250\n",
       "0             0.0         0.0      0.0       1.0\n",
       "1             0.0         0.0      0.0       1.0\n",
       "2             0.0         0.0      0.0       1.0\n",
       "3             0.0         0.0      0.0       1.0\n",
       "4             0.0         0.0      0.0       1.0\n",
       "...           ...         ...      ...       ...\n",
       "2340          0.0         0.0      1.0       0.0\n",
       "2341          0.0         0.0      1.0       0.0\n",
       "2342          0.0         0.0      1.0       0.0\n",
       "2343          0.0         0.0      1.0       0.0\n",
       "2344          0.0         0.0      1.0       0.0\n",
       "\n",
       "[2345 rows x 4 columns]"
      ]
     },
     "execution_count": 157,
     "metadata": {},
     "output_type": "execute_result"
    }
   ],
   "source": [
    "df_den = pd.get_dummies(df['df_den'], prefix = 'den')\n",
    "df_den"
   ]
  },
  {
   "cell_type": "code",
   "execution_count": 158,
   "metadata": {
    "collapsed": false
   },
   "outputs": [
    {
     "data": {
      "text/html": [
       "<div>\n",
       "<table border=\"1\" class=\"dataframe\">\n",
       "  <thead>\n",
       "    <tr style=\"text-align: right;\">\n",
       "      <th></th>\n",
       "      <th>blue</th>\n",
       "      <th>red</th>\n",
       "    </tr>\n",
       "  </thead>\n",
       "  <tbody>\n",
       "    <tr>\n",
       "      <th>0</th>\n",
       "      <td>1.0</td>\n",
       "      <td>0.0</td>\n",
       "    </tr>\n",
       "    <tr>\n",
       "      <th>1</th>\n",
       "      <td>1.0</td>\n",
       "      <td>0.0</td>\n",
       "    </tr>\n",
       "    <tr>\n",
       "      <th>2</th>\n",
       "      <td>1.0</td>\n",
       "      <td>0.0</td>\n",
       "    </tr>\n",
       "    <tr>\n",
       "      <th>3</th>\n",
       "      <td>1.0</td>\n",
       "      <td>0.0</td>\n",
       "    </tr>\n",
       "    <tr>\n",
       "      <th>4</th>\n",
       "      <td>1.0</td>\n",
       "      <td>0.0</td>\n",
       "    </tr>\n",
       "    <tr>\n",
       "      <th>...</th>\n",
       "      <td>...</td>\n",
       "      <td>...</td>\n",
       "    </tr>\n",
       "    <tr>\n",
       "      <th>2340</th>\n",
       "      <td>0.0</td>\n",
       "      <td>1.0</td>\n",
       "    </tr>\n",
       "    <tr>\n",
       "      <th>2341</th>\n",
       "      <td>0.0</td>\n",
       "      <td>1.0</td>\n",
       "    </tr>\n",
       "    <tr>\n",
       "      <th>2342</th>\n",
       "      <td>0.0</td>\n",
       "      <td>1.0</td>\n",
       "    </tr>\n",
       "    <tr>\n",
       "      <th>2343</th>\n",
       "      <td>0.0</td>\n",
       "      <td>1.0</td>\n",
       "    </tr>\n",
       "    <tr>\n",
       "      <th>2344</th>\n",
       "      <td>0.0</td>\n",
       "      <td>1.0</td>\n",
       "    </tr>\n",
       "  </tbody>\n",
       "</table>\n",
       "<p>2345 rows × 2 columns</p>\n",
       "</div>"
      ],
      "text/plain": [
       "      blue  red\n",
       "0      1.0  0.0\n",
       "1      1.0  0.0\n",
       "2      1.0  0.0\n",
       "3      1.0  0.0\n",
       "4      1.0  0.0\n",
       "...    ...  ...\n",
       "2340   0.0  1.0\n",
       "2341   0.0  1.0\n",
       "2342   0.0  1.0\n",
       "2343   0.0  1.0\n",
       "2344   0.0  1.0\n",
       "\n",
       "[2345 rows x 2 columns]"
      ]
     },
     "execution_count": 158,
     "metadata": {},
     "output_type": "execute_result"
    }
   ],
   "source": [
    "df_red_blue = pd.get_dummies(df['red_blue'])\n",
    "df_red_blue"
   ]
  },
  {
   "cell_type": "code",
   "execution_count": 159,
   "metadata": {
    "collapsed": false
   },
   "outputs": [
    {
     "data": {
      "text/html": [
       "<div>\n",
       "<table border=\"1\" class=\"dataframe\">\n",
       "  <thead>\n",
       "    <tr style=\"text-align: right;\">\n",
       "      <th></th>\n",
       "      <th>priors_No</th>\n",
       "      <th>priors_Unclear</th>\n",
       "      <th>priors_Yes</th>\n",
       "    </tr>\n",
       "  </thead>\n",
       "  <tbody>\n",
       "    <tr>\n",
       "      <th>0</th>\n",
       "      <td>0.0</td>\n",
       "      <td>1.0</td>\n",
       "      <td>0.0</td>\n",
       "    </tr>\n",
       "    <tr>\n",
       "      <th>1</th>\n",
       "      <td>0.0</td>\n",
       "      <td>1.0</td>\n",
       "      <td>0.0</td>\n",
       "    </tr>\n",
       "    <tr>\n",
       "      <th>2</th>\n",
       "      <td>0.0</td>\n",
       "      <td>1.0</td>\n",
       "      <td>0.0</td>\n",
       "    </tr>\n",
       "    <tr>\n",
       "      <th>3</th>\n",
       "      <td>0.0</td>\n",
       "      <td>0.0</td>\n",
       "      <td>1.0</td>\n",
       "    </tr>\n",
       "    <tr>\n",
       "      <th>4</th>\n",
       "      <td>0.0</td>\n",
       "      <td>1.0</td>\n",
       "      <td>0.0</td>\n",
       "    </tr>\n",
       "    <tr>\n",
       "      <th>...</th>\n",
       "      <td>...</td>\n",
       "      <td>...</td>\n",
       "      <td>...</td>\n",
       "    </tr>\n",
       "    <tr>\n",
       "      <th>2340</th>\n",
       "      <td>0.0</td>\n",
       "      <td>0.0</td>\n",
       "      <td>1.0</td>\n",
       "    </tr>\n",
       "    <tr>\n",
       "      <th>2341</th>\n",
       "      <td>0.0</td>\n",
       "      <td>1.0</td>\n",
       "      <td>0.0</td>\n",
       "    </tr>\n",
       "    <tr>\n",
       "      <th>2342</th>\n",
       "      <td>0.0</td>\n",
       "      <td>1.0</td>\n",
       "      <td>0.0</td>\n",
       "    </tr>\n",
       "    <tr>\n",
       "      <th>2343</th>\n",
       "      <td>0.0</td>\n",
       "      <td>1.0</td>\n",
       "      <td>0.0</td>\n",
       "    </tr>\n",
       "    <tr>\n",
       "      <th>2344</th>\n",
       "      <td>0.0</td>\n",
       "      <td>1.0</td>\n",
       "      <td>0.0</td>\n",
       "    </tr>\n",
       "  </tbody>\n",
       "</table>\n",
       "<p>2345 rows × 3 columns</p>\n",
       "</div>"
      ],
      "text/plain": [
       "      priors_No  priors_Unclear  priors_Yes\n",
       "0           0.0             1.0         0.0\n",
       "1           0.0             1.0         0.0\n",
       "2           0.0             1.0         0.0\n",
       "3           0.0             0.0         1.0\n",
       "4           0.0             1.0         0.0\n",
       "...         ...             ...         ...\n",
       "2340        0.0             0.0         1.0\n",
       "2341        0.0             1.0         0.0\n",
       "2342        0.0             1.0         0.0\n",
       "2343        0.0             1.0         0.0\n",
       "2344        0.0             1.0         0.0\n",
       "\n",
       "[2345 rows x 3 columns]"
      ]
     },
     "execution_count": 159,
     "metadata": {},
     "output_type": "execute_result"
    }
   ],
   "source": [
    "df_priors = pd.get_dummies(df['priors'], prefix = 'priors')\n",
    "df_priors"
   ]
  },
  {
   "cell_type": "code",
   "execution_count": 160,
   "metadata": {
    "collapsed": false
   },
   "outputs": [
    {
     "data": {
      "text/html": [
       "<div>\n",
       "<table border=\"1\" class=\"dataframe\">\n",
       "  <thead>\n",
       "    <tr style=\"text-align: right;\">\n",
       "      <th></th>\n",
       "      <th>armed_No</th>\n",
       "      <th>armed_Unclear</th>\n",
       "      <th>armed_Yes</th>\n",
       "    </tr>\n",
       "  </thead>\n",
       "  <tbody>\n",
       "    <tr>\n",
       "      <th>0</th>\n",
       "      <td>1.0</td>\n",
       "      <td>0.0</td>\n",
       "      <td>0.0</td>\n",
       "    </tr>\n",
       "    <tr>\n",
       "      <th>1</th>\n",
       "      <td>1.0</td>\n",
       "      <td>0.0</td>\n",
       "      <td>0.0</td>\n",
       "    </tr>\n",
       "    <tr>\n",
       "      <th>2</th>\n",
       "      <td>1.0</td>\n",
       "      <td>0.0</td>\n",
       "      <td>0.0</td>\n",
       "    </tr>\n",
       "    <tr>\n",
       "      <th>3</th>\n",
       "      <td>1.0</td>\n",
       "      <td>0.0</td>\n",
       "      <td>0.0</td>\n",
       "    </tr>\n",
       "    <tr>\n",
       "      <th>4</th>\n",
       "      <td>1.0</td>\n",
       "      <td>0.0</td>\n",
       "      <td>0.0</td>\n",
       "    </tr>\n",
       "    <tr>\n",
       "      <th>...</th>\n",
       "      <td>...</td>\n",
       "      <td>...</td>\n",
       "      <td>...</td>\n",
       "    </tr>\n",
       "    <tr>\n",
       "      <th>2340</th>\n",
       "      <td>0.0</td>\n",
       "      <td>0.0</td>\n",
       "      <td>1.0</td>\n",
       "    </tr>\n",
       "    <tr>\n",
       "      <th>2341</th>\n",
       "      <td>0.0</td>\n",
       "      <td>0.0</td>\n",
       "      <td>1.0</td>\n",
       "    </tr>\n",
       "    <tr>\n",
       "      <th>2342</th>\n",
       "      <td>0.0</td>\n",
       "      <td>0.0</td>\n",
       "      <td>1.0</td>\n",
       "    </tr>\n",
       "    <tr>\n",
       "      <th>2343</th>\n",
       "      <td>0.0</td>\n",
       "      <td>0.0</td>\n",
       "      <td>1.0</td>\n",
       "    </tr>\n",
       "    <tr>\n",
       "      <th>2344</th>\n",
       "      <td>0.0</td>\n",
       "      <td>0.0</td>\n",
       "      <td>1.0</td>\n",
       "    </tr>\n",
       "  </tbody>\n",
       "</table>\n",
       "<p>2345 rows × 3 columns</p>\n",
       "</div>"
      ],
      "text/plain": [
       "      armed_No  armed_Unclear  armed_Yes\n",
       "0          1.0            0.0        0.0\n",
       "1          1.0            0.0        0.0\n",
       "2          1.0            0.0        0.0\n",
       "3          1.0            0.0        0.0\n",
       "4          1.0            0.0        0.0\n",
       "...        ...            ...        ...\n",
       "2340       0.0            0.0        1.0\n",
       "2341       0.0            0.0        1.0\n",
       "2342       0.0            0.0        1.0\n",
       "2343       0.0            0.0        1.0\n",
       "2344       0.0            0.0        1.0\n",
       "\n",
       "[2345 rows x 3 columns]"
      ]
     },
     "execution_count": 160,
     "metadata": {},
     "output_type": "execute_result"
    }
   ],
   "source": [
    "df_armed = pd.get_dummies(df['armed'], prefix = 'armed')\n",
    "df_armed"
   ]
  },
  {
   "cell_type": "code",
   "execution_count": 161,
   "metadata": {
    "collapsed": false
   },
   "outputs": [
    {
     "data": {
      "text/html": [
       "<div>\n",
       "<table border=\"1\" class=\"dataframe\">\n",
       "  <thead>\n",
       "    <tr style=\"text-align: right;\">\n",
       "      <th></th>\n",
       "      <th>Asian</th>\n",
       "      <th>Black</th>\n",
       "      <th>Latino</th>\n",
       "      <th>Native American</th>\n",
       "      <th>Pacific Islander</th>\n",
       "      <th>Unknown</th>\n",
       "      <th>White</th>\n",
       "    </tr>\n",
       "  </thead>\n",
       "  <tbody>\n",
       "    <tr>\n",
       "      <th>0</th>\n",
       "      <td>1.0</td>\n",
       "      <td>0.0</td>\n",
       "      <td>0.0</td>\n",
       "      <td>0.0</td>\n",
       "      <td>0.0</td>\n",
       "      <td>0.0</td>\n",
       "      <td>0.0</td>\n",
       "    </tr>\n",
       "    <tr>\n",
       "      <th>1</th>\n",
       "      <td>0.0</td>\n",
       "      <td>1.0</td>\n",
       "      <td>0.0</td>\n",
       "      <td>0.0</td>\n",
       "      <td>0.0</td>\n",
       "      <td>0.0</td>\n",
       "      <td>0.0</td>\n",
       "    </tr>\n",
       "    <tr>\n",
       "      <th>2</th>\n",
       "      <td>0.0</td>\n",
       "      <td>1.0</td>\n",
       "      <td>0.0</td>\n",
       "      <td>0.0</td>\n",
       "      <td>0.0</td>\n",
       "      <td>0.0</td>\n",
       "      <td>0.0</td>\n",
       "    </tr>\n",
       "    <tr>\n",
       "      <th>3</th>\n",
       "      <td>0.0</td>\n",
       "      <td>1.0</td>\n",
       "      <td>0.0</td>\n",
       "      <td>0.0</td>\n",
       "      <td>0.0</td>\n",
       "      <td>0.0</td>\n",
       "      <td>0.0</td>\n",
       "    </tr>\n",
       "    <tr>\n",
       "      <th>4</th>\n",
       "      <td>0.0</td>\n",
       "      <td>1.0</td>\n",
       "      <td>0.0</td>\n",
       "      <td>0.0</td>\n",
       "      <td>0.0</td>\n",
       "      <td>0.0</td>\n",
       "      <td>0.0</td>\n",
       "    </tr>\n",
       "    <tr>\n",
       "      <th>...</th>\n",
       "      <td>...</td>\n",
       "      <td>...</td>\n",
       "      <td>...</td>\n",
       "      <td>...</td>\n",
       "      <td>...</td>\n",
       "      <td>...</td>\n",
       "      <td>...</td>\n",
       "    </tr>\n",
       "    <tr>\n",
       "      <th>2340</th>\n",
       "      <td>0.0</td>\n",
       "      <td>0.0</td>\n",
       "      <td>0.0</td>\n",
       "      <td>0.0</td>\n",
       "      <td>0.0</td>\n",
       "      <td>1.0</td>\n",
       "      <td>0.0</td>\n",
       "    </tr>\n",
       "    <tr>\n",
       "      <th>2341</th>\n",
       "      <td>0.0</td>\n",
       "      <td>0.0</td>\n",
       "      <td>0.0</td>\n",
       "      <td>0.0</td>\n",
       "      <td>0.0</td>\n",
       "      <td>1.0</td>\n",
       "      <td>0.0</td>\n",
       "    </tr>\n",
       "    <tr>\n",
       "      <th>2342</th>\n",
       "      <td>0.0</td>\n",
       "      <td>0.0</td>\n",
       "      <td>0.0</td>\n",
       "      <td>0.0</td>\n",
       "      <td>0.0</td>\n",
       "      <td>0.0</td>\n",
       "      <td>1.0</td>\n",
       "    </tr>\n",
       "    <tr>\n",
       "      <th>2343</th>\n",
       "      <td>0.0</td>\n",
       "      <td>0.0</td>\n",
       "      <td>0.0</td>\n",
       "      <td>0.0</td>\n",
       "      <td>0.0</td>\n",
       "      <td>0.0</td>\n",
       "      <td>1.0</td>\n",
       "    </tr>\n",
       "    <tr>\n",
       "      <th>2344</th>\n",
       "      <td>0.0</td>\n",
       "      <td>0.0</td>\n",
       "      <td>0.0</td>\n",
       "      <td>0.0</td>\n",
       "      <td>0.0</td>\n",
       "      <td>0.0</td>\n",
       "      <td>1.0</td>\n",
       "    </tr>\n",
       "  </tbody>\n",
       "</table>\n",
       "<p>2345 rows × 7 columns</p>\n",
       "</div>"
      ],
      "text/plain": [
       "      Asian  Black  Latino  Native American  Pacific Islander  Unknown  White\n",
       "0       1.0    0.0     0.0              0.0               0.0      0.0    0.0\n",
       "1       0.0    1.0     0.0              0.0               0.0      0.0    0.0\n",
       "2       0.0    1.0     0.0              0.0               0.0      0.0    0.0\n",
       "3       0.0    1.0     0.0              0.0               0.0      0.0    0.0\n",
       "4       0.0    1.0     0.0              0.0               0.0      0.0    0.0\n",
       "...     ...    ...     ...              ...               ...      ...    ...\n",
       "2340    0.0    0.0     0.0              0.0               0.0      1.0    0.0\n",
       "2341    0.0    0.0     0.0              0.0               0.0      1.0    0.0\n",
       "2342    0.0    0.0     0.0              0.0               0.0      0.0    1.0\n",
       "2343    0.0    0.0     0.0              0.0               0.0      0.0    1.0\n",
       "2344    0.0    0.0     0.0              0.0               0.0      0.0    1.0\n",
       "\n",
       "[2345 rows x 7 columns]"
      ]
     },
     "execution_count": 161,
     "metadata": {},
     "output_type": "execute_result"
    }
   ],
   "source": [
    "df_race = pd.get_dummies(df['Race'])\n",
    "df_race"
   ]
  },
  {
   "cell_type": "code",
   "execution_count": 162,
   "metadata": {
    "collapsed": false
   },
   "outputs": [
    {
     "data": {
      "text/html": [
       "<div>\n",
       "<table border=\"1\" class=\"dataframe\">\n",
       "  <thead>\n",
       "    <tr style=\"text-align: right;\">\n",
       "      <th></th>\n",
       "      <th>25-34</th>\n",
       "      <th>35-44</th>\n",
       "      <th>45-54</th>\n",
       "      <th>55-65</th>\n",
       "      <th>&lt;25</th>\n",
       "      <th>&gt;65</th>\n",
       "    </tr>\n",
       "  </thead>\n",
       "  <tbody>\n",
       "    <tr>\n",
       "      <th>0</th>\n",
       "      <td>0.0</td>\n",
       "      <td>0.0</td>\n",
       "      <td>0.0</td>\n",
       "      <td>1.0</td>\n",
       "      <td>0.0</td>\n",
       "      <td>0.0</td>\n",
       "    </tr>\n",
       "    <tr>\n",
       "      <th>1</th>\n",
       "      <td>1.0</td>\n",
       "      <td>0.0</td>\n",
       "      <td>0.0</td>\n",
       "      <td>0.0</td>\n",
       "      <td>0.0</td>\n",
       "      <td>0.0</td>\n",
       "    </tr>\n",
       "    <tr>\n",
       "      <th>2</th>\n",
       "      <td>0.0</td>\n",
       "      <td>1.0</td>\n",
       "      <td>0.0</td>\n",
       "      <td>0.0</td>\n",
       "      <td>0.0</td>\n",
       "      <td>0.0</td>\n",
       "    </tr>\n",
       "    <tr>\n",
       "      <th>3</th>\n",
       "      <td>1.0</td>\n",
       "      <td>0.0</td>\n",
       "      <td>0.0</td>\n",
       "      <td>0.0</td>\n",
       "      <td>0.0</td>\n",
       "      <td>0.0</td>\n",
       "    </tr>\n",
       "    <tr>\n",
       "      <th>4</th>\n",
       "      <td>1.0</td>\n",
       "      <td>0.0</td>\n",
       "      <td>0.0</td>\n",
       "      <td>0.0</td>\n",
       "      <td>0.0</td>\n",
       "      <td>0.0</td>\n",
       "    </tr>\n",
       "    <tr>\n",
       "      <th>...</th>\n",
       "      <td>...</td>\n",
       "      <td>...</td>\n",
       "      <td>...</td>\n",
       "      <td>...</td>\n",
       "      <td>...</td>\n",
       "      <td>...</td>\n",
       "    </tr>\n",
       "    <tr>\n",
       "      <th>2340</th>\n",
       "      <td>0.0</td>\n",
       "      <td>1.0</td>\n",
       "      <td>0.0</td>\n",
       "      <td>0.0</td>\n",
       "      <td>0.0</td>\n",
       "      <td>0.0</td>\n",
       "    </tr>\n",
       "    <tr>\n",
       "      <th>2341</th>\n",
       "      <td>0.0</td>\n",
       "      <td>1.0</td>\n",
       "      <td>0.0</td>\n",
       "      <td>0.0</td>\n",
       "      <td>0.0</td>\n",
       "      <td>0.0</td>\n",
       "    </tr>\n",
       "    <tr>\n",
       "      <th>2342</th>\n",
       "      <td>1.0</td>\n",
       "      <td>0.0</td>\n",
       "      <td>0.0</td>\n",
       "      <td>0.0</td>\n",
       "      <td>0.0</td>\n",
       "      <td>0.0</td>\n",
       "    </tr>\n",
       "    <tr>\n",
       "      <th>2343</th>\n",
       "      <td>0.0</td>\n",
       "      <td>0.0</td>\n",
       "      <td>1.0</td>\n",
       "      <td>0.0</td>\n",
       "      <td>0.0</td>\n",
       "      <td>0.0</td>\n",
       "    </tr>\n",
       "    <tr>\n",
       "      <th>2344</th>\n",
       "      <td>0.0</td>\n",
       "      <td>1.0</td>\n",
       "      <td>0.0</td>\n",
       "      <td>0.0</td>\n",
       "      <td>0.0</td>\n",
       "      <td>0.0</td>\n",
       "    </tr>\n",
       "  </tbody>\n",
       "</table>\n",
       "<p>2345 rows × 6 columns</p>\n",
       "</div>"
      ],
      "text/plain": [
       "      25-34  35-44  45-54  55-65  <25  >65\n",
       "0       0.0    0.0    0.0    1.0  0.0  0.0\n",
       "1       1.0    0.0    0.0    0.0  0.0  0.0\n",
       "2       0.0    1.0    0.0    0.0  0.0  0.0\n",
       "3       1.0    0.0    0.0    0.0  0.0  0.0\n",
       "4       1.0    0.0    0.0    0.0  0.0  0.0\n",
       "...     ...    ...    ...    ...  ...  ...\n",
       "2340    0.0    1.0    0.0    0.0  0.0  0.0\n",
       "2341    0.0    1.0    0.0    0.0  0.0  0.0\n",
       "2342    1.0    0.0    0.0    0.0  0.0  0.0\n",
       "2343    0.0    0.0    1.0    0.0  0.0  0.0\n",
       "2344    0.0    1.0    0.0    0.0  0.0  0.0\n",
       "\n",
       "[2345 rows x 6 columns]"
      ]
     },
     "execution_count": 162,
     "metadata": {},
     "output_type": "execute_result"
    }
   ],
   "source": [
    "df_age_range = pd.get_dummies(df['age_range'])\n",
    "df_age_range"
   ]
  },
  {
   "cell_type": "code",
   "execution_count": 163,
   "metadata": {
    "collapsed": false
   },
   "outputs": [
    {
     "data": {
      "text/html": [
       "<div>\n",
       "<table border=\"1\" class=\"dataframe\">\n",
       "  <thead>\n",
       "    <tr style=\"text-align: right;\">\n",
       "      <th></th>\n",
       "      <th>200000-400000</th>\n",
       "      <th>75000-200000</th>\n",
       "      <th>&lt;75000</th>\n",
       "      <th>&gt;400000</th>\n",
       "    </tr>\n",
       "  </thead>\n",
       "  <tbody>\n",
       "    <tr>\n",
       "      <th>0</th>\n",
       "      <td>0.0</td>\n",
       "      <td>0.0</td>\n",
       "      <td>0.0</td>\n",
       "      <td>1.0</td>\n",
       "    </tr>\n",
       "    <tr>\n",
       "      <th>1</th>\n",
       "      <td>0.0</td>\n",
       "      <td>0.0</td>\n",
       "      <td>0.0</td>\n",
       "      <td>1.0</td>\n",
       "    </tr>\n",
       "    <tr>\n",
       "      <th>2</th>\n",
       "      <td>0.0</td>\n",
       "      <td>0.0</td>\n",
       "      <td>0.0</td>\n",
       "      <td>1.0</td>\n",
       "    </tr>\n",
       "    <tr>\n",
       "      <th>3</th>\n",
       "      <td>0.0</td>\n",
       "      <td>0.0</td>\n",
       "      <td>0.0</td>\n",
       "      <td>1.0</td>\n",
       "    </tr>\n",
       "    <tr>\n",
       "      <th>4</th>\n",
       "      <td>0.0</td>\n",
       "      <td>0.0</td>\n",
       "      <td>0.0</td>\n",
       "      <td>1.0</td>\n",
       "    </tr>\n",
       "    <tr>\n",
       "      <th>...</th>\n",
       "      <td>...</td>\n",
       "      <td>...</td>\n",
       "      <td>...</td>\n",
       "      <td>...</td>\n",
       "    </tr>\n",
       "    <tr>\n",
       "      <th>2340</th>\n",
       "      <td>0.0</td>\n",
       "      <td>0.0</td>\n",
       "      <td>1.0</td>\n",
       "      <td>0.0</td>\n",
       "    </tr>\n",
       "    <tr>\n",
       "      <th>2341</th>\n",
       "      <td>0.0</td>\n",
       "      <td>0.0</td>\n",
       "      <td>1.0</td>\n",
       "      <td>0.0</td>\n",
       "    </tr>\n",
       "    <tr>\n",
       "      <th>2342</th>\n",
       "      <td>0.0</td>\n",
       "      <td>0.0</td>\n",
       "      <td>1.0</td>\n",
       "      <td>0.0</td>\n",
       "    </tr>\n",
       "    <tr>\n",
       "      <th>2343</th>\n",
       "      <td>0.0</td>\n",
       "      <td>0.0</td>\n",
       "      <td>1.0</td>\n",
       "      <td>0.0</td>\n",
       "    </tr>\n",
       "    <tr>\n",
       "      <th>2344</th>\n",
       "      <td>0.0</td>\n",
       "      <td>0.0</td>\n",
       "      <td>1.0</td>\n",
       "      <td>0.0</td>\n",
       "    </tr>\n",
       "  </tbody>\n",
       "</table>\n",
       "<p>2345 rows × 4 columns</p>\n",
       "</div>"
      ],
      "text/plain": [
       "      200000-400000  75000-200000  <75000  >400000\n",
       "0               0.0           0.0     0.0      1.0\n",
       "1               0.0           0.0     0.0      1.0\n",
       "2               0.0           0.0     0.0      1.0\n",
       "3               0.0           0.0     0.0      1.0\n",
       "4               0.0           0.0     0.0      1.0\n",
       "...             ...           ...     ...      ...\n",
       "2340            0.0           0.0     1.0      0.0\n",
       "2341            0.0           0.0     1.0      0.0\n",
       "2342            0.0           0.0     1.0      0.0\n",
       "2343            0.0           0.0     1.0      0.0\n",
       "2344            0.0           0.0     1.0      0.0\n",
       "\n",
       "[2345 rows x 4 columns]"
      ]
     },
     "execution_count": 163,
     "metadata": {},
     "output_type": "execute_result"
    }
   ],
   "source": [
    "df_income_range = pd.get_dummies(df['income_range'])\n",
    "df_income_range"
   ]
  },
  {
   "cell_type": "code",
   "execution_count": 164,
   "metadata": {
    "collapsed": false
   },
   "outputs": [
    {
     "data": {
      "text/html": [
       "<div>\n",
       "<table border=\"1\" class=\"dataframe\">\n",
       "  <thead>\n",
       "    <tr style=\"text-align: right;\">\n",
       "      <th></th>\n",
       "      <th>fired_No</th>\n",
       "      <th>fired_Unclear</th>\n",
       "      <th>fired_Yes</th>\n",
       "    </tr>\n",
       "  </thead>\n",
       "  <tbody>\n",
       "    <tr>\n",
       "      <th>0</th>\n",
       "      <td>0.0</td>\n",
       "      <td>1.0</td>\n",
       "      <td>0.0</td>\n",
       "    </tr>\n",
       "    <tr>\n",
       "      <th>1</th>\n",
       "      <td>0.0</td>\n",
       "      <td>1.0</td>\n",
       "      <td>0.0</td>\n",
       "    </tr>\n",
       "    <tr>\n",
       "      <th>2</th>\n",
       "      <td>0.0</td>\n",
       "      <td>1.0</td>\n",
       "      <td>0.0</td>\n",
       "    </tr>\n",
       "    <tr>\n",
       "      <th>3</th>\n",
       "      <td>1.0</td>\n",
       "      <td>0.0</td>\n",
       "      <td>0.0</td>\n",
       "    </tr>\n",
       "    <tr>\n",
       "      <th>4</th>\n",
       "      <td>0.0</td>\n",
       "      <td>1.0</td>\n",
       "      <td>0.0</td>\n",
       "    </tr>\n",
       "    <tr>\n",
       "      <th>...</th>\n",
       "      <td>...</td>\n",
       "      <td>...</td>\n",
       "      <td>...</td>\n",
       "    </tr>\n",
       "    <tr>\n",
       "      <th>2340</th>\n",
       "      <td>0.0</td>\n",
       "      <td>0.0</td>\n",
       "      <td>1.0</td>\n",
       "    </tr>\n",
       "    <tr>\n",
       "      <th>2341</th>\n",
       "      <td>0.0</td>\n",
       "      <td>0.0</td>\n",
       "      <td>1.0</td>\n",
       "    </tr>\n",
       "    <tr>\n",
       "      <th>2342</th>\n",
       "      <td>0.0</td>\n",
       "      <td>1.0</td>\n",
       "      <td>0.0</td>\n",
       "    </tr>\n",
       "    <tr>\n",
       "      <th>2343</th>\n",
       "      <td>0.0</td>\n",
       "      <td>0.0</td>\n",
       "      <td>1.0</td>\n",
       "    </tr>\n",
       "    <tr>\n",
       "      <th>2344</th>\n",
       "      <td>0.0</td>\n",
       "      <td>1.0</td>\n",
       "      <td>0.0</td>\n",
       "    </tr>\n",
       "  </tbody>\n",
       "</table>\n",
       "<p>2345 rows × 3 columns</p>\n",
       "</div>"
      ],
      "text/plain": [
       "      fired_No  fired_Unclear  fired_Yes\n",
       "0          0.0            1.0        0.0\n",
       "1          0.0            1.0        0.0\n",
       "2          0.0            1.0        0.0\n",
       "3          1.0            0.0        0.0\n",
       "4          0.0            1.0        0.0\n",
       "...        ...            ...        ...\n",
       "2340       0.0            0.0        1.0\n",
       "2341       0.0            0.0        1.0\n",
       "2342       0.0            1.0        0.0\n",
       "2343       0.0            0.0        1.0\n",
       "2344       0.0            1.0        0.0\n",
       "\n",
       "[2345 rows x 3 columns]"
      ]
     },
     "execution_count": 164,
     "metadata": {},
     "output_type": "execute_result"
    }
   ],
   "source": [
    "df_fired = pd.get_dummies(df['fired'], prefix = 'fired')\n",
    "df_fired"
   ]
  },
  {
   "cell_type": "code",
   "execution_count": 165,
   "metadata": {
    "collapsed": false
   },
   "outputs": [
    {
     "data": {
      "text/html": [
       "<div>\n",
       "<table border=\"1\" class=\"dataframe\">\n",
       "  <thead>\n",
       "    <tr style=\"text-align: right;\">\n",
       "      <th></th>\n",
       "      <th>cause_death</th>\n",
       "      <th>State</th>\n",
       "      <th>Gender</th>\n",
       "      <th>Age</th>\n",
       "      <th>Race</th>\n",
       "      <th>...</th>\n",
       "      <th>&lt;75000</th>\n",
       "      <th>&gt;400000</th>\n",
       "      <th>fired_No</th>\n",
       "      <th>fired_Unclear</th>\n",
       "      <th>fired_Yes</th>\n",
       "    </tr>\n",
       "  </thead>\n",
       "  <tbody>\n",
       "    <tr>\n",
       "      <th>0</th>\n",
       "      <td>Car Accident</td>\n",
       "      <td>New Jersey</td>\n",
       "      <td>Female</td>\n",
       "      <td>64.0</td>\n",
       "      <td>Asian</td>\n",
       "      <td>...</td>\n",
       "      <td>0.0</td>\n",
       "      <td>1.0</td>\n",
       "      <td>0.0</td>\n",
       "      <td>1.0</td>\n",
       "      <td>0.0</td>\n",
       "    </tr>\n",
       "    <tr>\n",
       "      <th>1</th>\n",
       "      <td>Car Accident</td>\n",
       "      <td>New Jersey</td>\n",
       "      <td>Female</td>\n",
       "      <td>34.0</td>\n",
       "      <td>Black</td>\n",
       "      <td>...</td>\n",
       "      <td>0.0</td>\n",
       "      <td>1.0</td>\n",
       "      <td>0.0</td>\n",
       "      <td>1.0</td>\n",
       "      <td>0.0</td>\n",
       "    </tr>\n",
       "    <tr>\n",
       "      <th>2</th>\n",
       "      <td>Car Accident</td>\n",
       "      <td>New Jersey</td>\n",
       "      <td>Male</td>\n",
       "      <td>41.0</td>\n",
       "      <td>Black</td>\n",
       "      <td>...</td>\n",
       "      <td>0.0</td>\n",
       "      <td>1.0</td>\n",
       "      <td>0.0</td>\n",
       "      <td>1.0</td>\n",
       "      <td>0.0</td>\n",
       "    </tr>\n",
       "    <tr>\n",
       "      <th>3</th>\n",
       "      <td>Other</td>\n",
       "      <td>New Jersey</td>\n",
       "      <td>Male</td>\n",
       "      <td>27.0</td>\n",
       "      <td>Black</td>\n",
       "      <td>...</td>\n",
       "      <td>0.0</td>\n",
       "      <td>1.0</td>\n",
       "      <td>1.0</td>\n",
       "      <td>0.0</td>\n",
       "      <td>0.0</td>\n",
       "    </tr>\n",
       "    <tr>\n",
       "      <th>4</th>\n",
       "      <td>Physical Confrontation</td>\n",
       "      <td>New Jersey</td>\n",
       "      <td>Male</td>\n",
       "      <td>32.0</td>\n",
       "      <td>Black</td>\n",
       "      <td>...</td>\n",
       "      <td>0.0</td>\n",
       "      <td>1.0</td>\n",
       "      <td>0.0</td>\n",
       "      <td>1.0</td>\n",
       "      <td>0.0</td>\n",
       "    </tr>\n",
       "    <tr>\n",
       "      <th>...</th>\n",
       "      <td>...</td>\n",
       "      <td>...</td>\n",
       "      <td>...</td>\n",
       "      <td>...</td>\n",
       "      <td>...</td>\n",
       "      <td>...</td>\n",
       "      <td>...</td>\n",
       "      <td>...</td>\n",
       "      <td>...</td>\n",
       "      <td>...</td>\n",
       "      <td>...</td>\n",
       "    </tr>\n",
       "    <tr>\n",
       "      <th>2340</th>\n",
       "      <td>Shooting</td>\n",
       "      <td>Wyoming</td>\n",
       "      <td>Male</td>\n",
       "      <td>43.0</td>\n",
       "      <td>Unknown</td>\n",
       "      <td>...</td>\n",
       "      <td>1.0</td>\n",
       "      <td>0.0</td>\n",
       "      <td>0.0</td>\n",
       "      <td>0.0</td>\n",
       "      <td>1.0</td>\n",
       "    </tr>\n",
       "    <tr>\n",
       "      <th>2341</th>\n",
       "      <td>Shooting</td>\n",
       "      <td>Wyoming</td>\n",
       "      <td>Male</td>\n",
       "      <td>40.0</td>\n",
       "      <td>Unknown</td>\n",
       "      <td>...</td>\n",
       "      <td>1.0</td>\n",
       "      <td>0.0</td>\n",
       "      <td>0.0</td>\n",
       "      <td>0.0</td>\n",
       "      <td>1.0</td>\n",
       "    </tr>\n",
       "    <tr>\n",
       "      <th>2342</th>\n",
       "      <td>Shooting</td>\n",
       "      <td>Wyoming</td>\n",
       "      <td>Male</td>\n",
       "      <td>26.0</td>\n",
       "      <td>White</td>\n",
       "      <td>...</td>\n",
       "      <td>1.0</td>\n",
       "      <td>0.0</td>\n",
       "      <td>0.0</td>\n",
       "      <td>1.0</td>\n",
       "      <td>0.0</td>\n",
       "    </tr>\n",
       "    <tr>\n",
       "      <th>2343</th>\n",
       "      <td>Shooting</td>\n",
       "      <td>Wyoming</td>\n",
       "      <td>Male</td>\n",
       "      <td>55.0</td>\n",
       "      <td>White</td>\n",
       "      <td>...</td>\n",
       "      <td>1.0</td>\n",
       "      <td>0.0</td>\n",
       "      <td>0.0</td>\n",
       "      <td>0.0</td>\n",
       "      <td>1.0</td>\n",
       "    </tr>\n",
       "    <tr>\n",
       "      <th>2344</th>\n",
       "      <td>Shooting</td>\n",
       "      <td>Wyoming</td>\n",
       "      <td>Female</td>\n",
       "      <td>39.0</td>\n",
       "      <td>White</td>\n",
       "      <td>...</td>\n",
       "      <td>1.0</td>\n",
       "      <td>0.0</td>\n",
       "      <td>0.0</td>\n",
       "      <td>1.0</td>\n",
       "      <td>0.0</td>\n",
       "    </tr>\n",
       "  </tbody>\n",
       "</table>\n",
       "<p>2345 rows × 44 columns</p>\n",
       "</div>"
      ],
      "text/plain": [
       "                 cause_death       State  Gender   Age     Race    ...     \\\n",
       "0               Car Accident  New Jersey  Female  64.0    Asian    ...      \n",
       "1               Car Accident  New Jersey  Female  34.0    Black    ...      \n",
       "2               Car Accident  New Jersey    Male  41.0    Black    ...      \n",
       "3                      Other  New Jersey    Male  27.0    Black    ...      \n",
       "4     Physical Confrontation  New Jersey    Male  32.0    Black    ...      \n",
       "...                      ...         ...     ...   ...      ...    ...      \n",
       "2340                Shooting     Wyoming    Male  43.0  Unknown    ...      \n",
       "2341                Shooting     Wyoming    Male  40.0  Unknown    ...      \n",
       "2342                Shooting     Wyoming    Male  26.0    White    ...      \n",
       "2343                Shooting     Wyoming    Male  55.0    White    ...      \n",
       "2344                Shooting     Wyoming  Female  39.0    White    ...      \n",
       "\n",
       "     <75000 >400000 fired_No fired_Unclear fired_Yes  \n",
       "0       0.0     1.0      0.0           1.0       0.0  \n",
       "1       0.0     1.0      0.0           1.0       0.0  \n",
       "2       0.0     1.0      0.0           1.0       0.0  \n",
       "3       0.0     1.0      1.0           0.0       0.0  \n",
       "4       0.0     1.0      0.0           1.0       0.0  \n",
       "...     ...     ...      ...           ...       ...  \n",
       "2340    1.0     0.0      0.0           0.0       1.0  \n",
       "2341    1.0     0.0      0.0           0.0       1.0  \n",
       "2342    1.0     0.0      0.0           1.0       0.0  \n",
       "2343    1.0     0.0      0.0           0.0       1.0  \n",
       "2344    1.0     0.0      0.0           1.0       0.0  \n",
       "\n",
       "[2345 rows x 44 columns]"
      ]
     },
     "execution_count": 165,
     "metadata": {},
     "output_type": "execute_result"
    }
   ],
   "source": [
    "df_new = pd.concat([df, df_age_range, df_race, df_priors, df_armed, df_red_blue, df_den, df_income_range, df_fired], axis = 1)\n",
    "df_new"
   ]
  },
  {
   "cell_type": "markdown",
   "metadata": {},
   "source": [
    ">### Visualizations of distributions of variables. "
   ]
  },
  {
   "cell_type": "code",
   "execution_count": 166,
   "metadata": {
    "collapsed": false
   },
   "outputs": [
    {
     "data": {
      "text/plain": [
       "25-34    697.0\n",
       "35-44    499.0\n",
       "45-54    342.0\n",
       "55-65    149.0\n",
       "<25      503.0\n",
       ">65       80.0\n",
       "dtype: float64"
      ]
     },
     "execution_count": 166,
     "metadata": {},
     "output_type": "execute_result"
    }
   ],
   "source": [
    "df_age_range.sum()"
   ]
  },
  {
   "cell_type": "code",
   "execution_count": 167,
   "metadata": {
    "collapsed": false
   },
   "outputs": [
    {
     "data": {
      "text/plain": [
       "<matplotlib.axes._subplots.AxesSubplot at 0x113bab50>"
      ]
     },
     "execution_count": 167,
     "metadata": {},
     "output_type": "execute_result"
    },
    {
     "data": {
      "image/png": "[encoded data removed]",
      "text/plain": [
       "<matplotlib.figure.Figure at 0x113ba1b0>"
      ]
     },
     "metadata": {},
     "output_type": "display_data"
    }
   ],
   "source": [
    "graph = pd.Series({'<25': 503,'25-34':697,'35-44':499,'45-54':342,'55-65':149,'>65':80})\n",
    "graph.plot(kind = 'barh')"
   ]
  },
  {
   "cell_type": "code",
   "execution_count": 168,
   "metadata": {
    "collapsed": false
   },
   "outputs": [
    {
     "data": {
      "text/plain": [
       "Asian                27.0\n",
       "Black               508.0\n",
       "Latino              319.0\n",
       "Native American      16.0\n",
       "Pacific Islander      3.0\n",
       "Unknown             706.0\n",
       "White               766.0\n",
       "dtype: float64"
      ]
     },
     "execution_count": 168,
     "metadata": {},
     "output_type": "execute_result"
    }
   ],
   "source": [
    "df_race.sum()"
   ]
  },
  {
   "cell_type": "code",
   "execution_count": 169,
   "metadata": {
    "collapsed": false
   },
   "outputs": [
    {
     "data": {
      "text/plain": [
       "<matplotlib.axes._subplots.AxesSubplot at 0x112fed30>"
      ]
     },
     "execution_count": 169,
     "metadata": {},
     "output_type": "execute_result"
    },
    {
     "data": {
      "image/png": "[encoded data removed]",
      "text/plain": [
       "<matplotlib.figure.Figure at 0x129d7350>"
      ]
     },
     "metadata": {},
     "output_type": "display_data"
    }
   ],
   "source": [
    "graph = pd.Series({'Asian': 27,'Black': 508, 'Latino': 319, 'Native American': 16, 'Pacific Islander': 3, 'Unknown': 706, 'White': 766})\n",
    "graph.plot(kind = 'barh')"
   ]
  },
  {
   "cell_type": "code",
   "execution_count": 170,
   "metadata": {
    "collapsed": false
   },
   "outputs": [
    {
     "data": {
      "text/plain": [
       "priors_No          116.0\n",
       "priors_Unclear    1795.0\n",
       "priors_Yes         434.0\n",
       "dtype: float64"
      ]
     },
     "execution_count": 170,
     "metadata": {},
     "output_type": "execute_result"
    }
   ],
   "source": [
    "df_priors.sum()"
   ]
  },
  {
   "cell_type": "code",
   "execution_count": 171,
   "metadata": {
    "collapsed": false
   },
   "outputs": [
    {
     "data": {
      "text/plain": [
       "<matplotlib.axes._subplots.AxesSubplot at 0x11296110>"
      ]
     },
     "execution_count": 171,
     "metadata": {},
     "output_type": "execute_result"
    },
    {
     "data": {
      "image/png": "[encoded data removed]",
      "text/plain": [
       "<matplotlib.figure.Figure at 0x11296e90>"
      ]
     },
     "metadata": {},
     "output_type": "display_data"
    }
   ],
   "source": [
    "graph = pd.Series({'No Priors': 116, 'Unclear': 1795, 'Priors': 434})\n",
    "graph.plot(kind = 'barh')"
   ]
  },
  {
   "cell_type": "code",
   "execution_count": 172,
   "metadata": {
    "collapsed": false
   },
   "outputs": [
    {
     "data": {
      "text/plain": [
       "armed_No          275.0\n",
       "armed_Unclear     597.0\n",
       "armed_Yes        1473.0\n",
       "dtype: float64"
      ]
     },
     "execution_count": 172,
     "metadata": {},
     "output_type": "execute_result"
    }
   ],
   "source": [
    "df_armed.sum()"
   ]
  },
  {
   "cell_type": "code",
   "execution_count": 173,
   "metadata": {
    "collapsed": false
   },
   "outputs": [
    {
     "data": {
      "text/plain": [
       "<matplotlib.axes._subplots.AxesSubplot at 0x129c6cb0>"
      ]
     },
     "execution_count": 173,
     "metadata": {},
     "output_type": "execute_result"
    },
    {
     "data": {
      "image/png": "[encoded data removed]",
      "text/plain": [
       "<matplotlib.figure.Figure at 0x104e8b10>"
      ]
     },
     "metadata": {},
     "output_type": "display_data"
    }
   ],
   "source": [
    "graph = pd.Series({'Armed' : 1473, 'Not Armed': 275, 'Unclear': 597})\n",
    "graph.plot(kind = 'barh')"
   ]
  },
  {
   "cell_type": "code",
   "execution_count": 174,
   "metadata": {
    "collapsed": false
   },
   "outputs": [
    {
     "data": {
      "text/plain": [
       "blue    1090.0\n",
       "red     1255.0\n",
       "dtype: float64"
      ]
     },
     "execution_count": 174,
     "metadata": {},
     "output_type": "execute_result"
    }
   ],
   "source": [
    "df_red_blue.sum()"
   ]
  },
  {
   "cell_type": "code",
   "execution_count": 175,
   "metadata": {
    "collapsed": false
   },
   "outputs": [
    {
     "data": {
      "text/plain": [
       "<matplotlib.axes._subplots.AxesSubplot at 0x131a9730>"
      ]
     },
     "execution_count": 175,
     "metadata": {},
     "output_type": "execute_result"
    },
    {
     "data": {
      "image/png": "[encoded data removed]",
      "text/plain": [
       "<matplotlib.figure.Figure at 0x131b2270>"
      ]
     },
     "metadata": {},
     "output_type": "display_data"
    }
   ],
   "source": [
    "graph = pd.Series({'Republican (2014)': 1255, 'Democrat (2014)': 1090})\n",
    "graph.plot(kind = 'barh')"
   ]
  },
  {
   "cell_type": "code",
   "execution_count": 176,
   "metadata": {
    "collapsed": false
   },
   "outputs": [
    {
     "data": {
      "text/plain": [
       "den_110-250    437.0\n",
       "den_50-110     789.0\n",
       "den_<50        217.0\n",
       "den_>250       902.0\n",
       "dtype: float64"
      ]
     },
     "execution_count": 176,
     "metadata": {},
     "output_type": "execute_result"
    }
   ],
   "source": [
    "df_den.sum()"
   ]
  },
  {
   "cell_type": "code",
   "execution_count": 177,
   "metadata": {
    "collapsed": false
   },
   "outputs": [
    {
     "data": {
      "text/plain": [
       "<matplotlib.axes._subplots.AxesSubplot at 0x131ba790>"
      ]
     },
     "execution_count": 177,
     "metadata": {},
     "output_type": "execute_result"
    },
    {
     "data": {
      "image/png": "[encoded data removed]",
      "text/plain": [
       "<matplotlib.figure.Figure at 0x12e150d0>"
      ]
     },
     "metadata": {},
     "output_type": "display_data"
    }
   ],
   "source": [
    "graph = pd.Series({'<50K per sq. mi.': 217, '>250K per sq. mi.': 902, '50K-110K per sq. mi.': 789, '110K-250K per sq. mi.':437})\n",
    "graph.plot(kind = 'barh')"
   ]
  },
  {
   "cell_type": "code",
   "execution_count": 178,
   "metadata": {
    "collapsed": false
   },
   "outputs": [
    {
     "data": {
      "text/plain": [
       "200000-400000     506.0\n",
       "75000-200000      412.0\n",
       "<75000             90.0\n",
       ">400000          1337.0\n",
       "dtype: float64"
      ]
     },
     "execution_count": 178,
     "metadata": {},
     "output_type": "execute_result"
    }
   ],
   "source": [
    "df_income_range.sum()"
   ]
  },
  {
   "cell_type": "code",
   "execution_count": 179,
   "metadata": {
    "collapsed": false
   },
   "outputs": [
    {
     "data": {
      "text/plain": [
       "<matplotlib.axes._subplots.AxesSubplot at 0x12a9a770>"
      ]
     },
     "execution_count": 179,
     "metadata": {},
     "output_type": "execute_result"
    },
    {
     "data": {
      "image/png": "[encoded data removed]",
      "text/plain": [
       "<matplotlib.figure.Figure at 0x12472950>"
      ]
     },
     "metadata": {},
     "output_type": "display_data"
    }
   ],
   "source": [
    "graph = pd.Series({'<75K Annually': 90, '>400K Annually': 1337, '75K-200K Annually': 412, '200K-400K Annually': 506})\n",
    "graph.plot(kind = 'barh')\n"
   ]
  },
  {
   "cell_type": "code",
   "execution_count": 180,
   "metadata": {
    "collapsed": false
   },
   "outputs": [
    {
     "data": {
      "text/plain": [
       "fired_No          119.0\n",
       "fired_Unclear    1562.0\n",
       "fired_Yes         664.0\n",
       "dtype: float64"
      ]
     },
     "execution_count": 180,
     "metadata": {},
     "output_type": "execute_result"
    }
   ],
   "source": [
    "df_fired.sum()"
   ]
  },
  {
   "cell_type": "code",
   "execution_count": 181,
   "metadata": {
    "collapsed": false
   },
   "outputs": [
    {
     "data": {
      "text/plain": [
       "<matplotlib.axes._subplots.AxesSubplot at 0x1102f5b0>"
      ]
     },
     "execution_count": 181,
     "metadata": {},
     "output_type": "execute_result"
    },
    {
     "data": {
      "image/png": "[encoded data removed]",
      "text/plain": [
       "<matplotlib.figure.Figure at 0x11061b50>"
      ]
     },
     "metadata": {},
     "output_type": "display_data"
    }
   ],
   "source": [
    "graph = pd.Series({'Fired': 664, 'Not Fired': 119, 'Unclear': 1562})\n",
    "graph.plot(kind = 'barh')"
   ]
  },
  {
   "cell_type": "markdown",
   "metadata": {},
   "source": [
    ">### Feature Correlations"
   ]
  },
  {
   "cell_type": "code",
   "execution_count": 182,
   "metadata": {
    "collapsed": false
   },
   "outputs": [
    {
     "data": {
      "text/html": [
       "<div>\n",
       "<table border=\"1\" class=\"dataframe\">\n",
       "  <thead>\n",
       "    <tr style=\"text-align: right;\">\n",
       "      <th></th>\n",
       "      <th>den_110-250</th>\n",
       "      <th>den_50-110</th>\n",
       "      <th>den_&lt;50</th>\n",
       "      <th>den_&gt;250</th>\n",
       "    </tr>\n",
       "  </thead>\n",
       "  <tbody>\n",
       "    <tr>\n",
       "      <th>200000-400000</th>\n",
       "      <td>-0.035395</td>\n",
       "      <td>0.429474</td>\n",
       "      <td>-0.167505</td>\n",
       "      <td>-0.289003</td>\n",
       "    </tr>\n",
       "    <tr>\n",
       "      <th>75000-200000</th>\n",
       "      <td>-0.007994</td>\n",
       "      <td>0.079159</td>\n",
       "      <td>0.494478</td>\n",
       "      <td>-0.365008</td>\n",
       "    </tr>\n",
       "    <tr>\n",
       "      <th>&lt;75000</th>\n",
       "      <td>-0.010101</td>\n",
       "      <td>-0.076489</td>\n",
       "      <td>0.326868</td>\n",
       "      <td>-0.112323</td>\n",
       "    </tr>\n",
       "    <tr>\n",
       "      <th>&gt;400000</th>\n",
       "      <td>0.039476</td>\n",
       "      <td>-0.388037</td>\n",
       "      <td>-0.367773</td>\n",
       "      <td>0.564322</td>\n",
       "    </tr>\n",
       "    <tr>\n",
       "      <th>den_110-250</th>\n",
       "      <td>1.000000</td>\n",
       "      <td>-0.340789</td>\n",
       "      <td>-0.152825</td>\n",
       "      <td>-0.378374</td>\n",
       "    </tr>\n",
       "    <tr>\n",
       "      <th>den_50-110</th>\n",
       "      <td>-0.340789</td>\n",
       "      <td>1.000000</td>\n",
       "      <td>-0.227393</td>\n",
       "      <td>-0.562994</td>\n",
       "    </tr>\n",
       "    <tr>\n",
       "      <th>den_&lt;50</th>\n",
       "      <td>-0.152825</td>\n",
       "      <td>-0.227393</td>\n",
       "      <td>1.000000</td>\n",
       "      <td>-0.252473</td>\n",
       "    </tr>\n",
       "    <tr>\n",
       "      <th>den_&gt;250</th>\n",
       "      <td>-0.378374</td>\n",
       "      <td>-0.562994</td>\n",
       "      <td>-0.252473</td>\n",
       "      <td>1.000000</td>\n",
       "    </tr>\n",
       "  </tbody>\n",
       "</table>\n",
       "</div>"
      ],
      "text/plain": [
       "               den_110-250  den_50-110   den_<50  den_>250\n",
       "200000-400000    -0.035395    0.429474 -0.167505 -0.289003\n",
       "75000-200000     -0.007994    0.079159  0.494478 -0.365008\n",
       "<75000           -0.010101   -0.076489  0.326868 -0.112323\n",
       ">400000           0.039476   -0.388037 -0.367773  0.564322\n",
       "den_110-250       1.000000   -0.340789 -0.152825 -0.378374\n",
       "den_50-110       -0.340789    1.000000 -0.227393 -0.562994\n",
       "den_<50          -0.152825   -0.227393  1.000000 -0.252473\n",
       "den_>250         -0.378374   -0.562994 -0.252473  1.000000"
      ]
     },
     "execution_count": 182,
     "metadata": {},
     "output_type": "execute_result"
    }
   ],
   "source": [
    "df9 = pd.concat([df_income_range, df_den], axis = 1).corr()[['den_110-250', 'den_50-110', 'den_<50', 'den_>250']]\n",
    "df9"
   ]
  },
  {
   "cell_type": "markdown",
   "metadata": {},
   "source": [
    "These variables are not as highly correlated as I was expecting, especially within the more average ranges. Where there actually seems to be correlations is within the extremes: \n",
    "\n",
    "Population density of less than 50K per square mile is highly correlated with an income range of 70K to 200K per year and is quite highly correlated with an income range of less than 75K per year. As one would anticipate it is negatively correlated with the other two income ranges. \n",
    "\n",
    "At the other end of the spectrum, a population density of greater than 250K per square mile is highly correlated an income range of > 400K per year. It is negatively correlated with all other income ranges. The most negatively correlated with middle income (between 75K to 200K per year) this is indicative of wealth disparity that is generally seen in populous / urban areas. \n"
   ]
  },
  {
   "cell_type": "code",
   "execution_count": 183,
   "metadata": {
    "collapsed": false
   },
   "outputs": [
    {
     "data": {
      "text/html": [
       "<div>\n",
       "<table border=\"1\" class=\"dataframe\">\n",
       "  <thead>\n",
       "    <tr style=\"text-align: right;\">\n",
       "      <th></th>\n",
       "      <th>den_110-250</th>\n",
       "      <th>den_50-110</th>\n",
       "      <th>den_&lt;50</th>\n",
       "      <th>den_&gt;250</th>\n",
       "    </tr>\n",
       "  </thead>\n",
       "  <tbody>\n",
       "    <tr>\n",
       "      <th>blue</th>\n",
       "      <td>-0.132020</td>\n",
       "      <td>-0.327057</td>\n",
       "      <td>0.026951</td>\n",
       "      <td>0.407249</td>\n",
       "    </tr>\n",
       "    <tr>\n",
       "      <th>red</th>\n",
       "      <td>0.132020</td>\n",
       "      <td>0.327057</td>\n",
       "      <td>-0.026951</td>\n",
       "      <td>-0.407249</td>\n",
       "    </tr>\n",
       "    <tr>\n",
       "      <th>den_110-250</th>\n",
       "      <td>1.000000</td>\n",
       "      <td>-0.340789</td>\n",
       "      <td>-0.152825</td>\n",
       "      <td>-0.378374</td>\n",
       "    </tr>\n",
       "    <tr>\n",
       "      <th>den_50-110</th>\n",
       "      <td>-0.340789</td>\n",
       "      <td>1.000000</td>\n",
       "      <td>-0.227393</td>\n",
       "      <td>-0.562994</td>\n",
       "    </tr>\n",
       "    <tr>\n",
       "      <th>den_&lt;50</th>\n",
       "      <td>-0.152825</td>\n",
       "      <td>-0.227393</td>\n",
       "      <td>1.000000</td>\n",
       "      <td>-0.252473</td>\n",
       "    </tr>\n",
       "    <tr>\n",
       "      <th>den_&gt;250</th>\n",
       "      <td>-0.378374</td>\n",
       "      <td>-0.562994</td>\n",
       "      <td>-0.252473</td>\n",
       "      <td>1.000000</td>\n",
       "    </tr>\n",
       "  </tbody>\n",
       "</table>\n",
       "</div>"
      ],
      "text/plain": [
       "             den_110-250  den_50-110   den_<50  den_>250\n",
       "blue           -0.132020   -0.327057  0.026951  0.407249\n",
       "red             0.132020    0.327057 -0.026951 -0.407249\n",
       "den_110-250     1.000000   -0.340789 -0.152825 -0.378374\n",
       "den_50-110     -0.340789    1.000000 -0.227393 -0.562994\n",
       "den_<50        -0.152825   -0.227393  1.000000 -0.252473\n",
       "den_>250       -0.378374   -0.562994 -0.252473  1.000000"
      ]
     },
     "execution_count": 183,
     "metadata": {},
     "output_type": "execute_result"
    }
   ],
   "source": [
    "df10 = pd.concat([df_red_blue, df_den], axis = 1).corr()[['den_110-250', 'den_50-110', 'den_<50', 'den_>250']]\n",
    "df10"
   ]
  },
  {
   "cell_type": "markdown",
   "metadata": {},
   "source": [
    "The political leaning of states in 2014 were correlated with population density as follows: \n",
    "\n",
    "Democratic (blue) leaning states were positively correlated with populuation density on the extreme ends of the spectrum, less than 50K per square mile and greater than 250K per square mile.\n",
    "\n",
    "Alternatively Republican (red) learning states were positively correlated with more average population density ranges, between 50K-110K people per square mile and 110K to 250K people per square mile. "
   ]
  },
  {
   "cell_type": "code",
   "execution_count": 184,
   "metadata": {
    "collapsed": false
   },
   "outputs": [
    {
     "data": {
      "text/html": [
       "<div>\n",
       "<table border=\"1\" class=\"dataframe\">\n",
       "  <thead>\n",
       "    <tr style=\"text-align: right;\">\n",
       "      <th></th>\n",
       "      <th>red</th>\n",
       "      <th>blue</th>\n",
       "    </tr>\n",
       "  </thead>\n",
       "  <tbody>\n",
       "    <tr>\n",
       "      <th>blue</th>\n",
       "      <td>-1.000000</td>\n",
       "      <td>1.000000</td>\n",
       "    </tr>\n",
       "    <tr>\n",
       "      <th>red</th>\n",
       "      <td>1.000000</td>\n",
       "      <td>-1.000000</td>\n",
       "    </tr>\n",
       "    <tr>\n",
       "      <th>200000-400000</th>\n",
       "      <td>0.017040</td>\n",
       "      <td>-0.017040</td>\n",
       "    </tr>\n",
       "    <tr>\n",
       "      <th>75000-200000</th>\n",
       "      <td>0.174130</td>\n",
       "      <td>-0.174130</td>\n",
       "    </tr>\n",
       "    <tr>\n",
       "      <th>&lt;75000</th>\n",
       "      <td>0.061567</td>\n",
       "      <td>-0.061567</td>\n",
       "    </tr>\n",
       "    <tr>\n",
       "      <th>&gt;400000</th>\n",
       "      <td>-0.171909</td>\n",
       "      <td>0.171909</td>\n",
       "    </tr>\n",
       "  </tbody>\n",
       "</table>\n",
       "</div>"
      ],
      "text/plain": [
       "                    red      blue\n",
       "blue          -1.000000  1.000000\n",
       "red            1.000000 -1.000000\n",
       "200000-400000  0.017040 -0.017040\n",
       "75000-200000   0.174130 -0.174130\n",
       "<75000         0.061567 -0.061567\n",
       ">400000       -0.171909  0.171909"
      ]
     },
     "execution_count": 184,
     "metadata": {},
     "output_type": "execute_result"
    }
   ],
   "source": [
    "df11 = pd.concat([df_red_blue, df_income_range], axis = 1).corr()[['red', 'blue']]\n",
    "df11"
   ]
  },
  {
   "cell_type": "markdown",
   "metadata": {},
   "source": [
    "The political leaning of states in 2014 were correlated with income ranges as follows: \n",
    "\n",
    "Democratic (blue) leaning states were only positively correlated with the high income range, of greater than 400K earned per year.\n",
    "\n",
    "Alternatively Republican (red) learning states were positively correlated with all other income ranges: less than 75K earned per year, between 70K-200K earned per year, and between 200K and 400K earned per year. \n",
    "\n",
    "It is intriguing that this does not directly parallel the correlations with population density. I suspect that because these are are based on averages that are highly subject to outliers this might be shifting the correlations such that a correlation cannot be seen for blue states and lower income populations despite a correlation with the population density that is correlated with lower income populations."
   ]
  },
  {
   "cell_type": "code",
   "execution_count": 185,
   "metadata": {
    "collapsed": false
   },
   "outputs": [
    {
     "data": {
      "text/html": [
       "<div>\n",
       "<table border=\"1\" class=\"dataframe\">\n",
       "  <thead>\n",
       "    <tr style=\"text-align: right;\">\n",
       "      <th></th>\n",
       "      <th>armed_No</th>\n",
       "      <th>armed_Unclear</th>\n",
       "      <th>armed_Yes</th>\n",
       "    </tr>\n",
       "  </thead>\n",
       "  <tbody>\n",
       "    <tr>\n",
       "      <th>armed_No</th>\n",
       "      <td>1.000000</td>\n",
       "      <td>-0.213009</td>\n",
       "      <td>-0.473723</td>\n",
       "    </tr>\n",
       "    <tr>\n",
       "      <th>armed_Unclear</th>\n",
       "      <td>-0.213009</td>\n",
       "      <td>1.000000</td>\n",
       "      <td>-0.759556</td>\n",
       "    </tr>\n",
       "    <tr>\n",
       "      <th>armed_Yes</th>\n",
       "      <td>-0.473723</td>\n",
       "      <td>-0.759556</td>\n",
       "      <td>1.000000</td>\n",
       "    </tr>\n",
       "    <tr>\n",
       "      <th>priors_No</th>\n",
       "      <td>0.094109</td>\n",
       "      <td>-0.061088</td>\n",
       "      <td>-0.007588</td>\n",
       "    </tr>\n",
       "    <tr>\n",
       "      <th>priors_Unclear</th>\n",
       "      <td>-0.079769</td>\n",
       "      <td>0.120186</td>\n",
       "      <td>-0.055226</td>\n",
       "    </tr>\n",
       "    <tr>\n",
       "      <th>priors_Yes</th>\n",
       "      <td>0.034485</td>\n",
       "      <td>-0.097018</td>\n",
       "      <td>0.064491</td>\n",
       "    </tr>\n",
       "  </tbody>\n",
       "</table>\n",
       "</div>"
      ],
      "text/plain": [
       "                armed_No  armed_Unclear  armed_Yes\n",
       "armed_No        1.000000      -0.213009  -0.473723\n",
       "armed_Unclear  -0.213009       1.000000  -0.759556\n",
       "armed_Yes      -0.473723      -0.759556   1.000000\n",
       "priors_No       0.094109      -0.061088  -0.007588\n",
       "priors_Unclear -0.079769       0.120186  -0.055226\n",
       "priors_Yes      0.034485      -0.097018   0.064491"
      ]
     },
     "execution_count": 185,
     "metadata": {},
     "output_type": "execute_result"
    }
   ],
   "source": [
    "df12 = pd.concat([df_armed, df_priors], axis = 1).corr()[['armed_No','armed_Unclear','armed_Yes']]\n",
    "df12"
   ]
  },
  {
   "cell_type": "markdown",
   "metadata": {},
   "source": [
    "These variables are not that correlated, where there are positive and negative correlations the correlations are not high. \n",
    "\n",
    "But where they exist they can be summarized as follows:\n",
    "\n",
    " -- the victim of the fatal encounter with law enforcement NOT BEING ARMED is positively correlated with no priors and priors.\n",
    " \n",
    " -- a lack of clarity around whether or not the victim was armed is positively correated with a lack of clarity around whether or not they had priors.\n",
    " \n",
    " -- the victim of the fatal encounter with law enforcement BEING ARMED is only positively correlated with this victim also having priors. "
   ]
  },
  {
   "cell_type": "code",
   "execution_count": 186,
   "metadata": {
    "collapsed": false
   },
   "outputs": [
    {
     "data": {
      "text/html": [
       "<div>\n",
       "<table border=\"1\" class=\"dataframe\">\n",
       "  <thead>\n",
       "    <tr style=\"text-align: right;\">\n",
       "      <th></th>\n",
       "      <th>armed_No</th>\n",
       "      <th>armed_Unclear</th>\n",
       "      <th>armed_Yes</th>\n",
       "    </tr>\n",
       "  </thead>\n",
       "  <tbody>\n",
       "    <tr>\n",
       "      <th>armed_No</th>\n",
       "      <td>1.000000</td>\n",
       "      <td>-0.213009</td>\n",
       "      <td>-0.473723</td>\n",
       "    </tr>\n",
       "    <tr>\n",
       "      <th>armed_Unclear</th>\n",
       "      <td>-0.213009</td>\n",
       "      <td>1.000000</td>\n",
       "      <td>-0.759556</td>\n",
       "    </tr>\n",
       "    <tr>\n",
       "      <th>armed_Yes</th>\n",
       "      <td>-0.473723</td>\n",
       "      <td>-0.759556</td>\n",
       "      <td>1.000000</td>\n",
       "    </tr>\n",
       "    <tr>\n",
       "      <th>blue</th>\n",
       "      <td>0.005779</td>\n",
       "      <td>0.002950</td>\n",
       "      <td>-0.006507</td>\n",
       "    </tr>\n",
       "    <tr>\n",
       "      <th>red</th>\n",
       "      <td>-0.005779</td>\n",
       "      <td>-0.002950</td>\n",
       "      <td>0.006507</td>\n",
       "    </tr>\n",
       "  </tbody>\n",
       "</table>\n",
       "</div>"
      ],
      "text/plain": [
       "               armed_No  armed_Unclear  armed_Yes\n",
       "armed_No       1.000000      -0.213009  -0.473723\n",
       "armed_Unclear -0.213009       1.000000  -0.759556\n",
       "armed_Yes     -0.473723      -0.759556   1.000000\n",
       "blue           0.005779       0.002950  -0.006507\n",
       "red           -0.005779      -0.002950   0.006507"
      ]
     },
     "execution_count": 186,
     "metadata": {},
     "output_type": "execute_result"
    }
   ],
   "source": [
    "df13 = pd.concat([df_armed, df_red_blue], axis = 1).corr()[['armed_No','armed_Unclear','armed_Yes']]\n",
    "df13"
   ]
  },
  {
   "cell_type": "markdown",
   "metadata": {},
   "source": [
    "The data available to me indicates that there is a positive correlation between the victim of fatal encounters with law enforcement being armed and being located in a conservatively leaning State. \n",
    "\n",
    "The data also indicates the opposite correlation, that there is a very slight positive correlation between the victim of fatal encounters with law enforcement not being armed and being located in a more liberally leaning state. \n",
    "\n",
    "An inference could be made between this and the fact that there were slightly more fatal encounters in conservatively leaning states, about 250 more but I do not think this is entirely justified there are assuredly many confounding factors.\n",
    "\n"
   ]
  },
  {
   "cell_type": "markdown",
   "metadata": {},
   "source": [
    ">## Crosstabs. "
   ]
  },
  {
   "cell_type": "code",
   "execution_count": 187,
   "metadata": {
    "collapsed": false
   },
   "outputs": [
    {
     "data": {
      "text/html": [
       "<div>\n",
       "<table border=\"1\" class=\"dataframe\">\n",
       "  <thead>\n",
       "    <tr style=\"text-align: right;\">\n",
       "      <th></th>\n",
       "      <th>Black</th>\n",
       "      <th>0.0</th>\n",
       "      <th>1.0</th>\n",
       "      <th>All</th>\n",
       "    </tr>\n",
       "    <tr>\n",
       "      <th>fired_Yes</th>\n",
       "      <th>fired_Unclear</th>\n",
       "      <th></th>\n",
       "      <th></th>\n",
       "      <th></th>\n",
       "    </tr>\n",
       "  </thead>\n",
       "  <tbody>\n",
       "    <tr>\n",
       "      <th rowspan=\"2\" valign=\"top\">0.0</th>\n",
       "      <th>0.0</th>\n",
       "      <td>90</td>\n",
       "      <td>29</td>\n",
       "      <td>119</td>\n",
       "    </tr>\n",
       "    <tr>\n",
       "      <th>1.0</th>\n",
       "      <td>1229</td>\n",
       "      <td>333</td>\n",
       "      <td>1562</td>\n",
       "    </tr>\n",
       "    <tr>\n",
       "      <th>1.0</th>\n",
       "      <th>0.0</th>\n",
       "      <td>518</td>\n",
       "      <td>146</td>\n",
       "      <td>664</td>\n",
       "    </tr>\n",
       "    <tr>\n",
       "      <th>All</th>\n",
       "      <th></th>\n",
       "      <td>1837</td>\n",
       "      <td>508</td>\n",
       "      <td>2345</td>\n",
       "    </tr>\n",
       "  </tbody>\n",
       "</table>\n",
       "</div>"
      ],
      "text/plain": [
       "Black                     0.0  1.0   All\n",
       "fired_Yes fired_Unclear                 \n",
       "0.0       0.0              90   29   119\n",
       "          1.0            1229  333  1562\n",
       "1.0       0.0             518  146   664\n",
       "All                      1837  508  2345"
      ]
     },
     "execution_count": 187,
     "metadata": {},
     "output_type": "execute_result"
    }
   ],
   "source": [
    "pd.crosstab([df_new.fired_Yes, df_new.fired_Unclear], df_new.Black, margins = True)\n"
   ]
  },
  {
   "cell_type": "code",
   "execution_count": 188,
   "metadata": {
    "collapsed": false
   },
   "outputs": [
    {
     "data": {
      "text/html": [
       "<div>\n",
       "<table border=\"1\" class=\"dataframe\">\n",
       "  <thead>\n",
       "    <tr style=\"text-align: right;\">\n",
       "      <th></th>\n",
       "      <th>White</th>\n",
       "      <th>0.0</th>\n",
       "      <th>1.0</th>\n",
       "      <th>All</th>\n",
       "    </tr>\n",
       "    <tr>\n",
       "      <th>fired_Yes</th>\n",
       "      <th>fired_Unclear</th>\n",
       "      <th></th>\n",
       "      <th></th>\n",
       "      <th></th>\n",
       "    </tr>\n",
       "  </thead>\n",
       "  <tbody>\n",
       "    <tr>\n",
       "      <th rowspan=\"2\" valign=\"top\">0.0</th>\n",
       "      <th>0.0</th>\n",
       "      <td>81</td>\n",
       "      <td>38</td>\n",
       "      <td>119</td>\n",
       "    </tr>\n",
       "    <tr>\n",
       "      <th>1.0</th>\n",
       "      <td>1078</td>\n",
       "      <td>484</td>\n",
       "      <td>1562</td>\n",
       "    </tr>\n",
       "    <tr>\n",
       "      <th>1.0</th>\n",
       "      <th>0.0</th>\n",
       "      <td>420</td>\n",
       "      <td>244</td>\n",
       "      <td>664</td>\n",
       "    </tr>\n",
       "    <tr>\n",
       "      <th>All</th>\n",
       "      <th></th>\n",
       "      <td>1579</td>\n",
       "      <td>766</td>\n",
       "      <td>2345</td>\n",
       "    </tr>\n",
       "  </tbody>\n",
       "</table>\n",
       "</div>"
      ],
      "text/plain": [
       "White                     0.0  1.0   All\n",
       "fired_Yes fired_Unclear                 \n",
       "0.0       0.0              81   38   119\n",
       "          1.0            1078  484  1562\n",
       "1.0       0.0             420  244   664\n",
       "All                      1579  766  2345"
      ]
     },
     "execution_count": 188,
     "metadata": {},
     "output_type": "execute_result"
    }
   ],
   "source": [
    "pd.crosstab([df_new.fired_Yes, df_new.fired_Unclear], df_new.White, margins = True)"
   ]
  },
  {
   "cell_type": "code",
   "execution_count": 189,
   "metadata": {
    "collapsed": false
   },
   "outputs": [
    {
     "data": {
      "text/html": [
       "<div>\n",
       "<table border=\"1\" class=\"dataframe\">\n",
       "  <thead>\n",
       "    <tr style=\"text-align: right;\">\n",
       "      <th></th>\n",
       "      <th>Latino</th>\n",
       "      <th>0.0</th>\n",
       "      <th>1.0</th>\n",
       "      <th>All</th>\n",
       "    </tr>\n",
       "    <tr>\n",
       "      <th>fired_Yes</th>\n",
       "      <th>fired_Unclear</th>\n",
       "      <th></th>\n",
       "      <th></th>\n",
       "      <th></th>\n",
       "    </tr>\n",
       "  </thead>\n",
       "  <tbody>\n",
       "    <tr>\n",
       "      <th rowspan=\"2\" valign=\"top\">0.0</th>\n",
       "      <th>0.0</th>\n",
       "      <td>101</td>\n",
       "      <td>18</td>\n",
       "      <td>119</td>\n",
       "    </tr>\n",
       "    <tr>\n",
       "      <th>1.0</th>\n",
       "      <td>1334</td>\n",
       "      <td>228</td>\n",
       "      <td>1562</td>\n",
       "    </tr>\n",
       "    <tr>\n",
       "      <th>1.0</th>\n",
       "      <th>0.0</th>\n",
       "      <td>591</td>\n",
       "      <td>73</td>\n",
       "      <td>664</td>\n",
       "    </tr>\n",
       "    <tr>\n",
       "      <th>All</th>\n",
       "      <th></th>\n",
       "      <td>2026</td>\n",
       "      <td>319</td>\n",
       "      <td>2345</td>\n",
       "    </tr>\n",
       "  </tbody>\n",
       "</table>\n",
       "</div>"
      ],
      "text/plain": [
       "Latino                    0.0  1.0   All\n",
       "fired_Yes fired_Unclear                 \n",
       "0.0       0.0             101   18   119\n",
       "          1.0            1334  228  1562\n",
       "1.0       0.0             591   73   664\n",
       "All                      2026  319  2345"
      ]
     },
     "execution_count": 189,
     "metadata": {},
     "output_type": "execute_result"
    }
   ],
   "source": [
    "pd.crosstab([df_new.fired_Yes, df_new.fired_Unclear], df_new.Latino, margins = True)"
   ]
  },
  {
   "cell_type": "code",
   "execution_count": 190,
   "metadata": {
    "collapsed": false
   },
   "outputs": [
    {
     "data": {
      "text/html": [
       "<div>\n",
       "<table border=\"1\" class=\"dataframe\">\n",
       "  <thead>\n",
       "    <tr style=\"text-align: right;\">\n",
       "      <th></th>\n",
       "      <th>Unknown</th>\n",
       "      <th>0.0</th>\n",
       "      <th>1.0</th>\n",
       "      <th>All</th>\n",
       "    </tr>\n",
       "    <tr>\n",
       "      <th>fired_Yes</th>\n",
       "      <th>fired_Unclear</th>\n",
       "      <th></th>\n",
       "      <th></th>\n",
       "      <th></th>\n",
       "    </tr>\n",
       "  </thead>\n",
       "  <tbody>\n",
       "    <tr>\n",
       "      <th rowspan=\"2\" valign=\"top\">0.0</th>\n",
       "      <th>0.0</th>\n",
       "      <td>87</td>\n",
       "      <td>32</td>\n",
       "      <td>119</td>\n",
       "    </tr>\n",
       "    <tr>\n",
       "      <th>1.0</th>\n",
       "      <td>1077</td>\n",
       "      <td>485</td>\n",
       "      <td>1562</td>\n",
       "    </tr>\n",
       "    <tr>\n",
       "      <th>1.0</th>\n",
       "      <th>0.0</th>\n",
       "      <td>475</td>\n",
       "      <td>189</td>\n",
       "      <td>664</td>\n",
       "    </tr>\n",
       "    <tr>\n",
       "      <th>All</th>\n",
       "      <th></th>\n",
       "      <td>1639</td>\n",
       "      <td>706</td>\n",
       "      <td>2345</td>\n",
       "    </tr>\n",
       "  </tbody>\n",
       "</table>\n",
       "</div>"
      ],
      "text/plain": [
       "Unknown                   0.0  1.0   All\n",
       "fired_Yes fired_Unclear                 \n",
       "0.0       0.0              87   32   119\n",
       "          1.0            1077  485  1562\n",
       "1.0       0.0             475  189   664\n",
       "All                      1639  706  2345"
      ]
     },
     "execution_count": 190,
     "metadata": {},
     "output_type": "execute_result"
    }
   ],
   "source": [
    "pd.crosstab([df_new.fired_Yes, df_new.fired_Unclear], df_new.Unknown, margins = True)"
   ]
  },
  {
   "cell_type": "markdown",
   "metadata": {},
   "source": [
    ">### Political Leaning of State Crosstab"
   ]
  },
  {
   "cell_type": "code",
   "execution_count": 191,
   "metadata": {
    "collapsed": false
   },
   "outputs": [
    {
     "data": {
      "text/html": [
       "<div>\n",
       "<table border=\"1\" class=\"dataframe\">\n",
       "  <thead>\n",
       "    <tr style=\"text-align: right;\">\n",
       "      <th></th>\n",
       "      <th>red</th>\n",
       "      <th>0.0</th>\n",
       "      <th>1.0</th>\n",
       "      <th>All</th>\n",
       "    </tr>\n",
       "    <tr>\n",
       "      <th>fired_Yes</th>\n",
       "      <th>fired_Unclear</th>\n",
       "      <th></th>\n",
       "      <th></th>\n",
       "      <th></th>\n",
       "    </tr>\n",
       "  </thead>\n",
       "  <tbody>\n",
       "    <tr>\n",
       "      <th rowspan=\"2\" valign=\"top\">0.0</th>\n",
       "      <th>0.0</th>\n",
       "      <td>65</td>\n",
       "      <td>54</td>\n",
       "      <td>119</td>\n",
       "    </tr>\n",
       "    <tr>\n",
       "      <th>1.0</th>\n",
       "      <td>760</td>\n",
       "      <td>802</td>\n",
       "      <td>1562</td>\n",
       "    </tr>\n",
       "    <tr>\n",
       "      <th>1.0</th>\n",
       "      <th>0.0</th>\n",
       "      <td>265</td>\n",
       "      <td>399</td>\n",
       "      <td>664</td>\n",
       "    </tr>\n",
       "    <tr>\n",
       "      <th>All</th>\n",
       "      <th></th>\n",
       "      <td>1090</td>\n",
       "      <td>1255</td>\n",
       "      <td>2345</td>\n",
       "    </tr>\n",
       "  </tbody>\n",
       "</table>\n",
       "</div>"
      ],
      "text/plain": [
       "red                       0.0   1.0   All\n",
       "fired_Yes fired_Unclear                  \n",
       "0.0       0.0              65    54   119\n",
       "          1.0             760   802  1562\n",
       "1.0       0.0             265   399   664\n",
       "All                      1090  1255  2345"
      ]
     },
     "execution_count": 191,
     "metadata": {},
     "output_type": "execute_result"
    }
   ],
   "source": [
    "pd.crosstab([df_new.fired_Yes, df_new.fired_Unclear], df_new.red, margins = True)"
   ]
  },
  {
   "cell_type": "markdown",
   "metadata": {},
   "source": [
    ">### Priors Crosstab"
   ]
  },
  {
   "cell_type": "code",
   "execution_count": 192,
   "metadata": {
    "collapsed": false
   },
   "outputs": [
    {
     "data": {
      "text/html": [
       "<div>\n",
       "<table border=\"1\" class=\"dataframe\">\n",
       "  <thead>\n",
       "    <tr style=\"text-align: right;\">\n",
       "      <th></th>\n",
       "      <th>priors_Yes</th>\n",
       "      <th>0.0</th>\n",
       "      <th>1.0</th>\n",
       "      <th>All</th>\n",
       "    </tr>\n",
       "    <tr>\n",
       "      <th>fired_Yes</th>\n",
       "      <th>fired_Unclear</th>\n",
       "      <th></th>\n",
       "      <th></th>\n",
       "      <th></th>\n",
       "    </tr>\n",
       "  </thead>\n",
       "  <tbody>\n",
       "    <tr>\n",
       "      <th rowspan=\"2\" valign=\"top\">0.0</th>\n",
       "      <th>0.0</th>\n",
       "      <td>87</td>\n",
       "      <td>32</td>\n",
       "      <td>119</td>\n",
       "    </tr>\n",
       "    <tr>\n",
       "      <th>1.0</th>\n",
       "      <td>1321</td>\n",
       "      <td>241</td>\n",
       "      <td>1562</td>\n",
       "    </tr>\n",
       "    <tr>\n",
       "      <th>1.0</th>\n",
       "      <th>0.0</th>\n",
       "      <td>503</td>\n",
       "      <td>161</td>\n",
       "      <td>664</td>\n",
       "    </tr>\n",
       "    <tr>\n",
       "      <th>All</th>\n",
       "      <th></th>\n",
       "      <td>1911</td>\n",
       "      <td>434</td>\n",
       "      <td>2345</td>\n",
       "    </tr>\n",
       "  </tbody>\n",
       "</table>\n",
       "</div>"
      ],
      "text/plain": [
       "priors_Yes                0.0  1.0   All\n",
       "fired_Yes fired_Unclear                 \n",
       "0.0       0.0              87   32   119\n",
       "          1.0            1321  241  1562\n",
       "1.0       0.0             503  161   664\n",
       "All                      1911  434  2345"
      ]
     },
     "execution_count": 192,
     "metadata": {},
     "output_type": "execute_result"
    }
   ],
   "source": [
    "pd.crosstab([df_new.fired_Yes, df_new.fired_Unclear], df_priors.priors_Yes, margins = True)"
   ]
  },
  {
   "cell_type": "markdown",
   "metadata": {},
   "source": [
    ">### Armed Crosstab"
   ]
  },
  {
   "cell_type": "code",
   "execution_count": 193,
   "metadata": {
    "collapsed": false
   },
   "outputs": [
    {
     "data": {
      "text/html": [
       "<div>\n",
       "<table border=\"1\" class=\"dataframe\">\n",
       "  <thead>\n",
       "    <tr style=\"text-align: right;\">\n",
       "      <th></th>\n",
       "      <th>armed_Yes</th>\n",
       "      <th>0.0</th>\n",
       "      <th>1.0</th>\n",
       "      <th>All</th>\n",
       "    </tr>\n",
       "    <tr>\n",
       "      <th>fired_Yes</th>\n",
       "      <th>fired_Unclear</th>\n",
       "      <th></th>\n",
       "      <th></th>\n",
       "      <th></th>\n",
       "    </tr>\n",
       "  </thead>\n",
       "  <tbody>\n",
       "    <tr>\n",
       "      <th rowspan=\"2\" valign=\"top\">0.0</th>\n",
       "      <th>0.0</th>\n",
       "      <td>55</td>\n",
       "      <td>64</td>\n",
       "      <td>119</td>\n",
       "    </tr>\n",
       "    <tr>\n",
       "      <th>1.0</th>\n",
       "      <td>637</td>\n",
       "      <td>925</td>\n",
       "      <td>1562</td>\n",
       "    </tr>\n",
       "    <tr>\n",
       "      <th>1.0</th>\n",
       "      <th>0.0</th>\n",
       "      <td>180</td>\n",
       "      <td>484</td>\n",
       "      <td>664</td>\n",
       "    </tr>\n",
       "    <tr>\n",
       "      <th>All</th>\n",
       "      <th></th>\n",
       "      <td>872</td>\n",
       "      <td>1473</td>\n",
       "      <td>2345</td>\n",
       "    </tr>\n",
       "  </tbody>\n",
       "</table>\n",
       "</div>"
      ],
      "text/plain": [
       "armed_Yes                0.0   1.0   All\n",
       "fired_Yes fired_Unclear                 \n",
       "0.0       0.0             55    64   119\n",
       "          1.0            637   925  1562\n",
       "1.0       0.0            180   484   664\n",
       "All                      872  1473  2345"
      ]
     },
     "execution_count": 193,
     "metadata": {},
     "output_type": "execute_result"
    }
   ],
   "source": [
    "pd.crosstab([df_new.fired_Yes, df_new.fired_Unclear], df_armed.armed_Yes, margins = True)"
   ]
  },
  {
   "cell_type": "markdown",
   "metadata": {},
   "source": [
    "The above two crosstabs reveal an interesting aspect about the data: From the priors crosstab it is clear that more offciers were fired in instances where the victim did not have priors and the armed crosstab reveals that more officers were fired in instances where the subject was armed than in instances where the subject was not.\n",
    "\n",
    "This seeming discrepancy is explained by histograms above and counts below, there were significantly more victims that were definitively armed than there were instances where the victim definitively had priors. "
   ]
  },
  {
   "cell_type": "code",
   "execution_count": 194,
   "metadata": {
    "collapsed": false
   },
   "outputs": [
    {
     "data": {
      "text/plain": [
       "armed_No          275.0\n",
       "armed_Unclear     597.0\n",
       "armed_Yes        1473.0\n",
       "dtype: float64"
      ]
     },
     "execution_count": 194,
     "metadata": {},
     "output_type": "execute_result"
    }
   ],
   "source": [
    "df_armed.sum()"
   ]
  },
  {
   "cell_type": "code",
   "execution_count": 195,
   "metadata": {
    "collapsed": false
   },
   "outputs": [
    {
     "data": {
      "text/plain": [
       "priors_No          116.0\n",
       "priors_Unclear    1795.0\n",
       "priors_Yes         434.0\n",
       "dtype: float64"
      ]
     },
     "execution_count": 195,
     "metadata": {},
     "output_type": "execute_result"
    }
   ],
   "source": [
    "df_priors.sum()"
   ]
  },
  {
   "cell_type": "markdown",
   "metadata": {},
   "source": [
    ">### Feature Correlations with Fired/Not and individual Logistic Regression models. "
   ]
  },
  {
   "cell_type": "code",
   "execution_count": 196,
   "metadata": {
    "collapsed": false,
    "scrolled": true
   },
   "outputs": [
    {
     "data": {
      "text/html": [
       "<div>\n",
       "<table border=\"1\" class=\"dataframe\">\n",
       "  <thead>\n",
       "    <tr style=\"text-align: right;\">\n",
       "      <th></th>\n",
       "      <th>fired_No</th>\n",
       "      <th>fired_Unclear</th>\n",
       "      <th>fired_Yes</th>\n",
       "    </tr>\n",
       "  </thead>\n",
       "  <tbody>\n",
       "    <tr>\n",
       "      <th>25-34</th>\n",
       "      <td>0.006929</td>\n",
       "      <td>-0.008449</td>\n",
       "      <td>0.005468</td>\n",
       "    </tr>\n",
       "    <tr>\n",
       "      <th>35-44</th>\n",
       "      <td>0.012711</td>\n",
       "      <td>0.005782</td>\n",
       "      <td>-0.012245</td>\n",
       "    </tr>\n",
       "    <tr>\n",
       "      <th>45-54</th>\n",
       "      <td>-0.040490</td>\n",
       "      <td>-0.037931</td>\n",
       "      <td>0.059430</td>\n",
       "    </tr>\n",
       "    <tr>\n",
       "      <th>55-65</th>\n",
       "      <td>-0.012435</td>\n",
       "      <td>-0.008335</td>\n",
       "      <td>0.014783</td>\n",
       "    </tr>\n",
       "    <tr>\n",
       "      <th>&lt;25</th>\n",
       "      <td>-0.002487</td>\n",
       "      <td>0.013113</td>\n",
       "      <td>-0.012515</td>\n",
       "    </tr>\n",
       "    <tr>\n",
       "      <th>&gt;65</th>\n",
       "      <td>0.031472</td>\n",
       "      <td>0.003547</td>\n",
       "      <td>-0.019045</td>\n",
       "    </tr>\n",
       "    <tr>\n",
       "      <th>fired_No</th>\n",
       "      <td>1.000000</td>\n",
       "      <td>-0.326566</td>\n",
       "      <td>-0.145315</td>\n",
       "    </tr>\n",
       "    <tr>\n",
       "      <th>fired_Unclear</th>\n",
       "      <td>-0.326566</td>\n",
       "      <td>1.000000</td>\n",
       "      <td>-0.887687</td>\n",
       "    </tr>\n",
       "    <tr>\n",
       "      <th>fired_Yes</th>\n",
       "      <td>-0.145315</td>\n",
       "      <td>-0.887687</td>\n",
       "      <td>1.000000</td>\n",
       "    </tr>\n",
       "  </tbody>\n",
       "</table>\n",
       "</div>"
      ],
      "text/plain": [
       "               fired_No  fired_Unclear  fired_Yes\n",
       "25-34          0.006929      -0.008449   0.005468\n",
       "35-44          0.012711       0.005782  -0.012245\n",
       "45-54         -0.040490      -0.037931   0.059430\n",
       "55-65         -0.012435      -0.008335   0.014783\n",
       "<25           -0.002487       0.013113  -0.012515\n",
       ">65            0.031472       0.003547  -0.019045\n",
       "fired_No       1.000000      -0.326566  -0.145315\n",
       "fired_Unclear -0.326566       1.000000  -0.887687\n",
       "fired_Yes     -0.145315      -0.887687   1.000000"
      ]
     },
     "execution_count": 196,
     "metadata": {},
     "output_type": "execute_result"
    }
   ],
   "source": [
    "df1 = pd.concat([df_age_range, df_fired], axis = 1).corr()[['fired_No', 'fired_Unclear', 'fired_Yes']]\n",
    "df1"
   ]
  },
  {
   "cell_type": "code",
   "execution_count": 197,
   "metadata": {
    "collapsed": false
   },
   "outputs": [
    {
     "name": "stdout",
     "output_type": "stream",
     "text": [
      "Optimization terminated successfully.\n",
      "         Current function value: 0.630663\n",
      "         Iterations 5\n",
      "                           Logit Regression Results                           \n",
      "==============================================================================\n",
      "Dep. Variable:              fired_Yes   No. Observations:                 2345\n",
      "Model:                          Logit   Df Residuals:                     2340\n",
      "Method:                           MLE   Df Model:                            4\n",
      "Date:                Mon, 19 Sep 2016   Pseudo R-squ.:                -0.05832\n",
      "Time:                        09:40:06   Log-Likelihood:                -1478.9\n",
      "converged:                       True   LL-Null:                       -1397.4\n",
      "                                        LLR p-value:                     1.000\n",
      "==============================================================================\n",
      "                 coef    std err          z      P>|z|      [95.0% Conf. Int.]\n",
      "------------------------------------------------------------------------------\n",
      "35-44         -0.9817      0.101     -9.765      0.000        -1.179    -0.785\n",
      "45-54         -0.6280      0.114     -5.532      0.000        -0.851    -0.406\n",
      "55-65         -0.8061      0.177     -4.546      0.000        -1.154    -0.459\n",
      "<25           -0.9827      0.100     -9.811      0.000        -1.179    -0.786\n",
      ">65           -1.1664      0.263     -4.440      0.000        -1.681    -0.652\n",
      "==============================================================================\n"
     ]
    }
   ],
   "source": [
    "logit = smf.Logit(df_fired['fired_Yes'], df_age_range[df_age_range.columns[1:]])\n",
    "\n",
    "result = logit.fit()\n",
    "print result.summary()"
   ]
  },
  {
   "cell_type": "markdown",
   "metadata": {},
   "source": [
    "Every age range is negatively correlated with the cop being fired, this is to be expected as the majority of the police officers involved were not fired or it was unclear whether or not they were fired. \n",
    "The age range of 25-35 was used as baseline in this case so the coefficients demonstrate how much the odds of the police officer involved being fired increase as the age range changes from 25-35 in either direction. A summary of how these changes impact the odds of the police officer involved being fired can be seen below.\n",
    "The victim being over 60 years old is the most negatively correlated with the cop being fired. I wonder if this is impacted by value counts. \n"
   ]
  },
  {
   "cell_type": "code",
   "execution_count": 198,
   "metadata": {
    "collapsed": false
   },
   "outputs": [
    {
     "name": "stdout",
     "output_type": "stream",
     "text": [
      "0.374673612001\n",
      "0.533658050503\n",
      "0.446596400229\n",
      "0.374299125663\n",
      "0.311486275847\n"
     ]
    }
   ],
   "source": [
    "print np.e**-.9817\n",
    "print np.e**-.6280\n",
    "print np.e**-.8061\n",
    "print np.e**-.9827\n",
    "print np.e**-1.1664"
   ]
  },
  {
   "cell_type": "markdown",
   "metadata": {
    "collapsed": true
   },
   "source": [
    " Age Range | Impact on Odds of Police Officer being Fired\n",
    "---|---\n",
    "35-44 | Increased by 37 % \n",
    "45-55 | Increased by 53 %\n",
    "55-65 | Increased by 45 %\n",
    "Younger than 25 | Increased by 37%\n",
    "Older than 65 | Increased by 31 %\n"
   ]
  },
  {
   "cell_type": "code",
   "execution_count": 199,
   "metadata": {
    "collapsed": false,
    "scrolled": true
   },
   "outputs": [
    {
     "data": {
      "text/html": [
       "<div>\n",
       "<table border=\"1\" class=\"dataframe\">\n",
       "  <thead>\n",
       "    <tr style=\"text-align: right;\">\n",
       "      <th></th>\n",
       "      <th>fired_No</th>\n",
       "      <th>fired_Unclear</th>\n",
       "      <th>fired_Yes</th>\n",
       "    </tr>\n",
       "  </thead>\n",
       "  <tbody>\n",
       "    <tr>\n",
       "      <th>Asian</th>\n",
       "      <td>0.011471</td>\n",
       "      <td>0.000130</td>\n",
       "      <td>-0.005724</td>\n",
       "    </tr>\n",
       "    <tr>\n",
       "      <th>Black</th>\n",
       "      <td>0.015191</td>\n",
       "      <td>-0.011804</td>\n",
       "      <td>0.004956</td>\n",
       "    </tr>\n",
       "    <tr>\n",
       "      <th>Latino</th>\n",
       "      <td>0.010269</td>\n",
       "      <td>0.040921</td>\n",
       "      <td>-0.047838</td>\n",
       "    </tr>\n",
       "    <tr>\n",
       "      <th>Native American</th>\n",
       "      <td>-0.019164</td>\n",
       "      <td>0.014746</td>\n",
       "      <td>-0.006100</td>\n",
       "    </tr>\n",
       "    <tr>\n",
       "      <th>Pacific Islander</th>\n",
       "      <td>-0.008275</td>\n",
       "      <td>0.000043</td>\n",
       "      <td>0.003986</td>\n",
       "    </tr>\n",
       "    <tr>\n",
       "      <th>Unknown</th>\n",
       "      <td>-0.016209</td>\n",
       "      <td>0.029045</td>\n",
       "      <td>-0.022507</td>\n",
       "    </tr>\n",
       "    <tr>\n",
       "      <th>White</th>\n",
       "      <td>-0.003611</td>\n",
       "      <td>-0.050575</td>\n",
       "      <td>0.054699</td>\n",
       "    </tr>\n",
       "    <tr>\n",
       "      <th>fired_No</th>\n",
       "      <td>1.000000</td>\n",
       "      <td>-0.326566</td>\n",
       "      <td>-0.145315</td>\n",
       "    </tr>\n",
       "    <tr>\n",
       "      <th>fired_Unclear</th>\n",
       "      <td>-0.326566</td>\n",
       "      <td>1.000000</td>\n",
       "      <td>-0.887687</td>\n",
       "    </tr>\n",
       "    <tr>\n",
       "      <th>fired_Yes</th>\n",
       "      <td>-0.145315</td>\n",
       "      <td>-0.887687</td>\n",
       "      <td>1.000000</td>\n",
       "    </tr>\n",
       "  </tbody>\n",
       "</table>\n",
       "</div>"
      ],
      "text/plain": [
       "                  fired_No  fired_Unclear  fired_Yes\n",
       "Asian             0.011471       0.000130  -0.005724\n",
       "Black             0.015191      -0.011804   0.004956\n",
       "Latino            0.010269       0.040921  -0.047838\n",
       "Native American  -0.019164       0.014746  -0.006100\n",
       "Pacific Islander -0.008275       0.000043   0.003986\n",
       "Unknown          -0.016209       0.029045  -0.022507\n",
       "White            -0.003611      -0.050575   0.054699\n",
       "fired_No          1.000000      -0.326566  -0.145315\n",
       "fired_Unclear    -0.326566       1.000000  -0.887687\n",
       "fired_Yes        -0.145315      -0.887687   1.000000"
      ]
     },
     "execution_count": 199,
     "metadata": {},
     "output_type": "execute_result"
    }
   ],
   "source": [
    "df2 = pd.concat([df_race, df_fired], axis = 1).corr()[['fired_No', 'fired_Unclear', 'fired_Yes']]\n",
    "df2"
   ]
  },
  {
   "cell_type": "code",
   "execution_count": 200,
   "metadata": {
    "collapsed": false
   },
   "outputs": [
    {
     "name": "stdout",
     "output_type": "stream",
     "text": [
      "Optimization terminated successfully.\n",
      "         Current function value: 0.595053\n",
      "         Iterations 5\n",
      "                           Logit Regression Results                           \n",
      "==============================================================================\n",
      "Dep. Variable:              fired_Yes   No. Observations:                 2345\n",
      "Model:                          Logit   Df Residuals:                     2339\n",
      "Method:                           MLE   Df Model:                            5\n",
      "Date:                Mon, 19 Sep 2016   Pseudo R-squ.:                0.001436\n",
      "Time:                        09:40:06   Log-Likelihood:                -1395.4\n",
      "converged:                       True   LL-Null:                       -1397.4\n",
      "                                        LLR p-value:                    0.5473\n",
      "====================================================================================\n",
      "                       coef    std err          z      P>|z|      [95.0% Conf. Int.]\n",
      "------------------------------------------------------------------------------------\n",
      "Black               -0.9080      0.098     -9.262      0.000        -1.100    -0.716\n",
      "Latino              -1.2149      0.133     -9.115      0.000        -1.476    -0.954\n",
      "Native American     -1.0986      0.577     -1.903      0.057        -2.230     0.033\n",
      "Pacific Islander    -0.6931      1.225     -0.566      0.571        -3.094     1.707\n",
      "Unknown             -1.0063      0.085    -11.839      0.000        -1.173    -0.840\n",
      "White               -0.7605      0.078     -9.807      0.000        -0.912    -0.609\n",
      "====================================================================================\n"
     ]
    }
   ],
   "source": [
    "logit = smf.Logit(df_fired['fired_Yes'], df_race[df_race.columns[1:]])\n",
    "\n",
    "result = logit.fit()\n",
    "print result.summary()"
   ]
  },
  {
   "cell_type": "markdown",
   "metadata": {},
   "source": [
    "Asian was used as baseline in the above model as such the coefficients should be interpreted based on how much they increase the odds of the police officer involved being fired. \n",
    "What is already clear is that Native American and Pacific Islander are not significant in predicting whether or not the police officer involved was fired. \n",
    "Latino, Race-Unknown, Black, and White are all negatively correlated with the police officer involved being fired in that order. \n",
    "Latino is the most negatively correlated with the police officer being fired. "
   ]
  },
  {
   "cell_type": "code",
   "execution_count": 201,
   "metadata": {
    "collapsed": false
   },
   "outputs": [
    {
     "name": "stdout",
     "output_type": "stream",
     "text": [
      "0.403330078067\n",
      "0.296739686779\n",
      "0.365569085952\n",
      "0.467432652245\n"
     ]
    }
   ],
   "source": [
    "print np.e**-.9080\n",
    "print np.e**-1.2149\n",
    "print np.e**-1.0063\n",
    "print np.e**-.7605\n",
    "\n"
   ]
  },
  {
   "cell_type": "markdown",
   "metadata": {},
   "source": [
    " Race | Impact on Odds of Police Officer being Fired\n",
    "---|---\n",
    "Black | Increased by 40 % \n",
    "Latino | Increased by 30 %\n",
    "Unknown | Increased by 37 %\n",
    "White | Increased by 47 %\n",
    "\n",
    "#* These are increases compared to Asian as baseline."
   ]
  },
  {
   "cell_type": "code",
   "execution_count": 202,
   "metadata": {
    "collapsed": false
   },
   "outputs": [
    {
     "name": "stderr",
     "output_type": "stream",
     "text": [
      "c:\\Users\\morgane1\\AppData\\Local\\Continuum\\Anaconda2\\lib\\site-packages\\sklearn\\utils\\validation.py:386: DeprecationWarning: Passing 1d arrays as data is deprecated in 0.17 and willraise ValueError in 0.19. Reshape your data either using X.reshape(-1, 1) if your data has a single feature or X.reshape(1, -1) if it contains a single sample.\n",
      "  DeprecationWarning)\n"
     ]
    },
    {
     "data": {
      "text/plain": [
       "array([[ 0.69828028,  0.30171972]])"
      ]
     },
     "execution_count": 202,
     "metadata": {},
     "output_type": "execute_result"
    }
   ],
   "source": [
    "model = linear_model.LogisticRegression()\n",
    "model = model.fit(df_race, df_fired['fired_Yes'])\n",
    "model.predict_proba([0,0,0,0,0,0,0])"
   ]
  },
  {
   "cell_type": "code",
   "execution_count": 203,
   "metadata": {
    "collapsed": false
   },
   "outputs": [
    {
     "name": "stderr",
     "output_type": "stream",
     "text": [
      "c:\\Users\\morgane1\\AppData\\Local\\Continuum\\Anaconda2\\lib\\site-packages\\sklearn\\utils\\validation.py:386: DeprecationWarning: Passing 1d arrays as data is deprecated in 0.17 and willraise ValueError in 0.19. Reshape your data either using X.reshape(-1, 1) if your data has a single feature or X.reshape(1, -1) if it contains a single sample.\n",
      "  DeprecationWarning)\n"
     ]
    },
    {
     "data": {
      "text/plain": [
       "array([[ 0.7341835,  0.2658165]])"
      ]
     },
     "execution_count": 203,
     "metadata": {},
     "output_type": "execute_result"
    }
   ],
   "source": [
    "model.predict_proba([1,0,0,0,0,0,0])"
   ]
  },
  {
   "cell_type": "code",
   "execution_count": 204,
   "metadata": {
    "collapsed": false
   },
   "outputs": [
    {
     "name": "stdout",
     "output_type": "stream",
     "text": [
      "[[ 0.71246405  0.28753595]]\n",
      "[[ 0.77000248  0.22999752]]\n",
      "[[ 0.73772237  0.26227763]]\n",
      "[[ 0.68591428  0.31408572]]\n",
      "[[ 0.73205953  0.26794047]]\n",
      "[[ 0.68156417  0.31843583]]\n"
     ]
    },
    {
     "name": "stderr",
     "output_type": "stream",
     "text": [
      "c:\\Users\\morgane1\\AppData\\Local\\Continuum\\Anaconda2\\lib\\site-packages\\sklearn\\utils\\validation.py:386: DeprecationWarning: Passing 1d arrays as data is deprecated in 0.17 and willraise ValueError in 0.19. Reshape your data either using X.reshape(-1, 1) if your data has a single feature or X.reshape(1, -1) if it contains a single sample.\n",
      "  DeprecationWarning)\n",
      "c:\\Users\\morgane1\\AppData\\Local\\Continuum\\Anaconda2\\lib\\site-packages\\sklearn\\utils\\validation.py:386: DeprecationWarning: Passing 1d arrays as data is deprecated in 0.17 and willraise ValueError in 0.19. Reshape your data either using X.reshape(-1, 1) if your data has a single feature or X.reshape(1, -1) if it contains a single sample.\n",
      "  DeprecationWarning)\n",
      "c:\\Users\\morgane1\\AppData\\Local\\Continuum\\Anaconda2\\lib\\site-packages\\sklearn\\utils\\validation.py:386: DeprecationWarning: Passing 1d arrays as data is deprecated in 0.17 and willraise ValueError in 0.19. Reshape your data either using X.reshape(-1, 1) if your data has a single feature or X.reshape(1, -1) if it contains a single sample.\n",
      "  DeprecationWarning)\n",
      "c:\\Users\\morgane1\\AppData\\Local\\Continuum\\Anaconda2\\lib\\site-packages\\sklearn\\utils\\validation.py:386: DeprecationWarning: Passing 1d arrays as data is deprecated in 0.17 and willraise ValueError in 0.19. Reshape your data either using X.reshape(-1, 1) if your data has a single feature or X.reshape(1, -1) if it contains a single sample.\n",
      "  DeprecationWarning)\n",
      "c:\\Users\\morgane1\\AppData\\Local\\Continuum\\Anaconda2\\lib\\site-packages\\sklearn\\utils\\validation.py:386: DeprecationWarning: Passing 1d arrays as data is deprecated in 0.17 and willraise ValueError in 0.19. Reshape your data either using X.reshape(-1, 1) if your data has a single feature or X.reshape(1, -1) if it contains a single sample.\n",
      "  DeprecationWarning)\n",
      "c:\\Users\\morgane1\\AppData\\Local\\Continuum\\Anaconda2\\lib\\site-packages\\sklearn\\utils\\validation.py:386: DeprecationWarning: Passing 1d arrays as data is deprecated in 0.17 and willraise ValueError in 0.19. Reshape your data either using X.reshape(-1, 1) if your data has a single feature or X.reshape(1, -1) if it contains a single sample.\n",
      "  DeprecationWarning)\n"
     ]
    }
   ],
   "source": [
    "print model.predict_proba([0,1,0,0,0,0,0])\n",
    "print model.predict_proba([0,0,1,0,0,0,0])\n",
    "print model.predict_proba([0,0,0,1,0,0,0])\n",
    "print model.predict_proba([0,0,0,0,1,0,0])\n",
    "print model.predict_proba([0,0,0,0,0,1,0])\n",
    "print model.predict_proba([0,0,0,0,0,0,1])"
   ]
  },
  {
   "cell_type": "code",
   "execution_count": 205,
   "metadata": {
    "collapsed": false,
    "scrolled": true
   },
   "outputs": [
    {
     "data": {
      "text/html": [
       "<div>\n",
       "<table border=\"1\" class=\"dataframe\">\n",
       "  <thead>\n",
       "    <tr style=\"text-align: right;\">\n",
       "      <th></th>\n",
       "      <th>fired_No</th>\n",
       "      <th>fired_Unclear</th>\n",
       "      <th>fired_Yes</th>\n",
       "    </tr>\n",
       "  </thead>\n",
       "  <tbody>\n",
       "    <tr>\n",
       "      <th>priors_No</th>\n",
       "      <td>0.278786</td>\n",
       "      <td>-0.151235</td>\n",
       "      <td>0.022497</td>\n",
       "    </tr>\n",
       "    <tr>\n",
       "      <th>priors_Unclear</th>\n",
       "      <td>-0.188419</td>\n",
       "      <td>0.180017</td>\n",
       "      <td>-0.096648</td>\n",
       "    </tr>\n",
       "    <tr>\n",
       "      <th>priors_Yes</th>\n",
       "      <td>0.049911</td>\n",
       "      <td>-0.111962</td>\n",
       "      <td>0.092885</td>\n",
       "    </tr>\n",
       "    <tr>\n",
       "      <th>fired_No</th>\n",
       "      <td>1.000000</td>\n",
       "      <td>-0.326566</td>\n",
       "      <td>-0.145315</td>\n",
       "    </tr>\n",
       "    <tr>\n",
       "      <th>fired_Unclear</th>\n",
       "      <td>-0.326566</td>\n",
       "      <td>1.000000</td>\n",
       "      <td>-0.887687</td>\n",
       "    </tr>\n",
       "    <tr>\n",
       "      <th>fired_Yes</th>\n",
       "      <td>-0.145315</td>\n",
       "      <td>-0.887687</td>\n",
       "      <td>1.000000</td>\n",
       "    </tr>\n",
       "  </tbody>\n",
       "</table>\n",
       "</div>"
      ],
      "text/plain": [
       "                fired_No  fired_Unclear  fired_Yes\n",
       "priors_No       0.278786      -0.151235   0.022497\n",
       "priors_Unclear -0.188419       0.180017  -0.096648\n",
       "priors_Yes      0.049911      -0.111962   0.092885\n",
       "fired_No        1.000000      -0.326566  -0.145315\n",
       "fired_Unclear  -0.326566       1.000000  -0.887687\n",
       "fired_Yes      -0.145315      -0.887687   1.000000"
      ]
     },
     "execution_count": 205,
     "metadata": {},
     "output_type": "execute_result"
    }
   ],
   "source": [
    "df3 = pd.concat([df_priors, df_fired], axis = 1).corr()[['fired_No', 'fired_Unclear', 'fired_Yes']]\n",
    "df3"
   ]
  },
  {
   "cell_type": "code",
   "execution_count": 206,
   "metadata": {
    "collapsed": false
   },
   "outputs": [
    {
     "name": "stdout",
     "output_type": "stream",
     "text": [
      "Optimization terminated successfully.\n",
      "         Current function value: 0.594230\n",
      "         Iterations 5\n",
      "                           Logit Regression Results                           \n",
      "==============================================================================\n",
      "Dep. Variable:              fired_Yes   No. Observations:                 2345\n",
      "Model:                          Logit   Df Residuals:                     2343\n",
      "Method:                           MLE   Df Model:                            1\n",
      "Date:                Mon, 19 Sep 2016   Pseudo R-squ.:                0.002818\n",
      "Time:                        09:40:06   Log-Likelihood:                -1393.5\n",
      "converged:                       True   LL-Null:                       -1397.4\n",
      "                                        LLR p-value:                  0.005013\n",
      "==================================================================================\n",
      "                     coef    std err          z      P>|z|      [95.0% Conf. Int.]\n",
      "----------------------------------------------------------------------------------\n",
      "priors_Unclear    -1.0509      0.054    -19.507      0.000        -1.156    -0.945\n",
      "priors_Yes        -0.5281      0.099     -5.314      0.000        -0.723    -0.333\n",
      "==================================================================================\n"
     ]
    }
   ],
   "source": [
    "logit = smf.Logit(df_fired['fired_Yes'], df_priors[df_priors.columns[1:]])\n",
    "\n",
    "result = logit.fit()\n",
    "print result.summary()"
   ]
  },
  {
   "cell_type": "markdown",
   "metadata": {},
   "source": [
    "Baseline is that it is the victim of the police involved fatality didn't have priors. \n",
    "Both variables are significant. It seems that it being unclear whether or not the victim had priors makes it twice as likely\n",
    "that the officer involved does get fired than if it is definitive that the victim did have priors. \n",
    "\n",
    "This is the opposite of what I would have anticipated, I would have thought that if the victim definitely had priors, or a record of some kind the officer involved would have recieved more sympathy, legally. But, the data seems to indicate that an input of 1 for prior_Yes, drives the target variable of fired_Yes to zero less rapidly than does an input of 1 for prior_Unclear. \n"
   ]
  },
  {
   "cell_type": "code",
   "execution_count": 207,
   "metadata": {
    "collapsed": false
   },
   "outputs": [
    {
     "name": "stdout",
     "output_type": "stream",
     "text": [
      "0.349622946819\n",
      "0.589724382226\n"
     ]
    }
   ],
   "source": [
    "print np.e**-1.0509\n",
    "print np.e**-0.5281"
   ]
  },
  {
   "cell_type": "markdown",
   "metadata": {},
   "source": [
    " Priors | Impact on Odds of Police Officer being Fired\n",
    "---|---\n",
    "Priors_Unclear | Increased by 35% \n",
    "Priors_Yes | Increased by 59 %\n",
    "\n",
    "\n",
    "#* These are increases compared to No Priors as baseline."
   ]
  },
  {
   "cell_type": "code",
   "execution_count": 208,
   "metadata": {
    "collapsed": false
   },
   "outputs": [
    {
     "data": {
      "text/html": [
       "<div>\n",
       "<table border=\"1\" class=\"dataframe\">\n",
       "  <thead>\n",
       "    <tr style=\"text-align: right;\">\n",
       "      <th></th>\n",
       "      <th>fired_No</th>\n",
       "      <th>fired_Unclear</th>\n",
       "      <th>fired_Yes</th>\n",
       "    </tr>\n",
       "  </thead>\n",
       "  <tbody>\n",
       "    <tr>\n",
       "      <th>armed_No</th>\n",
       "      <td>0.145203</td>\n",
       "      <td>-0.039843</td>\n",
       "      <td>-0.029030</td>\n",
       "    </tr>\n",
       "    <tr>\n",
       "      <th>armed_Unclear</th>\n",
       "      <td>-0.059300</td>\n",
       "      <td>0.146003</td>\n",
       "      <td>-0.123944</td>\n",
       "    </tr>\n",
       "    <tr>\n",
       "      <th>armed_Yes</th>\n",
       "      <td>-0.043214</td>\n",
       "      <td>-0.105077</td>\n",
       "      <td>0.131044</td>\n",
       "    </tr>\n",
       "    <tr>\n",
       "      <th>fired_No</th>\n",
       "      <td>1.000000</td>\n",
       "      <td>-0.326566</td>\n",
       "      <td>-0.145315</td>\n",
       "    </tr>\n",
       "    <tr>\n",
       "      <th>fired_Unclear</th>\n",
       "      <td>-0.326566</td>\n",
       "      <td>1.000000</td>\n",
       "      <td>-0.887687</td>\n",
       "    </tr>\n",
       "    <tr>\n",
       "      <th>fired_Yes</th>\n",
       "      <td>-0.145315</td>\n",
       "      <td>-0.887687</td>\n",
       "      <td>1.000000</td>\n",
       "    </tr>\n",
       "  </tbody>\n",
       "</table>\n",
       "</div>"
      ],
      "text/plain": [
       "               fired_No  fired_Unclear  fired_Yes\n",
       "armed_No       0.145203      -0.039843  -0.029030\n",
       "armed_Unclear -0.059300       0.146003  -0.123944\n",
       "armed_Yes     -0.043214      -0.105077   0.131044\n",
       "fired_No       1.000000      -0.326566  -0.145315\n",
       "fired_Unclear -0.326566       1.000000  -0.887687\n",
       "fired_Yes     -0.145315      -0.887687   1.000000"
      ]
     },
     "execution_count": 208,
     "metadata": {},
     "output_type": "execute_result"
    }
   ],
   "source": [
    "df4 = pd.concat([df_armed, df_fired], axis = 1).corr()[['fired_No', 'fired_Unclear', 'fired_Yes']]\n",
    "df4"
   ]
  },
  {
   "cell_type": "code",
   "execution_count": 209,
   "metadata": {
    "collapsed": false
   },
   "outputs": [
    {
     "name": "stdout",
     "output_type": "stream",
     "text": [
      "Optimization terminated successfully.\n",
      "         Current function value: 0.601904\n",
      "         Iterations 5\n",
      "                           Logit Regression Results                           \n",
      "==============================================================================\n",
      "Dep. Variable:              fired_Yes   No. Observations:                 2345\n",
      "Model:                          Logit   Df Residuals:                     2343\n",
      "Method:                           MLE   Df Model:                            1\n",
      "Date:                Mon, 19 Sep 2016   Pseudo R-squ.:                -0.01006\n",
      "Time:                        09:40:06   Log-Likelihood:                -1411.5\n",
      "converged:                       True   LL-Null:                       -1397.4\n",
      "                                        LLR p-value:                     1.000\n",
      "=================================================================================\n",
      "                    coef    std err          z      P>|z|      [95.0% Conf. Int.]\n",
      "---------------------------------------------------------------------------------\n",
      "armed_Unclear    -1.4657      0.105    -13.981      0.000        -1.671    -1.260\n",
      "armed_Yes        -0.7146      0.055    -12.882      0.000        -0.823    -0.606\n",
      "=================================================================================\n"
     ]
    }
   ],
   "source": [
    "logit = smf.Logit(df_fired['fired_Yes'], df_armed[df_armed.columns[1:]])\n",
    "\n",
    "result = logit.fit()\n",
    "print result.summary()"
   ]
  },
  {
   "cell_type": "code",
   "execution_count": 243,
   "metadata": {
    "collapsed": false
   },
   "outputs": [
    {
     "data": {
      "text/plain": [
       "armed_No          275.0\n",
       "armed_Unclear     597.0\n",
       "armed_Yes        1473.0\n",
       "dtype: float64"
      ]
     },
     "execution_count": 243,
     "metadata": {},
     "output_type": "execute_result"
    }
   ],
   "source": [
    "df_armed.sum()"
   ]
  },
  {
   "cell_type": "markdown",
   "metadata": {},
   "source": [
    "The coefficients here are kind of the opposite of what I would have anticipated. They are all negatively correlated, which we would expect because the response variable is about 70 percent 0 (fired_no and fired_unclear) but the coefficients show that if it is unclear whether the victim was armed or it is definitively known that the victim was not armed then positive input of 1 for these variables drives the target variable to zero (meaning the officer would not be fired) faster than if it is definitely known that the victim was armed. I would have thought that if the victim was definitely armed the officer involed ouwld be less likely to be fired. "
   ]
  },
  {
   "cell_type": "code",
   "execution_count": 211,
   "metadata": {
    "collapsed": false
   },
   "outputs": [
    {
     "name": "stdout",
     "output_type": "stream",
     "text": [
      "0.328506057943\n",
      "0.224944854034\n",
      "0.489387827782\n"
     ]
    }
   ],
   "source": [
    "print np.e**-1.1132\n",
    "print np.e**-1.4919\n",
    "print np.e**-.7146"
   ]
  },
  {
   "cell_type": "code",
   "execution_count": 212,
   "metadata": {
    "collapsed": false
   },
   "outputs": [
    {
     "data": {
      "text/html": [
       "<div>\n",
       "<table border=\"1\" class=\"dataframe\">\n",
       "  <thead>\n",
       "    <tr style=\"text-align: right;\">\n",
       "      <th></th>\n",
       "      <th>fired_No</th>\n",
       "      <th>fired_Unclear</th>\n",
       "      <th>fired_Yes</th>\n",
       "    </tr>\n",
       "  </thead>\n",
       "  <tbody>\n",
       "    <tr>\n",
       "      <th>blue</th>\n",
       "      <td>0.037735</td>\n",
       "      <td>0.061555</td>\n",
       "      <td>-0.082817</td>\n",
       "    </tr>\n",
       "    <tr>\n",
       "      <th>red</th>\n",
       "      <td>-0.037735</td>\n",
       "      <td>-0.061555</td>\n",
       "      <td>0.082817</td>\n",
       "    </tr>\n",
       "    <tr>\n",
       "      <th>fired_No</th>\n",
       "      <td>1.000000</td>\n",
       "      <td>-0.326566</td>\n",
       "      <td>-0.145315</td>\n",
       "    </tr>\n",
       "    <tr>\n",
       "      <th>fired_Unclear</th>\n",
       "      <td>-0.326566</td>\n",
       "      <td>1.000000</td>\n",
       "      <td>-0.887687</td>\n",
       "    </tr>\n",
       "    <tr>\n",
       "      <th>fired_Yes</th>\n",
       "      <td>-0.145315</td>\n",
       "      <td>-0.887687</td>\n",
       "      <td>1.000000</td>\n",
       "    </tr>\n",
       "  </tbody>\n",
       "</table>\n",
       "</div>"
      ],
      "text/plain": [
       "               fired_No  fired_Unclear  fired_Yes\n",
       "blue           0.037735       0.061555  -0.082817\n",
       "red           -0.037735      -0.061555   0.082817\n",
       "fired_No       1.000000      -0.326566  -0.145315\n",
       "fired_Unclear -0.326566       1.000000  -0.887687\n",
       "fired_Yes     -0.145315      -0.887687   1.000000"
      ]
     },
     "execution_count": 212,
     "metadata": {},
     "output_type": "execute_result"
    }
   ],
   "source": [
    "df5 = pd.concat([df_red_blue, df_fired], axis = 1).corr()[['fired_No', 'fired_Unclear', 'fired_Yes']]\n",
    "df5"
   ]
  },
  {
   "cell_type": "code",
   "execution_count": 213,
   "metadata": {
    "collapsed": false
   },
   "outputs": [
    {
     "name": "stdout",
     "output_type": "stream",
     "text": [
      "Optimization terminated successfully.\n",
      "         Current function value: 0.656836\n",
      "         Iterations 4\n",
      "                           Logit Regression Results                           \n",
      "==============================================================================\n",
      "Dep. Variable:              fired_Yes   No. Observations:                 2345\n",
      "Model:                          Logit   Df Residuals:                     2344\n",
      "Method:                           MLE   Df Model:                            0\n",
      "Date:                Mon, 19 Sep 2016   Pseudo R-squ.:                 -0.1022\n",
      "Time:                        09:40:07   Log-Likelihood:                -1540.3\n",
      "converged:                       True   LL-Null:                       -1397.4\n",
      "                                        LLR p-value:                       nan\n",
      "==============================================================================\n",
      "                 coef    std err          z      P>|z|      [95.0% Conf. Int.]\n",
      "------------------------------------------------------------------------------\n",
      "red           -0.7633      0.061    -12.592      0.000        -0.882    -0.645\n",
      "==============================================================================\n"
     ]
    }
   ],
   "source": [
    "logit = smf.Logit(df_fired['fired_Yes'], df_red_blue[df_red_blue.columns[1:]])\n",
    "\n",
    "result = logit.fit()\n",
    "print result.summary()"
   ]
  },
  {
   "cell_type": "markdown",
   "metadata": {},
   "source": [
    "Red states are negatively correlated with the officer involved in the fatality being fired. This is compared to democratic states as baseline. The odds ratio below reveals that if the fatal encounter occured in a red state the odds of the officer involved being fired increases by 47 percent. \n",
    "This does not entirely align with what I expected and actually leaves me feeling a little unsure of my interpretation. However, I suppose if democratic is associated generally with a larger government, greater sympathy might be had toward government officals. \n",
    "This is also intriguing becuase it seems like that the majority of the uproar socially comes from the more democratic side however it appears that there might be some legislative inertia in these states that makes it difficult for the police officer involved being fired, and vice versa. OR, my interpretation is backwards. \n",
    "Another thing to consider might be sympathy around guns and use of guns, the conservative mindset generally leans toward protecting the right to own and use guns. I am trying to sort through how this might be related aside from the fact that I would have anticipated more leniency toward guns and their uses in Republican states but this doesn't seem to be the case. \n",
    "\n",
    "Would also like to look at percentage of officers involved that were fired from blue states versus red states. "
   ]
  },
  {
   "cell_type": "code",
   "execution_count": 214,
   "metadata": {
    "collapsed": false
   },
   "outputs": [
    {
     "name": "stdout",
     "output_type": "stream",
     "text": [
      "0.466125671446\n"
     ]
    }
   ],
   "source": [
    "print np.e**-.7633"
   ]
  },
  {
   "cell_type": "markdown",
   "metadata": {},
   "source": [
    " Political Leaning of State | Impact on Odds of Police Officer being Fired\n",
    "---|---\n",
    "Republican | Increased by 47% \n",
    "\n",
    "#* These are increases compared to Democratic / Blue State as baseline."
   ]
  },
  {
   "cell_type": "code",
   "execution_count": 215,
   "metadata": {
    "collapsed": false
   },
   "outputs": [
    {
     "data": {
      "text/html": [
       "<div>\n",
       "<table border=\"1\" class=\"dataframe\">\n",
       "  <thead>\n",
       "    <tr style=\"text-align: right;\">\n",
       "      <th></th>\n",
       "      <th>fired_No</th>\n",
       "      <th>fired_Unclear</th>\n",
       "      <th>fired_Yes</th>\n",
       "    </tr>\n",
       "  </thead>\n",
       "  <tbody>\n",
       "    <tr>\n",
       "      <th>den_110-250</th>\n",
       "      <td>-0.000879</td>\n",
       "      <td>-0.014130</td>\n",
       "      <td>0.015219</td>\n",
       "    </tr>\n",
       "    <tr>\n",
       "      <th>den_50-110</th>\n",
       "      <td>-0.008384</td>\n",
       "      <td>0.002772</td>\n",
       "      <td>0.001182</td>\n",
       "    </tr>\n",
       "    <tr>\n",
       "      <th>den_&lt;50</th>\n",
       "      <td>-0.020195</td>\n",
       "      <td>-0.054741</td>\n",
       "      <td>0.067140</td>\n",
       "    </tr>\n",
       "    <tr>\n",
       "      <th>den_&gt;250</th>\n",
       "      <td>0.020874</td>\n",
       "      <td>0.041223</td>\n",
       "      <td>-0.053320</td>\n",
       "    </tr>\n",
       "    <tr>\n",
       "      <th>fired_No</th>\n",
       "      <td>1.000000</td>\n",
       "      <td>-0.326566</td>\n",
       "      <td>-0.145315</td>\n",
       "    </tr>\n",
       "    <tr>\n",
       "      <th>fired_Unclear</th>\n",
       "      <td>-0.326566</td>\n",
       "      <td>1.000000</td>\n",
       "      <td>-0.887687</td>\n",
       "    </tr>\n",
       "    <tr>\n",
       "      <th>fired_Yes</th>\n",
       "      <td>-0.145315</td>\n",
       "      <td>-0.887687</td>\n",
       "      <td>1.000000</td>\n",
       "    </tr>\n",
       "  </tbody>\n",
       "</table>\n",
       "</div>"
      ],
      "text/plain": [
       "               fired_No  fired_Unclear  fired_Yes\n",
       "den_110-250   -0.000879      -0.014130   0.015219\n",
       "den_50-110    -0.008384       0.002772   0.001182\n",
       "den_<50       -0.020195      -0.054741   0.067140\n",
       "den_>250       0.020874       0.041223  -0.053320\n",
       "fired_No       1.000000      -0.326566  -0.145315\n",
       "fired_Unclear -0.326566       1.000000  -0.887687\n",
       "fired_Yes     -0.145315      -0.887687   1.000000"
      ]
     },
     "execution_count": 215,
     "metadata": {},
     "output_type": "execute_result"
    }
   ],
   "source": [
    "df6 = pd.concat([df_den, df_fired], axis = 1).corr()[['fired_No', 'fired_Unclear', 'fired_Yes']]\n",
    "df6"
   ]
  },
  {
   "cell_type": "code",
   "execution_count": 216,
   "metadata": {
    "collapsed": false
   },
   "outputs": [
    {
     "name": "stdout",
     "output_type": "stream",
     "text": [
      "Optimization terminated successfully.\n",
      "         Current function value: 0.608722\n",
      "         Iterations 5\n",
      "                           Logit Regression Results                           \n",
      "==============================================================================\n",
      "Dep. Variable:              fired_Yes   No. Observations:                 2345\n",
      "Model:                          Logit   Df Residuals:                     2342\n",
      "Method:                           MLE   Df Model:                            2\n",
      "Date:                Mon, 19 Sep 2016   Pseudo R-squ.:                -0.02150\n",
      "Time:                        09:40:07   Log-Likelihood:                -1427.5\n",
      "converged:                       True   LL-Null:                       -1397.4\n",
      "                                        LLR p-value:                     1.000\n",
      "==============================================================================\n",
      "                 coef    std err          z      P>|z|      [95.0% Conf. Int.]\n",
      "------------------------------------------------------------------------------\n",
      "den_50-110    -0.9252      0.079    -11.718      0.000        -1.080    -0.770\n",
      "den_<50       -0.4986      0.140     -3.561      0.000        -0.773    -0.224\n",
      "den_>250      -1.0839      0.077    -14.147      0.000        -1.234    -0.934\n",
      "==============================================================================\n"
     ]
    }
   ],
   "source": [
    "logit = smf.Logit(df_fired['fired_Yes'], df_den[df_den.columns[1:]])\n",
    "\n",
    "result = logit.fit()\n",
    "print result.summary()"
   ]
  },
  {
   "cell_type": "markdown",
   "metadata": {},
   "source": [
    "All the various population density ranges of the 50 states are significant and they're all negatively correlated with the police officer involved being fired. The population density of 110-250 thousand people per square mile was used as baseline so the increase in the odds of the officer involved being fired can be understood as the population density deviates from that range. \n",
    "\n",
    "The highest population density is most negatively correlated with the officer involved being fired and this is as I would have anticipated. It should be noted that looking at population density on the scale of state isn't very interpretable and is a very gross approximation. I didn't have time to look at this by city but doing so would have a lot more value and I may try to cut the data that way at a later date. \n",
    "\n",
    "Regardless the order of correlations was more or less as would have anticipated, with the most populous places leading to the least number of police officers involved being fired. With the median income level's range being the baseline. My reasoning here is that populous implies urban meaning which would indicate that probably more samples came from these areas and given that 70 percent of all samples did not lead the officer involved being fired one might anticipate this high negative correlation. \n",
    "\n",
    "Should look at value counts for number of samples from each -- this will be taken care of with histograms.\n"
   ]
  },
  {
   "cell_type": "code",
   "execution_count": 217,
   "metadata": {
    "collapsed": false
   },
   "outputs": [
    {
     "name": "stdout",
     "output_type": "stream",
     "text": [
      "0.396452120721\n",
      "0.607380397314\n",
      "0.338273682365\n"
     ]
    }
   ],
   "source": [
    "print np.e**-.9252\n",
    "print np.e**-.4986\n",
    "print np.e**-1.0839"
   ]
  },
  {
   "cell_type": "markdown",
   "metadata": {},
   "source": [
    " Range of Average State Population Density | Impact on Odds\n",
    "---|---\n",
    "50K-110K People / Sq. Mi. | Increased by 40% \n",
    "Less than 50K People / Sq. Mi. | Increased by 61%\n",
    "Greater than 250K People / Sq. Mi. | Increased by 34%\n",
    "\n",
    "\n",
    "#* These are increases compared to 110K to 250K People per square mile range as baseline."
   ]
  },
  {
   "cell_type": "code",
   "execution_count": 218,
   "metadata": {
    "collapsed": false
   },
   "outputs": [
    {
     "data": {
      "text/html": [
       "<div>\n",
       "<table border=\"1\" class=\"dataframe\">\n",
       "  <thead>\n",
       "    <tr style=\"text-align: right;\">\n",
       "      <th></th>\n",
       "      <th>fired_No</th>\n",
       "      <th>fired_Unclear</th>\n",
       "      <th>fired_Yes</th>\n",
       "    </tr>\n",
       "  </thead>\n",
       "  <tbody>\n",
       "    <tr>\n",
       "      <th>200000-400000</th>\n",
       "      <td>0.006246</td>\n",
       "      <td>0.013089</td>\n",
       "      <td>-0.016744</td>\n",
       "    </tr>\n",
       "    <tr>\n",
       "      <th>75000-200000</th>\n",
       "      <td>-0.004633</td>\n",
       "      <td>-0.074685</td>\n",
       "      <td>0.080436</td>\n",
       "    </tr>\n",
       "    <tr>\n",
       "      <th>&lt;75000</th>\n",
       "      <td>-0.005736</td>\n",
       "      <td>-0.013880</td>\n",
       "      <td>0.017323</td>\n",
       "    </tr>\n",
       "    <tr>\n",
       "      <th>&gt;400000</th>\n",
       "      <td>0.000597</td>\n",
       "      <td>0.051922</td>\n",
       "      <td>-0.054642</td>\n",
       "    </tr>\n",
       "    <tr>\n",
       "      <th>fired_No</th>\n",
       "      <td>1.000000</td>\n",
       "      <td>-0.326566</td>\n",
       "      <td>-0.145315</td>\n",
       "    </tr>\n",
       "    <tr>\n",
       "      <th>fired_Unclear</th>\n",
       "      <td>-0.326566</td>\n",
       "      <td>1.000000</td>\n",
       "      <td>-0.887687</td>\n",
       "    </tr>\n",
       "    <tr>\n",
       "      <th>fired_Yes</th>\n",
       "      <td>-0.145315</td>\n",
       "      <td>-0.887687</td>\n",
       "      <td>1.000000</td>\n",
       "    </tr>\n",
       "  </tbody>\n",
       "</table>\n",
       "</div>"
      ],
      "text/plain": [
       "               fired_No  fired_Unclear  fired_Yes\n",
       "200000-400000  0.006246       0.013089  -0.016744\n",
       "75000-200000  -0.004633      -0.074685   0.080436\n",
       "<75000        -0.005736      -0.013880   0.017323\n",
       ">400000        0.000597       0.051922  -0.054642\n",
       "fired_No       1.000000      -0.326566  -0.145315\n",
       "fired_Unclear -0.326566       1.000000  -0.887687\n",
       "fired_Yes     -0.145315      -0.887687   1.000000"
      ]
     },
     "execution_count": 218,
     "metadata": {},
     "output_type": "execute_result"
    }
   ],
   "source": [
    "df7 = pd.concat([df_income_range, df_fired], axis = 1).corr()[['fired_No', 'fired_Unclear', 'fired_Yes']]\n",
    "df7"
   ]
  },
  {
   "cell_type": "code",
   "execution_count": 219,
   "metadata": {
    "collapsed": false
   },
   "outputs": [
    {
     "name": "stdout",
     "output_type": "stream",
     "text": [
      "Optimization terminated successfully.\n",
      "         Current function value: 0.616441\n",
      "         Iterations 5\n",
      "                           Logit Regression Results                           \n",
      "==============================================================================\n",
      "Dep. Variable:              fired_Yes   No. Observations:                 2345\n",
      "Model:                          Logit   Df Residuals:                     2342\n",
      "Method:                           MLE   Df Model:                            2\n",
      "Date:                Mon, 19 Sep 2016   Pseudo R-squ.:                -0.03445\n",
      "Time:                        09:40:07   Log-Likelihood:                -1445.6\n",
      "converged:                       True   LL-Null:                       -1397.4\n",
      "                                        LLR p-value:                     1.000\n",
      "================================================================================\n",
      "                   coef    std err          z      P>|z|      [95.0% Conf. Int.]\n",
      "--------------------------------------------------------------------------------\n",
      "75000-200000    -0.5682      0.103     -5.542      0.000        -0.769    -0.367\n",
      "<75000          -0.7436      0.226     -3.297      0.001        -1.186    -0.301\n",
      ">400000         -1.0367      0.062    -16.665      0.000        -1.159    -0.915\n",
      "================================================================================\n"
     ]
    }
   ],
   "source": [
    "logit = smf.Logit(df_fired['fired_Yes'], df_income_range[df_income_range.columns[1:]])\n",
    "\n",
    "result = logit.fit()\n",
    "print result.summary()"
   ]
  },
  {
   "cell_type": "markdown",
   "metadata": {},
   "source": [
    "Again, all variables are negatively correlated with the officer involved in the fatal encouter being fired and all relevant variables are significant compared to the baseline of the average household income range of 200000 to 400000. \n",
    "\n",
    "It should definitely be noted that high density areas are probably correlated with high income. Similar to San Francisco. \n",
    "And there is also probably a corrleation between low density and the political leaning of the state. \n",
    "\n",
    "An average household income of greater than 400000 was the most negatively correlated with the police officer involved being fired. All disclaimers aside about the quality of the data and the gross generalizations and wild assumptions but solely for the fun of theorizing it this implies that higher income populations are more sympathic to police and less sympathetic to lower income populations.  \n",
    "\n",
    "The same issue exists here as it did above, that looking at average income of the state is probably too gross of a classification, this should probably be looked at on a more granular scale and then be grouped by the larger classification of republican / democrat. I think because of this, this is largely not interpretable. I am starting to think this because average income would be shifted by cost of living etc., (particularly, I think this because of where we live) it seems as though household income could be much more relative than I initally really gave it credit for. \n",
    "\n",
    "All that aside, what the data suggests based on the analysis done is that, the police officer involved in a fatal encounter is more likely to be fired if the fatal encounter occured in both a less populous state (from above) and a less wealthy state. These seems like correlated variables now that I am thinking about that, I am not sure how to check and see if this is or isn't the case right now. "
   ]
  },
  {
   "cell_type": "code",
   "execution_count": 220,
   "metadata": {
    "collapsed": false
   },
   "outputs": [
    {
     "name": "stdout",
     "output_type": "stream",
     "text": [
      "0.56654430119\n",
      "0.475399393417\n",
      "0.354623009089\n"
     ]
    }
   ],
   "source": [
    "print np.e**-.5682\n",
    "print np.e**-.7436\n",
    "print np.e**-1.0367\n"
   ]
  },
  {
   "cell_type": "markdown",
   "metadata": {},
   "source": [
    " Range of Average State Household Income | Impact on Odds\n",
    "---|---\n",
    "75K to 200K Household Income Range | Increased by 57% \n",
    "Less than 75K Household Income Range | Increased by 48%\n",
    "Greater than 400K Household Income Range | Increased by 35%\n",
    "\n",
    "\n",
    "#* These are increases compared to the average household income range of 200K - 400K per year as baseline."
   ]
  },
  {
   "cell_type": "code",
   "execution_count": 221,
   "metadata": {
    "collapsed": true
   },
   "outputs": [],
   "source": [
    "X = df_new[['Black', 'Latino', 'Unknown', 'White', 'priors_Unclear', 'priors_Yes', 'armed_No','armed_Unclear','armed_Yes','red','blue']]\n",
    "y = df.fired\n",
    "\n",
    "model = linear_model.LogisticRegression().fit(X,y)"
   ]
  },
  {
   "cell_type": "code",
   "execution_count": 222,
   "metadata": {
    "collapsed": false
   },
   "outputs": [
    {
     "data": {
      "text/plain": [
       "0.6682302771855011"
      ]
     },
     "execution_count": 222,
     "metadata": {},
     "output_type": "execute_result"
    }
   ],
   "source": [
    "model.score(X, y)"
   ]
  },
  {
   "cell_type": "code",
   "execution_count": 223,
   "metadata": {
    "collapsed": false
   },
   "outputs": [
    {
     "data": {
      "text/html": [
       "<div>\n",
       "<table border=\"1\" class=\"dataframe\">\n",
       "  <thead>\n",
       "    <tr style=\"text-align: right;\">\n",
       "      <th>y</th>\n",
       "      <th>No</th>\n",
       "      <th>Unclear</th>\n",
       "      <th>Yes</th>\n",
       "    </tr>\n",
       "    <tr>\n",
       "      <th>y_hat</th>\n",
       "      <th></th>\n",
       "      <th></th>\n",
       "      <th></th>\n",
       "    </tr>\n",
       "  </thead>\n",
       "  <tbody>\n",
       "    <tr>\n",
       "      <th>No</th>\n",
       "      <td>14</td>\n",
       "      <td>4</td>\n",
       "      <td>11</td>\n",
       "    </tr>\n",
       "    <tr>\n",
       "      <th>Unclear</th>\n",
       "      <td>88</td>\n",
       "      <td>1506</td>\n",
       "      <td>606</td>\n",
       "    </tr>\n",
       "    <tr>\n",
       "      <th>Yes</th>\n",
       "      <td>17</td>\n",
       "      <td>52</td>\n",
       "      <td>47</td>\n",
       "    </tr>\n",
       "  </tbody>\n",
       "</table>\n",
       "</div>"
      ],
      "text/plain": [
       "y        No  Unclear  Yes\n",
       "y_hat                    \n",
       "No       14        4   11\n",
       "Unclear  88     1506  606\n",
       "Yes      17       52   47"
      ]
     },
     "execution_count": 223,
     "metadata": {},
     "output_type": "execute_result"
    }
   ],
   "source": [
    "y_hat = model.predict(X)\n",
    "\n",
    "pd.crosstab(y_hat , y, rownames = ['y_hat'], colnames = ['y'])"
   ]
  },
  {
   "cell_type": "markdown",
   "metadata": {},
   "source": [
    "The table above reveals some insights about the model's efficacy. \n",
    "The Unclear columns can more or less be ignored, the model does quite well at predicting the clarity of whether or not the officer involved was fired as we would expect considering the majority of the samples are in this category. \n",
    "The model over predicts that the officer involved would be fired. And under predicts that the officer involved wouldnt be fired.\n",
    "This is curious and kind of awesome and I'm not going to read into this too much. \n",
    "One thing this also makes clear is that more data would really help, this was evident from the beginning and is more evident now. \n"
   ]
  },
  {
   "cell_type": "markdown",
   "metadata": {
    "collapsed": true
   },
   "source": [
    ">### Decision Tree: create feature matrix with all significant variables and response vectors of whether the officer involved was fired or not. "
   ]
  },
  {
   "cell_type": "code",
   "execution_count": 224,
   "metadata": {
    "collapsed": false
   },
   "outputs": [],
   "source": [
    "X = df_new.drop(['fired_No','fired_Yes','fired_Unclear','Native American','Pacific Islander'], axis = 1)"
   ]
  },
  {
   "cell_type": "code",
   "execution_count": 225,
   "metadata": {
    "collapsed": false
   },
   "outputs": [
    {
     "data": {
      "text/html": [
       "<div>\n",
       "<table border=\"1\" class=\"dataframe\">\n",
       "  <thead>\n",
       "    <tr style=\"text-align: right;\">\n",
       "      <th></th>\n",
       "      <th>cause_death</th>\n",
       "      <th>State</th>\n",
       "      <th>Gender</th>\n",
       "      <th>Age</th>\n",
       "      <th>Race</th>\n",
       "      <th>...</th>\n",
       "      <th>den_&gt;250</th>\n",
       "      <th>200000-400000</th>\n",
       "      <th>75000-200000</th>\n",
       "      <th>&lt;75000</th>\n",
       "      <th>&gt;400000</th>\n",
       "    </tr>\n",
       "  </thead>\n",
       "  <tbody>\n",
       "    <tr>\n",
       "      <th>0</th>\n",
       "      <td>Car Accident</td>\n",
       "      <td>New Jersey</td>\n",
       "      <td>Female</td>\n",
       "      <td>64.0</td>\n",
       "      <td>Asian</td>\n",
       "      <td>...</td>\n",
       "      <td>1.0</td>\n",
       "      <td>0.0</td>\n",
       "      <td>0.0</td>\n",
       "      <td>0.0</td>\n",
       "      <td>1.0</td>\n",
       "    </tr>\n",
       "    <tr>\n",
       "      <th>1</th>\n",
       "      <td>Car Accident</td>\n",
       "      <td>New Jersey</td>\n",
       "      <td>Female</td>\n",
       "      <td>34.0</td>\n",
       "      <td>Black</td>\n",
       "      <td>...</td>\n",
       "      <td>1.0</td>\n",
       "      <td>0.0</td>\n",
       "      <td>0.0</td>\n",
       "      <td>0.0</td>\n",
       "      <td>1.0</td>\n",
       "    </tr>\n",
       "    <tr>\n",
       "      <th>2</th>\n",
       "      <td>Car Accident</td>\n",
       "      <td>New Jersey</td>\n",
       "      <td>Male</td>\n",
       "      <td>41.0</td>\n",
       "      <td>Black</td>\n",
       "      <td>...</td>\n",
       "      <td>1.0</td>\n",
       "      <td>0.0</td>\n",
       "      <td>0.0</td>\n",
       "      <td>0.0</td>\n",
       "      <td>1.0</td>\n",
       "    </tr>\n",
       "    <tr>\n",
       "      <th>3</th>\n",
       "      <td>Other</td>\n",
       "      <td>New Jersey</td>\n",
       "      <td>Male</td>\n",
       "      <td>27.0</td>\n",
       "      <td>Black</td>\n",
       "      <td>...</td>\n",
       "      <td>1.0</td>\n",
       "      <td>0.0</td>\n",
       "      <td>0.0</td>\n",
       "      <td>0.0</td>\n",
       "      <td>1.0</td>\n",
       "    </tr>\n",
       "    <tr>\n",
       "      <th>4</th>\n",
       "      <td>Physical Confrontation</td>\n",
       "      <td>New Jersey</td>\n",
       "      <td>Male</td>\n",
       "      <td>32.0</td>\n",
       "      <td>Black</td>\n",
       "      <td>...</td>\n",
       "      <td>1.0</td>\n",
       "      <td>0.0</td>\n",
       "      <td>0.0</td>\n",
       "      <td>0.0</td>\n",
       "      <td>1.0</td>\n",
       "    </tr>\n",
       "    <tr>\n",
       "      <th>...</th>\n",
       "      <td>...</td>\n",
       "      <td>...</td>\n",
       "      <td>...</td>\n",
       "      <td>...</td>\n",
       "      <td>...</td>\n",
       "      <td>...</td>\n",
       "      <td>...</td>\n",
       "      <td>...</td>\n",
       "      <td>...</td>\n",
       "      <td>...</td>\n",
       "      <td>...</td>\n",
       "    </tr>\n",
       "    <tr>\n",
       "      <th>2340</th>\n",
       "      <td>Shooting</td>\n",
       "      <td>Wyoming</td>\n",
       "      <td>Male</td>\n",
       "      <td>43.0</td>\n",
       "      <td>Unknown</td>\n",
       "      <td>...</td>\n",
       "      <td>0.0</td>\n",
       "      <td>0.0</td>\n",
       "      <td>0.0</td>\n",
       "      <td>1.0</td>\n",
       "      <td>0.0</td>\n",
       "    </tr>\n",
       "    <tr>\n",
       "      <th>2341</th>\n",
       "      <td>Shooting</td>\n",
       "      <td>Wyoming</td>\n",
       "      <td>Male</td>\n",
       "      <td>40.0</td>\n",
       "      <td>Unknown</td>\n",
       "      <td>...</td>\n",
       "      <td>0.0</td>\n",
       "      <td>0.0</td>\n",
       "      <td>0.0</td>\n",
       "      <td>1.0</td>\n",
       "      <td>0.0</td>\n",
       "    </tr>\n",
       "    <tr>\n",
       "      <th>2342</th>\n",
       "      <td>Shooting</td>\n",
       "      <td>Wyoming</td>\n",
       "      <td>Male</td>\n",
       "      <td>26.0</td>\n",
       "      <td>White</td>\n",
       "      <td>...</td>\n",
       "      <td>0.0</td>\n",
       "      <td>0.0</td>\n",
       "      <td>0.0</td>\n",
       "      <td>1.0</td>\n",
       "      <td>0.0</td>\n",
       "    </tr>\n",
       "    <tr>\n",
       "      <th>2343</th>\n",
       "      <td>Shooting</td>\n",
       "      <td>Wyoming</td>\n",
       "      <td>Male</td>\n",
       "      <td>55.0</td>\n",
       "      <td>White</td>\n",
       "      <td>...</td>\n",
       "      <td>0.0</td>\n",
       "      <td>0.0</td>\n",
       "      <td>0.0</td>\n",
       "      <td>1.0</td>\n",
       "      <td>0.0</td>\n",
       "    </tr>\n",
       "    <tr>\n",
       "      <th>2344</th>\n",
       "      <td>Shooting</td>\n",
       "      <td>Wyoming</td>\n",
       "      <td>Female</td>\n",
       "      <td>39.0</td>\n",
       "      <td>White</td>\n",
       "      <td>...</td>\n",
       "      <td>0.0</td>\n",
       "      <td>0.0</td>\n",
       "      <td>0.0</td>\n",
       "      <td>1.0</td>\n",
       "      <td>0.0</td>\n",
       "    </tr>\n",
       "  </tbody>\n",
       "</table>\n",
       "<p>2345 rows × 39 columns</p>\n",
       "</div>"
      ],
      "text/plain": [
       "                 cause_death       State  Gender   Age     Race   ...    \\\n",
       "0               Car Accident  New Jersey  Female  64.0    Asian   ...     \n",
       "1               Car Accident  New Jersey  Female  34.0    Black   ...     \n",
       "2               Car Accident  New Jersey    Male  41.0    Black   ...     \n",
       "3                      Other  New Jersey    Male  27.0    Black   ...     \n",
       "4     Physical Confrontation  New Jersey    Male  32.0    Black   ...     \n",
       "...                      ...         ...     ...   ...      ...   ...     \n",
       "2340                Shooting     Wyoming    Male  43.0  Unknown   ...     \n",
       "2341                Shooting     Wyoming    Male  40.0  Unknown   ...     \n",
       "2342                Shooting     Wyoming    Male  26.0    White   ...     \n",
       "2343                Shooting     Wyoming    Male  55.0    White   ...     \n",
       "2344                Shooting     Wyoming  Female  39.0    White   ...     \n",
       "\n",
       "     den_>250 200000-400000 75000-200000 <75000 >400000  \n",
       "0         1.0           0.0          0.0    0.0     1.0  \n",
       "1         1.0           0.0          0.0    0.0     1.0  \n",
       "2         1.0           0.0          0.0    0.0     1.0  \n",
       "3         1.0           0.0          0.0    0.0     1.0  \n",
       "4         1.0           0.0          0.0    0.0     1.0  \n",
       "...       ...           ...          ...    ...     ...  \n",
       "2340      0.0           0.0          0.0    1.0     0.0  \n",
       "2341      0.0           0.0          0.0    1.0     0.0  \n",
       "2342      0.0           0.0          0.0    1.0     0.0  \n",
       "2343      0.0           0.0          0.0    1.0     0.0  \n",
       "2344      0.0           0.0          0.0    1.0     0.0  \n",
       "\n",
       "[2345 rows x 39 columns]"
      ]
     },
     "execution_count": 225,
     "metadata": {},
     "output_type": "execute_result"
    }
   ],
   "source": [
    "X"
   ]
  },
  {
   "cell_type": "code",
   "execution_count": 226,
   "metadata": {
    "collapsed": false
   },
   "outputs": [
    {
     "data": {
      "text/plain": [
       "['cause_death',\n",
       " 'State',\n",
       " 'Gender',\n",
       " 'Age',\n",
       " 'Race',\n",
       " 'armed',\n",
       " 'priors',\n",
       " 'fired',\n",
       " 'age_range',\n",
       " 'red_blue',\n",
       " 'income_range',\n",
       " 'df_den',\n",
       " '25-34',\n",
       " '35-44',\n",
       " '45-54',\n",
       " '55-65',\n",
       " '<25',\n",
       " '>65',\n",
       " 'Asian',\n",
       " 'Black',\n",
       " 'Latino',\n",
       " 'Native American',\n",
       " 'Pacific Islander',\n",
       " 'Unknown',\n",
       " 'White',\n",
       " 'priors_No',\n",
       " 'priors_Unclear',\n",
       " 'priors_Yes',\n",
       " 'armed_No',\n",
       " 'armed_Unclear',\n",
       " 'armed_Yes',\n",
       " 'blue',\n",
       " 'red',\n",
       " 'den_110-250',\n",
       " 'den_50-110',\n",
       " 'den_<50',\n",
       " 'den_>250',\n",
       " '200000-400000',\n",
       " '75000-200000',\n",
       " '<75000',\n",
       " '>400000',\n",
       " 'fired_No',\n",
       " 'fired_Unclear',\n",
       " 'fired_Yes']"
      ]
     },
     "execution_count": 226,
     "metadata": {},
     "output_type": "execute_result"
    }
   ],
   "source": [
    "list(df_new.columns.values)"
   ]
  },
  {
   "cell_type": "code",
   "execution_count": 227,
   "metadata": {
    "collapsed": false
   },
   "outputs": [],
   "source": [
    "X = df_new.drop(['fired_No','fired_Yes','fired_Unclear','Native American','Pacific Islander',\n",
    "                 'cause_death','State','Gender','Age','Race','armed','priors','fired','age_range',\n",
    "                 'income_range','red_blue','df_den'], axis = 1)\n",
    "y = df_fired['fired_Yes']\n"
   ]
  },
  {
   "cell_type": "code",
   "execution_count": 228,
   "metadata": {
    "collapsed": false
   },
   "outputs": [
    {
     "data": {
      "text/html": [
       "<div>\n",
       "<table border=\"1\" class=\"dataframe\">\n",
       "  <thead>\n",
       "    <tr style=\"text-align: right;\">\n",
       "      <th></th>\n",
       "      <th>25-34</th>\n",
       "      <th>35-44</th>\n",
       "      <th>45-54</th>\n",
       "      <th>55-65</th>\n",
       "      <th>&lt;25</th>\n",
       "      <th>...</th>\n",
       "      <th>den_&gt;250</th>\n",
       "      <th>200000-400000</th>\n",
       "      <th>75000-200000</th>\n",
       "      <th>&lt;75000</th>\n",
       "      <th>&gt;400000</th>\n",
       "    </tr>\n",
       "  </thead>\n",
       "  <tbody>\n",
       "    <tr>\n",
       "      <th>0</th>\n",
       "      <td>0.0</td>\n",
       "      <td>0.0</td>\n",
       "      <td>0.0</td>\n",
       "      <td>1.0</td>\n",
       "      <td>0.0</td>\n",
       "      <td>...</td>\n",
       "      <td>1.0</td>\n",
       "      <td>0.0</td>\n",
       "      <td>0.0</td>\n",
       "      <td>0.0</td>\n",
       "      <td>1.0</td>\n",
       "    </tr>\n",
       "    <tr>\n",
       "      <th>1</th>\n",
       "      <td>1.0</td>\n",
       "      <td>0.0</td>\n",
       "      <td>0.0</td>\n",
       "      <td>0.0</td>\n",
       "      <td>0.0</td>\n",
       "      <td>...</td>\n",
       "      <td>1.0</td>\n",
       "      <td>0.0</td>\n",
       "      <td>0.0</td>\n",
       "      <td>0.0</td>\n",
       "      <td>1.0</td>\n",
       "    </tr>\n",
       "    <tr>\n",
       "      <th>2</th>\n",
       "      <td>0.0</td>\n",
       "      <td>1.0</td>\n",
       "      <td>0.0</td>\n",
       "      <td>0.0</td>\n",
       "      <td>0.0</td>\n",
       "      <td>...</td>\n",
       "      <td>1.0</td>\n",
       "      <td>0.0</td>\n",
       "      <td>0.0</td>\n",
       "      <td>0.0</td>\n",
       "      <td>1.0</td>\n",
       "    </tr>\n",
       "    <tr>\n",
       "      <th>3</th>\n",
       "      <td>1.0</td>\n",
       "      <td>0.0</td>\n",
       "      <td>0.0</td>\n",
       "      <td>0.0</td>\n",
       "      <td>0.0</td>\n",
       "      <td>...</td>\n",
       "      <td>1.0</td>\n",
       "      <td>0.0</td>\n",
       "      <td>0.0</td>\n",
       "      <td>0.0</td>\n",
       "      <td>1.0</td>\n",
       "    </tr>\n",
       "    <tr>\n",
       "      <th>4</th>\n",
       "      <td>1.0</td>\n",
       "      <td>0.0</td>\n",
       "      <td>0.0</td>\n",
       "      <td>0.0</td>\n",
       "      <td>0.0</td>\n",
       "      <td>...</td>\n",
       "      <td>1.0</td>\n",
       "      <td>0.0</td>\n",
       "      <td>0.0</td>\n",
       "      <td>0.0</td>\n",
       "      <td>1.0</td>\n",
       "    </tr>\n",
       "    <tr>\n",
       "      <th>...</th>\n",
       "      <td>...</td>\n",
       "      <td>...</td>\n",
       "      <td>...</td>\n",
       "      <td>...</td>\n",
       "      <td>...</td>\n",
       "      <td>...</td>\n",
       "      <td>...</td>\n",
       "      <td>...</td>\n",
       "      <td>...</td>\n",
       "      <td>...</td>\n",
       "      <td>...</td>\n",
       "    </tr>\n",
       "    <tr>\n",
       "      <th>2340</th>\n",
       "      <td>0.0</td>\n",
       "      <td>1.0</td>\n",
       "      <td>0.0</td>\n",
       "      <td>0.0</td>\n",
       "      <td>0.0</td>\n",
       "      <td>...</td>\n",
       "      <td>0.0</td>\n",
       "      <td>0.0</td>\n",
       "      <td>0.0</td>\n",
       "      <td>1.0</td>\n",
       "      <td>0.0</td>\n",
       "    </tr>\n",
       "    <tr>\n",
       "      <th>2341</th>\n",
       "      <td>0.0</td>\n",
       "      <td>1.0</td>\n",
       "      <td>0.0</td>\n",
       "      <td>0.0</td>\n",
       "      <td>0.0</td>\n",
       "      <td>...</td>\n",
       "      <td>0.0</td>\n",
       "      <td>0.0</td>\n",
       "      <td>0.0</td>\n",
       "      <td>1.0</td>\n",
       "      <td>0.0</td>\n",
       "    </tr>\n",
       "    <tr>\n",
       "      <th>2342</th>\n",
       "      <td>1.0</td>\n",
       "      <td>0.0</td>\n",
       "      <td>0.0</td>\n",
       "      <td>0.0</td>\n",
       "      <td>0.0</td>\n",
       "      <td>...</td>\n",
       "      <td>0.0</td>\n",
       "      <td>0.0</td>\n",
       "      <td>0.0</td>\n",
       "      <td>1.0</td>\n",
       "      <td>0.0</td>\n",
       "    </tr>\n",
       "    <tr>\n",
       "      <th>2343</th>\n",
       "      <td>0.0</td>\n",
       "      <td>0.0</td>\n",
       "      <td>1.0</td>\n",
       "      <td>0.0</td>\n",
       "      <td>0.0</td>\n",
       "      <td>...</td>\n",
       "      <td>0.0</td>\n",
       "      <td>0.0</td>\n",
       "      <td>0.0</td>\n",
       "      <td>1.0</td>\n",
       "      <td>0.0</td>\n",
       "    </tr>\n",
       "    <tr>\n",
       "      <th>2344</th>\n",
       "      <td>0.0</td>\n",
       "      <td>1.0</td>\n",
       "      <td>0.0</td>\n",
       "      <td>0.0</td>\n",
       "      <td>0.0</td>\n",
       "      <td>...</td>\n",
       "      <td>0.0</td>\n",
       "      <td>0.0</td>\n",
       "      <td>0.0</td>\n",
       "      <td>1.0</td>\n",
       "      <td>0.0</td>\n",
       "    </tr>\n",
       "  </tbody>\n",
       "</table>\n",
       "<p>2345 rows × 27 columns</p>\n",
       "</div>"
      ],
      "text/plain": [
       "      25-34  35-44  45-54  55-65  <25   ...     den_>250  200000-400000  \\\n",
       "0       0.0    0.0    0.0    1.0  0.0   ...          1.0            0.0   \n",
       "1       1.0    0.0    0.0    0.0  0.0   ...          1.0            0.0   \n",
       "2       0.0    1.0    0.0    0.0  0.0   ...          1.0            0.0   \n",
       "3       1.0    0.0    0.0    0.0  0.0   ...          1.0            0.0   \n",
       "4       1.0    0.0    0.0    0.0  0.0   ...          1.0            0.0   \n",
       "...     ...    ...    ...    ...  ...   ...          ...            ...   \n",
       "2340    0.0    1.0    0.0    0.0  0.0   ...          0.0            0.0   \n",
       "2341    0.0    1.0    0.0    0.0  0.0   ...          0.0            0.0   \n",
       "2342    1.0    0.0    0.0    0.0  0.0   ...          0.0            0.0   \n",
       "2343    0.0    0.0    1.0    0.0  0.0   ...          0.0            0.0   \n",
       "2344    0.0    1.0    0.0    0.0  0.0   ...          0.0            0.0   \n",
       "\n",
       "      75000-200000  <75000  >400000  \n",
       "0              0.0     0.0      1.0  \n",
       "1              0.0     0.0      1.0  \n",
       "2              0.0     0.0      1.0  \n",
       "3              0.0     0.0      1.0  \n",
       "4              0.0     0.0      1.0  \n",
       "...            ...     ...      ...  \n",
       "2340           0.0     1.0      0.0  \n",
       "2341           0.0     1.0      0.0  \n",
       "2342           0.0     1.0      0.0  \n",
       "2343           0.0     1.0      0.0  \n",
       "2344           0.0     1.0      0.0  \n",
       "\n",
       "[2345 rows x 27 columns]"
      ]
     },
     "execution_count": 228,
     "metadata": {},
     "output_type": "execute_result"
    }
   ],
   "source": [
    "X"
   ]
  },
  {
   "cell_type": "code",
   "execution_count": 229,
   "metadata": {
    "collapsed": false
   },
   "outputs": [],
   "source": [
    "model = tree.DecisionTreeClassifier(max_depth = 2,\n",
    "    min_samples_leaf = 5,\n",
    "    random_state = 0).\\\n",
    "        fit(X, y)"
   ]
  },
  {
   "cell_type": "code",
   "execution_count": 230,
   "metadata": {
    "collapsed": false
   },
   "outputs": [
    {
     "data": {
      "text/plain": [
       "[(0.59622856115621392, 'armed_Yes'),\n",
       " (0.21283290873705071, '45-54'),\n",
       " (0.19093853010673542, 'priors_Unclear'),\n",
       " (0.0, 'red'),\n",
       " (0.0, 'priors_Yes'),\n",
       " (0.0, 'priors_No'),\n",
       " (0.0, 'den_>250'),\n",
       " (0.0, 'den_<50'),\n",
       " (0.0, 'den_50-110'),\n",
       " (0.0, 'den_110-250'),\n",
       " (0.0, 'blue'),\n",
       " (0.0, 'armed_Unclear'),\n",
       " (0.0, 'armed_No'),\n",
       " (0.0, 'White'),\n",
       " (0.0, 'Unknown'),\n",
       " (0.0, 'Latino'),\n",
       " (0.0, 'Black'),\n",
       " (0.0, 'Asian'),\n",
       " (0.0, '>65'),\n",
       " (0.0, '>400000'),\n",
       " (0.0, '<75000'),\n",
       " (0.0, '<25'),\n",
       " (0.0, '75000-200000'),\n",
       " (0.0, '55-65'),\n",
       " (0.0, '35-44'),\n",
       " (0.0, '25-34'),\n",
       " (0.0, '200000-400000')]"
      ]
     },
     "execution_count": 230,
     "metadata": {},
     "output_type": "execute_result"
    }
   ],
   "source": [
    "sorted(zip(model.feature_importances_, X.columns.values), reverse = True)"
   ]
  },
  {
   "cell_type": "code",
   "execution_count": 231,
   "metadata": {
    "collapsed": true
   },
   "outputs": [],
   "source": [
    "model = ensemble.RandomForestClassifier(n_estimators = 1000,\n",
    "        max_features = 4,\n",
    "        min_samples_leaf = 5,\n",
    "        oob_score = True,\n",
    "        random_state = 0).\\\n",
    "    fit(X, y)"
   ]
  },
  {
   "cell_type": "code",
   "execution_count": 232,
   "metadata": {
    "collapsed": false
   },
   "outputs": [
    {
     "data": {
      "text/plain": [
       "0.0    0.716844\n",
       "1.0    0.283156\n",
       "Name: fired_Yes, dtype: float64"
      ]
     },
     "execution_count": 232,
     "metadata": {},
     "output_type": "execute_result"
    }
   ],
   "source": [
    "y.value_counts() / len(y)"
   ]
  },
  {
   "cell_type": "code",
   "execution_count": 233,
   "metadata": {
    "collapsed": false
   },
   "outputs": [
    {
     "data": {
      "text/plain": [
       "0.71684434968017052"
      ]
     },
     "execution_count": 233,
     "metadata": {},
     "output_type": "execute_result"
    }
   ],
   "source": [
    "model.oob_score_"
   ]
  },
  {
   "cell_type": "code",
   "execution_count": 234,
   "metadata": {
    "collapsed": false
   },
   "outputs": [
    {
     "data": {
      "text/html": [
       "<div>\n",
       "<table border=\"1\" class=\"dataframe\">\n",
       "  <thead>\n",
       "    <tr style=\"text-align: right;\">\n",
       "      <th>y</th>\n",
       "      <th>0.0</th>\n",
       "      <th>1.0</th>\n",
       "    </tr>\n",
       "    <tr>\n",
       "      <th>y_hat</th>\n",
       "      <th></th>\n",
       "      <th></th>\n",
       "    </tr>\n",
       "  </thead>\n",
       "  <tbody>\n",
       "    <tr>\n",
       "      <th>0.0</th>\n",
       "      <td>1671</td>\n",
       "      <td>619</td>\n",
       "    </tr>\n",
       "    <tr>\n",
       "      <th>1.0</th>\n",
       "      <td>10</td>\n",
       "      <td>45</td>\n",
       "    </tr>\n",
       "  </tbody>\n",
       "</table>\n",
       "</div>"
      ],
      "text/plain": [
       "y       0.0  1.0\n",
       "y_hat           \n",
       "0.0    1671  619\n",
       "1.0      10   45"
      ]
     },
     "execution_count": 234,
     "metadata": {},
     "output_type": "execute_result"
    }
   ],
   "source": [
    "y_hat = model.predict(X)\n",
    "\n",
    "pd.crosstab(y_hat , y, rownames = ['y_hat'], colnames = ['y'])"
   ]
  },
  {
   "cell_type": "code",
   "execution_count": 235,
   "metadata": {
    "collapsed": false
   },
   "outputs": [
    {
     "data": {
      "text/plain": [
       "[(0.070884683567098608, 'armed_Yes'),\n",
       " (0.058972194440797654, 'armed_Unclear'),\n",
       " (0.054958631185330606, '>400000'),\n",
       " (0.050326576977453498, '45-54'),\n",
       " (0.05026682601892625, 'red'),\n",
       " (0.049425992328375419, 'blue'),\n",
       " (0.049283452812432828, 'White'),\n",
       " (0.049265211326850675, 'Unknown'),\n",
       " (0.049077381082279374, '25-34'),\n",
       " (0.043146952467004521, 'priors_Unclear'),\n",
       " (0.04242719107430741, 'den_50-110'),\n",
       " (0.041129802324406932, 'priors_Yes'),\n",
       " (0.040820737366665194, '75000-200000'),\n",
       " (0.039629168916436176, 'den_>250'),\n",
       " (0.039005321964680248, '200000-400000'),\n",
       " (0.037800207974800312, '35-44'),\n",
       " (0.036504168965375713, 'Black'),\n",
       " (0.036339402060775523, '<25'),\n",
       " (0.033382398653685003, 'den_110-250'),\n",
       " (0.026896740681898134, 'Latino'),\n",
       " (0.023323219905912226, 'den_<50'),\n",
       " (0.021842849234485859, '55-65'),\n",
       " (0.021835710043677282, 'armed_No'),\n",
       " (0.010920803636466371, '<75000'),\n",
       " (0.010804746271130023, 'priors_No'),\n",
       " (0.010203112152368188, '>65'),\n",
       " (0.001526516566379896, 'Asian')]"
      ]
     },
     "execution_count": 235,
     "metadata": {},
     "output_type": "execute_result"
    }
   ],
   "source": [
    "sorted(zip(model.feature_importances_, X.columns.values), reverse = True)"
   ]
  },
  {
   "cell_type": "code",
   "execution_count": 236,
   "metadata": {
    "collapsed": false
   },
   "outputs": [
    {
     "name": "stdout",
     "output_type": "stream",
     "text": [
      "0.632270181635\n"
     ]
    }
   ],
   "source": [
    "print cross_validation.cross_val_score(model, X, y, cv = 10).mean()"
   ]
  },
  {
   "cell_type": "code",
   "execution_count": 237,
   "metadata": {
    "collapsed": false
   },
   "outputs": [],
   "source": [
    "X = df_new[['Black', 'Latino', 'Unknown', 'White', 'priors_Unclear', 'priors_Yes', 'armed_No','armed_Unclear','armed_Yes','red','blue']]\n",
    "y = df_new['fired_Unclear']"
   ]
  },
  {
   "cell_type": "code",
   "execution_count": 238,
   "metadata": {
    "collapsed": true
   },
   "outputs": [],
   "source": [
    "model = tree.DecisionTreeClassifier(max_depth = 2,\n",
    "    min_samples_leaf = 5,\n",
    "    random_state = 0).\\\n",
    "        fit(X, y)"
   ]
  },
  {
   "cell_type": "code",
   "execution_count": 239,
   "metadata": {
    "collapsed": true
   },
   "outputs": [],
   "source": [
    "model = ensemble.RandomForestClassifier(n_estimators = 1000,\n",
    "        max_features = 4,\n",
    "        min_samples_leaf = 5,\n",
    "        oob_score = True,\n",
    "        random_state = 0).\\\n",
    "    fit(X, y)"
   ]
  },
  {
   "cell_type": "code",
   "execution_count": 240,
   "metadata": {
    "collapsed": false
   },
   "outputs": [
    {
     "data": {
      "text/plain": [
       "[(0.28066173923576609, 'priors_Unclear'),\n",
       " (0.14350212856912889, 'armed_Unclear'),\n",
       " (0.11003702163208547, 'priors_Yes'),\n",
       " (0.085506163683964825, 'armed_Yes'),\n",
       " (0.060735556616598331, 'White'),\n",
       " (0.054724628299264395, 'blue'),\n",
       " (0.054321772956315087, 'red'),\n",
       " (0.053228670169475932, 'Unknown'),\n",
       " (0.052994790602481835, 'Latino'),\n",
       " (0.052626856415364485, 'Black'),\n",
       " (0.051660671819555012, 'armed_No')]"
      ]
     },
     "execution_count": 240,
     "metadata": {},
     "output_type": "execute_result"
    }
   ],
   "source": [
    "sorted(zip(model.feature_importances_, X.columns.values), reverse = True)"
   ]
  },
  {
   "cell_type": "code",
   "execution_count": 241,
   "metadata": {
    "collapsed": false
   },
   "outputs": [
    {
     "data": {
      "text/plain": [
       "0.68443496801705761"
      ]
     },
     "execution_count": 241,
     "metadata": {},
     "output_type": "execute_result"
    }
   ],
   "source": [
    "model.oob_score_"
   ]
  },
  {
   "cell_type": "code",
   "execution_count": 242,
   "metadata": {
    "collapsed": false
   },
   "outputs": [
    {
     "name": "stdout",
     "output_type": "stream",
     "text": [
      "0.642677713359\n"
     ]
    }
   ],
   "source": [
    "print cross_validation.cross_val_score(model, X, y, cv = 10).mean()"
   ]
  },
  {
   "cell_type": "code",
   "execution_count": null,
   "metadata": {
    "collapsed": true
   },
   "outputs": [],
   "source": []
  }
 ],
 "metadata": {
  "anaconda-cloud": {},
  "kernelspec": {
   "display_name": "Python [Root]",
   "language": "python",
   "name": "Python [Root]"
  },
  "language_info": {
   "codemirror_mode": {
    "name": "ipython",
    "version": 2
   },
   "file_extension": ".py",
   "mimetype": "text/x-python",
   "name": "python",
   "nbconvert_exporter": "python",
   "pygments_lexer": "ipython2",
   "version": "2.7.12"
  }
 },
 "nbformat": 4,
 "nbformat_minor": 0
}
